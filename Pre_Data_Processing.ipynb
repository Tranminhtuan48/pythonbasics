{
  "nbformat": 4,
  "nbformat_minor": 0,
  "metadata": {
    "colab": {
      "provenance": [],
      "authorship_tag": "ABX9TyMI9twv+9GnqExCieP9dAsX",
      "include_colab_link": true
    },
    "kernelspec": {
      "name": "python3",
      "display_name": "Python 3"
    },
    "language_info": {
      "name": "python"
    }
  },
  "cells": [
    {
      "cell_type": "markdown",
      "metadata": {
        "id": "view-in-github",
        "colab_type": "text"
      },
      "source": [
        "<a href=\"https://colab.research.google.com/github/Tranminhtuan48/pythonbasics/blob/main/Pre_Data_Processing.ipynb\" target=\"_parent\"><img src=\"https://colab.research.google.com/assets/colab-badge.svg\" alt=\"Open In Colab\"/></a>"
      ]
    },
    {
      "cell_type": "markdown",
      "source": [
        "Import library:"
      ],
      "metadata": {
        "id": "te4TzFuD91in"
      }
    },
    {
      "cell_type": "code",
      "execution_count": 38,
      "metadata": {
        "id": "sTxt0zEc90iX"
      },
      "outputs": [],
      "source": [
        "import os\n",
        "import numpy as np\n",
        "from sklearn.preprocessing import StandardScaler, MinMaxScaler"
      ]
    },
    {
      "cell_type": "code",
      "source": [
        "from google.colab import drive\n",
        "drive.mount('/content/gdrive')"
      ],
      "metadata": {
        "colab": {
          "base_uri": "https://localhost:8080/"
        },
        "id": "KuB2MWBX_LFD",
        "outputId": "f0051c4c-41ce-46ee-916d-a5dbb4dd40cf"
      },
      "execution_count": 39,
      "outputs": [
        {
          "output_type": "stream",
          "name": "stdout",
          "text": [
            "Drive already mounted at /content/gdrive; to attempt to forcibly remount, call drive.mount(\"/content/gdrive\", force_remount=True).\n"
          ]
        }
      ]
    },
    {
      "cell_type": "code",
      "source": [
        "def readData(folder , filename):\n",
        "  data = np.loadtxt(os.path.join(folder, filename), delimiter = ',')\n",
        "  X = data[:, :-1]\n",
        "  y = data[:, -1].reshape(-1, 1)\n",
        "  one = np.ones((X.shape[0], 1))\n",
        "  X = np.concatenate((one, X), axis = 1)\n",
        "  return X, y"
      ],
      "metadata": {
        "id": "-gTMGdH7-Ih8"
      },
      "execution_count": 40,
      "outputs": []
    },
    {
      "cell_type": "code",
      "source": [
        "def calculateLoss(X, y, w):\n",
        "  h = np.dot(X, w)\n",
        "  m = X.shape[0]\n",
        "  J = (1/ (2*m)) * np.sum(np.square(h-y))\n",
        "  return J"
      ],
      "metadata": {
        "id": "lnzFqx3Y-OmC"
      },
      "execution_count": 41,
      "outputs": []
    },
    {
      "cell_type": "code",
      "source": [
        "def gradient(X, y, w):\n",
        "  m = X.shape[0]\n",
        "  h = np.dot(X, w)\n",
        "  return (1/m) * np.dot(X.T, h - y)"
      ],
      "metadata": {
        "id": "Yz9TulV3-Tov"
      },
      "execution_count": 42,
      "outputs": []
    },
    {
      "cell_type": "code",
      "source": [
        "def gradientDescent(X, y, w_init, alpha, n = 1500):\n",
        "  w_old = w_init.reshape(-1, 1)\n",
        "  loss_values = []\n",
        "  for i in range(n):\n",
        "    w_new = w_old - alpha * gradient(X, y, w_old)\n",
        "    j = calculateLoss(X, y, w_new)\n",
        "    w_old = w_new\n",
        "    loss_values.append(j)\n",
        "  return w_new, "
      ],
      "metadata": {
        "id": "Ske6Qc4q-XN4"
      },
      "execution_count": 43,
      "outputs": []
    },
    {
      "cell_type": "code",
      "source": [
        "def LR():\n",
        "   FOLDER = \"/content/gdrive/My Drive/\"\n",
        "   X, y = readData(FOLDER, 'ex1data2.txt')\n",
        "   w_init = np.zeros((X.shape[1], 1))\n",
        "   sc_X = StandardScaler()\n",
        "   sc_y = StandardScaler()\n",
        "   X[:, 1:] = sc_X.fit_transform(X[:, 1:])\n",
        "   y = sc_y.fit_transform(y)\n",
        "   w_optimal, loss_values = gradientDescent(X, y, w_init, alpha=0.001, n = 1500)\n",
        "   print(f\"w optimal: \\n{w_optimal}\")"
      ],
      "metadata": {
        "id": "TWxWnkFk-rRL"
      },
      "execution_count": 46,
      "outputs": []
    }
  ]
}