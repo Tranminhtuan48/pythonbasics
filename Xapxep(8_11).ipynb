{
  "nbformat": 4,
  "nbformat_minor": 0,
  "metadata": {
    "colab": {
      "name": "Xapxep(8/11).ipynb",
      "provenance": [],
      "authorship_tag": "ABX9TyPOXCAuf2idMxUl9Y8aGCDV",
      "include_colab_link": true
    },
    "kernelspec": {
      "name": "python3",
      "display_name": "Python 3"
    },
    "language_info": {
      "name": "python"
    }
  },
  "cells": [
    {
      "cell_type": "markdown",
      "metadata": {
        "id": "view-in-github",
        "colab_type": "text"
      },
      "source": [
        "<a href=\"https://colab.research.google.com/github/Tranminhtuan48/pythonbasics/blob/main/Xapxep(8_11).ipynb\" target=\"_parent\"><img src=\"https://colab.research.google.com/assets/colab-badge.svg\" alt=\"Open In Colab\"/></a>"
      ]
    },
    {
      "cell_type": "markdown",
      "metadata": {
        "id": "KLQcgFe8Ktur"
      },
      "source": [
        "Bài 1: Viết chương trình nhập vào từ bàn phím một danh sách gồm 10 số nguyên và thực hiện các\n",
        "yêu cầu sau:\n",
        "- Sắp xếp danh sách trên theo chiều tăng dần\n",
        "- In kết quả ra màn hình"
      ]
    },
    {
      "cell_type": "code",
      "metadata": {
        "id": "XA7Wp7ujCUip"
      },
      "source": [
        "a = []\n",
        "while True:\n",
        "    tempo = float(input(\"Input num \"))\n",
        "    if tempo == 0:\n",
        "        break\n",
        "    a.append(tempo)\n",
        "n = len(a)\n",
        "for i in range(len(a)):\n",
        "  minnum = i\n",
        "  for j in range(i + 1, len(a)):\n",
        "    if a[minnum] > a[j]:\n",
        "      minnum = j\n",
        "  temp = a[i]\n",
        "  a[i] = a[minnum]\n",
        "  a[minnum] = temp\n",
        "print(a)"
      ],
      "execution_count": null,
      "outputs": []
    },
    {
      "cell_type": "markdown",
      "metadata": {
        "id": "xbIglBS2K2Og"
      },
      "source": [
        "Bài 2: Viết chương trình thực hiện các yêu cầu sau:\n",
        "- Xây dựng hàm có tên nhap_danh_sach_so_nguyen(n), trong đó:\n",
        "  + Tham số đầu vào n là số phần tử của danh sách;\n",
        "  + Hàm này trả về một danh sách gồm n số nguyên được nhập vào từ bàn phím\n",
        "- Xây dựng hàm có tên sap_xep_danh_sach(x), trong đó:\n",
        "  + Tham số đầu vào x là một danh sách các số nguyên\n",
        "  + Hàm này trả về một danh sách các số nguyên được sắp xếp theo chiều tăng dần\n",
        "- Chương trình chính (__main__) gọi thực thi 2 hàm nêu trên và in kết quả sắp xếp ra màn\n",
        "hình."
      ]
    },
    {
      "cell_type": "code",
      "metadata": {
        "id": "2GJRSQFRKyez"
      },
      "source": [
        "def nhap_danh_sach_so_nguyen():\n",
        "  a = []\n",
        "  while True:\n",
        "    tempo = float(input(\"Input num \"))\n",
        "    if tempo == 0:\n",
        "        break\n",
        "    a.append(tempo)\n",
        "  print(a)\n",
        "\n",
        "def sap_xep_danh_sach():\n",
        "  b = []\n",
        "  while True:\n",
        "    tempo = float(input(\"Input num \"))\n",
        "    if tempo == 0:\n",
        "        break\n",
        "    b.append(tempo)\n",
        "  n = len(b)\n",
        "  for i in range(len(b)):\n",
        "    minnum = i\n",
        "    for j in range(i + 1, len(b)):\n",
        "      if b[minnum] > b[j]:\n",
        "        minnum = j\n",
        "    temp = b[i]\n",
        "    b[i] = b[minnum]\n",
        "    b[minnum] = temp\n",
        "  print(b)\n",
        "\n",
        "nhap_danh_sach_so_nguyen()\n",
        "sap_xep_danh_sach()"
      ],
      "execution_count": null,
      "outputs": []
    },
    {
      "cell_type": "markdown",
      "metadata": {
        "id": "BxdePLoiSbLX"
      },
      "source": [
        "Bài 3: Viết chương trình nhập vào từ bàn phím một danh sách các số thực, theo các yeu cầu sau:\n",
        "- Sau khi nhập mỗi số thực từ bàn phím, chương trình hỏi người dùng có muốn tiếp tục nhập\n",
        "không. Nếu người dùng gõ ký tự n hoặc N thì kết thúc quá trình nhập;\n",
        "- Sắp xếp danh sách các số thực tren theo chiều giảm dần;\n",
        "- In kết quả ra màn hình."
      ]
    },
    {
      "cell_type": "code",
      "metadata": {
        "id": "AFJ-HAvMSgOH"
      },
      "source": [
        "def Bai3():\n",
        "  b = []\n",
        "  while True:\n",
        "    k = str(input(\"more numbers?\"))\n",
        "    t = k\n",
        "    if t == \"n\" or t == \"N\":\n",
        "      break\n",
        "    elif t == \"y\":\n",
        "      tempo = float(input(\"Input num \"))\n",
        "  b.append(tempo)\n",
        "  n = len(b)\n",
        "  for i in range(len(b)):\n",
        "    minnum = i\n",
        "    for j in range(i + 1, len(b)):\n",
        "      if b[minnum] > b[j]:\n",
        "        minnum = j\n",
        "    temp = b[i]\n",
        "    b[i] = b[minnum]\n",
        "    b[minnum] = temp\n",
        "  print(b)\n",
        "\n",
        "Bai3()"
      ],
      "execution_count": null,
      "outputs": []
    },
    {
      "cell_type": "markdown",
      "metadata": {
        "id": "oXQza5VNZvA_"
      },
      "source": [
        "Bài 4: Viết chương trình thực hiện các yêu cầu sau:\n",
        "- Xây dựng hàm nhap_danh_sach_so_thuc( ) thỏa mãn các yêu cầu sau:\n",
        "- Sau khi nhập mỗi số thực từ bàn phím, chương trình hỏi người dùng có muốn tiếp\n",
        "tục nhập không. Nếu người dùng gõ ký tự n hoặc N thì kết thúc quá trình nhập;\n",
        "+ Hàm trả về danh sách các số thực đã nhập.\n",
        "- Xây dựng hàm sap_xep_danh_sach_so_thuc(x), với:\n",
        "+ Tham số đầu vào x là một danh sách các số thực;\n",
        "+ Hàm này trả về một danh sách các số thực được sắp xếp theo chiều giảm dần\n",
        "\n",
        "- Chương trình chính (__main__) gọi thực thi 2 hàm nêu trên và in kết quả sắp xếp ra màn\n",
        "hình."
      ]
    },
    {
      "cell_type": "code",
      "metadata": {
        "id": "Qr8TbP6YinSI"
      },
      "source": [
        ""
      ],
      "execution_count": null,
      "outputs": []
    }
  ]
}