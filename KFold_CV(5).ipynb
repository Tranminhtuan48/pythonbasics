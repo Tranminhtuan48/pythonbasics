{
  "nbformat": 4,
  "nbformat_minor": 0,
  "metadata": {
    "colab": {
      "provenance": [],
      "authorship_tag": "ABX9TyNu4Gz2MsHjUDBOgTv0qFdC",
      "include_colab_link": true
    },
    "kernelspec": {
      "name": "python3",
      "display_name": "Python 3"
    },
    "language_info": {
      "name": "python"
    }
  },
  "cells": [
    {
      "cell_type": "markdown",
      "metadata": {
        "id": "view-in-github",
        "colab_type": "text"
      },
      "source": [
        "<a href=\"https://colab.research.google.com/github/Tranminhtuan48/pythonbasics/blob/main/KFold_CV(5).ipynb\" target=\"_parent\"><img src=\"https://colab.research.google.com/assets/colab-badge.svg\" alt=\"Open In Colab\"/></a>"
      ]
    },
    {
      "cell_type": "code",
      "execution_count": 1,
      "metadata": {
        "id": "SAMJ34BFQIXU"
      },
      "outputs": [],
      "source": [
        "from sklearn.linear_model import LogisticRegressionCV\n",
        "import os\n",
        "import numpy as np\n",
        "from sklearn.model_selection import train_test_split\n",
        "from sklearn.preprocessing import StandardScaler\n",
        "from sklearn.metrics import accuracy_score"
      ]
    },
    {
      "cell_type": "code",
      "source": [
        "from google.colab import drive\n",
        "drive.mount('/content/gdrive')"
      ],
      "metadata": {
        "colab": {
          "base_uri": "https://localhost:8080/"
        },
        "id": "IChUgR5HQqFg",
        "outputId": "241fd174-4764-4bc9-9e32-4a3dc7d8241b"
      },
      "execution_count": 7,
      "outputs": [
        {
          "output_type": "stream",
          "name": "stdout",
          "text": [
            "Mounted at /content/gdrive\n"
          ]
        }
      ]
    },
    {
      "cell_type": "code",
      "source": [
        "def readData(folder, filename, delimiter= \",\"):\n",
        "    D = np.loadtxt(os.path.join(folder, filename), delimiter=delimiter)\n",
        "    X = D[:, :-1]\n",
        "    y = D[:, -1]\n",
        "    return X, y"
      ],
      "metadata": {
        "id": "Q1lKpG0SQQNw"
      },
      "execution_count": 3,
      "outputs": []
    },
    {
      "cell_type": "code",
      "source": [
        "def featureScaling(X_train, X_test):\n",
        "    sc = StandardScaler()\n",
        "    X_train = sc.fit_transform(X_train)\n",
        "    X_test = sc.transform(X_test)\n",
        "    return X_train, X_test"
      ],
      "metadata": {
        "id": "A_gfmOhAQSms"
      },
      "execution_count": 5,
      "outputs": []
    },
    {
      "cell_type": "code",
      "source": [
        "def KFold_CV():\n",
        "    X, y = readData(\"/content/gdrive/My Drive/\", 'ex2data2.txt')\n",
        "    X_train, X_test, y_train, y_test = train_test_split(X, y, test_size=0.3, random_state=15)\n",
        "    X_train, X_test = featureScaling(X_train, X_test)\n",
        "    model = LogisticRegressionCV(cv=10, random_state=15).fit(X_train, y_train)\n",
        "    y_pred = model.predict(X_test)\n",
        "    print('Hiệu năng mô hình acc: ', accuracy_score(y_pred, y_test))"
      ],
      "metadata": {
        "id": "IoFXIpIGQbSC"
      },
      "execution_count": 8,
      "outputs": []
    }
  ]
}