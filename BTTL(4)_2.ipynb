{
  "nbformat": 4,
  "nbformat_minor": 0,
  "metadata": {
    "colab": {
      "provenance": [],
      "authorship_tag": "ABX9TyN9Hdq6ob8gzIBgchyvoGMj",
      "include_colab_link": true
    },
    "kernelspec": {
      "name": "python3",
      "display_name": "Python 3"
    },
    "language_info": {
      "name": "python"
    }
  },
  "cells": [
    {
      "cell_type": "markdown",
      "metadata": {
        "id": "view-in-github",
        "colab_type": "text"
      },
      "source": [
        "<a href=\"https://colab.research.google.com/github/Tranminhtuan48/pythonbasics/blob/main/BTTL(4)_2.ipynb\" target=\"_parent\"><img src=\"https://colab.research.google.com/assets/colab-badge.svg\" alt=\"Open In Colab\"/></a>"
      ]
    },
    {
      "cell_type": "code",
      "execution_count": 3,
      "metadata": {
        "id": "4LLmT9WvAJ7Q"
      },
      "outputs": [],
      "source": [
        "import os\n",
        "import numpy as np\n",
        "from sklearn.model_selection import train_test_split\n",
        "from sklearn.metrics import mean_squared_error\n",
        "from sklearn.metrics import accuracy_score"
      ]
    },
    {
      "cell_type": "code",
      "source": [
        "from google.colab import drive\n",
        "drive.mount('/content/gdrive')"
      ],
      "metadata": {
        "colab": {
          "base_uri": "https://localhost:8080/"
        },
        "id": "-kjv0ykFAg3E",
        "outputId": "afa5fb73-a37a-41dd-d2a0-2d2e9399bba4"
      },
      "execution_count": 2,
      "outputs": [
        {
          "output_type": "stream",
          "name": "stdout",
          "text": [
            "Mounted at /content/gdrive\n"
          ]
        }
      ]
    },
    {
      "cell_type": "markdown",
      "source": [
        "4.1.2"
      ],
      "metadata": {
        "id": "VWpW4al6Aa4f"
      }
    },
    {
      "cell_type": "code",
      "source": [
        "def readData(folder , filename):\n",
        "    data = np.loadtxt(os.path.join(folder, filename), delimiter = ',')\n",
        "    X = data[:, :-1]\n",
        "    y = data[:, -1].reshape(-1, 1)\n",
        "    one = np.ones((X.shape[0], 1))\n",
        "    X = np.concatenate((one, X), axis = 1)\n",
        "    return X, y"
      ],
      "metadata": {
        "id": "VXt7PJ6PAjAi"
      },
      "execution_count": 4,
      "outputs": []
    },
    {
      "cell_type": "code",
      "source": [
        "def normScaling(X, y):\n",
        "  for col in range(1, X.shape[1]):\n",
        "    temp = X[:, col]\n",
        "    X[:, col] = (temp - np.min(temp)) / (np.max(temp) - np.min(temp))\n",
        "  temp = y[:, 0]\n",
        "  y[:, 0] = (temp - np.min(temp)) / (np.max(temp) - np.min(temp))"
      ],
      "metadata": {
        "id": "ZFKMD7F7AxA0"
      },
      "execution_count": 5,
      "outputs": []
    },
    {
      "cell_type": "code",
      "source": [
        "def standardScaling(X, y):\n",
        "  for col in range(1, X.shape[1]):\n",
        "    temp = X[:, col]\n",
        "    X[:, col] = (temp - np.mean(temp)) / (np.std(temp))\n",
        "  temp = y[:, 0]\n",
        "  y[:, 0] = (temp - np.mean(temp)) / (np.std(temp))"
      ],
      "metadata": {
        "id": "LqdqYQSUAz7C"
      },
      "execution_count": 6,
      "outputs": []
    },
    {
      "cell_type": "code",
      "source": [
        "def predict(X, w):\n",
        "    return np.dot(X, w)"
      ],
      "metadata": {
        "id": "qzHRWXR4A4dc"
      },
      "execution_count": 7,
      "outputs": []
    },
    {
      "cell_type": "code",
      "source": [
        "def calculateLoss(X, y, w):\n",
        "    h = np.dot(X, w)\n",
        "    m = X.shape[0]\n",
        "    J = (1/ (2*m)) * np.sum(np.square(h-y))\n",
        "    return J"
      ],
      "metadata": {
        "id": "jYAF_OtBA8TE"
      },
      "execution_count": 9,
      "outputs": []
    },
    {
      "cell_type": "code",
      "source": [
        "def gradient(X, y, w):\n",
        "    m = X.shape[0]\n",
        "    h = np.dot(X, w)\n",
        "    return (1/m) * np.dot(X.T, h - y)"
      ],
      "metadata": {
        "id": "evBqBYOcBAAE"
      },
      "execution_count": 10,
      "outputs": []
    },
    {
      "cell_type": "code",
      "source": [
        "def gradientDescent(X, y, w_init, alpha, n = 1500):\n",
        "    w_optimal = w_init.reshape(-1, 1)\n",
        "    loss_values = []\n",
        "    for i in range(n):\n",
        "        w_optimal = w_optimal - alpha * gradient(X, y, w_optimal)\n",
        "        j = calculateLoss(X, y, w_optimal)\n",
        "        loss_values.append(j)\n",
        "    return w_optimal, loss_values"
      ],
      "metadata": {
        "id": "-OjdFyZXBB_0"
      },
      "execution_count": 11,
      "outputs": []
    },
    {
      "cell_type": "code",
      "source": [
        "def Linear_Regression():\n",
        "    X, y = readData(\"/content/gdrive/My Drive/\", 'ex1data2.txt')\n",
        "    X_train, X_test, y_train, y_test = train_test_split(X, y, test_size=0.3,\n",
        "                                                        random_state = 5)\n",
        "    standardScaling(X_train, y_train)\n",
        "    standardScaling(X_test, y_test)\n",
        "    w_init = np.zeros((X_train.shape[1], 1))\n",
        "    w_opt, loss = gradientDescent(X=X_train,y=y_train, \n",
        "                                           w_init=w_init, alpha=0.01, n=1500)\n",
        "    y_pred = predict(X_test, w_opt)\n",
        "\n",
        "    #Evaluate Model\n",
        "    print(\"Đánh giá hiệu năng mô hình\")\n",
        "    print(\"\\tMSE: \",mean_squared_error(y_test, y_pred))\n",
        "    print(\"\\tRMSE: \",mean_squared_error(y_test, y_pred) ** (1/2))"
      ],
      "metadata": {
        "id": "573h02USBEMk"
      },
      "execution_count": 12,
      "outputs": []
    }
  ]
}