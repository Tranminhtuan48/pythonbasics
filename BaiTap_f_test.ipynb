{
  "cells": [
    {
      "cell_type": "markdown",
      "metadata": {
        "id": "view-in-github",
        "colab_type": "text"
      },
      "source": [
        "<a href=\"https://colab.research.google.com/github/Tranminhtuan48/pythonbasics/blob/main/BaiTap_f_test.ipynb\" target=\"_parent\"><img src=\"https://colab.research.google.com/assets/colab-badge.svg\" alt=\"Open In Colab\"/></a>"
      ]
    },
    {
      "cell_type": "markdown",
      "metadata": {
        "id": "UB_REJuCrTPI"
      },
      "source": [
        "KIỂM ĐỊNH F\n",
        "\n",
        "Thay vì xây dựng giả thuyết với giá trị trung bình, người ta có thể xây dựng giả thuyết với phương sai (variance $\\sigma^{2}$). Trong trường hợp này, chúng ta sử dụng kiểm định F. Tóm tắt về kiểm định F như sau:\n",
        "\n",
        "Kiểm định một đuôi:\n",
        "\n",
        "$$H_{0}: \\sigma^{2} = \\sigma_{0}^{2} $$\n",
        "\n",
        "$$H_{a}: \\sigma^{2} < \\sigma_{0}^{2} (H_{a}: \\sigma^{2} > \\sigma_{0}^{2})$$ \n",
        "\n",
        "Giá trị thống kê kiểm định:\n",
        "\n",
        "$$ \\chi^{2} = \\frac{(n-1)s^{2}}{\\sigma_{0}^{2}}$$\n",
        "\n",
        "Vùng bác bỏ: $\\chi^{2} < \\chi_{(1 - \\alpha)}^{2}$  hoặc $\\chi^{2} > \\chi_{(1 - \\alpha)}^{2}$  khi $H_{a}: \\sigma^{2} > \\sigma_{0}^{2}$\n",
        "\n",
        "Ghi chú: \n",
        "\n",
        "- $\\chi^{2}$ - chi-square\n",
        "- (n - 1) mức tự do\n",
        "\n"
      ]
    },
    {
      "cell_type": "markdown",
      "metadata": {
        "id": "MYAodeuGrTPP"
      },
      "source": [
        "Kiểm định 2 đuôi:\n",
        "\n",
        "$$H_{0}: \\sigma^{2} = \\sigma_{0}^{2}$$\n",
        "$$H_{a}:\\sigma^{2} \\neq \\sigma_{0}^{2} $$\n",
        "\n",
        "Giá trị thống kê kiểm định:\n",
        "\n",
        "$$ \\chi^{2} = \\frac{(n-1)s^{2}}{\\sigma_{0}^{2}}$$\n",
        "\n",
        "Vùng bác bỏ: $\\chi^{2} < \\chi_{(1 - \\alpha/2)}^{2}$  hoặc $\\chi^{2} > \\chi_{(\\alpha/2)}^{2}$  \n",
        "Ghi chú: \n",
        "\n",
        "- $\\chi^{2}$ - chi-square\n",
        "- (n - 1) mức tự do"
      ]
    },
    {
      "cell_type": "markdown",
      "metadata": {
        "id": "QXvK1DUSrTPQ"
      },
      "source": [
        "THỰC HÀNH KIỂM ĐỊNH F\n",
        "\n",
        "Bước 1: Sinh ngẫu nhiên số liệu\n",
        "\n",
        "Bước 2: Xây dựng giả thuyết \n",
        "\n",
        "Bước 3: Kiểm định Bartlett "
      ]
    },
    {
      "cell_type": "code",
      "execution_count": null,
      "metadata": {
        "id": "Jl3YMjlSrTPR",
        "outputId": "225f0c3b-aac4-48d1-c3f8-592a116c9c38",
        "colab": {
          "base_uri": "https://localhost:8080/"
        }
      },
      "outputs": [
        {
          "output_type": "stream",
          "name": "stderr",
          "text": [
            "/usr/local/lib/python3.7/dist-packages/statsmodels/tools/_testing.py:19: FutureWarning: pandas.util.testing is deprecated. Use the functions in the public API at pandas.testing instead.\n",
            "  import pandas.util.testing as tm\n"
          ]
        }
      ],
      "source": [
        "import numpy as np\n",
        "import pandas as pd\n",
        "import random\n",
        "from scipy import stats\n",
        "from statsmodels.stats.weightstats import ztest\n",
        "import warnings\n",
        "import matplotlib.pyplot as plt\n",
        "import seaborn as sns\n",
        "%matplotlib inline"
      ]
    },
    {
      "cell_type": "code",
      "execution_count": null,
      "metadata": {
        "id": "CfnvFKO6rTPT"
      },
      "outputs": [],
      "source": [
        "#Sinh ngẫu nhiên 1000 mẫu tuân theo phân phối chuẩn có trung bình mẫu là 7.5 và độ lệch chuẩn là 0.25\n",
        "mean_1 = 7.5\n",
        "std_1 = 0.25\n",
        "N_1 = 1000\n",
        "samples_1 = np.random.normal(mean_1, std_1, N_1)"
      ]
    },
    {
      "cell_type": "code",
      "execution_count": null,
      "metadata": {
        "id": "d0KNufkUrTPU",
        "outputId": "a67716d0-dbfc-4dcf-933e-98b27be14d93"
      },
      "outputs": [
        {
          "name": "stdout",
          "output_type": "stream",
          "text": [
            "[7.80435077 7.39173474 7.88538046 7.36791265 7.47550623 7.47039075\n",
            " 7.42038182 7.785741   8.17327938 7.32138352]\n"
          ]
        }
      ],
      "source": [
        "#In ra 10 phần tử đầu tiên\n",
        "print(samples_1[:10])"
      ]
    },
    {
      "cell_type": "code",
      "execution_count": null,
      "metadata": {
        "id": "ENMQjIrfrTPW"
      },
      "outputs": [],
      "source": [
        "#Sinh ngẫu nhiên 900 mẫu tuân theo phân phối chuẩn có trung bình mẫu là 7 và độ lệch chuẩn là 0.2\n",
        "mean_2= 7\n",
        "std_2 = 0.2\n",
        "N_2 = 900\n",
        "samples_2 = np.random.normal(mean_2, std_2, N_2)"
      ]
    },
    {
      "cell_type": "code",
      "execution_count": null,
      "metadata": {
        "id": "SAb4SoMLrTPX",
        "outputId": "07f8970d-b9c0-44ad-9701-194c5eb7bea8"
      },
      "outputs": [
        {
          "name": "stdout",
          "output_type": "stream",
          "text": [
            "[6.97392727 6.7680331  6.9765569  7.20116716 6.70116584 7.11348431\n",
            " 7.13056472 7.28356771 7.13143519 7.12268851]\n"
          ]
        }
      ],
      "source": [
        "#In ra 10 phần tử đầu tiên\n",
        "print(samples_2[:10])"
      ]
    },
    {
      "cell_type": "markdown",
      "metadata": {
        "id": "eRQKyCx8rTPY"
      },
      "source": [
        "Xây dựng giả thuyết:\n",
        "$$H_{0}: \\sigma_{1}^{2} = \\sigma_{2}^{2}$$\n",
        "$$H_{a}: \\sigma_{1}^{2} \\neq \\sigma_{2}^{2}$$"
      ]
    },
    {
      "cell_type": "code",
      "execution_count": null,
      "metadata": {
        "id": "pQGIXgE3rTPZ",
        "outputId": "d9eb69e6-ecf1-434a-d63e-00f2a2a72a66"
      },
      "outputs": [
        {
          "name": "stdout",
          "output_type": "stream",
          "text": [
            "Stat value:  50.71159890972865 ; p-value:  1.0698543599175272e-12\n"
          ]
        }
      ],
      "source": [
        "#Kiểm định Bartlett\n",
        "stat_value, p_value = stats.bartlett(samples_1, samples_2)\n",
        "print(\"Stat value: \", stat_value, \"; p-value: \", p_value)"
      ]
    },
    {
      "cell_type": "code",
      "execution_count": null,
      "metadata": {
        "id": "qk83boaIrTPa",
        "outputId": "22582ddd-fab9-4dba-e717-2ebb0f9f4481"
      },
      "outputs": [
        {
          "name": "stdout",
          "output_type": "stream",
          "text": [
            "Có bằng chứng để bác bỏ giả thuyết H0\n"
          ]
        }
      ],
      "source": [
        "alpha = 0.05\n",
        "if(p_value <  alpha):\n",
        "  print(\"Có bằng chứng để bác bỏ giả thuyết H0\")\n",
        "else:\n",
        "  print(\"Chưa có bằng chứng để bác bỏ giả thuyết H0\")"
      ]
    },
    {
      "cell_type": "markdown",
      "metadata": {
        "id": "lpDyeJr0rTPa"
      },
      "source": [
        "BÀI TẬP\n",
        "\n",
        "Bạn hãy thử viết code tiến hành kiểm định F 1 đuôi?\n",
        "\n",
        "Gợi ý: Thử tìm kiếm ví dụ về kiểm dịnh F 1 đuôi trong ngôn ngữ lập trình Python & R để nhận thấy sự khác biệt."
      ]
    },
    {
      "cell_type": "markdown",
      "source": [
        "Một công ty T nghiên cứu mức độ phát thải ôxít cacbon xảy ra từ 2 nhãn hiệu thuốc lá khác nhau và liệu mức độ độc hại của nhãn hiệu X có cao hơn nhãn hiệu Y hay không. Ta có các dữ liệu đã được thu thập như sau:\n",
        "\\begin{array}{|c|c|} \\hline\n",
        " & X & Y  \\\\ \\hline\n",
        "Sample size & 50 & 50  \\\\ \\hline\n",
        "Mean & 16.4 & 15.6  \\\\ \\hline\n",
        "Standard deviation & 1.2 & 1.1  \\\\ \\hline\n",
        "\\end{array}"
      ],
      "metadata": {
        "id": "RO8UxWoD2tWV"
      }
    },
    {
      "cell_type": "markdown",
      "source": [
        "Xây dựng giả thuyết:\n",
        "$$H_0: σ_1^2 = σ_2^2$$\n",
        "Giả thuyết thay thế:\n",
        "$$H_1: σ_1^2 > σ_2^2$$\n",
        "\n",
        "\n",
        "$$F = \\frac{S_1^2}{S_2^2}$$\n",
        "Với:\n",
        "* $n_1 = n_2 = 50$\n",
        "* α = 0.05"
      ],
      "metadata": {
        "id": "0bFc0XGC5gbg"
      }
    },
    {
      "cell_type": "code",
      "execution_count": null,
      "metadata": {
        "id": "DbdqoNfMrTPb",
        "outputId": "3311b62c-c1be-40f5-f1c0-2f293f7e3391",
        "colab": {
          "base_uri": "https://localhost:8080/"
        }
      },
      "outputs": [
        {
          "output_type": "stream",
          "name": "stdout",
          "text": [
            "[16.75059791 16.98880529 16.41571118 14.65366706 17.09333014 16.77878348\n",
            " 17.80377009 15.69505152 15.45428392 16.4887523  14.39527133 17.51453747\n",
            " 17.77832266 16.97295136 16.7675681  16.50427297 14.28322533 16.82682894\n",
            " 16.31516113 18.09065229 18.46102305 17.08180237 16.18174918 15.79956807\n",
            " 17.40964713 15.91766517 16.06382439 17.0020082  14.31442624 15.86603716\n",
            " 17.23797777 15.56407947 17.78439191 15.68711838 16.59613754 17.66875124\n",
            " 17.15345707 17.51441924 16.12525873 15.41195522 16.75628327 16.75885116\n",
            " 17.14811341 18.98234621 17.70181626 17.64682279 14.83442966 15.07116994\n",
            " 17.36185235 17.61511962]\n"
          ]
        }
      ],
      "source": [
        "#simple1:\n",
        "mean_1 = 16.4\n",
        "std_1 = 1.1\n",
        "N_1 = 50\n",
        "samples_1 = np.random.normal(mean_1, std_1, N_1)\n",
        "print(samples_1)"
      ]
    },
    {
      "cell_type": "code",
      "source": [
        "#sample2:\n",
        "mean_2= 15.6\n",
        "std_2 = 1.2\n",
        "N_2 = 50\n",
        "samples_2 = np.random.normal(mean_2, std_2, N_2)\n",
        "print(samples_2)"
      ],
      "metadata": {
        "id": "u78ZA-C66TS6",
        "outputId": "29aa954f-1348-4b93-ee9a-5f35721b01e6",
        "colab": {
          "base_uri": "https://localhost:8080/"
        }
      },
      "execution_count": null,
      "outputs": [
        {
          "output_type": "stream",
          "name": "stdout",
          "text": [
            "[16.51058945 16.45231152 14.56733445 16.81642148 12.70764563 15.2237631\n",
            " 16.33451244 16.47157798 14.95109096 17.7244204  15.23878595 14.86658766\n",
            " 14.52861254 16.0274359  14.47824977 16.90368245 14.96200489 14.92961152\n",
            " 15.68005185 13.85664221 16.1056583  15.9950884  14.96043662 14.15037255\n",
            " 15.7375749  15.20821379 15.88023182 14.57743685 18.46409768 11.77889851\n",
            " 14.9916796  16.57700686 18.341465   15.1196085  13.18797876 14.72361999\n",
            " 15.19034229 14.95729259 15.69094302 14.58517213 16.76321436 15.5913514\n",
            " 16.877879   14.63630213 11.71359308 15.41141265 17.4878942  15.05193107\n",
            " 16.66887776 16.48010121]\n"
          ]
        }
      ]
    },
    {
      "cell_type": "code",
      "source": [
        "a = 0.05\n",
        "#f-test:\n",
        "def f_test(samples_1, samples_2, ToF, a):\n",
        "    DoF1 = len(samples_1) - 1\n",
        "    DoF2 = len(samples_2) - 1\n",
        "    f = samples_1.std() / samples_2.std()\n",
        "    if ToF == \"smaller\":\n",
        "        p = stats.f.cdf(f, DoF1, DoF2)\n",
        "    elif ToF == \"larger\":\n",
        "        p = 1.0 - stats.f.cdf(f, DoF1, DoF2)\n",
        "    else:\n",
        "        p = 2.0*(1.0 - stats.f.cdf(f, DoF1, DoF2))\n",
        "    if p < a:\n",
        "      print(\"Có bằng chứng để bác bỏ giả thuyết H0\")\n",
        "    else:\n",
        "      print(\"Chưa có bằng chứng để bác bỏ giả thuyết H0\")"
      ],
      "metadata": {
        "id": "95w1e1Oy6egU"
      },
      "execution_count": null,
      "outputs": []
    },
    {
      "cell_type": "code",
      "source": [
        "# Tiến hành f_test:\n",
        "f_test(samples_1, samples_2, \"smaller\", a)"
      ],
      "metadata": {
        "id": "NGpv7yR-7teR",
        "outputId": "b443ec2c-4c49-4837-cba7-86706c045937",
        "colab": {
          "base_uri": "https://localhost:8080/"
        }
      },
      "execution_count": null,
      "outputs": [
        {
          "output_type": "stream",
          "name": "stdout",
          "text": [
            "Chưa có bằng chứng để bác bỏ giả thuyết H0\n"
          ]
        }
      ]
    }
  ],
  "metadata": {
    "kernelspec": {
      "display_name": "Python 3",
      "language": "python",
      "name": "python3"
    },
    "language_info": {
      "codemirror_mode": {
        "name": "ipython",
        "version": 3
      },
      "file_extension": ".py",
      "mimetype": "text/x-python",
      "name": "python",
      "nbconvert_exporter": "python",
      "pygments_lexer": "ipython3",
      "version": "3.7.3"
    },
    "colab": {
      "name": "BaiTap_f-test.ipynb",
      "provenance": [],
      "include_colab_link": true
    }
  },
  "nbformat": 4,
  "nbformat_minor": 0
}