{
  "cells": [
    {
      "cell_type": "markdown",
      "metadata": {
        "id": "view-in-github",
        "colab_type": "text"
      },
      "source": [
        "<a href=\"https://colab.research.google.com/github/Tranminhtuan48/pythonbasics/blob/main/BaiTap_f_test.ipynb\" target=\"_parent\"><img src=\"https://colab.research.google.com/assets/colab-badge.svg\" alt=\"Open In Colab\"/></a>"
      ]
    },
    {
      "cell_type": "markdown",
      "metadata": {
        "id": "UB_REJuCrTPI"
      },
      "source": [
        "KIỂM ĐỊNH F\n",
        "\n",
        "Thay vì xây dựng giả thuyết với giá trị trung bình, người ta có thể xây dựng giả thuyết với phương sai (variance $\\sigma^{2}$). Trong trường hợp này, chúng ta sử dụng kiểm định F. Tóm tắt về kiểm định F như sau:\n",
        "\n",
        "Kiểm định một đuôi:\n",
        "\n",
        "$$H_{0}: \\sigma^{2} = \\sigma_{0}^{2} $$\n",
        "\n",
        "$$H_{a}: \\sigma^{2} < \\sigma_{0}^{2} (H_{a}: \\sigma^{2} > \\sigma_{0}^{2})$$ \n",
        "\n",
        "Giá trị thống kê kiểm định:\n",
        "\n",
        "$$ \\chi^{2} = \\frac{(n-1)s^{2}}{\\sigma_{0}^{2}}$$\n",
        "\n",
        "Vùng bác bỏ: $\\chi^{2} < \\chi_{(1 - \\alpha)}^{2}$  hoặc $\\chi^{2} > \\chi_{(1 - \\alpha)}^{2}$  khi $H_{a}: \\sigma^{2} > \\sigma_{0}^{2}$\n",
        "\n",
        "Ghi chú: \n",
        "\n",
        "- $\\chi^{2}$ - chi-square\n",
        "- (n - 1) mức tự do\n",
        "\n"
      ]
    },
    {
      "cell_type": "markdown",
      "metadata": {
        "id": "MYAodeuGrTPP"
      },
      "source": [
        "Kiểm định 2 đuôi:\n",
        "\n",
        "$$H_{0}: \\sigma^{2} = \\sigma_{0}^{2}$$\n",
        "$$H_{a}:\\sigma^{2} \\neq \\sigma_{0}^{2} $$\n",
        "\n",
        "Giá trị thống kê kiểm định:\n",
        "\n",
        "$$ \\chi^{2} = \\frac{(n-1)s^{2}}{\\sigma_{0}^{2}}$$\n",
        "\n",
        "Vùng bác bỏ: $\\chi^{2} < \\chi_{(1 - \\alpha/2)}^{2}$  hoặc $\\chi^{2} > \\chi_{(\\alpha/2)}^{2}$  \n",
        "Ghi chú: \n",
        "\n",
        "- $\\chi^{2}$ - chi-square\n",
        "- (n - 1) mức tự do"
      ]
    },
    {
      "cell_type": "markdown",
      "metadata": {
        "id": "QXvK1DUSrTPQ"
      },
      "source": [
        "THỰC HÀNH KIỂM ĐỊNH F\n",
        "\n",
        "Bước 1: Sinh ngẫu nhiên số liệu\n",
        "\n",
        "Bước 2: Xây dựng giả thuyết \n",
        "\n",
        "Bước 3: Kiểm định Bartlett "
      ]
    },
    {
      "cell_type": "code",
      "execution_count": 1,
      "metadata": {
        "id": "Jl3YMjlSrTPR",
        "outputId": "aa10d0aa-095e-4a4a-d124-b9484462cff6",
        "colab": {
          "base_uri": "https://localhost:8080/"
        }
      },
      "outputs": [
        {
          "output_type": "stream",
          "name": "stderr",
          "text": [
            "/usr/local/lib/python3.7/dist-packages/statsmodels/tools/_testing.py:19: FutureWarning: pandas.util.testing is deprecated. Use the functions in the public API at pandas.testing instead.\n",
            "  import pandas.util.testing as tm\n"
          ]
        }
      ],
      "source": [
        "import math\n",
        "import numpy as np\n",
        "import pandas as pd\n",
        "import random\n",
        "from scipy import stats\n",
        "from statsmodels.stats.weightstats import ztest\n",
        "import warnings\n",
        "import matplotlib.pyplot as plt\n",
        "import seaborn as sns\n",
        "%matplotlib inline"
      ]
    },
    {
      "cell_type": "code",
      "execution_count": null,
      "metadata": {
        "id": "CfnvFKO6rTPT"
      },
      "outputs": [],
      "source": [
        "#Sinh ngẫu nhiên 1000 mẫu tuân theo phân phối chuẩn có trung bình mẫu là 7.5 và độ lệch chuẩn là 0.25\n",
        "mean_1 = 7.5\n",
        "std_1 = 0.25\n",
        "N_1 = 1000\n",
        "samples_1 = np.random.normal(mean_1, std_1, N_1)"
      ]
    },
    {
      "cell_type": "code",
      "execution_count": null,
      "metadata": {
        "id": "d0KNufkUrTPU",
        "outputId": "a67716d0-dbfc-4dcf-933e-98b27be14d93"
      },
      "outputs": [
        {
          "name": "stdout",
          "output_type": "stream",
          "text": [
            "[7.80435077 7.39173474 7.88538046 7.36791265 7.47550623 7.47039075\n",
            " 7.42038182 7.785741   8.17327938 7.32138352]\n"
          ]
        }
      ],
      "source": [
        "#In ra 10 phần tử đầu tiên\n",
        "print(samples_1[:10])"
      ]
    },
    {
      "cell_type": "code",
      "execution_count": null,
      "metadata": {
        "id": "ENMQjIrfrTPW"
      },
      "outputs": [],
      "source": [
        "#Sinh ngẫu nhiên 900 mẫu tuân theo phân phối chuẩn có trung bình mẫu là 7 và độ lệch chuẩn là 0.2\n",
        "mean_2= 7\n",
        "std_2 = 0.2\n",
        "N_2 = 900\n",
        "samples_2 = np.random.normal(mean_2, std_2, N_2)"
      ]
    },
    {
      "cell_type": "code",
      "execution_count": null,
      "metadata": {
        "id": "SAb4SoMLrTPX",
        "outputId": "07f8970d-b9c0-44ad-9701-194c5eb7bea8"
      },
      "outputs": [
        {
          "name": "stdout",
          "output_type": "stream",
          "text": [
            "[6.97392727 6.7680331  6.9765569  7.20116716 6.70116584 7.11348431\n",
            " 7.13056472 7.28356771 7.13143519 7.12268851]\n"
          ]
        }
      ],
      "source": [
        "#In ra 10 phần tử đầu tiên\n",
        "print(samples_2[:10])"
      ]
    },
    {
      "cell_type": "markdown",
      "metadata": {
        "id": "eRQKyCx8rTPY"
      },
      "source": [
        "Xây dựng giả thuyết:\n",
        "$$H_{0}: \\sigma_{1}^{2} = \\sigma_{2}^{2}$$\n",
        "$$H_{a}: \\sigma_{1}^{2} \\neq \\sigma_{2}^{2}$$"
      ]
    },
    {
      "cell_type": "code",
      "execution_count": null,
      "metadata": {
        "id": "pQGIXgE3rTPZ",
        "outputId": "d9eb69e6-ecf1-434a-d63e-00f2a2a72a66"
      },
      "outputs": [
        {
          "name": "stdout",
          "output_type": "stream",
          "text": [
            "Stat value:  50.71159890972865 ; p-value:  1.0698543599175272e-12\n"
          ]
        }
      ],
      "source": [
        "#Kiểm định Bartlett\n",
        "stat_value, p_value = stats.bartlett(samples_1, samples_2)\n",
        "print(\"Stat value: \", stat_value, \"; p-value: \", p_value)"
      ]
    },
    {
      "cell_type": "code",
      "execution_count": null,
      "metadata": {
        "id": "qk83boaIrTPa",
        "outputId": "22582ddd-fab9-4dba-e717-2ebb0f9f4481"
      },
      "outputs": [
        {
          "name": "stdout",
          "output_type": "stream",
          "text": [
            "Có bằng chứng để bác bỏ giả thuyết H0\n"
          ]
        }
      ],
      "source": [
        "alpha = 0.05\n",
        "if(p_value <  alpha):\n",
        "  print(\"Có bằng chứng để bác bỏ giả thuyết H0\")\n",
        "else:\n",
        "  print(\"Chưa có bằng chứng để bác bỏ giả thuyết H0\")"
      ]
    },
    {
      "cell_type": "markdown",
      "metadata": {
        "id": "lpDyeJr0rTPa"
      },
      "source": [
        "BÀI TẬP\n",
        "\n",
        "Bạn hãy thử viết code tiến hành kiểm định F 1 đuôi?\n",
        "\n",
        "Gợi ý: Thử tìm kiếm ví dụ về kiểm dịnh F 1 đuôi trong ngôn ngữ lập trình Python & R để nhận thấy sự khác biệt."
      ]
    },
    {
      "cell_type": "markdown",
      "source": [
        "Một công ty T nghiên cứu mức độ phát thải ôxít cacbon xảy ra từ 2 nhãn hiệu thuốc lá khác nhau và liệu mức độ độc hại của nhãn hiệu X có cao hơn nhãn hiệu Y hay không. Ta có các dữ liệu đã được thu thập như sau:\n",
        "\\begin{array}{|c|c|} \\hline\n",
        " & X & Y  \\\\ \\hline\n",
        "Sample size & 50 & 50  \\\\ \\hline\n",
        "Mean & 16.4 & 15.6  \\\\ \\hline\n",
        "Standard deviation & 1.2 & 1.1  \\\\ \\hline\n",
        "\\end{array}"
      ],
      "metadata": {
        "id": "RO8UxWoD2tWV"
      }
    },
    {
      "cell_type": "markdown",
      "source": [
        "Xây dựng giả thuyết:\n",
        "$$H_0: σ_1^2 = σ_2^2$$\n",
        "Giả thuyết thay thế:\n",
        "$$H_1: σ_1^2 > σ_2^2$$\n",
        "\n",
        "\n",
        "$$F = \\frac{S_1^2}{S_2^2}$$\n",
        "Với:\n",
        "* $n_1 = n_2 = 50$\n",
        "* α = 0.05"
      ],
      "metadata": {
        "id": "0bFc0XGC5gbg"
      }
    },
    {
      "cell_type": "code",
      "execution_count": 2,
      "metadata": {
        "id": "DbdqoNfMrTPb",
        "outputId": "cbb0bdf1-1aa0-4f28-dfbe-f7224e022bcb",
        "colab": {
          "base_uri": "https://localhost:8080/"
        }
      },
      "outputs": [
        {
          "output_type": "stream",
          "name": "stdout",
          "text": [
            "[17.9997101  16.47139147 13.17500807 15.36453635 13.71533898 15.74120005\n",
            " 14.15158681 14.78032718 17.63937653 19.18860172 17.20116957 17.68884349\n",
            " 18.36335221 15.74278771 20.25023446 15.86407812 13.48391982 14.4408196\n",
            " 15.83303279 13.95631605 16.25243594 18.95083351 16.19144687 16.28683365\n",
            " 20.67153095 22.14726669 17.77570952 16.23072528 12.98856964 18.70397678\n",
            " 19.44531633 12.85216884 16.22838821 17.19424658 15.9667298  17.17270952\n",
            " 17.22417874 14.50843897 18.64952606 15.99777826 16.52489173 15.90255177\n",
            " 16.42567316 17.34291089 18.02593261 15.49929865 16.24807577 17.95891733\n",
            " 18.9614515  17.93507297]\n"
          ]
        }
      ],
      "source": [
        "#simple1:\n",
        "mean_1 = 16.4\n",
        "std_1 = 1.1\n",
        "N_1 = 50\n",
        "samples_1 = np.random.normal(mean_1, (std_1*2), N_1)\n",
        "print(samples_1)"
      ]
    },
    {
      "cell_type": "code",
      "source": [
        "#sample2:\n",
        "mean_2= 15.6\n",
        "std_2 = 1.2\n",
        "N_2 = 50\n",
        "samples_2 = np.random.normal(mean_2, (std_2*2), N_2)\n",
        "print(samples_2)"
      ],
      "metadata": {
        "id": "u78ZA-C66TS6",
        "outputId": "45e05194-7480-44f7-dbd5-23b29f080e7e",
        "colab": {
          "base_uri": "https://localhost:8080/"
        }
      },
      "execution_count": 3,
      "outputs": [
        {
          "output_type": "stream",
          "name": "stdout",
          "text": [
            "[16.5477022  15.43123304 16.0583138  15.55103777 14.89016922 15.74306053\n",
            " 12.49545247 11.88982328 16.61048437 13.93877697 15.99795786 15.86497126\n",
            " 17.08833524 15.3668383  12.95884996 14.44147074 17.86428143 14.02750358\n",
            " 15.26125464 15.72598231 17.66637023 17.33767171 14.51784134 11.29739327\n",
            " 10.69987862 12.45156617 13.24683017 17.29631933 15.9057587  13.07604665\n",
            " 14.20391113 12.0388405  17.7681498  16.66991847 21.21853142 17.01015204\n",
            " 18.89590394 13.788714   15.00513704 12.49553793 17.99733494 15.00104581\n",
            " 15.60037817 17.38204344 14.63899471 16.44619528 14.46432265 18.14198897\n",
            " 16.02536181 12.55295155]\n"
          ]
        }
      ]
    },
    {
      "cell_type": "code",
      "source": [
        "a = 0.05\n",
        "#f-test:\n",
        "def f_test(samples_1, samples_2, ToF, a):\n",
        "    DoF1 = len(samples_1) - 1\n",
        "    DoF2 = len(samples_2) - 1\n",
        "    f = samples_1.std() / samples_2.std()\n",
        "    if ToF == \"smaller\":\n",
        "        p = stats.f.cdf(f, DoF1, DoF2)\n",
        "    elif ToF == \"larger\":\n",
        "        p = 1.0 - stats.f.cdf(f, DoF1, DoF2)\n",
        "    else:\n",
        "        p = 2.0*(1.0 - stats.f.cdf(f, DoF1, DoF2))\n",
        "    if p < a:\n",
        "      print(\"Có bằng chứng để bác bỏ giả thuyết H0\")\n",
        "    else:\n",
        "      print(\"Chưa có bằng chứng để bác bỏ giả thuyết H0\")"
      ],
      "metadata": {
        "id": "95w1e1Oy6egU"
      },
      "execution_count": 4,
      "outputs": []
    },
    {
      "cell_type": "code",
      "source": [
        "# Tiến hành f_test:\n",
        "f_test(samples_1, samples_2, \"smaller\", a)"
      ],
      "metadata": {
        "id": "NGpv7yR-7teR",
        "outputId": "eadc85e1-02bb-46f1-ea30-25769c93e2b2",
        "colab": {
          "base_uri": "https://localhost:8080/"
        }
      },
      "execution_count": 5,
      "outputs": [
        {
          "output_type": "stream",
          "name": "stdout",
          "text": [
            "Chưa có bằng chứng để bác bỏ giả thuyết H0\n"
          ]
        }
      ]
    }
  ],
  "metadata": {
    "kernelspec": {
      "display_name": "Python 3",
      "language": "python",
      "name": "python3"
    },
    "language_info": {
      "codemirror_mode": {
        "name": "ipython",
        "version": 3
      },
      "file_extension": ".py",
      "mimetype": "text/x-python",
      "name": "python",
      "nbconvert_exporter": "python",
      "pygments_lexer": "ipython3",
      "version": "3.7.3"
    },
    "colab": {
      "name": "BaiTap_f-test.ipynb",
      "provenance": [],
      "include_colab_link": true
    }
  },
  "nbformat": 4,
  "nbformat_minor": 0
}