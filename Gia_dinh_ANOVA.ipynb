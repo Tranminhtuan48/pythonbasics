{
  "cells": [
    {
      "cell_type": "markdown",
      "metadata": {
        "id": "view-in-github",
        "colab_type": "text"
      },
      "source": [
        "<a href=\"https://colab.research.google.com/github/Tranminhtuan48/pythonbasics/blob/main/Gia_dinh_ANOVA.ipynb\" target=\"_parent\"><img src=\"https://colab.research.google.com/assets/colab-badge.svg\" alt=\"Open In Colab\"/></a>"
      ]
    },
    {
      "cell_type": "code",
      "source": [
        "import numpy as np\n",
        "import pandas as pd\n",
        "from scipy import stats"
      ],
      "metadata": {
        "id": "w9fpzhetn6SJ"
      },
      "execution_count": 1,
      "outputs": []
    },
    {
      "cell_type": "markdown",
      "metadata": {
        "id": "6m9JqcNHnur9"
      },
      "source": [
        "PHÂN TÍCH ANOVA MỘT CHIỀU\n",
        "\n",
        "Phân tích ANOVA chấp nhận các giả định sau:\n",
        "\n",
        "(1) Tất cả các nhóm đều độc lập với nhau\n",
        "\n",
        "(2) Dữ liệu của mỗi nhóm đều tuân theo phân phối chuẩn. Tính chất này có thể được kiểm định bằng phương pháp Shapiro-Wilks.\n",
        "\n",
        "(3) Phương sai (variance) của các nhóm bằng nhau. Tính chất này có thể được kiểm định bằng phương pháp kiểm định Bartlett hay Levene.\n",
        "\n",
        "Nếu dữ liệu hiện có thỏa mãn các tính chất trên thì chúng ta mới tiến hành kiểm định ANOVA. Do vậy trước khi tiến hành kiểm định ANOVA, chúng ta cần thực hiện kiểm tra tập dữ liệu cần thỏa mãn 3 tính chất trên.\n",
        "    "
      ]
    },
    {
      "cell_type": "code",
      "execution_count": null,
      "metadata": {
        "id": "T4Gz0YA3nusB"
      },
      "outputs": [],
      "source": [
        "#Bước 1: Hãy tạo một tập dữ liệu mẫu sample_1 với kích thước 100 tuân theo phân phối chuẩn\n",
        "sample_1 = np.random.normal(loc = 15, scale = 3, size = 100)\n",
        "print(sample_1)"
      ]
    },
    {
      "cell_type": "code",
      "execution_count": 6,
      "metadata": {
        "id": "29q_OiiOnusD"
      },
      "outputs": [],
      "source": [
        "#Bước 2: hãy tạo tập dữ liệu mẫu sample_2 với kích thước 100 tuân theo phân phối Poisson\n",
        "sample_2 = stats.poisson.rvs(mu = 10,\n",
        "                             size = 100)"
      ]
    },
    {
      "cell_type": "markdown",
      "metadata": {
        "id": "jip3IIohnusD"
      },
      "source": [
        "Hãy tham khảo các hướng dẫn sau để kiểm định tính chất thứ 2 bằng phương pháp Shapiro-Wilks đối với sample_1 và sample_2\n",
        "\n",
        "(1) [Tài liệu tham khảo scipy](https://docs.scipy.org/doc/scipy/reference/generated/scipy.stats.shapiro.html)\n",
        "\n",
        "(2) [Hướng dẫn cụ thể của statology](https://www.statology.org/shapiro-wilk-test-python/)"
      ]
    },
    {
      "cell_type": "markdown",
      "source": [
        "Phát  biểu  giả  thuyết **a = 0.05**:\n",
        "\n",
        "Mẫu 1:\n",
        "- Null: \"Mẫu 1 được lấy từ  phân phối chuẩn\"\n",
        "- Giả thuyết thay thế: \"Mẫu 1 không được lấy từ phân phối chuẩn\"\n",
        "\n",
        "Mẫu 2:\n",
        "- Null: \"Mẫu 2 được lấy từ  phân phối chuẩn\"\n",
        "- Giả thuyết thay thế: \"Mẫu 2 không được lấy từ phân phối chuẩn\""
      ],
      "metadata": {
        "id": "s-STrpGDqidb"
      }
    },
    {
      "cell_type": "code",
      "execution_count": 7,
      "metadata": {
        "id": "TuGK42_2nusE",
        "colab": {
          "base_uri": "https://localhost:8080/"
        },
        "outputId": "8842d646-f3a0-4bd7-99a0-8348a7ac875e"
      },
      "outputs": [
        {
          "output_type": "stream",
          "name": "stdout",
          "text": [
            "P_value: 0.5945197343826294\n"
          ]
        }
      ],
      "source": [
        "#Code kiểm định tính chất thứ 2 của sample_1 và sample_2\n",
        "#Mẫu 1\n",
        "shapiro_test_1 = stats.shapiro(sample_1)\n",
        "print(f\"P_value: {shapiro_test_1[1]}\")"
      ]
    },
    {
      "cell_type": "markdown",
      "source": [
        "p value > 0.05\n",
        "\n",
        "Vậy có bằng chứng để khẳng định mẫu 1 có thể tuân theo phân phối chuẩn."
      ],
      "metadata": {
        "id": "UDt_jP0CrdVt"
      }
    },
    {
      "cell_type": "code",
      "source": [
        "#Mẫu 2\n",
        "shapiro_test_2 = stats.shapiro(sample_2)\n",
        "print(f\"P_value: {shapiro_test_2[1]}\")"
      ],
      "metadata": {
        "colab": {
          "base_uri": "https://localhost:8080/"
        },
        "id": "oa0sZm6gsP6a",
        "outputId": "fe5a84e1-553b-4b24-af1b-d21e620d117d"
      },
      "execution_count": 8,
      "outputs": [
        {
          "output_type": "stream",
          "name": "stdout",
          "text": [
            "P_value: 0.20185241103172302\n"
          ]
        }
      ]
    },
    {
      "cell_type": "markdown",
      "source": [
        "p value < 0.05\n",
        "\n",
        "Vậy có bằng chứng để khẳng định mẫu 2 không tuân theo phân phối chuẩn."
      ],
      "metadata": {
        "id": "NohNwm6QsYUz"
      }
    },
    {
      "cell_type": "markdown",
      "metadata": {
        "id": "eLzBbz5gnusE"
      },
      "source": [
        "Hãy tham khảo các hướng dẫn sau để kiểm định tính chất thứ 3 bằng kiểm định Bartlett hoặc kiểm định Levene\n",
        "\n",
        "(1) [Hướng dẫn tổng quát](https://www.marsja.se/levenes-bartletts-test-of-equality-homogeneity-of-variance-in-python/)\n",
        "\n",
        "(2) [Hướng dẫn ở stackoverflow](https://stackoverflow.com/questions/36141254/how-to-test-for-homoscedasticity-having-the-same-population-variance-in-python)\n",
        "\n",
        "(3) Sử dụng bài giảng về kiểm định Bartlett và Levene ở buổi trước"
      ]
    },
    {
      "cell_type": "markdown",
      "source": [
        "Nếu \bmẫu theo phân phối chuẩn, ta dùng kiểm định Bartlett.\n",
        "Nếu mẫu không theo phân phối chuẩn, ta dùng kiểm định Levene.\n",
        "\n",
        "Phát biểu giả thuyết **a = 0.05**:\n",
        "- Null: \"Không có sự khác biệt về phương sai của các mẫu\"\n",
        "- Giả thuyết thay thể: \"Có sự khác biệt về phương sai của các mẫu\""
      ],
      "metadata": {
        "id": "ra2yVNCatKG0"
      }
    },
    {
      "cell_type": "code",
      "execution_count": 9,
      "metadata": {
        "id": "jjFoZzgTnusF",
        "colab": {
          "base_uri": "https://localhost:8080/"
        },
        "outputId": "cb492dbc-dd7a-4dfd-c6ae-ed717cd15887"
      },
      "outputs": [
        {
          "output_type": "stream",
          "name": "stdout",
          "text": [
            "P value: 0.044030943186879244\n"
          ]
        }
      ],
      "source": [
        "#Code kiểm định tính đồng nhất về phương sai của các nhóm\n",
        "stat_value ,p_value = stats.levene(sample_1, sample_2)\n",
        "print(f\"P value: {p_value}\")"
      ]
    },
    {
      "cell_type": "markdown",
      "source": [
        "P value < 0.05\n",
        "\n",
        "Vậy có bằng chứng để cho thấy có sự khác biệt về phương sai của các mẫu."
      ],
      "metadata": {
        "id": "l0WCZCywtAa2"
      }
    }
  ],
  "metadata": {
    "kernelspec": {
      "display_name": "Python 3",
      "language": "python",
      "name": "python3"
    },
    "language_info": {
      "codemirror_mode": {
        "name": "ipython",
        "version": 3
      },
      "file_extension": ".py",
      "mimetype": "text/x-python",
      "name": "python",
      "nbconvert_exporter": "python",
      "pygments_lexer": "ipython3",
      "version": "3.7.3"
    },
    "colab": {
      "name": "Gia-dinh-ANOVA.ipynb",
      "provenance": [],
      "include_colab_link": true
    }
  },
  "nbformat": 4,
  "nbformat_minor": 0
}