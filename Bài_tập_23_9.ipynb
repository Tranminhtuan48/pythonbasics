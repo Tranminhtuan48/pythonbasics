{
  "nbformat": 4,
  "nbformat_minor": 0,
  "metadata": {
    "colab": {
      "name": "Bài tập 23/9.ipynb",
      "provenance": [],
      "toc_visible": true,
      "authorship_tag": "ABX9TyN9AMYZ/h3xOv0fK07ovCJP",
      "include_colab_link": true
    },
    "kernelspec": {
      "name": "python3",
      "display_name": "Python 3"
    },
    "language_info": {
      "name": "python"
    }
  },
  "cells": [
    {
      "cell_type": "markdown",
      "metadata": {
        "id": "view-in-github",
        "colab_type": "text"
      },
      "source": [
        "<a href=\"https://colab.research.google.com/github/Tranminhtuan48/pythonbasics/blob/main/B%C3%A0i_t%E1%BA%ADp_23_9.ipynb\" target=\"_parent\"><img src=\"https://colab.research.google.com/assets/colab-badge.svg\" alt=\"Open In Colab\"/></a>"
      ]
    },
    {
      "cell_type": "markdown",
      "metadata": {
        "id": "sJ04dkg62aL6"
      },
      "source": [
        "Bài tập kiểu list"
      ]
    },
    {
      "cell_type": "code",
      "metadata": {
        "colab": {
          "base_uri": "https://localhost:8080/"
        },
        "id": "GRccqLDj2flg",
        "outputId": "db989309-afc4-4db0-ccbc-0ae1c27d3fb4"
      },
      "source": [
        "import copy\n",
        "x = list()\n",
        "x.append(18)\n",
        "x.insert(1,\"Huế\")\n",
        "y = [12, 45, -1, -0.56, \"abc\"]\n",
        "x.extend((y))\n",
        "k = copy.deepcopy(x)\n",
        "print(x)\n",
        "print(\"PHần tử đầu và cuối của x là:\",x[0], end=', ')\n",
        "print(x[-1])\n",
        "x.pop(6)\n",
        "x.pop(5)\n",
        "print(\"Phần tử 1-5 của x là: \",x)\n",
        "k.pop(0)\n",
        "k.pop(1)\n",
        "k.pop(2)\n",
        "print(\"Phần tử 3-7 của x là: \",k)"
      ],
      "execution_count": 60,
      "outputs": [
        {
          "output_type": "stream",
          "name": "stdout",
          "text": [
            "[18, 'Huế', 12, 45, -1, -0.56, 'abc']\n",
            "PHần tử đầu và cuối của x là: 18, abc\n",
            "Phần tử 1-5 của x là:  [18, 'Huế', 12, 45, -1]\n",
            "Phần tử 3-7 của x là:  ['Huế', 45, -0.56, 'abc']\n"
          ]
        }
      ]
    }
  ]
}