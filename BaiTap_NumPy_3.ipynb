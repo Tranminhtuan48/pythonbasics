{
  "nbformat": 4,
  "nbformat_minor": 0,
  "metadata": {
    "colab": {
      "name": "BaiTap_NumPy_3.ipynb",
      "provenance": [],
      "authorship_tag": "ABX9TyPfn6JUduQvRojRzkI9lLyl",
      "include_colab_link": true
    },
    "kernelspec": {
      "name": "python3",
      "display_name": "Python 3"
    },
    "language_info": {
      "name": "python"
    }
  },
  "cells": [
    {
      "cell_type": "markdown",
      "metadata": {
        "id": "view-in-github",
        "colab_type": "text"
      },
      "source": [
        "<a href=\"https://colab.research.google.com/github/Tranminhtuan48/pythonbasics/blob/main/BaiTap_NumPy_3.ipynb\" target=\"_parent\"><img src=\"https://colab.research.google.com/assets/colab-badge.svg\" alt=\"Open In Colab\"/></a>"
      ]
    },
    {
      "cell_type": "markdown",
      "source": [
        "1.Hãy trình bày cú pháp của hàm apply_along_axis() và ý nghĩa của từng tham số của hàm\n",
        "này.\n",
        "\n",
        "cu phap\n",
        "\n",
        "numpy.apply_along_axis (func1d,axis,arr,args,*kwargs)\n",
        "\n",
        "y nghia\n",
        "\n",
        "func1d: Hamm nay chap mhan mang 1-D.No ap dung cho cac lat arr 1-D doc theo truc duoc chi dinh\n",
        "\n",
        "axis: Truc doc theo arr duoc cat\n",
        "\n",
        "arr: Mang dau vao\n",
        "\n",
        "kwargs: Cac doi so duoc bo sung cho func1d\n",
        "\n",
        "# Ham tra ve: mot mang co hinh dang giong mang dua vao, ngoai tru cac tru duoc thay the bang cac gia tri moi bang cac gia tri tra ve cua func1d"
      ],
      "metadata": {
        "id": "j2gUSQX3jUmC"
      }
    },
    {
      "cell_type": "markdown",
      "source": [
        "2.Tạo một ma trận A15x17 có giá trị ngẫu nhiên"
      ],
      "metadata": {
        "id": "jdKMPfCIk_0l"
      }
    },
    {
      "cell_type": "code",
      "execution_count": 1,
      "metadata": {
        "id": "3jpdJa6PjRqc"
      },
      "outputs": [],
      "source": [
        "import numpy as np"
      ]
    },
    {
      "cell_type": "code",
      "source": [
        "A = np.random.randint(0,30, (15,17))\n",
        "print(A)"
      ],
      "metadata": {
        "colab": {
          "base_uri": "https://localhost:8080/"
        },
        "id": "8Ldl96n4lN0X",
        "outputId": "57a16f4f-01d6-4342-80b6-8f2692b72e9e"
      },
      "execution_count": 2,
      "outputs": [
        {
          "output_type": "stream",
          "name": "stdout",
          "text": [
            "[[ 8 13 19  6 21  3 29 29  1 29  8 12  8 17 17 26 13]\n",
            " [27 27 28  4 18 23 27 12 17  0 18  6 12 29 17  8  5]\n",
            " [ 3  4  1 26 20  3 18 13 12 24  9  0  6 27 13  0 13]\n",
            " [26  2 12 20 20 10 26 10 15 25 25  4 20 13 20  5 22]\n",
            " [ 9 28 14  6 23  2 21 25 29 28  8 11 26 20 19  1 24]\n",
            " [17 17  7 27 11 27 13 10 22  0 11 22 19  4  4 23 13]\n",
            " [22 28 11 20 27 11  9  2 14 20  4 13  6  6 25 14 10]\n",
            " [13  2 21  0  3  2 15 21 27 10 24 28 21  6 12 28 11]\n",
            " [ 9 22 13 22 24  4  1  7 21 20  6 13 29 20 28  0 29]\n",
            " [29 25 23 29 23 19 14  9 21  9 22  6  7 10  4 15 23]\n",
            " [24 26  5  6 12 13  1 13  4 15  8  5  4  9 28  8  1]\n",
            " [10  6 13 24  7 25 27  7 13 25 29 14 22  3 20  3  5]\n",
            " [12 19  5 25 26 15  1 21  0 29 10 18 29 15  6  1  4]\n",
            " [20 24 12 27  4  0 27  7 20  9  2  3 15  9 17 26  9]\n",
            " [19 18 26 12  5 22  3 24 15 28  4 29 10  5  7 26 12]]\n"
          ]
        }
      ]
    },
    {
      "cell_type": "markdown",
      "source": [
        "3.Xây dựng hàm tìm giá trị lớn nhất có tên là tim_gia_tri_lon_nhat(vector_a) có tham số\n",
        "đầu vào là 1 vector a và giá trị trả về là giá trị phần tử lớn nhất của vector này. Áp dụng hàm này\n",
        "theo từng hàng của ma trận A ở Câu 1 và xuất kết quả ra màn hình."
      ],
      "metadata": {
        "id": "x6KufMBalnVI"
      }
    },
    {
      "cell_type": "code",
      "source": [
        "def GTLN(vec_a):\n",
        "  return np.max(vec_a)\n",
        "print(\"GTLN: \\n\", np.apply_along_axis(GTLN, 1,A))"
      ],
      "metadata": {
        "colab": {
          "base_uri": "https://localhost:8080/"
        },
        "id": "FdYi2DvKlmPj",
        "outputId": "f7cf727c-9124-4fe1-f76c-59436e3146cb"
      },
      "execution_count": null,
      "outputs": [
        {
          "output_type": "stream",
          "name": "stdout",
          "text": [
            "Tap GTLN cua hang: \n",
            " [18 19 19 18 17 19 17 19 16 17 19 17 19 19 15]\n"
          ]
        }
      ]
    },
    {
      "cell_type": "markdown",
      "source": [
        "4: Xây dựng hàm tìm giá trị nhỏ nhất có tên là tim_gia_tri_nho_nhat(vector_a) có tham số\n",
        "đầu vào là 1 vector a và giá trị trả về là giá trị phần tử nhỏ nhất của vector này. Áp dụng hàm này\n",
        "theo từng cột của ma trận A ở Câu 1 và xuất kết quả ra màn hình."
      ],
      "metadata": {
        "id": "n4Krs0rVmP6C"
      }
    },
    {
      "cell_type": "code",
      "source": [
        "def GTNN(vec_b):\n",
        "  return np.min(vec_b)\n",
        "print(\"GTNN: \\n\", np.apply_along_axis(GTNN, 0,A))"
      ],
      "metadata": {
        "colab": {
          "base_uri": "https://localhost:8080/"
        },
        "id": "KGfJXH9SmS-W",
        "outputId": "3dc254b9-4e2d-49a3-ed77-78adc1c357f9"
      },
      "execution_count": null,
      "outputs": [
        {
          "output_type": "stream",
          "name": "stdout",
          "text": [
            "Tap GTNN cua hang: \n",
            " [0 0 3 4 1 1 3 0 1 0 2 0 0 0 1 0 0]\n"
          ]
        }
      ]
    },
    {
      "cell_type": "markdown",
      "source": [
        "5: Xây dựng hàm tìm giá trị lớn nhất có tên là tinh_tong(vector_a) có tham số đầu vào là 1\n",
        "vector a và giá trị trả về là tổng các phần tử của vector này. Áp dụng hàm này theo từng hàng của\n",
        "ma trận A ở Câu 1 và xuất kết quả ra màn hình."
      ],
      "metadata": {
        "id": "DQUhOMv7mobI"
      }
    },
    {
      "cell_type": "code",
      "source": [
        "def Tong(vec_c):\n",
        "  return np.sum(vec_c)\n",
        "print(\"Tong: \\n\", np.apply_along_axis(Tong, 1,A))"
      ],
      "metadata": {
        "colab": {
          "base_uri": "https://localhost:8080/"
        },
        "id": "xczj47Zemrd4",
        "outputId": "53ee66fa-85fb-41de-c10f-21bfb001eda3"
      },
      "execution_count": null,
      "outputs": [
        {
          "output_type": "stream",
          "name": "stdout",
          "text": [
            "Tap Tong cua hang: \n",
            " [190 186 175 157 133 176 176 203 145 137 164 101 180 208 144]\n"
          ]
        }
      ]
    },
    {
      "cell_type": "markdown",
      "source": [
        "6: Xây dựng hàm tìm giá trị lớn nhất có tên là tinh_tong_2(vector_a) có tham số đầu vào là\n",
        "1 vector a và giá trị trả về là tổng các phần tử có chỉ số lẻ (1 – 3 – 5 , .v.v.) của vector này. Áp\n",
        "dụng hàm này theo từng cột của ma trận A ở Câu 1 và xuất kết quả ra màn hình. Tiếp tục áp dụng\n",
        "hàm này theo từng hàng của ma trận A kể trên và xuất kết quả ra màn hình."
      ],
      "metadata": {
        "id": "OuNedFjRnD0n"
      }
    },
    {
      "cell_type": "code",
      "source": [
        "def TongCong(vec_d):\n",
        "  s = 0\n",
        "  for i in range(len(vec_d)):\n",
        "    if (i % 2 !=0):\n",
        "      s += vec_d[i]\n",
        "  return s\n",
        "print(\"list tong gia tri le cua hang: \\n\", np.apply_along_axis(TongCong, 1,A))"
      ],
      "metadata": {
        "colab": {
          "base_uri": "https://localhost:8080/"
        },
        "id": "IDKTuUd0nGdw",
        "outputId": "8b49f072-a2d8-4fd0-fbf7-e8e31bce8409"
      },
      "execution_count": null,
      "outputs": [
        {
          "output_type": "stream",
          "name": "stdout",
          "text": [
            "Tap cac tong gtri cos index le cua hang: \n",
            " [ 85 105  92  88  49  69  71  89  77  54  72  41  83  85  71]\n"
          ]
        }
      ]
    }
  ]
}