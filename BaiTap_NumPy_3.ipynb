{
  "nbformat": 4,
  "nbformat_minor": 0,
  "metadata": {
    "colab": {
      "name": "BaiTap_NumPy_3.ipynb",
      "provenance": [],
      "authorship_tag": "ABX9TyPfn6JUduQvRojRzkI9lLyl",
      "include_colab_link": true
    },
    "kernelspec": {
      "name": "python3",
      "display_name": "Python 3"
    },
    "language_info": {
      "name": "python"
    }
  },
  "cells": [
    {
      "cell_type": "markdown",
      "metadata": {
        "id": "view-in-github",
        "colab_type": "text"
      },
      "source": [
        "<a href=\"https://colab.research.google.com/github/Tranminhtuan48/pythonbasics/blob/main/BaiTap_NumPy_3.ipynb\" target=\"_parent\"><img src=\"https://colab.research.google.com/assets/colab-badge.svg\" alt=\"Open In Colab\"/></a>"
      ]
    },
    {
      "cell_type": "markdown",
      "source": [
        "1.Hãy trình bày cú pháp của hàm apply_along_axis() và ý nghĩa của từng tham số của hàm\n",
        "này.\n",
        "\n",
        "cu phap\n",
        "\n",
        "numpy.apply_along_axis (func1d,axis,arr,args,*kwargs)\n",
        "\n",
        "y nghia\n",
        "\n",
        "func1d: Hamm nay chap mhan mang 1-D.No ap dung cho cac lat arr 1-D doc theo truc duoc chi dinh\n",
        "\n",
        "axis: Truc doc theo arr duoc cat\n",
        "\n",
        "arr: Mang dau vao\n",
        "\n",
        "kwargs: Cac doi so duoc bo sung cho func1d\n",
        "\n",
        "# Ham tra ve: mot mang co hinh dang giong mang dua vao, ngoai tru cac tru duoc thay the bang cac gia tri moi bang cac gia tri tra ve cua func1d"
      ],
      "metadata": {
        "id": "j2gUSQX3jUmC"
      }
    },
    {
      "cell_type": "markdown",
      "source": [
        "2.Tạo một ma trận A15x17 có giá trị ngẫu nhiên"
      ],
      "metadata": {
        "id": "jdKMPfCIk_0l"
      }
    },
    {
      "cell_type": "code",
      "execution_count": 1,
      "metadata": {
        "id": "3jpdJa6PjRqc"
      },
      "outputs": [],
      "source": [
        "import numpy as np"
      ]
    },
    {
      "cell_type": "code",
      "source": [
        "A = np.random.randint(0,30, (15,17))\n",
        "print(A)"
      ],
      "metadata": {
        "colab": {
          "base_uri": "https://localhost:8080/"
        },
        "id": "8Ldl96n4lN0X",
        "outputId": "62bc7a3b-2dc8-4143-a1ad-2022abc2c5c4"
      },
      "execution_count": 2,
      "outputs": [
        {
          "output_type": "stream",
          "name": "stdout",
          "text": [
            "[[17 20 29 24 26 11 13  4 20 11  9 24 26 27 22 21 17]\n",
            " [ 8 10 20  5 20 19 23 22 28 17 19  9 28 29  8  2 14]\n",
            " [ 1 24  3 20 20 15  5 14 10 17 27  2  3  3 16  3  2]\n",
            " [ 2 22 14 10 21 21 28 10 28  1  0 20  8 29 14  3 12]\n",
            " [20 22 12 11  0  4  1  1 27 13 11  4 22  3 18 28  0]\n",
            " [ 5  8 25 15  6  1 24 13 14 25 26  7 22 19 20 22  5]\n",
            " [27 15 24 15 15 13  5  2 19  1 18 19  6 19 15 24 12]\n",
            " [ 2  2 28 17 23 17 26 17  6 12 19 14  7  8 16 28 14]\n",
            " [ 2 15  7  7 26 26  3  7 10  5 17 22  4 18 29  8  7]\n",
            " [ 7 28 16 10 16  9 27 24 12  8 17 27 28  7 18  4 18]\n",
            " [ 4 20 20 29  7 17  9 26 16  5 10  4 14 25 10  3 20]\n",
            " [21 17  9 22 19 13 25  4 24  8 25  5 10 22  5  0 11]\n",
            " [ 8  5  3 22  6  4  1  4 22 22 24 15 22 23 16 26  8]\n",
            " [22 14 21 21 12 26 29 23 11 28 11  1 27  5  9 24 12]\n",
            " [12 13 25 15  9 24  6 10 23 16 15 10 13  7 22 15  0]]\n"
          ]
        }
      ]
    },
    {
      "cell_type": "markdown",
      "source": [
        "3.Xây dựng hàm tìm giá trị lớn nhất có tên là tim_gia_tri_lon_nhat(vector_a) có tham số\n",
        "đầu vào là 1 vector a và giá trị trả về là giá trị phần tử lớn nhất của vector này. Áp dụng hàm này\n",
        "theo từng hàng của ma trận A ở Câu 1 và xuất kết quả ra màn hình."
      ],
      "metadata": {
        "id": "x6KufMBalnVI"
      }
    },
    {
      "cell_type": "code",
      "source": [
        "def GTLN(vec_a):\n",
        "  return np.max(vec_a)\n",
        "print(\"GTLN: \\n\", np.apply_along_axis(GTLN, 1,A))"
      ],
      "metadata": {
        "colab": {
          "base_uri": "https://localhost:8080/"
        },
        "id": "FdYi2DvKlmPj",
        "outputId": "8e77bef7-70fc-4c4e-e6f1-4f193b2cba31"
      },
      "execution_count": 3,
      "outputs": [
        {
          "output_type": "stream",
          "name": "stdout",
          "text": [
            "GTLN: \n",
            " [29 29 27 29 28 26 27 28 29 28 29 25 26 29 25]\n"
          ]
        }
      ]
    },
    {
      "cell_type": "markdown",
      "source": [
        "4: Xây dựng hàm tìm giá trị nhỏ nhất có tên là tim_gia_tri_nho_nhat(vector_a) có tham số\n",
        "đầu vào là 1 vector a và giá trị trả về là giá trị phần tử nhỏ nhất của vector này. Áp dụng hàm này\n",
        "theo từng cột của ma trận A ở Câu 1 và xuất kết quả ra màn hình."
      ],
      "metadata": {
        "id": "n4Krs0rVmP6C"
      }
    },
    {
      "cell_type": "code",
      "source": [
        "def GTNN(vec_b):\n",
        "  return np.min(vec_b)\n",
        "print(\"GTNN: \\n\", np.apply_along_axis(GTNN, 0,A))"
      ],
      "metadata": {
        "colab": {
          "base_uri": "https://localhost:8080/"
        },
        "id": "KGfJXH9SmS-W",
        "outputId": "5691fee9-ed1e-4861-9191-6a0667ebc814"
      },
      "execution_count": 4,
      "outputs": [
        {
          "output_type": "stream",
          "name": "stdout",
          "text": [
            "GTNN: \n",
            " [1 2 3 5 0 1 1 1 6 1 0 1 3 3 5 0 0]\n"
          ]
        }
      ]
    },
    {
      "cell_type": "markdown",
      "source": [
        "5: Xây dựng hàm tìm giá trị lớn nhất có tên là tinh_tong(vector_a) có tham số đầu vào là 1\n",
        "vector a và giá trị trả về là tổng các phần tử của vector này. Áp dụng hàm này theo từng hàng của\n",
        "ma trận A ở Câu 1 và xuất kết quả ra màn hình."
      ],
      "metadata": {
        "id": "DQUhOMv7mobI"
      }
    },
    {
      "cell_type": "code",
      "source": [
        "def Tong(vec_c):\n",
        "  return np.sum(vec_c)\n",
        "print(\"Tong: \\n\", np.apply_along_axis(Tong, 1,A))"
      ],
      "metadata": {
        "colab": {
          "base_uri": "https://localhost:8080/"
        },
        "id": "xczj47Zemrd4",
        "outputId": "d893c596-dbba-46c6-cee2-8a4d26e86bed"
      },
      "execution_count": 5,
      "outputs": [
        {
          "output_type": "stream",
          "name": "stdout",
          "text": [
            "Tong: \n",
            " [321 281 185 243 197 257 249 256 213 276 239 240 231 296 235]\n"
          ]
        }
      ]
    },
    {
      "cell_type": "markdown",
      "source": [
        "6: Xây dựng hàm tìm giá trị lớn nhất có tên là tinh_tong_2(vector_a) có tham số đầu vào là\n",
        "1 vector a và giá trị trả về là tổng các phần tử có chỉ số lẻ (1 – 3 – 5 , .v.v.) của vector này. Áp\n",
        "dụng hàm này theo từng cột của ma trận A ở Câu 1 và xuất kết quả ra màn hình. Tiếp tục áp dụng\n",
        "hàm này theo từng hàng của ma trận A kể trên và xuất kết quả ra màn hình."
      ],
      "metadata": {
        "id": "OuNedFjRnD0n"
      }
    },
    {
      "cell_type": "code",
      "source": [
        "def TongCong(vec_d):\n",
        "  s = 0\n",
        "  for i in range(len(vec_d)):\n",
        "    if (i % 2 !=0):\n",
        "      s += vec_d[i]\n",
        "  return s\n",
        "print(\"list tong gia tri le cua hang: \\n\", np.apply_along_axis(TongCong, 1,A))"
      ],
      "metadata": {
        "colab": {
          "base_uri": "https://localhost:8080/"
        },
        "id": "IDKTuUd0nGdw",
        "outputId": "0218ced3-743f-422b-bbe4-36765bf86e82"
      },
      "execution_count": 6,
      "outputs": [
        {
          "output_type": "stream",
          "name": "stdout",
          "text": [
            "list tong gia tri le cua hang: \n",
            " [142 113  98 116  86 110 108 115 108 117 129  91 121 142 110]\n"
          ]
        }
      ]
    }
  ]
}