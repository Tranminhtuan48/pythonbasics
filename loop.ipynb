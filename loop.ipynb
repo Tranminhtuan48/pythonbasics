{
  "nbformat": 4,
  "nbformat_minor": 0,
  "metadata": {
    "colab": {
      "name": "loop.ipynb",
      "provenance": [],
      "authorship_tag": "ABX9TyMUHnEbdHeRmuhusJ0gpVV4",
      "include_colab_link": true
    },
    "kernelspec": {
      "name": "python3",
      "display_name": "Python 3"
    },
    "language_info": {
      "name": "python"
    }
  },
  "cells": [
    {
      "cell_type": "markdown",
      "metadata": {
        "id": "view-in-github",
        "colab_type": "text"
      },
      "source": [
        "<a href=\"https://colab.research.google.com/github/Tranminhtuan48/pythonbasics/blob/main/loop.ipynb\" target=\"_parent\"><img src=\"https://colab.research.google.com/assets/colab-badge.svg\" alt=\"Open In Colab\"/></a>"
      ]
    },
    {
      "cell_type": "code",
      "metadata": {
        "colab": {
          "base_uri": "https://localhost:8080/"
        },
        "id": "rjXdZ-wZEcb6",
        "outputId": "d1edc260-4919-47be-b24c-35128cc4f44c"
      },
      "source": [
        "1.\n",
        "i = 1\n",
        "while(i<=10):\n",
        "    print(i)\n",
        "    i += 1"
      ],
      "execution_count": 5,
      "outputs": [
        {
          "output_type": "stream",
          "name": "stdout",
          "text": [
            "1\n",
            "2\n",
            "3\n",
            "4\n",
            "5\n",
            "6\n",
            "7\n",
            "8\n",
            "9\n",
            "10\n"
          ]
        }
      ]
    },
    {
      "cell_type": "code",
      "metadata": {
        "colab": {
          "base_uri": "https://localhost:8080/"
        },
        "id": "IX6LNTwjRM9M",
        "outputId": "18bc6161-aebd-47ff-d492-55bc067077e8"
      },
      "source": [
        "2.\n",
        "rows = 5\n",
        "for i in range(rows,0,-1):\n",
        "    for j in range(i,0,-1):\n",
        "        print(j, end=' ')\n",
        "    print(\"\\r\")"
      ],
      "execution_count": 67,
      "outputs": [
        {
          "output_type": "stream",
          "name": "stdout",
          "text": [
            "5 4 3 2 1 \r\n",
            "4 3 2 1 \r\n",
            "3 2 1 \r\n",
            "2 1 \r\n",
            "1 \r\n"
          ]
        }
      ]
    },
    {
      "cell_type": "code",
      "metadata": {
        "colab": {
          "base_uri": "https://localhost:8080/"
        },
        "id": "8t-shqgQSFXa",
        "outputId": "50bb5da5-c10b-4848-965e-4558cb37acad"
      },
      "source": [
        "3.\n",
        "def getSum(n):  \n",
        "    sum = 0\n",
        "    for digit in str(n): \n",
        "      sum += int(digit)      \n",
        "    return sum\n",
        "   \n",
        "n=input()\n",
        "print(getSum(n))"
      ],
      "execution_count": 36,
      "outputs": [
        {
          "output_type": "stream",
          "name": "stdout",
          "text": [
            "1234567\n",
            "28\n"
          ]
        }
      ]
    },
    {
      "cell_type": "code",
      "metadata": {
        "colab": {
          "base_uri": "https://localhost:8080/"
        },
        "id": "PauIoOhVSmnD",
        "outputId": "ff032304-5c63-4c9e-ef86-65ca9432b752"
      },
      "source": [
        "n = int(input(\"Nhap so: \"))\n",
        "sum = 0\n",
        "for num in range(1, n + 1, 1):\n",
        "    sum = sum + num\n",
        "print(\"Tong la: \", sum)"
      ],
      "execution_count": 77,
      "outputs": [
        {
          "output_type": "stream",
          "name": "stdout",
          "text": [
            "Nhap so: 4\n",
            "Tong la:  10\n"
          ]
        }
      ]
    },
    {
      "cell_type": "code",
      "metadata": {
        "colab": {
          "base_uri": "https://localhost:8080/"
        },
        "id": "HWuhCQvHTAAp",
        "outputId": "ce5d941a-3e1c-47ac-f558-bf247363b3cf"
      },
      "source": [
        "4.\n",
        "num = int(input())\n",
        "for i in range(1, 11):\n",
        "   print(num, 'x', i, '=', num * i)"
      ],
      "execution_count": 44,
      "outputs": [
        {
          "output_type": "stream",
          "name": "stdout",
          "text": [
            "2\n",
            "2 x 1 = 2\n",
            "2 x 2 = 4\n",
            "2 x 3 = 6\n",
            "2 x 4 = 8\n",
            "2 x 5 = 10\n",
            "2 x 6 = 12\n",
            "2 x 7 = 14\n",
            "2 x 8 = 16\n",
            "2 x 9 = 18\n",
            "2 x 10 = 20\n"
          ]
        }
      ]
    },
    {
      "cell_type": "code",
      "metadata": {
        "colab": {
          "base_uri": "https://localhost:8080/"
        },
        "id": "8dCP3fBaUbb7",
        "outputId": "70113e80-5369-46b2-96f8-3dcad6d8189a"
      },
      "source": [
        "5.\n",
        "a = input([])\n",
        "for x in range(len(a)):\n",
        "    print (a[x])"
      ],
      "execution_count": 51,
      "outputs": [
        {
          "output_type": "stream",
          "name": "stdout",
          "text": [
            "12345\n",
            "1\n",
            "2\n",
            "3\n",
            "4\n",
            "5\n"
          ]
        }
      ]
    },
    {
      "cell_type": "code",
      "metadata": {
        "colab": {
          "base_uri": "https://localhost:8080/"
        },
        "id": "EZFS6-utVasw",
        "outputId": "56efdcd5-dbd5-40e0-9592-bad6e93fe32d"
      },
      "source": [
        "n=int(input(\"Nhap so: \"))\n",
        "count=0\n",
        "while(n>0):\n",
        "    count=count+1\n",
        "    n=n//10\n",
        "print(\"Tong cacs chu so:\",count)"
      ],
      "execution_count": 52,
      "outputs": [
        {
          "output_type": "stream",
          "name": "stdout",
          "text": [
            "Enter number:456\n",
            "The number of digits in the number are: 3\n"
          ]
        }
      ]
    },
    {
      "cell_type": "code",
      "metadata": {
        "colab": {
          "base_uri": "https://localhost:8080/"
        },
        "id": "qiR0ieVGWKFW",
        "outputId": "24073c10-ee1e-4c21-d898-080c8f118b30"
      },
      "source": [
        "A=[1,2,3,4,5]\n",
        "for i in reversed(A) :\n",
        "    print(i)"
      ],
      "execution_count": 53,
      "outputs": [
        {
          "output_type": "stream",
          "name": "stdout",
          "text": [
            "5\n",
            "4\n",
            "3\n",
            "2\n",
            "1\n"
          ]
        }
      ]
    },
    {
      "cell_type": "code",
      "metadata": {
        "colab": {
          "base_uri": "https://localhost:8080/"
        },
        "id": "0lLeQ_UoWodd",
        "outputId": "7219757a-2674-48fd-eef2-09abc8bbd52b"
      },
      "source": [
        "x=[-10,-9,-8,-7,-6,-5,-4,-3,-2,-1]\n",
        "for i in x:\n",
        "  print (i)"
      ],
      "execution_count": 54,
      "outputs": [
        {
          "output_type": "stream",
          "name": "stdout",
          "text": [
            "-10\n",
            "-9\n",
            "-8\n",
            "-7\n",
            "-6\n",
            "-5\n",
            "-4\n",
            "-3\n",
            "-2\n",
            "-1\n"
          ]
        }
      ]
    },
    {
      "cell_type": "code",
      "metadata": {
        "colab": {
          "base_uri": "https://localhost:8080/"
        },
        "id": "YYTTRmEGXPUb",
        "outputId": "0f1580a3-ab2f-44a2-c6e0-e1c845260f86"
      },
      "source": [
        "lower = int(input(\"nhap khoang duoi: \"))  \n",
        "upper = int(input(\"nhap khoang tren: \"))  \n",
        "for num in range(lower,upper + 1):  \n",
        "   if num > 1:  \n",
        "       for i in range(2,num):  \n",
        "           if (num % i) == 0:  \n",
        "               break  \n",
        "       else:  \n",
        "           print(num)  "
      ],
      "execution_count": 60,
      "outputs": [
        {
          "output_type": "stream",
          "name": "stdout",
          "text": [
            "nhap khoang duoi: 0\n",
            "nhap khoang tren: 70\n",
            "2\n",
            "3\n",
            "5\n",
            "7\n",
            "11\n",
            "13\n",
            "17\n",
            "19\n",
            "23\n",
            "29\n",
            "31\n",
            "37\n",
            "41\n",
            "43\n",
            "47\n",
            "53\n",
            "59\n",
            "61\n",
            "67\n"
          ]
        }
      ]
    },
    {
      "cell_type": "code",
      "metadata": {
        "colab": {
          "base_uri": "https://localhost:8080/"
        },
        "id": "6Q6jikcrYwF7",
        "outputId": "bd0378bd-f494-4f52-faa3-158d44ba0b98"
      },
      "source": [
        "n = int(input(\"So khoang\"))\n",
        "n1, n2 = 0, 1\n",
        "count = 0\n",
        "if nterms <= 0:\n",
        "   print(\"nhap mot so\")\n",
        "elif nterms == 1:\n",
        "   print(\"Fibonacci chay den\",n,\":\")\n",
        "   print(n1)\n",
        "else:\n",
        "   print(\"Day Fibonacci:\")\n",
        "   while count < n:\n",
        "       print(n1)\n",
        "       nth = n1 + n2\n",
        "       n1 = n2\n",
        "       n2 = nth\n",
        "       count += 1"
      ],
      "execution_count": 66,
      "outputs": [
        {
          "output_type": "stream",
          "name": "stdout",
          "text": [
            "So khoang10\n",
            "Day Fibonacci:\n",
            "0\n",
            "1\n",
            "1\n",
            "2\n",
            "3\n",
            "5\n",
            "8\n",
            "13\n",
            "21\n",
            "34\n"
          ]
        }
      ]
    },
    {
      "cell_type": "code",
      "metadata": {
        "colab": {
          "base_uri": "https://localhost:8080/"
        },
        "id": "lprYfxqvaljS",
        "outputId": "a4790c95-1d92-44a8-f94a-b50a0c919ef3"
      },
      "source": [
        "num= int(input(\"number: \"))\n",
        "factorial = 1\n",
        "if num < 0:\n",
        "   print(\"nhap sai\")\n",
        "elif num == 0:\n",
        "   print(\"The factorial of 0 is 1\")\n",
        "else:\n",
        "   for i in range(1,num + 1):\n",
        "       factorial = factorial*i\n",
        "   print(\"The factorial of\",num,\"is\",factorial)"
      ],
      "execution_count": 71,
      "outputs": [
        {
          "output_type": "stream",
          "name": "stdout",
          "text": [
            "nhap so: 7\n",
            "The factorial of 7 is 5040\n"
          ]
        }
      ]
    },
    {
      "cell_type": "code",
      "metadata": {
        "colab": {
          "base_uri": "https://localhost:8080/"
        },
        "id": "8pMfqAsRciLW",
        "outputId": "c82db484-b64a-45e8-918a-4661d45b4beb"
      },
      "source": [
        "n=int(input(\"nhap so: \"))\n",
        "reverse=0\n",
        "while(n>0):\n",
        "    dig=n%10\n",
        "    reverse=reverse*10+dig\n",
        "    n=n//10\n",
        "print(\"So dao nguoc:\",reverse)"
      ],
      "execution_count": 72,
      "outputs": [
        {
          "output_type": "stream",
          "name": "stdout",
          "text": [
            "nhap so: 456789\n",
            "So dao nguoc: 987654\n"
          ]
        }
      ]
    },
    {
      "cell_type": "code",
      "metadata": {
        "colab": {
          "base_uri": "https://localhost:8080/"
        },
        "id": "kD8wpF7PdS6B",
        "outputId": "5f9ce552-27fd-4b2a-b32c-1e3ebf8fd1d4"
      },
      "source": [
        "list = [31, 13, 34, 85, 0, 99, 1, 3]\n",
        "print(\"list la :\")\n",
        "print(list)\n",
        "print(\"Cac so le la: \")\n",
        "for i in range(1, len(list), 2):\n",
        "   print(list[i])"
      ],
      "execution_count": 75,
      "outputs": [
        {
          "output_type": "stream",
          "name": "stdout",
          "text": [
            "list la :\n",
            "[31, 13, 34, 85, 0, 99, 1, 3]\n",
            "Cac so le la: \n",
            "13\n",
            "85\n",
            "99\n",
            "3\n"
          ]
        }
      ]
    },
    {
      "cell_type": "code",
      "metadata": {
        "colab": {
          "base_uri": "https://localhost:8080/"
        },
        "id": "1NpYKQz7eKTw",
        "outputId": "e5be9525-9c1a-411b-aacd-16a33f705521"
      },
      "source": [
        "def cube(x):\n",
        "    return x * x * x\n",
        "n = int(input(\" Nhap so: \"))\n",
        "cube1 = cube(n)\n",
        "print(\"Lap phuong cua {0}  = {1}\".format(n, cube1))"
      ],
      "execution_count": 78,
      "outputs": [
        {
          "output_type": "stream",
          "name": "stdout",
          "text": [
            " Nhap so: 7\n",
            "Lap phuong cua 7  = 343\n"
          ]
        }
      ]
    }
  ]
}