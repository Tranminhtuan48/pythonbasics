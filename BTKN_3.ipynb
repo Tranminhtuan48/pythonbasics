{
  "nbformat": 4,
  "nbformat_minor": 0,
  "metadata": {
    "colab": {
      "provenance": [],
      "authorship_tag": "ABX9TyNVdZVjnmuTQBEXSm1QkyC0",
      "include_colab_link": true
    },
    "kernelspec": {
      "name": "python3",
      "display_name": "Python 3"
    },
    "language_info": {
      "name": "python"
    }
  },
  "cells": [
    {
      "cell_type": "markdown",
      "metadata": {
        "id": "view-in-github",
        "colab_type": "text"
      },
      "source": [
        "<a href=\"https://colab.research.google.com/github/Tranminhtuan48/pythonbasics/blob/main/BTKN_3.ipynb\" target=\"_parent\"><img src=\"https://colab.research.google.com/assets/colab-badge.svg\" alt=\"Open In Colab\"/></a>"
      ]
    },
    {
      "cell_type": "code",
      "execution_count": 3,
      "metadata": {
        "id": "1Z_DGsuM2sd6"
      },
      "outputs": [],
      "source": [
        "import numpy as np\n",
        "from sklearn.metrics import top_k_accuracy_score\n",
        "from sklearn.metrics import confusion_matrix\n",
        "from sklearn.metrics import balanced_accuracy_score\n",
        "from sklearn.metrics import precision_score\n",
        "from sklearn.metrics import recall_score\n",
        "from sklearn.metrics import f1_score\n",
        "from sklearn.metrics import hamming_loss"
      ]
    },
    {
      "cell_type": "markdown",
      "source": [
        "Top k accuracy score"
      ],
      "metadata": {
        "id": "4S7wCaEw3BkR"
      }
    },
    {
      "cell_type": "code",
      "source": [
        "#Func\n",
        "def top_k_accuracy_score2(y_test, y_score, k):\n",
        "  sorted_index = np.argsort(y_score, axis=1)[:, ::-1]\n",
        "  top_k = sorted_index[:, :k].T\n",
        "  result = np.sum(y_test == top_k)\n",
        "  return result"
      ],
      "metadata": {
        "id": "irOW311G3Agf"
      },
      "execution_count": 1,
      "outputs": []
    },
    {
      "cell_type": "code",
      "source": [
        "#SK\n",
        "y_test = np.array([0, 1, 2, 2])\n",
        "y_score = np.array([[0.5, 0.2, 0.2], \n",
        "                    [0.3, 0.6, 0.2],\n",
        "                    [0.2, 0.6, 0.3],\n",
        "                    [0.7, 0.2, 0.7]])\n",
        "print(top_k_accuracy_score(y_test, y_score, k=2, normalize=False))\n",
        "print(top_k_accuracy_score2(y_test, y_score, 2))"
      ],
      "metadata": {
        "colab": {
          "base_uri": "https://localhost:8080/"
        },
        "id": "BVSsRxJE215J",
        "outputId": "5a8847ae-486b-44c8-88f1-154f696c5e3f"
      },
      "execution_count": 4,
      "outputs": [
        {
          "output_type": "stream",
          "name": "stdout",
          "text": [
            "4\n",
            "4\n"
          ]
        }
      ]
    },
    {
      "cell_type": "markdown",
      "source": [
        "Confusion matrix"
      ],
      "metadata": {
        "id": "1Wf20CAw3fN_"
      }
    },
    {
      "cell_type": "code",
      "source": [
        "#Func\n",
        "def confusion_matrix2(y_test, y_pred):\n",
        "  y_test = np.array(y_test)\n",
        "  y_pred = np.array(y_pred)\n",
        "  class_num = np.unique(y_test).shape[0]\n",
        "  result = np.zeros((class_num, class_num))\n",
        "  n = y_test.shape[0]\n",
        "  for i in range(n):\n",
        "    result[y_test[i], y_pred[i]] += 1\n",
        "  return result"
      ],
      "metadata": {
        "id": "xIpncATc3jKY"
      },
      "execution_count": 5,
      "outputs": []
    },
    {
      "cell_type": "code",
      "source": [
        "#SK\n",
        "from sklearn.metrics import confusion_matrix\n",
        "y_test = [1, 0, 0, 1, 1, 1, 1, 1]\n",
        "y_pred = [1, 1, 0, 1, 0, 1, 0, 1]\n",
        "print(confusion_matrix(y_test, y_pred))\n",
        "print(confusion_matrix2(y_test, y_pred))"
      ],
      "metadata": {
        "colab": {
          "base_uri": "https://localhost:8080/"
        },
        "id": "m8GnHmpv3jSn",
        "outputId": "69ab7dce-6e35-4784-ed25-be9f926fb701"
      },
      "execution_count": 6,
      "outputs": [
        {
          "output_type": "stream",
          "name": "stdout",
          "text": [
            "[[1 1]\n",
            " [2 4]]\n",
            "[[1. 1.]\n",
            " [2. 4.]]\n"
          ]
        }
      ]
    },
    {
      "cell_type": "markdown",
      "source": [
        "Balanced accuracy"
      ],
      "metadata": {
        "id": "JSqeASWg3s_U"
      }
    },
    {
      "cell_type": "code",
      "source": [
        "#Func\n",
        "def true_negative_rate(y_test, y_pred, positive=None):\n",
        "  cm = confusion_matrix2(y_test, y_pred)\n",
        "  sum_cross = np.sum(cm.diagonal())\n",
        "  if positive:\n",
        "    tp = cm[positive,positive]\n",
        "    tn = sum_cross - tp\n",
        "    fp = np.sum(cm[:,positive]) - tp\n",
        "    return tn/(tn+fp)\n",
        "  else:\n",
        "    class_num = np.unique(y_test).shape[0]\n",
        "    result = []\n",
        "    for i in range(class_num):\n",
        "      tp = cm[i,i]\n",
        "      tn = sum_cross - tp\n",
        "      fp = np.sum(cm[:,i]) - tp\n",
        "      result.append(tn/(tn+fp))\n",
        "    return np.array(result)\n",
        "def balanced_accuracy_score2(y_test, y_pred, positive=None):\n",
        "  temp1 = recall_score2(y_test, y_pred, positive)\n",
        "  temp2 = true_negative_rate(y_test, y_pred, positive)\n",
        "  return 1/2 * (temp1 + temp2)"
      ],
      "metadata": {
        "id": "A8r2M5O-3xQ2"
      },
      "execution_count": 7,
      "outputs": []
    },
    {
      "cell_type": "code",
      "source": [
        "#SK\n",
        "from sklearn.metrics import balanced_accuracy_score\n",
        "y_test = [1, 1, 0, 0, 1, 0]\n",
        "y_pred = [1, 1, 0, 0, 0, 1]\n",
        "print(balanced_accuracy_score(y_test, y_pred))\n",
        "print(balanced_accuracy_score2(y_test, y_pred, 1))"
      ],
      "metadata": {
        "id": "1ZgzZLD_35X6"
      },
      "execution_count": null,
      "outputs": []
    },
    {
      "cell_type": "markdown",
      "source": [
        "Precision"
      ],
      "metadata": {
        "id": "ppcVs2Fs38__"
      }
    },
    {
      "cell_type": "code",
      "source": [
        "#Func\n",
        "def precision_score2(y_test, y_pred, positive = None):\n",
        "  cm = confusion_matrix2(y_test, y_pred)\n",
        "  if positive:\n",
        "    return cm[positive,positive]/np.sum(cm[:, positive])\n",
        "  else:\n",
        "    class_num = np.unique(y_test).shape[0]\n",
        "    result = []\n",
        "    for i in range(class_num):\n",
        "      result.append(cm[i,i]/np.sum(cm[:, i]))\n",
        "    return np.array(result)"
      ],
      "metadata": {
        "id": "L0i_GrVI3-9T"
      },
      "execution_count": 11,
      "outputs": []
    },
    {
      "cell_type": "code",
      "source": [
        "#SK\n",
        "y_test = [1, 0, 0, 1, 1, 1, 1, 1]\n",
        "y_pred = [1, 1, 0, 1, 0, 1, 0, 1]\n",
        "print(precision_score(y_test, y_pred))\n",
        "print(precision_score2(y_test, y_pred, 1))"
      ],
      "metadata": {
        "colab": {
          "base_uri": "https://localhost:8080/"
        },
        "id": "jGF1uQgU4CeH",
        "outputId": "ac0adc80-3a53-4bd3-c363-c1318b2924ed"
      },
      "execution_count": 12,
      "outputs": [
        {
          "output_type": "stream",
          "name": "stdout",
          "text": [
            "0.8\n",
            "0.8\n"
          ]
        }
      ]
    },
    {
      "cell_type": "markdown",
      "source": [
        "Recall"
      ],
      "metadata": {
        "id": "N2LaA7N34GcM"
      }
    },
    {
      "cell_type": "code",
      "source": [
        "#Func\n",
        "def recall_score2(y_test, y_pred, positive=None):\n",
        "  cm = confusion_matrix2(y_test, y_pred)\n",
        "  if positive:\n",
        "    return cm[positive,positive]/np.sum(cm[positive])\n",
        "  else:\n",
        "    class_num = np.unique(y_test).shape[0]\n",
        "    result = []\n",
        "    for i in range(class_num):\n",
        "      result.append(cm[i,i]/np.sum(cm[i]))\n",
        "    return np.array(result)"
      ],
      "metadata": {
        "id": "nMj8IPIg4I30"
      },
      "execution_count": 13,
      "outputs": []
    },
    {
      "cell_type": "code",
      "source": [
        "#SK\n",
        "y_test = [1, 0, 0, 1, 1, 1, 1, 1]\n",
        "y_pred = [1, 1, 0, 1, 0, 1, 0, 1]\n",
        "print(recall_score(y_test, y_pred))\n",
        "print(recall_score2(y_test, y_pred, 1))"
      ],
      "metadata": {
        "colab": {
          "base_uri": "https://localhost:8080/"
        },
        "id": "40hoqqdO4MBo",
        "outputId": "e5061407-1563-49c1-a539-a2748d6e1e20"
      },
      "execution_count": 14,
      "outputs": [
        {
          "output_type": "stream",
          "name": "stdout",
          "text": [
            "0.6666666666666666\n",
            "0.6666666666666666\n"
          ]
        }
      ]
    },
    {
      "cell_type": "markdown",
      "source": [
        "F-1 (F-Measure)"
      ],
      "metadata": {
        "id": "9V-8D_QH4Ppi"
      }
    },
    {
      "cell_type": "code",
      "source": [
        "#Func\n",
        "def f1_score2(y_test, y_pred, positive=None):\n",
        "  precision = precision_score2(y_test, y_pred, positive)\n",
        "  recall = recall_score2(y_test, y_pred, positive)\n",
        "  result = 2 * (precision * recall) / (precision + recall)\n",
        "  return result"
      ],
      "metadata": {
        "id": "XXWC9eOe4UKR"
      },
      "execution_count": 15,
      "outputs": []
    },
    {
      "cell_type": "code",
      "source": [
        "#SK\n",
        "from sklearn.metrics import f1_score\n",
        "y_test = [1, 0, 0, 1, 1, 1, 1, 1]\n",
        "y_pred = [1, 1, 0, 1, 0, 1, 0, 1]\n",
        "print(f1_score(y_test, y_pred))\n",
        "print(f1_score2(y_test, y_pred, 1))"
      ],
      "metadata": {
        "colab": {
          "base_uri": "https://localhost:8080/"
        },
        "id": "TpCc167_4aDR",
        "outputId": "4d921bf6-0131-4010-dd28-33b8a7ee47cf"
      },
      "execution_count": 16,
      "outputs": [
        {
          "output_type": "stream",
          "name": "stdout",
          "text": [
            "0.7272727272727272\n",
            "0.7272727272727272\n"
          ]
        }
      ]
    }
  ]
}