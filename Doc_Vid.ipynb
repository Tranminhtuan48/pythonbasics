{
  "nbformat": 4,
  "nbformat_minor": 0,
  "metadata": {
    "colab": {
      "provenance": [],
      "authorship_tag": "ABX9TyPWrSUZMhHB5A+Mgp/pNgZu",
      "include_colab_link": true
    },
    "kernelspec": {
      "name": "python3",
      "display_name": "Python 3"
    },
    "language_info": {
      "name": "python"
    }
  },
  "cells": [
    {
      "cell_type": "markdown",
      "metadata": {
        "id": "view-in-github",
        "colab_type": "text"
      },
      "source": [
        "<a href=\"https://colab.research.google.com/github/Tranminhtuan48/pythonbasics/blob/main/Doc_Vid.ipynb\" target=\"_parent\"><img src=\"https://colab.research.google.com/assets/colab-badge.svg\" alt=\"Open In Colab\"/></a>"
      ]
    },
    {
      "cell_type": "code",
      "execution_count": 1,
      "metadata": {
        "id": "_wSTG_0Yksag"
      },
      "outputs": [],
      "source": [
        "import cv2 as cv\n",
        "import numpy as np"
      ]
    },
    {
      "cell_type": "code",
      "source": [
        "def mp4vid():\n",
        "    capture = cv.VideoCapture('sasuke.mp4')\n",
        "    video_tensor = []\n",
        "    while True:\n",
        "        ret, frame = capture.read()\n",
        "        if ret == True:\n",
        "            video_tensor.append(frame.tolist())\n",
        "        else:\n",
        "            break\n",
        "    video_tensor = np.array(video_tensor)\n",
        "    print(video_tensor.shape)"
      ],
      "metadata": {
        "id": "VTicEjsQk0aL"
      },
      "execution_count": 5,
      "outputs": []
    }
  ]
}