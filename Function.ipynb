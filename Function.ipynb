{
  "nbformat": 4,
  "nbformat_minor": 0,
  "metadata": {
    "colab": {
      "name": "Functionipynb",
      "provenance": [],
      "authorship_tag": "ABX9TyPfeVfDKXh6uZbkPcapEEuz",
      "include_colab_link": true
    },
    "kernelspec": {
      "name": "python3",
      "display_name": "Python 3"
    },
    "language_info": {
      "name": "python"
    }
  },
  "cells": [
    {
      "cell_type": "markdown",
      "metadata": {
        "id": "view-in-github",
        "colab_type": "text"
      },
      "source": [
        "<a href=\"https://colab.research.google.com/github/Tranminhtuan48/pythonbasics/blob/main/Function.ipynb\" target=\"_parent\"><img src=\"https://colab.research.google.com/assets/colab-badge.svg\" alt=\"Open In Colab\"/></a>"
      ]
    },
    {
      "cell_type": "markdown",
      "metadata": {
        "id": "76DGNHlMuord"
      },
      "source": [
        "Bài 1: Hãy xây dựng một hàm thực hiện các yêu cầu sau:\n",
        "- Xuất ra màn hình câu thông báo: “Lập trình Java 2021”\n",
        "- Hàm không có giá trị trả về"
      ]
    },
    {
      "cell_type": "code",
      "metadata": {
        "colab": {
          "base_uri": "https://localhost:8080/"
        },
        "id": "rZKnauysugPb",
        "outputId": "05f634d3-7bd8-4e9a-b36c-faec1e8cee46"
      },
      "source": [
        "def begin():\n",
        "  print(\"Lập trình java 2021\")\n",
        "begin()"
      ],
      "execution_count": 1,
      "outputs": [
        {
          "output_type": "stream",
          "name": "stdout",
          "text": [
            "Lập trình java 2021\n"
          ]
        }
      ]
    },
    {
      "cell_type": "markdown",
      "metadata": {
        "id": "sgPWvXdpuzU-"
      },
      "source": [
        "Bài 2: Hãy xây dựng một hàm thực hiện các yêu cầu sau:\n",
        "- Nhận một tham số đầu vào là một chuỗi ký tự (kiểu String)\n",
        "- Xuất ra màn hình nội dung chuỗi được truyền vào từ tham số\n",
        "- Hàm không có giá trị trả về"
      ]
    },
    {
      "cell_type": "code",
      "metadata": {
        "id": "PJa6DRqnuxr6"
      },
      "source": [
        "def cstr(thongdiep):\n",
        "    print(thongdiep)"
      ],
      "execution_count": 2,
      "outputs": []
    },
    {
      "cell_type": "code",
      "metadata": {
        "colab": {
          "base_uri": "https://localhost:8080/"
        },
        "id": "DIdTjXvnvMyx",
        "outputId": "ee1ee5a1-7614-48f5-bfb3-c4810538b489"
      },
      "source": [
        "cstr(\"Hello\")"
      ],
      "execution_count": 3,
      "outputs": [
        {
          "output_type": "stream",
          "name": "stdout",
          "text": [
            "Hello\n"
          ]
        }
      ]
    },
    {
      "cell_type": "markdown",
      "metadata": {
        "id": "oGEG88UdvPo5"
      },
      "source": [
        "Bài 3: Hãy viết chương trình thực hiện các yêu cầu sau:\n",
        "- Nhập một số nguyên dương n từ bàn phím (kiểm tra nếu không đạt yêu cầu thì bắt nhập\n",
        "lại)\n",
        "- Nhập một thông điệp từ bàn phím\n",
        "- Gọi thực hiện hàm ở Bài 2 n lần với thông điệp được truyền làm tham số đầu vào của hàm."
      ]
    },
    {
      "cell_type": "code",
      "metadata": {
        "id": "PY0IO9CJvSLk"
      },
      "source": [
        "def mul(message, n):\n",
        "  k=int(input(\"Nhap so nguyen duong: \"))\n",
        "  if k>0:\n",
        "    print(k)\n",
        "  else:\n",
        "    print(\"Nhap lai\")\n",
        "\n",
        "  for i in range(0, n):\n",
        "    print(message)"
      ],
      "execution_count": 4,
      "outputs": []
    },
    {
      "cell_type": "code",
      "metadata": {
        "colab": {
          "base_uri": "https://localhost:8080/"
        },
        "id": "T-xMtQcrvWH6",
        "outputId": "1c015537-c3c5-4a32-98b8-194f854db8fe"
      },
      "source": [
        "mul(\"Hello\",5)"
      ],
      "execution_count": 5,
      "outputs": [
        {
          "output_type": "stream",
          "name": "stdout",
          "text": [
            "Nhap so nguyen duong: 7\n",
            "7\n",
            "Hello\n",
            "Hello\n",
            "Hello\n",
            "Hello\n",
            "Hello\n"
          ]
        }
      ]
    },
    {
      "cell_type": "markdown",
      "metadata": {
        "id": "BBOOjSPCvdVu"
      },
      "source": [
        "Bài 4: Hãy viết chương trình thực hiện các yêu cầu sau:\n",
        "- Xây dựng hàm giải phương trình bậc 1 (ax + b = 0), với hệ số a & b được truyền vào qua\n",
        "thông số của hàm.\n",
        "- Chương trình chính nhận các thông số a, b từ bàn phím\n",
        "- Chương trình chính gọi hàm giải phương trình bậc 1 nêu trên"
      ]
    },
    {
      "cell_type": "code",
      "metadata": {
        "id": "Pt9cN-X7veJZ"
      },
      "source": [
        "def ptb1(a,b):\n",
        "  print (\"Nghiem la: \")\n",
        "  if a==0:\n",
        "    if b==0:\n",
        "      print(\"Phuong Trinh Vo Nghiem\")\n",
        "    else:\n",
        "      print(\"Phuong trinh Vo So Nghiem\")\n",
        "  else:\n",
        "    x= -b/a\n",
        "  print (x)"
      ],
      "execution_count": 6,
      "outputs": []
    },
    {
      "cell_type": "code",
      "metadata": {
        "colab": {
          "base_uri": "https://localhost:8080/"
        },
        "id": "3ElwwFcnvgqM",
        "outputId": "f2c888d1-b345-42b0-b661-c3affa342e1c"
      },
      "source": [
        "ptb1(2,3)"
      ],
      "execution_count": 7,
      "outputs": [
        {
          "output_type": "stream",
          "name": "stdout",
          "text": [
            "Nghiem la: \n",
            "-1.5\n"
          ]
        }
      ]
    },
    {
      "cell_type": "markdown",
      "metadata": {
        "id": "PCdQ7eozvlKv"
      },
      "source": [
        "Bài 5: Hãy viết chương trình thực hiện các yêu cầu sau:\n",
        "- Xây dựng hàm giải phương trình bậc (ax2 + bx + c = 0), với hệ số a & b & c được truyền\n",
        "vào qua thông số của hàm.\n",
        "- Chương trình chính nhận các thông số a, b & c từ bàn phím\n",
        "- Chương trình chính gọi hàm giải phương trình bậc 2 nêu trên"
      ]
    },
    {
      "cell_type": "code",
      "metadata": {
        "id": "aJa8N0BkvlZz"
      },
      "source": [
        "def ptb2(a,b,c):\n",
        "  print (\"Nghiem la: \")\n",
        "  from math import sqrt\n",
        "  if a==0:\n",
        "    print(\"Day la phuong trinh bac 1\")\n",
        "    if b==0:\n",
        "      if c==0:\n",
        "        print(\"Phuong Trinh Vo Nghiem\")\n",
        "      else:\n",
        "        print(\"Phuong trinh Vo So Nghiem\")\n",
        "    else:\n",
        "      k= -b/c\n",
        "      print (k)\n",
        "\n",
        "  else:\n",
        "    d=b*b-4*a*c\n",
        "    if d>=0:\n",
        "      x1=(-b+sqrt(d)/2*a)\n",
        "      x2=(-b-sqrt(d)/2*a)\n",
        "      print(x1)\n",
        "      print(x2)\n",
        "      return x1,x2\n",
        "    else:\n",
        "      print(\"Phuong trinh vo nghiem\")"
      ],
      "execution_count": 8,
      "outputs": []
    },
    {
      "cell_type": "code",
      "metadata": {
        "colab": {
          "base_uri": "https://localhost:8080/"
        },
        "id": "Ud8VnUP6vpMv",
        "outputId": "e538021d-27a8-491b-bdd5-2c35f6c28241"
      },
      "source": [
        "ptb2(2,6,3)"
      ],
      "execution_count": 9,
      "outputs": [
        {
          "output_type": "stream",
          "name": "stdout",
          "text": [
            "Nghiem la: \n",
            "-2.5358983848622456\n",
            "-9.464101615137753\n"
          ]
        },
        {
          "output_type": "execute_result",
          "data": {
            "text/plain": [
              "(-2.5358983848622456, -9.464101615137753)"
            ]
          },
          "metadata": {},
          "execution_count": 9
        }
      ]
    },
    {
      "cell_type": "markdown",
      "metadata": {
        "id": "ckq9acRdvsqW"
      },
      "source": [
        "Bài 6: Hãy viết chương trình thực hiện các yêu cầu sau:\n",
        "\n",
        "- Cho người dùng lựa chọn giải phương trình bậc 1 hay bậc 2 bằng cách nhập số (1 hay 2)\n",
        "từ bàn phím\n",
        "- Nếu người dùng chọn giải phương trình bậc 1, thì thực hiện các bước như Bài 4\n",
        "- Nếu người dùng chọn giải phương trình bậc 2, thì thực hiện các bước như Bài 5"
      ]
    },
    {
      "cell_type": "code",
      "metadata": {
        "id": "RmPAibUxvs0g"
      },
      "source": [
        "def choice(t):\n",
        "  if t==1:\n",
        "    a=float(input(\"Nhap so a: \"))\n",
        "    b=float(input(\"Nhap so b: \"))\n",
        "    ptb1(a,b)\n",
        "  elif t==2:\n",
        "    l=float(input(\"Nhap so a: \"))\n",
        "    r=float(input(\"Nhap so b: \"))\n",
        "    s=float(input(\"Nhap so c: \"))\n",
        "    ptb2(l,r,s)"
      ],
      "execution_count": 10,
      "outputs": []
    },
    {
      "cell_type": "code",
      "metadata": {
        "colab": {
          "base_uri": "https://localhost:8080/"
        },
        "id": "UHj75NcUvv-I",
        "outputId": "236747a1-44ca-4aad-e3f6-b926c684d389"
      },
      "source": [
        "choice(1)\n",
        "choice(2)"
      ],
      "execution_count": 12,
      "outputs": [
        {
          "output_type": "stream",
          "name": "stdout",
          "text": [
            "Nhap so a: 5\n",
            "Nhap so b: -10\n",
            "Nghiem la: \n",
            "2.0\n",
            "Nhap so a: 2\n",
            "Nhap so b: 10\n",
            "Nhap so c: 8\n",
            "Nghiem la: \n",
            "-4.0\n",
            "-16.0\n"
          ]
        }
      ]
    },
    {
      "cell_type": "markdown",
      "metadata": {
        "id": "blZDKLKzv94d"
      },
      "source": [
        "Bài 7: Viết chương trình thực hiện các yêu cầu sau:\n",
        "- Thực hiện yêu cầu như bài 6\n",
        "- Sau khi thực hiện xong cho người dùng lựa chọn tiếp tục thực hiện lại hay kết thúc chương trình"
      ]
    },
    {
      "cell_type": "code",
      "metadata": {
        "id": "k6HORaNgv-Dm"
      },
      "source": [
        "def choice(t):\n",
        "  if t==1:\n",
        "    a=float(input(\"Nhap so a: \"))\n",
        "    b=float(input(\"Nhap so b: \"))\n",
        "    ptb1(a,b)\n",
        "  elif t==2:\n",
        "    l=float(input(\"Nhap so a: \"))\n",
        "    r=float(input(\"Nhap so b: \"))\n",
        "    s=float(input(\"Nhap so c: \"))\n",
        "    ptb2(l,r,s)\n",
        "  z=input(\"Again?\" )\n",
        "  if z==\"Yes\":\n",
        "    choice(t)\n",
        "  elif z==\"No\":\n",
        "    print(\"chuong trinh ket thuc\")"
      ],
      "execution_count": 15,
      "outputs": []
    },
    {
      "cell_type": "code",
      "metadata": {
        "colab": {
          "base_uri": "https://localhost:8080/"
        },
        "id": "WjpvWtITwCmY",
        "outputId": "c9c08f07-d8ad-4794-ab2b-c57dbff84dd0"
      },
      "source": [
        "choice(2)"
      ],
      "execution_count": 18,
      "outputs": [
        {
          "output_type": "stream",
          "name": "stdout",
          "text": [
            "Nhap so a: 4\n",
            "Nhap so b: 5\n",
            "Nhap so c: 7\n",
            "Nghiem la: \n",
            "Phuong trinh vo nghiem\n",
            "Again?Yes\n",
            "Nhap so a: 6\n",
            "Nhap so b: 3\n",
            "Nhap so c: 7\n",
            "Nghiem la: \n",
            "Phuong trinh vo nghiem\n",
            "Again?Yes\n",
            "Nhap so a: 2\n",
            "Nhap so b: 10\n",
            "Nhap so c: 8\n",
            "Nghiem la: \n",
            "-4.0\n",
            "-16.0\n",
            "Again?No\n",
            "chuong trinh ket thuc\n"
          ]
        }
      ]
    }
  ]
}