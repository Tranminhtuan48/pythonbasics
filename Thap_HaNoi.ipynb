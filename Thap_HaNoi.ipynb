{
  "nbformat": 4,
  "nbformat_minor": 0,
  "metadata": {
    "colab": {
      "name": "Thap HaNoi.ipynb",
      "provenance": [],
      "collapsed_sections": [],
      "authorship_tag": "ABX9TyPE+p/GL1TXZBIgZf2fAeRM",
      "include_colab_link": true
    },
    "kernelspec": {
      "name": "python3",
      "display_name": "Python 3"
    },
    "language_info": {
      "name": "python"
    }
  },
  "cells": [
    {
      "cell_type": "markdown",
      "metadata": {
        "id": "view-in-github",
        "colab_type": "text"
      },
      "source": [
        "<a href=\"https://colab.research.google.com/github/Tranminhtuan48/pythonbasics/blob/main/Thap_HaNoi.ipynb\" target=\"_parent\"><img src=\"https://colab.research.google.com/assets/colab-badge.svg\" alt=\"Open In Colab\"/></a>"
      ]
    },
    {
      "cell_type": "code",
      "execution_count": 6,
      "metadata": {
        "colab": {
          "base_uri": "https://localhost:8080/"
        },
        "id": "a3pDxCVq7YR4",
        "outputId": "ace11855-81de-499e-fafe-54ae75275a55"
      },
      "outputs": [
        {
          "output_type": "stream",
          "name": "stdout",
          "text": [
            "chuyen coc 1 tu k1 sang k2\n",
            "chuyen banh  2  tu k1 sang  k2\n",
            "chuyen coc 1 tu k2 sang k3\n",
            "chuyen banh  3  tu k1 sang  k3\n",
            "chuyen coc 1 tu k3 sang k1\n",
            "chuyen banh  2  tu k3 sang  k1\n",
            "chuyen coc 1 tu k1 sang k2\n"
          ]
        }
      ],
      "source": [
        "def HALOI(n, k1, k2, k3):\n",
        "  if n==1:\n",
        "    print(\"chuyen coc 1 tu\", k1, \"sang\", k2)\n",
        "    return\n",
        "  HALOI(n-1, k1,k3,k2)\n",
        "  print(\"chuyen banh \", n, \" tu\", k1, \"sang \", k3)\n",
        "  HALOI(n-1, k3,k2,k1)\n",
        "HALOI(3,'k1','k2','k3')"
      ]
    }
  ]
}