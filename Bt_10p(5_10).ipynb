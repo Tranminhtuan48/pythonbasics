{
  "nbformat": 4,
  "nbformat_minor": 0,
  "metadata": {
    "colab": {
      "name": "Bt 10p(5/10).ipynb",
      "provenance": [],
      "authorship_tag": "ABX9TyMTGN7aTdoKTf1Xa0wZC5F7",
      "include_colab_link": true
    },
    "kernelspec": {
      "name": "python3",
      "display_name": "Python 3"
    },
    "language_info": {
      "name": "python"
    }
  },
  "cells": [
    {
      "cell_type": "markdown",
      "metadata": {
        "id": "view-in-github",
        "colab_type": "text"
      },
      "source": [
        "<a href=\"https://colab.research.google.com/github/Tranminhtuan48/pythonbasics/blob/main/Bt_10p(5_10).ipynb\" target=\"_parent\"><img src=\"https://colab.research.google.com/assets/colab-badge.svg\" alt=\"Open In Colab\"/></a>"
      ]
    },
    {
      "cell_type": "code",
      "metadata": {
        "id": "s6c4xP5MkQ1T"
      },
      "source": [
        "print(\"Điểm trung bình\")\n",
        "toan = 0; ly = 0; hoa = 0; van = 0; anh = 0\n",
        "    print(\"điểm Toán: \")\n",
        "    toan = float(input())\n",
        " \n",
        "    print(\"điểm Lý: \")\n",
        "    ly = float(input())\n",
        " \n",
        "    print(\"điểm Hóa: \")\n",
        "    hoa = float(input())\n",
        " \n",
        "    print(\"điểm Văn: \")\n",
        "    van = float(input())\n",
        " \n",
        "    print(\"điểm Anh: \")\n",
        "    anh = float(input())\n",
        "    trungbinh = (toan + ly + hoa + van + anh) / 5\n",
        "    return trungbinh\n",
        "\n",
        "print(\"Điểm trung bình là: \", trungbinh)\n",
        "if (diem < 5):\n",
        "  print(\"yếu\");\n",
        "elif (diem >= 5 and diem < 7):\n",
        "  print(\"trung bình\")\n",
        "elif (diem >= 7 and diem < 9):\n",
        "  print(\"khá\")\n",
        "elif (diem >= 9):\n",
        "  print(\"giỏi\")\n",
        "trungbinh = nhap_diem()\n",
        "in_ket_qua(trungbinh)"
      ],
      "execution_count": null,
      "outputs": []
    }
  ]
}