{
  "nbformat": 4,
  "nbformat_minor": 0,
  "metadata": {
    "colab": {
      "name": "Lặp 14/10.ipynb",
      "provenance": [],
      "authorship_tag": "ABX9TyNN/1nuceJRBEj9pxigbDMN",
      "include_colab_link": true
    },
    "kernelspec": {
      "name": "python3",
      "display_name": "Python 3"
    },
    "language_info": {
      "name": "python"
    }
  },
  "cells": [
    {
      "cell_type": "markdown",
      "metadata": {
        "id": "view-in-github",
        "colab_type": "text"
      },
      "source": [
        "<a href=\"https://colab.research.google.com/github/Tranminhtuan48/pythonbasics/blob/main/L%E1%BA%B7p_14_10.ipynb\" target=\"_parent\"><img src=\"https://colab.research.google.com/assets/colab-badge.svg\" alt=\"Open In Colab\"/></a>"
      ]
    },
    {
      "cell_type": "markdown",
      "metadata": {
        "id": "JMlPbY0Paqk4"
      },
      "source": [
        "1. Write a Python program to find the number of days in a month."
      ]
    },
    {
      "cell_type": "code",
      "metadata": {
        "colab": {
          "base_uri": "https://localhost:8080/"
        },
        "id": "wMGjAnrxaOZ6",
        "outputId": "04135b51-fb43-4f4d-cfc4-b3c86f0088d4"
      },
      "source": [
        "thang = int(input(\"Nhap thang: \"))\n",
        "nam = int(input(\"Nhap nam: \"))\n",
        "if(thang == 1 or thang == 3 or thang == 5 or thang == 7 or thang == 8 or thang == 10 or thang == 12):\n",
        "\tprint(\"So ngay la 31\")\n",
        "elif((thang == 2) and ((nam%400==0) or (nam%4==0 and nam%100!=0))):\t\n",
        "\tprint(\"So ngay la 29\")\n",
        "elif(month == 2):\n",
        "\tprint(\"So ngay la 28\")\n",
        "else:\n",
        "\tprint(\"Do ngay la 30\")"
      ],
      "execution_count": 3,
      "outputs": [
        {
          "output_type": "stream",
          "name": "stdout",
          "text": [
            "Nhap thang: 3\n",
            "Nhap nam: 2014\n",
            "So ngay la 31\n"
          ]
        }
      ]
    },
    {
      "cell_type": "markdown",
      "metadata": {
        "id": "uYnuFvMYb43E"
      },
      "source": [
        "2. Write a Python program that takes the user to provide a single character from the alphabet. Print\n",
        "Vowel or Consonant, depending on the user input. If the user input is not a letter (between a and z\n",
        "or A and Z), or is a string of length > 1, print an error message."
      ]
    },
    {
      "cell_type": "code",
      "metadata": {
        "colab": {
          "base_uri": "https://localhost:8080/"
        },
        "id": "ZsKpVG4tb94l",
        "outputId": "95c2f684-99a4-4010-8214-4305e77479dc"
      },
      "source": [
        "kt=(input(\"Input an alphabet: \"))\n",
        "if len(kt)>1:\n",
        "  print(\"Error\")\n",
        "elif (kt== \"u\" or kt== \"e\" or kt== \"o\" or kt== \"a\" or kt== \"i\"):\n",
        "  print(\"Input letter is Vowel\")\n",
        "else:\n",
        "  print(\"Input letter is Consonant\")"
      ],
      "execution_count": 10,
      "outputs": [
        {
          "output_type": "stream",
          "name": "stdout",
          "text": [
            "Input an alphabet: u\n",
            "Input letter is Vowel\n"
          ]
        }
      ]
    },
    {
      "cell_type": "markdown",
      "metadata": {
        "id": "boWWIybaer7x"
      },
      "source": [
        "Write a Python program that takes a year from user and print whether that year is a leap year or\n",
        "not"
      ]
    },
    {
      "cell_type": "code",
      "metadata": {
        "colab": {
          "base_uri": "https://localhost:8080/"
        },
        "id": "E_U3o_Qve0X-",
        "outputId": "74cd6558-eb96-4f82-facf-b49928df0b9d"
      },
      "source": [
        "nhuan=int(input(\"Nhap so nam: \"))\n",
        "if nhuan%4==0:\n",
        "  print(nhuan,\"la nam nhuan\")\n",
        "else:\n",
        "  print(nhuan,\"khong phai nam nhuan\")"
      ],
      "execution_count": 12,
      "outputs": [
        {
          "output_type": "stream",
          "name": "stdout",
          "text": [
            "Nhap so nam: 2015\n",
            "2015 khong phai nam nhuan\n"
          ]
        }
      ]
    },
    {
      "cell_type": "markdown",
      "metadata": {
        "id": "WsohCFEJgI4F"
      },
      "source": [
        "4. Write a program in Python to input 5 numbers from keyboard and find their sum and average."
      ]
    },
    {
      "cell_type": "code",
      "metadata": {
        "colab": {
          "base_uri": "https://localhost:8080/"
        },
        "id": "Gdc7i7v_gL-l",
        "outputId": "fe266c97-73c8-479c-de87-3669218ffcef"
      },
      "source": [
        "s1= int(input(\"Input the numbers 1: \"))\n",
        "s2= int(input(\"Input the numbers 2: \"))\n",
        "s3= int(input(\"Input the numbers 3: \"))\n",
        "s4= int(input(\"Input the numbers 4: \"))\n",
        "s5= int(input(\"Input the numbers 5: \"))\n",
        "print(\"The Sum of 5 Number: \",s1+s2+s3+s4+s5)\n",
        "print(\"The Average of 5 Numbers: \",(s1+s2+s3+s4+s5)/5)"
      ],
      "execution_count": 15,
      "outputs": [
        {
          "output_type": "stream",
          "name": "stdout",
          "text": [
            "Input the numbers 1: 3\n",
            "Input the numbers 2: 6\n",
            "Input the numbers 3: 7\n",
            "Input the numbers 4: 8\n",
            "Input the numbers 5: 4\n",
            "The Sum of 5 Number:  28\n",
            "The Average of 5 Numbers:  5.6\n"
          ]
        }
      ]
    }
  ]
}