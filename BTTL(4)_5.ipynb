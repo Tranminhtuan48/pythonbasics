{
  "nbformat": 4,
  "nbformat_minor": 0,
  "metadata": {
    "colab": {
      "provenance": [],
      "authorship_tag": "ABX9TyMc4XtHDorZVVdUV6BZNbQF",
      "include_colab_link": true
    },
    "kernelspec": {
      "name": "python3",
      "display_name": "Python 3"
    },
    "language_info": {
      "name": "python"
    }
  },
  "cells": [
    {
      "cell_type": "markdown",
      "metadata": {
        "id": "view-in-github",
        "colab_type": "text"
      },
      "source": [
        "<a href=\"https://colab.research.google.com/github/Tranminhtuan48/pythonbasics/blob/main/BTTL(4)_5.ipynb\" target=\"_parent\"><img src=\"https://colab.research.google.com/assets/colab-badge.svg\" alt=\"Open In Colab\"/></a>"
      ]
    },
    {
      "cell_type": "code",
      "execution_count": 9,
      "metadata": {
        "id": "Xjn-Rz2yH8rT"
      },
      "outputs": [],
      "source": [
        "import os\n",
        "import numpy as np\n",
        "from sklearn.model_selection import train_test_split\n",
        "from sklearn.metrics import mean_squared_error\n",
        "from sklearn.metrics import accuracy_score\n",
        "from sklearn.preprocessing import StandardScaler, MinMaxScaler\n",
        "from sklearn.linear_model import LinearRegression\n",
        "from sklearn.linear_model import LogisticRegression"
      ]
    },
    {
      "cell_type": "code",
      "source": [
        "from google.colab import drive\n",
        "drive.mount('/content/gdrive')"
      ],
      "metadata": {
        "colab": {
          "base_uri": "https://localhost:8080/"
        },
        "id": "UsnCvzoFIQVd",
        "outputId": "960d3595-6329-4cf2-b44d-79aa1f40e1b7"
      },
      "execution_count": 2,
      "outputs": [
        {
          "output_type": "stream",
          "name": "stdout",
          "text": [
            "Mounted at /content/gdrive\n"
          ]
        }
      ]
    },
    {
      "cell_type": "code",
      "source": [
        "def readData(folder , filename):\n",
        "    data = np.loadtxt(os.path.join(folder, filename), delimiter = ',')\n",
        "    X = data[:, :-1]\n",
        "    y = data[:, -1].reshape(-1, 1)\n",
        "    one = np.ones((X.shape[0], 1))\n",
        "    X = np.concatenate((one, X), axis = 1)\n",
        "    return X, y"
      ],
      "metadata": {
        "id": "86BLe7WlIU2e"
      },
      "execution_count": 10,
      "outputs": []
    },
    {
      "cell_type": "markdown",
      "source": [
        "4.1.5"
      ],
      "metadata": {
        "id": "sE2w5SIKIiJc"
      }
    },
    {
      "cell_type": "code",
      "source": [
        "def featureScaling(X_train, X_test, y_train, y_test):\n",
        "    sc_X = StandardScaler()\n",
        "    sc_y = StandardScaler()\n",
        "    X_train[:, 1:] = sc_X.fit_transform(X_train[:, 1:])\n",
        "    X_test[:, 1:] = sc_X.transform(X_test[:, 1:])\n",
        "    y_train = sc_y.fit_transform(y_train)\n",
        "    y_test = sc_y.transform(y_test)\n",
        "    return X_train, X_test, y_train, y_test"
      ],
      "metadata": {
        "id": "jES5OWHhIdid"
      },
      "execution_count": 11,
      "outputs": []
    },
    {
      "cell_type": "code",
      "source": [
        "def Linear_Regression():\n",
        "    X, y = readData(\"/content/gdrive/My Drive/\", 'ex1data2.txt')\n",
        "    X_train, X_test, y_train, y_test = train_test_split(X, y, test_size=0.3,\n",
        "                                                        random_state = 5)\n",
        "\n",
        "    X_train, X_test, y_train, y_test = featureScaling(X_train, X_test, y_train, y_test)\n",
        "    regressor = LinearRegression()\n",
        "    regressor.fit(X_train, y_train)\n",
        "    y_pred = regressor.predict(X_test)\n",
        "    print(\"Đánh giá hiệu năng mô hình\")\n",
        "    print(\"\\tMSE: \",mean_squared_error(y_test, y_pred))\n",
        "    print(\"\\tRMSE: \",mean_squared_error(y_test, y_pred) ** (1/2))"
      ],
      "metadata": {
        "id": "wi8D5vDbIkVb"
      },
      "execution_count": 12,
      "outputs": []
    },
    {
      "cell_type": "markdown",
      "source": [
        "4.2.5"
      ],
      "metadata": {
        "id": "SX1CO7mNI7in"
      }
    },
    {
      "cell_type": "code",
      "source": [
        "def Logistic_Regression():\n",
        "    X, y = readData(\"/content/gdrive/My Drive/\", 'ex2data1.txt')\n",
        "    X_train, X_test, y_train, y_test = train_test_split(X, y, test_size=0.3,\n",
        "                                                        random_state = 5)\n",
        "    sc_X = StandardScaler()\n",
        "    X_train = sc_X.fit_transform(X_train)\n",
        "    X_test = sc_X.transform(X_test)\n",
        "    classifier = LogisticRegression()\n",
        "    classifier.fit(X_train, y_train)\n",
        "    y_pred = classifier.predict(X_test)\n",
        "    print(\"Đánh giá hiệu năng mô hình\")\n",
        "    print(\"\\tAccuracy: \",accuracy_score(y_test, y_pred))\n"
      ],
      "metadata": {
        "id": "t8kBwTObI88W"
      },
      "execution_count": 13,
      "outputs": []
    }
  ]
}