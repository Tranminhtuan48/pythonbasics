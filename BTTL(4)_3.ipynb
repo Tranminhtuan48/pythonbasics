{
  "nbformat": 4,
  "nbformat_minor": 0,
  "metadata": {
    "colab": {
      "provenance": [],
      "authorship_tag": "ABX9TyMv+1hgSypegBA13ptTzSxV",
      "include_colab_link": true
    },
    "kernelspec": {
      "name": "python3",
      "display_name": "Python 3"
    },
    "language_info": {
      "name": "python"
    }
  },
  "cells": [
    {
      "cell_type": "markdown",
      "metadata": {
        "id": "view-in-github",
        "colab_type": "text"
      },
      "source": [
        "<a href=\"https://colab.research.google.com/github/Tranminhtuan48/pythonbasics/blob/main/BTTL(4)_3.ipynb\" target=\"_parent\"><img src=\"https://colab.research.google.com/assets/colab-badge.svg\" alt=\"Open In Colab\"/></a>"
      ]
    },
    {
      "cell_type": "code",
      "execution_count": 1,
      "metadata": {
        "id": "O_hoZzIuD52t"
      },
      "outputs": [],
      "source": [
        "import os\n",
        "import numpy as np\n",
        "from scipy import optimize\n",
        "from sklearn.model_selection import train_test_split\n",
        "from sklearn.metrics import mean_squared_error\n",
        "from sklearn.metrics import accuracy_score"
      ]
    },
    {
      "cell_type": "code",
      "source": [
        "from google.colab import drive\n",
        "drive.mount('/content/gdrive')"
      ],
      "metadata": {
        "colab": {
          "base_uri": "https://localhost:8080/"
        },
        "id": "MRf92RAeEIGz",
        "outputId": "e4eecfd1-da3d-4267-e0d5-5828f4a7297b"
      },
      "execution_count": 2,
      "outputs": [
        {
          "output_type": "stream",
          "name": "stdout",
          "text": [
            "Mounted at /content/gdrive\n"
          ]
        }
      ]
    },
    {
      "cell_type": "code",
      "source": [
        "def readData(folder , filename):\n",
        "    data = np.loadtxt(os.path.join(folder, filename), delimiter = ',')\n",
        "    X = data[:, :-1]\n",
        "    y = data[:, -1]\n",
        "    one = np.ones((X.shape[0], 1))\n",
        "    X = np.concatenate((one, X), axis = 1)\n",
        "    return X, y"
      ],
      "metadata": {
        "id": "_OZU0_68EKnh"
      },
      "execution_count": 3,
      "outputs": []
    },
    {
      "cell_type": "markdown",
      "source": [
        "4.1.3"
      ],
      "metadata": {
        "id": "LTFK0OiPEUus"
      }
    },
    {
      "cell_type": "code",
      "source": [
        "def normScaling(X, y):\n",
        "    for col in range(1, X.shape[1]):\n",
        "        temp = X[:, col]\n",
        "        X[:, col] = (temp - np.min(temp)) / (np.max(temp) - np.min(temp))\n",
        "    temp = y\n",
        "    y = (temp - np.min(temp)) / (np.max(temp) - np.min(temp))\n",
        "    return X,y"
      ],
      "metadata": {
        "id": "lsQPCeP4ETpI"
      },
      "execution_count": 4,
      "outputs": []
    },
    {
      "cell_type": "code",
      "source": [
        "def standardScaling(X, y):\n",
        "    for col in range(1, X.shape[1]):\n",
        "        temp = X[:, col]\n",
        "        X[:, col] = (temp - np.mean(temp)) / (np.std(temp))\n",
        "    temp = y\n",
        "    y = (temp - np.mean(temp)) / (np.std(temp))\n",
        "    return X,y"
      ],
      "metadata": {
        "id": "D24mHd9kEZpP"
      },
      "execution_count": 5,
      "outputs": []
    },
    {
      "cell_type": "code",
      "source": [
        "def predict(X, w):\n",
        "    w = np.array(w)\n",
        "    return np.dot(X, w)"
      ],
      "metadata": {
        "id": "ikkKf8XwEceP"
      },
      "execution_count": 6,
      "outputs": []
    },
    {
      "cell_type": "code",
      "source": [
        "def costFunction(w, X, y):\n",
        "    m = X.shape[0]\n",
        "    h_w = np.dot(X, w)\n",
        "    J_w = (1/ (2*m)) * (np.sum(np.square(h_w - y)))\n",
        "    return J_w"
      ],
      "metadata": {
        "id": "f8iACii-EekO"
      },
      "execution_count": 8,
      "outputs": []
    },
    {
      "cell_type": "code",
      "source": [
        "def linearRegression(X, y, w_init, method, iterations):\n",
        "    result = optimize.minimize(fun=costFunction, x0=w_init, args=(X,y),\n",
        "                               method= method,\n",
        "                               options={\"maxiter\":iterations})\n",
        "    return result.x, result.fun"
      ],
      "metadata": {
        "id": "SUc5FemoEgSE"
      },
      "execution_count": 9,
      "outputs": []
    },
    {
      "cell_type": "code",
      "source": [
        "def compareAlgorithms(X_train, y_train, X_test, y_test, algorithms):\n",
        "    w_init = np.zeros((X_train.shape[1], 1))\n",
        "    result = {}\n",
        "    for algorithm in algorithms:\n",
        "        w, loss = linearRegression(X_train, y_train, w_init, method = algorithm, iterations=1500)\n",
        "        y_pred = predict(X_test, w)\n",
        "        result[algorithm] = mean_squared_error(y_pred, y_test)\n",
        "    return result"
      ],
      "metadata": {
        "id": "5bkc-Lq2Emwm"
      },
      "execution_count": 10,
      "outputs": []
    },
    {
      "cell_type": "code",
      "source": [
        "def main():\n",
        "    X, y = readData(\"/content/gdrive/My Drive/\", 'ex1data2.txt')\n",
        "    X_train, X_test, y_train, y_test = train_test_split(X, y, test_size=0.3,\n",
        "                                                        random_state = 5)\n",
        "\n",
        "    X_train, y_train = standardScaling(X_train, y_train)\n",
        "    X_test, y_test = standardScaling(X_test, y_test)\n",
        "    '''Other algorithms:\n",
        "    TNC, BFGS, L-BFGS-B, Nelder-Mead, Powell, CG, Newton-CG, COBYLA, SLSQP, ...'''\n",
        "    comparison = compareAlgorithms(X_train, y_train, X_test, y_test, ['TNC', 'BFGS', 'L-BFGS-B'])\n",
        "    print(comparison)"
      ],
      "metadata": {
        "id": "96kWmCGSEq0G"
      },
      "execution_count": 12,
      "outputs": []
    },
    {
      "cell_type": "markdown",
      "source": [
        "4.2.3"
      ],
      "metadata": {
        "id": "oLbph7EoFDUx"
      }
    },
    {
      "cell_type": "code",
      "source": [
        "def normScaling(X, y):\n",
        "    for col in range(1, X.shape[1]):\n",
        "        temp = X[:, col]\n",
        "        X[:, col] = (temp - np.min(temp)) / (np.max(temp) - np.min(temp))\n",
        "    return X,y"
      ],
      "metadata": {
        "id": "kXgEs9-cFb0K"
      },
      "execution_count": 14,
      "outputs": []
    },
    {
      "cell_type": "code",
      "source": [
        "def standardScaling(X, y):\n",
        "    for col in range(1, X.shape[1]):\n",
        "        temp = X[:, col]\n",
        "        X[:, col] = (temp - np.mean(temp)) / (np.std(temp))\n",
        "    return X,y"
      ],
      "metadata": {
        "id": "iolOPyXMFelN"
      },
      "execution_count": 15,
      "outputs": []
    },
    {
      "cell_type": "code",
      "source": [
        "def predict(X, w):\n",
        "    h_w = 1 / (1 + np.exp(- np.dot(X, w)))\n",
        "    return (h_w >= 0.5).astype('int32')"
      ],
      "metadata": {
        "id": "IhtQzMQJFfhQ"
      },
      "execution_count": 16,
      "outputs": []
    },
    {
      "cell_type": "code",
      "source": [
        "def costFunction(w, X, y):\n",
        "    m = X.shape[0]\n",
        "    h_w = 1 / (1 + np.exp(- np.dot(X, w)))\n",
        "    J_w = (-1/m) * (np.dot(y, np.log(h_w)) + np.dot((1-y), np.log(1-h_w)))\n",
        "    return J_w"
      ],
      "metadata": {
        "id": "cCGz08l4Fhxa"
      },
      "execution_count": 17,
      "outputs": []
    },
    {
      "cell_type": "code",
      "source": [
        "def logisticRegression(X, y, w_init, method, iterations):\n",
        "    result = optimize.minimize(fun=costFunction, x0=w_init, args=(X,y),\n",
        "                               method= method,\n",
        "                               options={\"maxiter\":iterations})\n",
        "    return result.x, result.fun"
      ],
      "metadata": {
        "id": "QgZnVyW9Fj61"
      },
      "execution_count": 18,
      "outputs": []
    },
    {
      "cell_type": "code",
      "source": [
        "def compareAlgorithms(X_train, y_train, X_test, y_test, algorithms):\n",
        "    w_init = np.zeros((X_train.shape[1], 1))\n",
        "    result = {}\n",
        "    for algorithm in algorithms:\n",
        "        w, loss = logisticRegression(X_train, y_train, w_init, method = algorithm, iterations=1500)\n",
        "        y_pred = predict(X_test, w)\n",
        "        result[algorithm] = accuracy_score(y_pred, y_test)\n",
        "    return result"
      ],
      "metadata": {
        "id": "YVp_smKwFnz9"
      },
      "execution_count": 19,
      "outputs": []
    },
    {
      "cell_type": "code",
      "source": [
        "def main():\n",
        "    X, y = readData(\"/content/gdrive/My Drive/\", 'ex2data1.txt')\n",
        "    X_train, X_test, y_train, y_test = train_test_split(X, y, test_size=0.3,\n",
        "                                                        random_state = 5)\n",
        "    X_train, y_train = standardScaling(X_train, y_train)\n",
        "    X_test, y_test = standardScaling(X_test, y_test)\n",
        "    '''Other algorithms:\n",
        "    TNC, BFGS, L-BFGS-B, Nelder-Mead, Powell, CG, Newton-CG, COBYLA, SLSQP, ...'''\n",
        "    comparison = compareAlgorithms(X_train, y_train, X_test, y_test, ['TNC', 'BFGS', 'L-BFGS-B'])\n",
        "    print(comparison)"
      ],
      "metadata": {
        "id": "pGNlsSElFqZi"
      },
      "execution_count": 21,
      "outputs": []
    }
  ]
}