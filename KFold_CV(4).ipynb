{
  "nbformat": 4,
  "nbformat_minor": 0,
  "metadata": {
    "colab": {
      "provenance": [],
      "authorship_tag": "ABX9TyNVeZnrPXOkMjGC7GT93BSx",
      "include_colab_link": true
    },
    "kernelspec": {
      "name": "python3",
      "display_name": "Python 3"
    },
    "language_info": {
      "name": "python"
    }
  },
  "cells": [
    {
      "cell_type": "markdown",
      "metadata": {
        "id": "view-in-github",
        "colab_type": "text"
      },
      "source": [
        "<a href=\"https://colab.research.google.com/github/Tranminhtuan48/pythonbasics/blob/main/KFold_CV(4).ipynb\" target=\"_parent\"><img src=\"https://colab.research.google.com/assets/colab-badge.svg\" alt=\"Open In Colab\"/></a>"
      ]
    },
    {
      "cell_type": "code",
      "execution_count": 1,
      "metadata": {
        "id": "LkHYORRXPSQl"
      },
      "outputs": [],
      "source": [
        "import os\n",
        "import numpy as np\n",
        "from sklearn.model_selection import train_test_split\n",
        "from sklearn.model_selection import GridSearchCV\n",
        "from sklearn.preprocessing import StandardScaler\n",
        "from sklearn.linear_model import LogisticRegression\n",
        "from sklearn.metrics import accuracy_score"
      ]
    },
    {
      "cell_type": "code",
      "source": [
        "from google.colab import drive\n",
        "drive.mount('/content/gdrive')"
      ],
      "metadata": {
        "colab": {
          "base_uri": "https://localhost:8080/"
        },
        "id": "p6v-PrPMP3RW",
        "outputId": "36b43062-99e0-4079-86e0-6b7a76114fc1"
      },
      "execution_count": 6,
      "outputs": [
        {
          "output_type": "stream",
          "name": "stdout",
          "text": [
            "Mounted at /content/gdrive\n"
          ]
        }
      ]
    },
    {
      "cell_type": "code",
      "source": [
        "def readData(folder, filename, delimiter= \",\"):\n",
        "    D = np.loadtxt(os.path.join(folder, filename), delimiter=delimiter)\n",
        "    X = D[:, :-1]\n",
        "    y = D[:, -1]\n",
        "    return X, y"
      ],
      "metadata": {
        "id": "D1tz_ykLPXtm"
      },
      "execution_count": 2,
      "outputs": []
    },
    {
      "cell_type": "code",
      "source": [
        "def featureScaling(X_train, X_test):\n",
        "    sc = StandardScaler()\n",
        "    X_train = sc.fit_transform(X_train)\n",
        "    X_test = sc.transform(X_test)\n",
        "    return X_train, X_test"
      ],
      "metadata": {
        "id": "JBFwfU0APie7"
      },
      "execution_count": 3,
      "outputs": []
    },
    {
      "cell_type": "code",
      "source": [
        "def girdSeachCV(model, X_train, y_train, specified_parameters: list):\n",
        "    parameters = {'C':[1, 10, 20, 50]}\n",
        "    cv = GridSearchCV(model, parameters, cv=10)\n",
        "    cv.fit(X_train, y_train)\n",
        "    return "
      ],
      "metadata": {
        "id": "tBKnK4zoPk-n"
      },
      "execution_count": 4,
      "outputs": []
    },
    {
      "cell_type": "code",
      "source": [
        "def KFold_CV():\n",
        "    X, y = readData(\"content/gdrive/Mydrive\", 'ex2data2.txt')\n",
        "    print(X.shape[1])\n",
        "    X_train, X_test, y_train, y_test = train_test_split(X, y, test_size=0.3, random_state=15)\n",
        "    X_train, X_test = featureScaling(X_train, X_test)\n",
        "    model = LogisticRegression(solver='liblinear', max_iter=1500, multi_class='auto')\n",
        "    cv = girdSeachCV(model, X_train, y_train, specified_parameters = [1, 10, 20, 50])\n",
        "    print('Kết quả huấn luyên 10-fold cv')\n",
        "    print('\\t', cv.best_params_)\n",
        "    y_pred = cv.predict(X_test)\n",
        "    print('Hiệu năng mô hình acc: ', accuracy_score(y_pred, y_test))"
      ],
      "metadata": {
        "id": "2KFaC3tnPmTl"
      },
      "execution_count": 7,
      "outputs": []
    }
  ]
}