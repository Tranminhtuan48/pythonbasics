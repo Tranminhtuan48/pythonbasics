{
  "nbformat": 4,
  "nbformat_minor": 0,
  "metadata": {
    "colab": {
      "name": "t-test.ipynb",
      "provenance": [],
      "collapsed_sections": [],
      "include_colab_link": true
    },
    "kernelspec": {
      "name": "python3",
      "display_name": "Python 3"
    },
    "language_info": {
      "name": "python"
    }
  },
  "cells": [
    {
      "cell_type": "markdown",
      "metadata": {
        "id": "view-in-github",
        "colab_type": "text"
      },
      "source": [
        "<a href=\"https://colab.research.google.com/github/Tranminhtuan48/pythonbasics/blob/main/t_test.ipynb\" target=\"_parent\"><img src=\"https://colab.research.google.com/assets/colab-badge.svg\" alt=\"Open In Colab\"/></a>"
      ]
    },
    {
      "cell_type": "code",
      "source": [
        "import numpy as np\n",
        "from scipy import stats\n",
        "import pandas as pd\n",
        "import math\n",
        "from statsmodels.stats.weightstats import ttest_ind\n",
        "from statsmodels.stats.weightstats import DescrStatsW, ttest_ind"
      ],
      "metadata": {
        "id": "XmBC3LnlnGLc"
      },
      "execution_count": 11,
      "outputs": []
    },
    {
      "cell_type": "markdown",
      "source": [
        "2. Thành phần của một bài kiểm định:\n",
        "- Vấn đề kiểm định\n",
        "- Cặp giả thuyết $H_0$ và $H_a$\n",
        "- Tiểu chuẩn kiểm định: $G = G(X_1, X_2, ..., X_n)$ Biết quy luật phân phối xác suất khi $H_0$ đúng như Student, chuẩn, Chi bình phương, Fisher\n",
        "- Mức ý nghĩa $\\alpha$: Xác suất mắc sai lầm loại $I$ ($H_0$ đúng nhưng chúng ta bác bỏ)\n",
        "- Miền bác bỏ $H_0$: $W_α$ = {miền giá trị cho thấy $H_0$ sai\n",
        "$$α = P(G \\in W_a|H_0 \\text{ đúng} )$$\n",
        "\n",
        "- Giá trị xác suất (p-value): Mức độ khẳng định của việc bác bỏ $H_0$ hoặc có thể hiểu là mức ý nghĩa nhỏ nhất để bác bỏ $H_0$"
      ],
      "metadata": {
        "id": "ErvqTBWYnU9A"
      }
    },
    {
      "cell_type": "markdown",
      "source": [
        "3. Quy trình kiểm định:\n",
        "\n",
        "Bước 1: Thực hiện các phép đo, hay thu thập dữ liệu quan sát\n",
        "\n",
        "Bước 2: Phát biểu giả thuyết  H0  và giả thuyết thay thế  Ha \n",
        "\n",
        "Bước 3: Xác định mức  α  (hay khoảng tin cậy)\n",
        "\n",
        "Bước 4: Lấy mẫu và tính toán các đại lượng thống kê của mẫu\n",
        "\n",
        "Bước 5: Thực hiện kiểm định t (t-test)\n",
        "\n",
        "Bước 6: Kết luận dựa vào kết quả kiểm định"
      ],
      "metadata": {
        "id": "DV0ZwCK_r-yX"
      }
    },
    {
      "cell_type": "markdown",
      "source": [
        "4. Xây dựng một kiểm định t 1 tham số:"
      ],
      "metadata": {
        "id": "PIHDoz29Tyt3"
      }
    },
    {
      "cell_type": "markdown",
      "source": [
        "* Kiểm định 2 đuôi:"
      ],
      "metadata": {
        "id": "Y15N0u8yqzhw"
      }
    },
    {
      "cell_type": "markdown",
      "source": [
        "Bài toán: Điều tra chi tiêu hàng năm của 25 công nhân khi công nghiệp A thấy trung bình mẫu là 24 triệu đồng và độ lệch chuẩn mẫu là 2 triệu đồng. Điều tra công nhân tại khu công nghiệp B thì chi tiêu trung bình là 25 triệu đồng. Với mức ý nghĩa 5%, có thể cho rằng chi tiêu trung bình của công nhân khu công nghiệp A và B là như nhau không? Giả thiết chi tiêu công nhân là biến ngẫu nhiên phân phối chuẩn."
      ],
      "metadata": {
        "id": "SV6n1809sEJD"
      }
    },
    {
      "cell_type": "markdown",
      "source": [
        "Xây dựng giả thuyết:\n",
        "\\begin{align}\n",
        "        H_0: μ  = 25\n",
        "    \\end{align}\n",
        "\n",
        "Giả thuyết thay thế:\n",
        "\\begin{align}\n",
        "        H_a: μ \\ne 25\n",
        "    \\end{align}\n",
        "\n",
        "α = 0.05\n",
        "\n",
        "Chỉ số t với bậc tự do 14  tương ứng với α/2 = 0.025 là 2.093 (Tra bảng phân phối t)\n",
        "\n",
        "Công thức:\n",
        "$$t = \\frac{(\\overline{\\rm X} - \\mu_0)}{(s / \\sqrt{n})}$$\n",
        "\n",
        "Với:\n",
        "- $\\overline{\\rm X}$: trung bình mẫu (25)\n",
        "- $\\mu_{0}$: trung bình của tổng thể cần so sánh (24)\n",
        "- s: độ lệch chuẩn hiệu chỉnh mẫu (2)\n",
        "- n: cỡ mẫu (25)\n",
        "\n",
        "Thay giá trị vào công thức ta có:\n",
        "\n",
        "$$t_{qs} = \\frac{(24 - 25)}{(2 / \\sqrt{25})} \\approx -2.5$$\n",
        "\n",
        "VÌ $|t_{qs}|$ > 2.093. Do đó có bằng chứng để bác bỏ giả thuyết $H_0$  \n"
      ],
      "metadata": {
        "id": "Nvx-Tmk6y-Nm"
      }
    },
    {
      "cell_type": "markdown",
      "source": [
        "Lập trình bài toán trên với Python:"
      ],
      "metadata": {
        "id": "JMowbMTJQBzJ"
      }
    },
    {
      "cell_type": "code",
      "source": [
        "# Sinh mẫu ngẫu nhiên với cỡ mẫu 40, trung bình 34, độ lệch chuẩn 5.8\n",
        "sam = np.random.normal(loc = 24, scale = 2, size = 30)\n",
        "sam"
      ],
      "metadata": {
        "colab": {
          "base_uri": "https://localhost:8080/"
        },
        "id": "hskoMOJiTwRo",
        "outputId": "002c0f8a-f08d-4df5-e4d9-9356932583e5"
      },
      "execution_count": 6,
      "outputs": [
        {
          "output_type": "execute_result",
          "data": {
            "text/plain": [
              "array([27.19614153, 23.34726973, 24.08355476, 24.71524745, 19.05025761,\n",
              "       25.48226615, 24.19387027, 20.54018148, 27.6693239 , 22.12772895,\n",
              "       25.215668  , 27.53397106, 25.212676  , 23.50061041, 23.9914962 ,\n",
              "       21.77583408, 24.35591159, 25.83835247, 23.83511323, 23.52886275,\n",
              "       25.18084749, 22.93854976, 29.36213799, 21.53797027, 22.23681463,\n",
              "       24.7346061 , 23.05099703, 25.16275531, 24.00172381, 24.45339524])"
            ]
          },
          "metadata": {},
          "execution_count": 6
        }
      ]
    },
    {
      "cell_type": "code",
      "source": [
        "# info:\n",
        "pop = 25\n",
        "a = 0.05\n",
        "# t-test:\n",
        "t_statistic, p_value = stats.ttest_1samp(sam, pop)\n",
        "print(f\"p value: {p_value}\")\n",
        "if(p_value <  a):\n",
        "  print(\"Có bằng chứng để bác bỏ giả thuyết H0\")\n",
        "else:\n",
        "  print(\"Chưa có bằng chứng để bác bỏ giả thuyết H0\")"
      ],
      "metadata": {
        "colab": {
          "base_uri": "https://localhost:8080/"
        },
        "id": "vFc2R6_hVEqb",
        "outputId": "c73b72da-75bf-4e0a-f288-227ef6c7db90"
      },
      "execution_count": 7,
      "outputs": [
        {
          "output_type": "stream",
          "name": "stdout",
          "text": [
            "p value: 0.04903796738126846\n",
            "Có bằng chứng để bác bỏ giả thuyết H0\n"
          ]
        }
      ]
    },
    {
      "cell_type": "markdown",
      "source": [
        "* Kiểm định 1 đuôi:"
      ],
      "metadata": {
        "id": "tAEjyuk2qXRZ"
      }
    },
    {
      "cell_type": "markdown",
      "source": [
        "Bài toán: Điều tra chi tiêu hàng năm của 15 công nhân khi công nghiệp A thấy trung bình mẫu là 24 triệu đồng và độ lệch chuẩn mẫu là 2 triệu đồng. Điều tra công nhân tại khu công nghiệp B thì chi tiêu trung bình là 25 triệu đồng. Với mức ý nghĩa 5%, có thể cho rằng chi tiêu trung bình của công nhân khu công nghiệp A thấp hơn khu công nghiệp B hay không? Giả thiết chi tiêu công nhân là biến ngẫu nhiên phân phối chuẩn."
      ],
      "metadata": {
        "id": "jpX2EjMbgAHK"
      }
    },
    {
      "cell_type": "markdown",
      "source": [
        "Xây dựng giả thuyết:\n",
        "\\begin{align}\n",
        "        H_0: μ  = 25\n",
        "    \\end{align}\n",
        "\n",
        "Giả thuyết thay thế:\n",
        "\\begin{align}\n",
        "        H_a: μ < 25\n",
        "    \\end{align}\n",
        "\n",
        "α = 0.05\n",
        "\n",
        "Chỉ số t với bậc tự do 14 tương ứng với α/2 = 0.025 là 2.093\n",
        "Công thức:\n",
        "$$t = \\frac{(\\overline{\\rm X} - \\mu_0)}{(s / \\sqrt{n})}$$\n",
        "\n",
        "Với:\n",
        "- $\\overline{\\rm X}$: trung bình mẫu (24)\n",
        "- $\\mu_{0}$: trung bình của tổng thể cần so sánh (25)\n",
        "- s: độ lệch chuẩn hiệu chỉnh mẫu (2)\n",
        "- n: cỡ mẫu (15)\n",
        "\n",
        "Thay giá trị vào công thức ta có:\n",
        "\n",
        "$$t_{qs} = \\frac{(24 - 25)}{(2 / \\sqrt{30})} \\approx -2,5$$\n",
        "\n",
        "VÌ $t_{qs}$ < 2.093. Do đó có bằng chứng để bác bỏ giả thuyết $H_0$  "
      ],
      "metadata": {
        "id": "pqseP7zogJJY"
      }
    },
    {
      "cell_type": "markdown",
      "source": [
        "Ta dùng Python để giải bài toán trên:"
      ],
      "metadata": {
        "id": "EeYpuow9ftOB"
      }
    },
    {
      "cell_type": "code",
      "source": [
        "# Sinh mẫu ngẫu nhiên với cỡ mẫu 40, trung bình 34, độ lệch chuẩn 5.8\n",
        "sam = np.random.normal(loc = 24, scale = 2, size = 15)\n",
        "sam"
      ],
      "metadata": {
        "colab": {
          "base_uri": "https://localhost:8080/"
        },
        "id": "nifD7ElrjCwp",
        "outputId": "68f71813-8a99-4d90-c5a2-6347aba977ca"
      },
      "execution_count": 12,
      "outputs": [
        {
          "output_type": "execute_result",
          "data": {
            "text/plain": [
              "array([25.20603761, 25.25406663, 21.762305  , 22.16899244, 23.21175806,\n",
              "       26.54051648, 24.33274523, 24.20594398, 24.50985128, 23.78155536,\n",
              "       25.39812977, 24.41091849, 19.80782558, 24.51704111, 24.04083652])"
            ]
          },
          "metadata": {},
          "execution_count": 12
        }
      ]
    },
    {
      "cell_type": "code",
      "source": [
        "# info:\n",
        "pop = 25\n",
        "a = 0.05\n",
        "#t-test\n",
        "t = DescrStatsW(sam)\n",
        "ttest_score, p_value, df = t.ttest_mean(pop, 'smaller')\n",
        "if (p_value <  a):\n",
        "  print(\"Có bằng chứng để bác bỏ giả thuyết H0\")\n",
        "else:\n",
        "  print(\"Chưa có bằng chứng để bác bỏ giả thuyết H0\")"
      ],
      "metadata": {
        "id": "_zhuLFikipqA",
        "colab": {
          "base_uri": "https://localhost:8080/"
        },
        "outputId": "2b45d726-2665-41f3-82c4-493da17f1cee"
      },
      "execution_count": 15,
      "outputs": [
        {
          "output_type": "stream",
          "name": "stdout",
          "text": [
            "Có bằng chứng để bác bỏ giả thuyết H0\n"
          ]
        }
      ]
    }
  ]
}