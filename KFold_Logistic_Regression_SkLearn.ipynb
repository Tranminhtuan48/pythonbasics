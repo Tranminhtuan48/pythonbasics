{
  "nbformat": 4,
  "nbformat_minor": 0,
  "metadata": {
    "colab": {
      "provenance": [],
      "authorship_tag": "ABX9TyPH86EDnhubLKjOjiz9Hpy3",
      "include_colab_link": true
    },
    "kernelspec": {
      "name": "python3",
      "display_name": "Python 3"
    },
    "language_info": {
      "name": "python"
    }
  },
  "cells": [
    {
      "cell_type": "markdown",
      "metadata": {
        "id": "view-in-github",
        "colab_type": "text"
      },
      "source": [
        "<a href=\"https://colab.research.google.com/github/Tranminhtuan48/pythonbasics/blob/main/KFold_Logistic_Regression_SkLearn.ipynb\" target=\"_parent\"><img src=\"https://colab.research.google.com/assets/colab-badge.svg\" alt=\"Open In Colab\"/></a>"
      ]
    },
    {
      "cell_type": "code",
      "execution_count": 1,
      "metadata": {
        "id": "6QoSiJ5b75VC"
      },
      "outputs": [],
      "source": [
        "import os\n",
        "import numpy as np\n",
        "from sklearn.preprocessing import StandardScaler\n",
        "from sklearn.model_selection import train_test_split\n",
        "from sklearn.model_selection import KFold\n",
        "from sklearn.metrics import mean_squared_error\n",
        "from sklearn.linear_model import LinearRegression"
      ]
    },
    {
      "cell_type": "code",
      "source": [
        "from google.colab import drive\n",
        "drive.mount('/content/gdrive')"
      ],
      "metadata": {
        "colab": {
          "base_uri": "https://localhost:8080/"
        },
        "id": "yDWnIOt58G7S",
        "outputId": "a6a1a7b0-b373-40dc-8806-41cff29ae498"
      },
      "execution_count": 2,
      "outputs": [
        {
          "output_type": "stream",
          "name": "stdout",
          "text": [
            "Mounted at /content/gdrive\n"
          ]
        }
      ]
    },
    {
      "cell_type": "code",
      "source": [
        "def readData(folder , filename):\n",
        "    data = np.loadtxt(os.path.join(folder, filename), delimiter = ',')\n",
        "    X = data[:, :-1]\n",
        "    y = data[:, -1].reshape(-1, 1)\n",
        "    one = np.ones((X.shape[0], 1))\n",
        "    X = np.concatenate((one, X), axis = 1)\n",
        "    return X, y"
      ],
      "metadata": {
        "id": "-tGombtx8OzR"
      },
      "execution_count": 4,
      "outputs": []
    },
    {
      "cell_type": "code",
      "source": [
        "def featureScalingSplit(X, y):\n",
        "    X_train, X_test, y_train, y_test = train_test_split(X, y, test_size=0.3, random_state=15)\n",
        "    sc_X = StandardScaler()\n",
        "    sc_y = StandardScaler()\n",
        "    X_train[:, 1:] = sc_X.fit_transform(X_train[:, 1:])\n",
        "    X_test[:, 1:] = sc_X.transform(X_test[:, 1:])\n",
        "    y_train = sc_y.fit_transform(y_train)\n",
        "    y_test = sc_y.transform(y_test)\n",
        "    return X_train, X_test, y_train, "
      ],
      "metadata": {
        "id": "2EN-1KiK8Ros"
      },
      "execution_count": 5,
      "outputs": []
    },
    {
      "cell_type": "code",
      "source": [
        "def kFoldCrossValiation(X_train, y_train):\n",
        "    kf = KFold(n_splits=10)\n",
        "    step = 0\n",
        "    valitdate_models = {}\n",
        "    for train2_index, val_index in kf.split(X = X_train,y = y_train):\n",
        "        step = step + 1\n",
        "        regressor = LinearRegression()\n",
        "        print('\\tBước lặp huấn luyện thứ: ', step)\n",
        "        X_train2, X_val = X_train[train2_index], X_train[val_index]\n",
        "        y_train2, y_val = y_train[train2_index], y_train[val_index]\n",
        "        regressor.fit(X_train2, y_train2)\n",
        "        print('\\t\\tĐánh giá mô hình trên tập dữ liệu validation')\n",
        "        y_pred = regressor.predict(X_val)\n",
        "        print('\\t\\t\\tMSE: ', mean_squared_error(y_val, y_pred))\n",
        "        valitdate_models[mean_squared_error(y_val, y_pred)] =  regressor\n",
        "    min_error = min(list(valitdate_models.keys()))\n",
        "    return valitdate_models[min_error]"
      ],
      "metadata": {
        "id": "BDlfvLXQ8SI0"
      },
      "execution_count": 6,
      "outputs": []
    },
    {
      "cell_type": "code",
      "source": [
        "def validateTestSet(X_test, y_test, regressor):\n",
        "    print(\"\\nĐánh giá hiệu năng mô hình trên tập dữ liệu test:\")\n",
        "    y_pred = regressor.predict(X_test)\n",
        "    print(\"\\tMSE: \", mean_squared_error(y_test, y_pred))\n",
        "    return mean_squared_error(y_test, y_pred)"
      ],
      "metadata": {
        "id": "Zl4MR9Va8UtV"
      },
      "execution_count": 7,
      "outputs": []
    },
    {
      "cell_type": "code",
      "source": [
        "def KFold_Logistic_Regression():\n",
        "    X, y = readData(\"/content/gdrive/My Drive/\", 'ex1data1.txt')\n",
        "    X_train, X_test, y_train, y_test = featureScalingSplit(X, y)\n",
        "    regressor = kFoldCrossValiation(X_train, y_train)\n",
        "    validateTestSet(X_test, y_test, regressor)"
      ],
      "metadata": {
        "id": "uJg8kseW8Xat"
      },
      "execution_count": 8,
      "outputs": []
    }
  ]
}