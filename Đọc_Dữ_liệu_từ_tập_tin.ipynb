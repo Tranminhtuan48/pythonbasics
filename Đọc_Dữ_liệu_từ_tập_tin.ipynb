{
  "nbformat": 4,
  "nbformat_minor": 0,
  "metadata": {
    "colab": {
      "provenance": [],
      "authorship_tag": "ABX9TyPfETXTAESIGUk6LfeS/Et0",
      "include_colab_link": true
    },
    "kernelspec": {
      "name": "python3",
      "display_name": "Python 3"
    },
    "language_info": {
      "name": "python"
    }
  },
  "cells": [
    {
      "cell_type": "markdown",
      "metadata": {
        "id": "view-in-github",
        "colab_type": "text"
      },
      "source": [
        "<a href=\"https://colab.research.google.com/github/Tranminhtuan48/pythonbasics/blob/main/%C4%90%E1%BB%8Dc_D%E1%BB%AF_li%E1%BB%87u_t%E1%BB%AB_t%E1%BA%ADp_tin.ipynb\" target=\"_parent\"><img src=\"https://colab.research.google.com/assets/colab-badge.svg\" alt=\"Open In Colab\"/></a>"
      ]
    },
    {
      "cell_type": "code",
      "execution_count": 60,
      "metadata": {
        "id": "RC8dlRMkKXxZ"
      },
      "outputs": [],
      "source": [
        "# Import thư viện\n",
        "import numpy as np\n",
        "import os"
      ]
    },
    {
      "cell_type": "code",
      "source": [
        "#Doc du lieu tu tap tin\n",
        "def readData(folder,filename):\n",
        "  from google.colab import drive\n",
        "  drive.mount('/content/gdrive')\n",
        "  data = np.loadtxt(os.path.join(folder, filename), delimiter = ',')\n",
        "  x = data[:,0]\n",
        "  y = data[:,1]\n",
        "  m = y.shape[0]\n",
        "  x = np.stack([np.ones(m),x], axis = 1)\n",
        "  return x,y"
      ],
      "metadata": {
        "id": "yzpHSmRGMJxF"
      },
      "execution_count": 65,
      "outputs": []
    },
    {
      "cell_type": "code",
      "source": [
        "#Ham Mat Mat\n",
        "def calculateLoss(x, y, w):\n",
        "  m = y.shape[0]\n",
        "  h = np.dot(X, w)\n",
        "  J = (1/2*m)*np.sum(np.square(h - y))\n",
        "  return J, w"
      ],
      "metadata": {
        "id": "yabs5X7zQNmM"
      },
      "execution_count": 66,
      "outputs": []
    },
    {
      "cell_type": "code",
      "source": [
        "#Ham tinh Gradient Decsent\n",
        "def  gradientDescent(x, y, w, alpha, n):\n",
        "  alpha = 0.01\n",
        "  n = 1500\n",
        "  m = y.shape[0]\n",
        "  w.option = w.duplicate()\n",
        "  for i in range (n):\n",
        "    w.option = w.option - (alpha/m)*(np.dot(X,w.option) - y) * dot(x)\n",
        "    j.append(calculateLoss(X, y, w.option))\n",
        "    return w.option, J"
      ],
      "metadata": {
        "id": "wvZEg3dOTV0D"
      },
      "execution_count": 67,
      "outputs": []
    },
    {
      "cell_type": "code",
      "source": [
        "def main():\n",
        "  alpha = 0.01\n",
        "  n = 1500\n",
        "  w = np.zeros(2)\n",
        "  x,y = readData('gdrive/MyDrive/Hoiquytuyentinh/', 'ex1data1.txt')\n",
        "  w,J = gradientDecsent(x,y,w,alpha,n)\n",
        "  print(w)\n",
        "  print(J[-1])"
      ],
      "metadata": {
        "id": "sXa_RD80b0N-"
      },
      "execution_count": 72,
      "outputs": []
    }
  ]
}