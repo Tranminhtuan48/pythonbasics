{
  "nbformat": 4,
  "nbformat_minor": 0,
  "metadata": {
    "colab": {
      "provenance": [],
      "authorship_tag": "ABX9TyMtQnQM4aP+jLxyU9pAzl/i",
      "include_colab_link": true
    },
    "kernelspec": {
      "name": "python3",
      "display_name": "Python 3"
    },
    "language_info": {
      "name": "python"
    }
  },
  "cells": [
    {
      "cell_type": "markdown",
      "metadata": {
        "id": "view-in-github",
        "colab_type": "text"
      },
      "source": [
        "<a href=\"https://colab.research.google.com/github/Tranminhtuan48/pythonbasics/blob/main/BTKN_2.ipynb\" target=\"_parent\"><img src=\"https://colab.research.google.com/assets/colab-badge.svg\" alt=\"Open In Colab\"/></a>"
      ]
    },
    {
      "cell_type": "code",
      "execution_count": 1,
      "metadata": {
        "id": "D1ckCGomyEmc"
      },
      "outputs": [],
      "source": [
        "import numpy as np\n",
        "from sklearn.metrics import r2_score\n",
        "from sklearn.metrics import mean_absolute_error\n",
        "from sklearn.metrics import mean_squared_log_error\n",
        "from sklearn.metrics import mean_absolute_percentage_error\n",
        "from sklearn.metrics import median_absolute_error"
      ]
    },
    {
      "cell_type": "code",
      "source": [
        "R"
      ],
      "metadata": {
        "id": "PV_QB6Kwy1So"
      },
      "execution_count": null,
      "outputs": []
    },
    {
      "cell_type": "code",
      "source": [
        "#Func\n",
        "def r2_score2(y_test, y_pred):\n",
        "    y_test = np.array(y_test)\n",
        "    y_pred = np.array(y_pred)\n",
        "    y_mean = np.mean(y_test)\n",
        "    result = 1 - np.sum(np.square(y_test-y_pred)) \\\n",
        "        / np.sum(np.square(y_test - y_mean))\n",
        "    return result"
      ],
      "metadata": {
        "id": "enbdVinGyxXX"
      },
      "execution_count": 4,
      "outputs": []
    },
    {
      "cell_type": "code",
      "source": [
        "#SK\n",
        "y_test = [1, 5, 2.5, 7]\n",
        "y_pred = [2.5, 5, 6, 8]\n",
        "print(r2_score(y_test, y_pred))\n",
        "print(r2_score2(y_test, y_pred))"
      ],
      "metadata": {
        "colab": {
          "base_uri": "https://localhost:8080/"
        },
        "id": "9aRALRk3zDZk",
        "outputId": "b0292d53-502a-4538-fef9-c315d3a10c89"
      },
      "execution_count": 14,
      "outputs": [
        {
          "output_type": "stream",
          "name": "stdout",
          "text": [
            "0.26843657817109146\n",
            "0.26843657817109146\n"
          ]
        }
      ]
    },
    {
      "cell_type": "markdown",
      "source": [
        "MAE"
      ],
      "metadata": {
        "id": "mYUleS8-zO7w"
      }
    },
    {
      "cell_type": "code",
      "source": [
        "#Func\n",
        "def mean_absolute_error2(y_test, y_pred):\n",
        "    y_test = np.array(y_test)\n",
        "    y_pred = np.array(y_pred)\n",
        "    n = y_test.shape[0]\n",
        "    result = (1/n) * np.sum(np.absolute(y_test - y_pred))\n",
        "    return result"
      ],
      "metadata": {
        "id": "Zo4CUq4nzR_K"
      },
      "execution_count": 5,
      "outputs": []
    },
    {
      "cell_type": "code",
      "source": [
        "#SK\n",
        "y_test = [1, 5, 2.5, 7]\n",
        "y_pred = [2.5, 5, 6, 8]\n",
        "print(mean_absolute_error(y_test, y_pred))\n",
        "print(mean_absolute_error2(y_test, y_pred))"
      ],
      "metadata": {
        "colab": {
          "base_uri": "https://localhost:8080/"
        },
        "id": "0paMCGDzzXBO",
        "outputId": "e993f0e0-8f16-4253-e5d1-fedabcbabf60"
      },
      "execution_count": 13,
      "outputs": [
        {
          "output_type": "stream",
          "name": "stdout",
          "text": [
            "1.5\n",
            "1.5\n"
          ]
        }
      ]
    },
    {
      "cell_type": "markdown",
      "source": [
        "MLSE"
      ],
      "metadata": {
        "id": "xuh3GB53zeDL"
      }
    },
    {
      "cell_type": "code",
      "source": [
        "#Func\n",
        "def mean_squared_log_error2(y_test, y_pred):\n",
        "    y_test = np.array(y_test)\n",
        "    y_pred = np.array(y_pred)\n",
        "    n = y_test.shape[0]\n",
        "    result = (1/n) * np.sum(np.square(np.log(1 + y_test)\\\n",
        "         - np.log(1 + y_pred)))\n",
        "    return result"
      ],
      "metadata": {
        "id": "v3_un17Lzct0"
      },
      "execution_count": 7,
      "outputs": []
    },
    {
      "cell_type": "code",
      "source": [
        "#SK\n",
        "y_test = [1, 5, 2.5, 7]\n",
        "y_pred = [2.5, 5, 6, 8]\n",
        "print(mean_squared_log_error(y_test, y_pred))\n",
        "print(mean_squared_log_rror2(y_test, y_pred))"
      ],
      "metadata": {
        "colab": {
          "base_uri": "https://localhost:8080/"
        },
        "id": "ZEpg_zYoznFU",
        "outputId": "43cecba1-669d-4cfd-c271-4bc03e0cf16a"
      },
      "execution_count": 12,
      "outputs": [
        {
          "output_type": "stream",
          "name": "stdout",
          "text": [
            "0.20187392187830455\n",
            "0.20187392187830455\n"
          ]
        }
      ]
    },
    {
      "cell_type": "markdown",
      "source": [
        "MAPE"
      ],
      "metadata": {
        "id": "Groyoi1pztB2"
      }
    },
    {
      "cell_type": "code",
      "source": [
        "#Func\n",
        "def mean_absolute_percentage_error2(y_test, y_pred, e = 0.0001):\n",
        "    y_test = np.array(y_test)\n",
        "    y_pred = np.array(y_pred)\n",
        "    e = np.ones(y_test.shape) * e\n",
        "    n = y_test.shape[0]\n",
        "    result = (1/n) * np.sum(np.absolute(y_test - y_pred)\\\n",
        "        /np.max((e, np.absolute(y_test)), axis = 0))\n",
        "    return result"
      ],
      "metadata": {
        "id": "64i3VDfNzuSn"
      },
      "execution_count": null,
      "outputs": []
    },
    {
      "cell_type": "code",
      "source": [
        "#SK\n",
        "y_test = [1, 5, 2.5, 7]\n",
        "y_pred = [2.5, 5, 6, 8]\n",
        "print(mean_absolute_percentage_error(y_test, y_pred))\n",
        "print(mean_absolute_percentage_error(y_test, y_pred))"
      ],
      "metadata": {
        "colab": {
          "base_uri": "https://localhost:8080/"
        },
        "id": "B-CRzMY9zza2",
        "outputId": "4e56642b-9074-43b3-85e6-455dd0a356d5"
      },
      "execution_count": 11,
      "outputs": [
        {
          "output_type": "stream",
          "name": "stdout",
          "text": [
            "0.7607142857142857\n",
            "0.7607142857142857\n"
          ]
        }
      ]
    },
    {
      "cell_type": "markdown",
      "source": [
        "MedAE"
      ],
      "metadata": {
        "id": "reUPWszD0WM0"
      }
    },
    {
      "cell_type": "code",
      "source": [
        "#Func\n",
        "def median_absolute_error2(y_test, y_pred):\n",
        "    y_test = np.array(y_test)\n",
        "    y_pred = np.array(y_pred)\n",
        "    result = np.median(np.absolute(y_test-y_pred))\n",
        "    return result"
      ],
      "metadata": {
        "id": "rE2VMiTg0R23"
      },
      "execution_count": 15,
      "outputs": []
    },
    {
      "cell_type": "code",
      "source": [
        "#SK\n",
        "y_test = [1, 5, 2.5, 7]\n",
        "y_pred = [2.5, 5, 6, 8]\n",
        "print(median_absolute_error(y_test, y_pred))\n",
        "print(median_absolute_error2(y_test, y_pred))"
      ],
      "metadata": {
        "colab": {
          "base_uri": "https://localhost:8080/"
        },
        "id": "e-klpQm60dTn",
        "outputId": "42303b36-383c-4041-b264-b0900e7723e2"
      },
      "execution_count": 16,
      "outputs": [
        {
          "output_type": "stream",
          "name": "stdout",
          "text": [
            "1.25\n",
            "1.25\n"
          ]
        }
      ]
    }
  ]
}