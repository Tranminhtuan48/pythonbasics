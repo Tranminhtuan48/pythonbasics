{
  "nbformat": 4,
  "nbformat_minor": 0,
  "metadata": {
    "colab": {
      "name": "bai12/10.ipynb",
      "provenance": [],
      "authorship_tag": "ABX9TyNpmAMvfL6Pk8/dVWjibFK/",
      "include_colab_link": true
    },
    "kernelspec": {
      "name": "python3",
      "display_name": "Python 3"
    },
    "language_info": {
      "name": "python"
    }
  },
  "cells": [
    {
      "cell_type": "markdown",
      "metadata": {
        "id": "view-in-github",
        "colab_type": "text"
      },
      "source": [
        "<a href=\"https://colab.research.google.com/github/Tranminhtuan48/pythonbasics/blob/main/bai12_10.ipynb\" target=\"_parent\"><img src=\"https://colab.research.google.com/assets/colab-badge.svg\" alt=\"Open In Colab\"/></a>"
      ]
    },
    {
      "cell_type": "markdown",
      "metadata": {
        "id": "zku2D1_DIZKS"
      },
      "source": [
        "Bài 1: Viết chương trình tìm tất cả các số chia hết cho 7 nhưng không phải bội số của 5, nằm trong\n",
        "đoạn 10 và 200 (tính cả 10 và 200). Các số thu được sẽ được in ra màn hình."
      ]
    },
    {
      "cell_type": "code",
      "metadata": {
        "colab": {
          "base_uri": "https://localhost:8080/"
        },
        "id": "sB7M3Lmg06Qb",
        "outputId": "7fa6d1b2-9304-4fea-9721-a4a027a2f6bf"
      },
      "source": [
        "j = []\n",
        "for i in range (10,200):\n",
        "    if (i % 7 == 0) and (i % 5 != 0):\n",
        "        j.append(str(i))\n",
        "print(\",\".join(j))"
      ],
      "execution_count": 1,
      "outputs": [
        {
          "output_type": "stream",
          "name": "stdout",
          "text": [
            "14,21,28,42,49,56,63,77,84,91,98,112,119,126,133,147,154,161,168,182,189,196\n"
          ]
        }
      ]
    },
    {
      "cell_type": "markdown",
      "metadata": {
        "id": "oR_pNVDiIdT4"
      },
      "source": [
        "Bài 2: Viết một chương trình tính giai thừa của một số nguyên dương n. Với n được nhập từ bàn\n",
        "phím. Ví dụ, n = 8 thì kết quả đầu ra phải là 1*2*3*4*5*6*7*8 = 40320."
      ]
    },
    {
      "cell_type": "code",
      "metadata": {
        "colab": {
          "base_uri": "https://localhost:8080/"
        },
        "id": "YuPfz4gq4Vex",
        "outputId": "c01ca111-707a-4d8f-80c3-a785c6f62f5e"
      },
      "source": [
        "print(\"Nhập giá trị n: \",end='')\n",
        "n=int(input())\n",
        "k=[]\n",
        "if n > 0:\n",
        "    giaithua=1\n",
        "    for i in range(1,n+1):\n",
        "        giaithua=giaithua*i\n",
        "    for f in range (1,n+1):\n",
        "      k.append(str(f))\n",
        "    print(n,\"giai thừa bằng:\",\"*\".join(k),\"=\",giaithua)\n",
        "else:\n",
        "    print(\"Vui lòng nhập n > 0\")"
      ],
      "execution_count": 4,
      "outputs": [
        {
          "output_type": "stream",
          "name": "stdout",
          "text": [
            "Nhập giá trị n: 3\n",
            "3 giai thừa bằng: 1*2*3 = 6\n"
          ]
        }
      ]
    },
    {
      "cell_type": "markdown",
      "metadata": {
        "id": "LCRd37_cIgvC"
      },
      "source": [
        "Bài 3: Dãy số Fibonacci được định nghĩa như sau: F0 = 0, F1 = 1, F2 = 1, Fn = F(n-1) + F(n-2)\n",
        "với n >= 2. Ví dụ: 0, 1, 1, 2, 3, 5, 8, ... Hãy viết chương trình tìm n số Fibonacci đầu tiên với n\n",
        "nhập vào từ bàn phím."
      ]
    },
    {
      "cell_type": "code",
      "metadata": {
        "colab": {
          "base_uri": "https://localhost:8080/"
        },
        "id": "_7XAiK7f_rMQ",
        "outputId": "cb3dfa69-9ad1-445b-bcc5-6c00e0c7161d"
      },
      "source": [
        "k=int(input(\"dãy Số Fibonaci: \"))\n",
        "q=[0,1]\n",
        "i=2\n",
        "for i in range(i,k):\n",
        "  x=q[i-1]+q[i-2]\n",
        "  q.append(x)\n",
        "print(q)"
      ],
      "execution_count": 43,
      "outputs": [
        {
          "output_type": "stream",
          "name": "stdout",
          "text": [
            "Số Fibonaci: 15\n",
            "[0, 1, 1, 2, 3, 5, 8, 13, 21, 34, 55, 89, 144, 233, 377]\n"
          ]
        }
      ]
    },
    {
      "cell_type": "markdown",
      "metadata": {
        "id": "KMDtcj37ImGT"
      },
      "source": [
        "Bài 4: Viết chương trình liệt kê tất cả các số nguyên tố nhỏ hơn n. Số nguyên dương n được nhập\n",
        "từ bàn phím."
      ]
    },
    {
      "cell_type": "code",
      "metadata": {
        "colab": {
          "base_uri": "https://localhost:8080/"
        },
        "id": "PDCRqznmA8sp",
        "outputId": "0b363eb5-d8e7-4c5e-a331-7d1c751cd62f"
      },
      "source": [
        "import math\n",
        "n = int(input())\n",
        "print (2)\n",
        "for nt in range(3,n,2):\n",
        "    if all(nt%i!=0 for i in range(3,int(math.sqrt(nt))+1, 2)):\n",
        "        print (nt)"
      ],
      "execution_count": 46,
      "outputs": [
        {
          "output_type": "stream",
          "name": "stdout",
          "text": [
            "50\n",
            "2\n",
            "3\n",
            "5\n",
            "7\n",
            "11\n",
            "13\n",
            "17\n",
            "19\n",
            "23\n",
            "29\n",
            "31\n",
            "37\n",
            "41\n",
            "43\n",
            "47\n"
          ]
        }
      ]
    },
    {
      "cell_type": "markdown",
      "metadata": {
        "id": "H18OTqC6Ipir"
      },
      "source": [
        "Bài 5: Viết chương trình liệt kê n số nguyên tố đầu tiên. Số nguyên dương n được nhập từ bàn\n",
        "phím."
      ]
    },
    {
      "cell_type": "code",
      "metadata": {
        "colab": {
          "base_uri": "https://localhost:8080/"
        },
        "id": "sHqtfBP4EHAd",
        "outputId": "eaf64511-918f-43a1-959d-7eea74f47842"
      },
      "source": [
        "so = int(input(\"nhap so can kiem tra: \"));\n",
        "if so >1 :\n",
        "    for i in range (2,so):\n",
        "        t=0\n",
        "        for j in range (2,i):\n",
        "            if(i%j==0):\n",
        "                t=1\n",
        "                break\n",
        "        if(t==0 and i!=0):\n",
        "            print(i)\n",
        "else:\n",
        "    print(\"nhap lai di\")"
      ],
      "execution_count": 27,
      "outputs": [
        {
          "output_type": "stream",
          "name": "stdout",
          "text": [
            "nhap so can kiem tra: 24\n",
            "2\n",
            "3\n",
            "5\n",
            "7\n",
            "11\n",
            "13\n",
            "17\n",
            "19\n",
            "23\n"
          ]
        }
      ]
    },
    {
      "cell_type": "markdown",
      "metadata": {
        "id": "BqHpjoG-IvmE"
      },
      "source": [
        "Bài 6: Viết chương trình liệt kê tất cả số nguyên tố có 5 chữ số."
      ]
    },
    {
      "cell_type": "code",
      "metadata": {
        "id": "qUZ8jc0lEupf"
      },
      "source": [
        "for i in range(10000,99999):\n",
        "  for h in range(2,i):\n",
        "    if i%h==0:\n",
        "      break\n",
        "  else:\n",
        "    print(i,end=\",\")"
      ],
      "execution_count": null,
      "outputs": []
    },
    {
      "cell_type": "markdown",
      "metadata": {
        "id": "bh_lhPtGJJx2"
      },
      "source": [
        "Bài 7: Viết chương trình tính tổng của các chữ số của môt số nguyên n. Số nguyên dương n được\n",
        "nhập từ bàn phím. Ví dụ: n = 1234, tổng các chữ số: 1 + 2 + 3 + 4 = 10"
      ]
    },
    {
      "cell_type": "code",
      "metadata": {
        "colab": {
          "base_uri": "https://localhost:8080/"
        },
        "id": "gyA9VWtmKfCG",
        "outputId": "97437513-aefa-4cb6-ce8d-f89ab8ee79e5"
      },
      "source": [
        "print(\"nhap n: \")\n",
        "n=int(input())\n",
        "a=str(n)\n",
        "m=0\n",
        "for i in range(len(a)):\n",
        "  r= int(a[i])\n",
        "  m=r+m\n",
        "print (m)"
      ],
      "execution_count": 25,
      "outputs": [
        {
          "output_type": "stream",
          "name": "stdout",
          "text": [
            "nhap n: \n",
            "12345\n",
            "15\n"
          ]
        }
      ]
    },
    {
      "cell_type": "markdown",
      "metadata": {
        "id": "bhq3L5rua4TB"
      },
      "source": [
        "Bài 8: Viết chương trình liệt kê các số Fibonacci nhỏ hơn n là số nguyên tố. N là số nguyên dương\n",
        "được nhập từ bàn phím."
      ]
    },
    {
      "cell_type": "code",
      "metadata": {
        "colab": {
          "base_uri": "https://localhost:8080/"
        },
        "id": "b0SHGdi1az3T",
        "outputId": "72bd5bb3-0710-4c8c-c26f-2231d0517a08"
      },
      "source": [
        "k=int(input(\"Số Fibonaci: \"))\n",
        "q=[0,1]\n",
        "i=2\n",
        "for i in range(i,k):\n",
        "  x=q[i-1]+q[i-2]\n",
        "  q.append(x)\n",
        "print(q)\n",
        "print(\"day so nguyen to fibonacci: \")\n",
        "for y in q:\n",
        "  if y<k and y>1:\n",
        "   for z in range(2,y):\n",
        "        if y%z==0 :\n",
        "         break\n",
        "   else:\n",
        "      print(y, end=\",\")"
      ],
      "execution_count": 56,
      "outputs": [
        {
          "output_type": "stream",
          "name": "stdout",
          "text": [
            "Số Fibonaci: 16\n",
            "[0, 1, 1, 2, 3, 5, 8, 13, 21, 34, 55, 89, 144, 233, 377, 610]\n",
            "day so nguyen to fibonacci: \n",
            "2,3,5,13,"
          ]
        }
      ]
    }
  ]
}