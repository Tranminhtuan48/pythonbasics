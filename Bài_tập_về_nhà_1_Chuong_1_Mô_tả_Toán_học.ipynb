{
  "nbformat": 4,
  "nbformat_minor": 0,
  "metadata": {
    "colab": {
      "provenance": [],
      "authorship_tag": "ABX9TyPyJZ9I3O/o5r9qOLemYvQc",
      "include_colab_link": true
    },
    "kernelspec": {
      "name": "python3",
      "display_name": "Python 3"
    },
    "language_info": {
      "name": "python"
    }
  },
  "cells": [
    {
      "cell_type": "markdown",
      "metadata": {
        "id": "view-in-github",
        "colab_type": "text"
      },
      "source": [
        "<a href=\"https://colab.research.google.com/github/Tranminhtuan48/pythonbasics/blob/main/B%C3%A0i_t%E1%BA%ADp_v%E1%BB%81_nh%C3%A0_1_Chuong_1_M%C3%B4_t%E1%BA%A3_To%C3%A1n_h%E1%BB%8Dc.ipynb\" target=\"_parent\"><img src=\"https://colab.research.google.com/assets/colab-badge.svg\" alt=\"Open In Colab\"/></a>"
      ]
    },
    {
      "cell_type": "code",
      "execution_count": 1,
      "metadata": {
        "id": "aF87M4INZX7L"
      },
      "outputs": [],
      "source": [
        "import numpy as np"
      ]
    },
    {
      "cell_type": "markdown",
      "source": [
        "Cộng 2 vector (ndarray 1 chiều) trong Python"
      ],
      "metadata": {
        "id": "uhNRKnugbAGa"
      }
    },
    {
      "cell_type": "code",
      "source": [
        "x = np.array([1,2,3,4])\n",
        "y = np.array([5,3,2,1])\n",
        "z = x + y\n",
        "print(z)\n",
        "print(z.ndim)\n",
        "print(z.shape)"
      ],
      "metadata": {
        "colab": {
          "base_uri": "https://localhost:8080/"
        },
        "id": "h4tPwUgeaFmj",
        "outputId": "bf192aec-75db-4209-fbcb-ce888fa9f8ab"
      },
      "execution_count": 2,
      "outputs": [
        {
          "output_type": "stream",
          "name": "stdout",
          "text": [
            "[6 5 5 5]\n",
            "1\n",
            "(4,)\n"
          ]
        }
      ]
    },
    {
      "cell_type": "markdown",
      "source": [
        "Phép nhân đại lượng vô hướng với vector trong Python"
      ],
      "metadata": {
        "id": "lZMRr3EibLDJ"
      }
    },
    {
      "cell_type": "code",
      "source": [
        "x = np.array([1,2,3,4])\n",
        "a = 15\n",
        "z = a*x\n",
        "print(z)\n",
        "print(z.ndim)\n",
        "print(z.shape)"
      ],
      "metadata": {
        "colab": {
          "base_uri": "https://localhost:8080/"
        },
        "id": "oeD_jWlUbEa6",
        "outputId": "e2d0d8ff-8bfd-441d-d40a-a10e2b4d08fe"
      },
      "execution_count": 3,
      "outputs": [
        {
          "output_type": "stream",
          "name": "stdout",
          "text": [
            "[15 30 45 60]\n",
            "1\n",
            "(4,)\n"
          ]
        }
      ]
    },
    {
      "cell_type": "markdown",
      "source": [
        "Tích vô hướng 2 vector (ndarray 1 chiều) trong Python"
      ],
      "metadata": {
        "id": "ESVsX2nrbQep"
      }
    },
    {
      "cell_type": "code",
      "source": [
        "x = np.array([1,2,3,4])\n",
        "y = np.array([5,3,2,1])\n",
        "z = np.dot(x,y) #hoặc z = x.dot(y)\n",
        "print(z)\n",
        "print(z.ndim)\n",
        "print(z.shape)"
      ],
      "metadata": {
        "colab": {
          "base_uri": "https://localhost:8080/"
        },
        "id": "ciYk0qLMbOwZ",
        "outputId": "861ff2c1-dc43-4261-c25b-386bb71b13e2"
      },
      "execution_count": 4,
      "outputs": [
        {
          "output_type": "stream",
          "name": "stdout",
          "text": [
            "21\n",
            "0\n",
            "()\n"
          ]
        }
      ]
    },
    {
      "cell_type": "markdown",
      "source": [
        "Tích hữu hướng (cross product) 2 vector trong Python"
      ],
      "metadata": {
        "id": "06-oBJoPbgYJ"
      }
    },
    {
      "cell_type": "code",
      "source": [
        "x = np.array([1,2,3])\n",
        "y = np.array([3,2,1])\n",
        "z = np.cross(x, y)\n",
        "print(z)\n",
        "print(z.ndim)\n",
        "print(z.shape)"
      ],
      "metadata": {
        "colab": {
          "base_uri": "https://localhost:8080/"
        },
        "id": "KX2W5A4hbf1J",
        "outputId": "d2946147-8b22-408a-ce8e-5a4bf1542d69"
      },
      "execution_count": 5,
      "outputs": [
        {
          "output_type": "stream",
          "name": "stdout",
          "text": [
            "[-4  8 -4]\n",
            "1\n",
            "(3,)\n"
          ]
        }
      ]
    },
    {
      "cell_type": "markdown",
      "source": [
        "Elementwise multiplication"
      ],
      "metadata": {
        "id": "ZT6OvrZzbzB5"
      }
    },
    {
      "cell_type": "code",
      "source": [
        "x = np.array([1,2,3,4])\n",
        "y = np.array([5,3,2,1])\n",
        "z = x*y #hoặc z = np.multiply(x, y)\n",
        "print(z)\n",
        "print(z.ndim)\n",
        "print(z.shape)"
      ],
      "metadata": {
        "colab": {
          "base_uri": "https://localhost:8080/"
        },
        "id": "2z4S6hkHbmNZ",
        "outputId": "7322a72c-0f9c-4665-888c-e0b4d7e7b56d"
      },
      "execution_count": 6,
      "outputs": [
        {
          "output_type": "stream",
          "name": "stdout",
          "text": [
            "[5 6 6 4]\n",
            "1\n",
            "(4,)\n"
          ]
        }
      ]
    },
    {
      "cell_type": "markdown",
      "source": [
        "Phép cộng 2 ma trận"
      ],
      "metadata": {
        "id": "7t8LVvtzcC6x"
      }
    },
    {
      "cell_type": "code",
      "source": [
        "X = np.array([1,2,3,4,5,6]).reshape((2,3))\n",
        "Y = np.array([6,5,4,3,2,1]).reshape((2,3))\n",
        "Z = X + Y\n",
        "print(Z)\n",
        "print(Z.ndim, '; ', Z.shape)"
      ],
      "metadata": {
        "colab": {
          "base_uri": "https://localhost:8080/"
        },
        "id": "5x1fAjNUb_TJ",
        "outputId": "f617beef-fe87-4feb-ea02-22c92dc9e9b2"
      },
      "execution_count": 7,
      "outputs": [
        {
          "output_type": "stream",
          "name": "stdout",
          "text": [
            "[[7 7 7]\n",
            " [7 7 7]]\n",
            "2 ;  (2, 3)\n"
          ]
        }
      ]
    },
    {
      "cell_type": "markdown",
      "source": [
        "Phép nhân ma trận với 1 đại lượng vô hướng"
      ],
      "metadata": {
        "id": "QmTH74XncM9B"
      }
    },
    {
      "cell_type": "code",
      "source": [
        "X = np.array([1,2,3,4,5,6]).reshape((2,3))\n",
        "a = 2\n",
        "Z = a*X\n",
        "print(Z)\n",
        "print(Z.ndim, '; ', Z.shape)"
      ],
      "metadata": {
        "colab": {
          "base_uri": "https://localhost:8080/"
        },
        "id": "p1qQRi4fcR-B",
        "outputId": "55a9bacc-4d59-4c79-fc34-469b109e5f57"
      },
      "execution_count": 8,
      "outputs": [
        {
          "output_type": "stream",
          "name": "stdout",
          "text": [
            "[[ 2  4  6]\n",
            " [ 8 10 12]]\n",
            "2 ;  (2, 3)\n"
          ]
        }
      ]
    },
    {
      "cell_type": "markdown",
      "source": [
        "Phép chuyển vị ma trận (transpose)"
      ],
      "metadata": {
        "id": "UCUsancmcRVJ"
      }
    },
    {
      "cell_type": "code",
      "source": [
        "X = np.array([1,2,3,4,5,6]).reshape((2,3))\n",
        "Z = X.T\n",
        "print(Z)\n",
        "print(Z.ndim, '; ', Z.shape)"
      ],
      "metadata": {
        "colab": {
          "base_uri": "https://localhost:8080/"
        },
        "id": "TkLeSMh3c8DZ",
        "outputId": "3c7e2282-14e8-4516-cf5f-02361ecb7d4d"
      },
      "execution_count": 9,
      "outputs": [
        {
          "output_type": "stream",
          "name": "stdout",
          "text": [
            "[[1 4]\n",
            " [2 5]\n",
            " [3 6]]\n",
            "2 ;  (3, 2)\n"
          ]
        }
      ]
    },
    {
      "cell_type": "markdown",
      "source": [
        "Phép nhân 2 ma trận "
      ],
      "metadata": {
        "id": "hvm5dem_c-hI"
      }
    },
    {
      "cell_type": "code",
      "source": [
        "X = np.array([1,2,3,4,5,6]).reshape((2,3))\n",
        "Y = np.array([6,5,4,3,2,1]).reshape((3,2))\n",
        "Z = np.dot(X,Y)\n",
        "print(Z)\n",
        "print(Z.ndim, '; ', Z.shape)\n"
      ],
      "metadata": {
        "colab": {
          "base_uri": "https://localhost:8080/"
        },
        "id": "6q_gNRGwdBxR",
        "outputId": "da6817cd-24ba-49ff-d427-942035ed594c"
      },
      "execution_count": 10,
      "outputs": [
        {
          "output_type": "stream",
          "name": "stdout",
          "text": [
            "[[20 14]\n",
            " [56 41]]\n",
            "2 ;  (2, 2)\n"
          ]
        }
      ]
    },
    {
      "cell_type": "markdown",
      "source": [
        "Phép nhân các phần tử có vị trí tương ứng "
      ],
      "metadata": {
        "id": "IwO5UPZydHaJ"
      }
    },
    {
      "cell_type": "code",
      "source": [
        "X = np.array([1,2,3,4,5,6]).reshape((2,3))\n",
        "Y = np.array([6,5,4,3,2,1]).reshape((2,3))\n",
        "Z = np.multiply(X,Y) #hoặc Z = X*Y\n",
        "print(Z)\n",
        "print(Z.ndim, '; ', Z.shape)"
      ],
      "metadata": {
        "colab": {
          "base_uri": "https://localhost:8080/"
        },
        "id": "eFQbruKsdFWi",
        "outputId": "d95d311e-9348-4d86-e945-0e21d709fa9b"
      },
      "execution_count": 11,
      "outputs": [
        {
          "output_type": "stream",
          "name": "stdout",
          "text": [
            "[[ 6 10 12]\n",
            " [12 10  6]]\n",
            "2 ;  (2, 3)\n"
          ]
        }
      ]
    },
    {
      "cell_type": "markdown",
      "source": [
        "Tạo vector cột dạng ma trận đặc biệt 𝑅\n",
        "𝑚×1"
      ],
      "metadata": {
        "id": "BxgJUVCRdOCh"
      }
    },
    {
      "cell_type": "code",
      "source": [
        "x = np.array([1,2,3,4,5]).reshape((5,1))\n",
        "print(x)\n",
        "print(x.ndim, '; ', x.shape)"
      ],
      "metadata": {
        "colab": {
          "base_uri": "https://localhost:8080/"
        },
        "id": "PAYbv8IcdNU5",
        "outputId": "77814b43-f210-4b54-b876-8f9437645dea"
      },
      "execution_count": 12,
      "outputs": [
        {
          "output_type": "stream",
          "name": "stdout",
          "text": [
            "[[1]\n",
            " [2]\n",
            " [3]\n",
            " [4]\n",
            " [5]]\n",
            "2 ;  (5, 1)\n"
          ]
        }
      ]
    },
    {
      "cell_type": "markdown",
      "source": [
        "Lấy ra 1 vector hàng từ ma trận X và chuyển thành ma trận đặc\n",
        "biệt dạng 𝑅 1×n"
      ],
      "metadata": {
        "id": "USE5qGqjg4RS"
      }
    },
    {
      "cell_type": "code",
      "source": [
        "X = np.array([1,2,3,4,5,6]).reshape((2,3))\n",
        "m = X.shape[0]\n",
        "n = X.shape[1]\n",
        "print('m = ', m, '; n = ', n)\n",
        "x = X[0, :]\n",
        "print(x)\n",
        "print(x.ndim, '; ', x.shape)\n",
        "x = x.reshape((1,n))\n",
        "print(x)\n",
        "print(x.ndim, '; ', x.shape)\n"
      ],
      "metadata": {
        "colab": {
          "base_uri": "https://localhost:8080/"
        },
        "id": "jyTs1zn6eI3G",
        "outputId": "c803e635-5dfe-44f7-b57a-785be53c75c5"
      },
      "execution_count": 13,
      "outputs": [
        {
          "output_type": "stream",
          "name": "stdout",
          "text": [
            "m =  2 ; n =  3\n",
            "[1 2 3]\n",
            "1 ;  (3,)\n",
            "[[1 2 3]]\n",
            "2 ;  (1, 3)\n"
          ]
        }
      ]
    },
    {
      "cell_type": "markdown",
      "source": [
        "Lấy ra 1 vector hàng từ ma trận X và chuyển thành ma trận đặc\n",
        "biệt dạng 𝑅 1×n"
      ],
      "metadata": {
        "id": "yvC6Heiig6Wq"
      }
    },
    {
      "cell_type": "code",
      "source": [
        "X = np.array([1,2,3,4,5,6]).reshape((2,3))\n",
        "m = X.shape[0]\n",
        "n = X.shape[1]\n",
        "print('m = ', m, '; n = ', n)\n",
        "x = X[:,1]\n",
        "print(x)\n",
        "print(x.ndim, '; ', x.shape)\n",
        "x = x.reshape((m,1))\n",
        "print(x)\n",
        "print(x.ndim, '; ', x.shape)"
      ],
      "metadata": {
        "colab": {
          "base_uri": "https://localhost:8080/"
        },
        "id": "a2n68ReDg1N7",
        "outputId": "4e9e6448-788c-4110-ca70-a483bf400661"
      },
      "execution_count": 14,
      "outputs": [
        {
          "output_type": "stream",
          "name": "stdout",
          "text": [
            "m =  2 ; n =  3\n",
            "[2 5]\n",
            "1 ;  (2,)\n",
            "[[2]\n",
            " [5]]\n",
            "2 ;  (2, 1)\n"
          ]
        }
      ]
    },
    {
      "cell_type": "markdown",
      "source": [
        "Xếp thêm 1 vector cột vào đầu ma trận: 𝑥 ∈ 𝑅\n",
        "𝑚 ℎ𝑎𝑦 𝑥 ∈𝑅𝑚×1, 𝑋 ∈ 𝑅𝑚×𝑛,\n",
        "                                                      𝑋 = [𝑥, 𝑋]"
      ],
      "metadata": {
        "id": "tXPlXxxQirzl"
      }
    },
    {
      "cell_type": "code",
      "source": [
        "X =\n",
        "np.array([1,2,3,4,5,6,7,8,9,10,11,12]).reshape((4,3))\n",
        "x = np.array([1,1,1,1]).reshape((4,1))\n",
        "X = np.column_stack([x,X])\n",
        "print(X)\n",
        "print(X.ndim, '; ', X.shape)"
      ],
      "metadata": {
        "colab": {
          "base_uri": "https://localhost:8080/",
          "height": 130
        },
        "id": "4_2K2Y3Kipnb",
        "outputId": "50c07374-aafb-4601-d1c0-a435dd221e9f"
      },
      "execution_count": 16,
      "outputs": [
        {
          "output_type": "error",
          "ename": "SyntaxError",
          "evalue": "ignored",
          "traceback": [
            "\u001b[0;36m  File \u001b[0;32m\"<ipython-input-16-e751c1ed8ec0>\"\u001b[0;36m, line \u001b[0;32m1\u001b[0m\n\u001b[0;31m    X =\u001b[0m\n\u001b[0m       ^\u001b[0m\n\u001b[0;31mSyntaxError\u001b[0m\u001b[0;31m:\u001b[0m invalid syntax\n"
          ]
        }
      ]
    },
    {
      "cell_type": "markdown",
      "source": [
        "Tách 1 ma trận data ban đầu gồm n cột thành 1 ma trận con X\n",
        "chứa các n-1 cột đầu tiên và 1 vector cột y lấy ra từ cột cuối cùng\n",
        "của dat"
      ],
      "metadata": {
        "id": "Vos_doFmi7gh"
      }
    },
    {
      "cell_type": "code",
      "source": [
        "data = np.array([[10,22,13,1],\n",
        " [9,6,5,0],\n",
        " [8,12,4,1],\n",
        " [6,5,7,0]])\n",
        "X = data[:,:-1]\n",
        "y = data[:,-1].reshape((data.shape[0], 1))\n",
        "print(X)\n",
        "print(X.ndim, '; ', X.shape)\n",
        "print(y)\n",
        "print(y.ndim, '; ', y.shape)\n"
      ],
      "metadata": {
        "colab": {
          "base_uri": "https://localhost:8080/"
        },
        "id": "GC_LnNVUi9Mb",
        "outputId": "1dbeadc3-ad54-45e7-89ca-341a5d149c4f"
      },
      "execution_count": 15,
      "outputs": [
        {
          "output_type": "stream",
          "name": "stdout",
          "text": [
            "[[10 22 13]\n",
            " [ 9  6  5]\n",
            " [ 8 12  4]\n",
            " [ 6  5  7]]\n",
            "2 ;  (4, 3)\n",
            "[[1]\n",
            " [0]\n",
            " [1]\n",
            " [0]]\n",
            "2 ;  (4, 1)\n"
          ]
        }
      ]
    },
    {
      "cell_type": "markdown",
      "source": [
        "Tạo 1 tensor 𝑇 ∈ 𝑅 𝑚×𝑛×𝑘 với m = 2, n = 2 và k = 3, các giá trị được sinh ngẫu nhiên."
      ],
      "metadata": {
        "id": "rPJVPc4LjDhU"
      }
    },
    {
      "cell_type": "code",
      "source": [
        "import numpy as np\n",
        "m=2\n",
        "n=2\n",
        "k=3\n",
        "T = np.random.randint(low=-5,\n",
        "high=5,size=m*n*k).reshape(k,m,n)\n",
        "print(T)\n"
      ],
      "metadata": {
        "colab": {
          "base_uri": "https://localhost:8080/"
        },
        "id": "mWEdaSY0jCXL",
        "outputId": "9e330bd7-cbd8-47e0-b7c8-a4c4396f6556"
      },
      "execution_count": 17,
      "outputs": [
        {
          "output_type": "stream",
          "name": "stdout",
          "text": [
            "[[[ 2 -2]\n",
            "  [-4  3]]\n",
            "\n",
            " [[-3  4]\n",
            "  [ 1  3]]\n",
            "\n",
            " [[ 3 -2]\n",
            "  [-2  1]]]\n"
          ]
        }
      ]
    },
    {
      "cell_type": "markdown",
      "source": [
        "Tạo 1 tensor 𝑇2 ∈ 𝑅 𝑚×𝑛×𝑘×𝑞 chứa 2 tensor 𝑡1,𝑡2 ∈ 𝑅 𝑚×𝑛×𝑘 ,biết t1 và t2 được sinh ngẫu nhiên"
      ],
      "metadata": {
        "id": "94ZAzw9QjJvL"
      }
    },
    {
      "cell_type": "code",
      "source": [
        "import numpy as np\n",
        "m=2\n",
        "n=2\n",
        "k=3\n",
        "t1 = np.random.randint(low=-5,\n",
        "high=5,size=m*n*k).reshape(k,m,n)\n",
        "t2 = np.random.randint(low=-5,\n",
        "high=5,size=m*n*k).reshape(k,m,n)\n",
        "t3 = np.random.randint(low=-5,\n",
        "high=5,size=m*n*k).reshape(k,m,n)\n",
        "t4 = np.random.randint(low=-5,\n",
        "high=5,size=m*n*k).reshape(k,m,n)\n",
        "T = np.stack((t1, t2, t3, t4), axis=-1)\n",
        "print(T.shape)\n",
        "x = T[:,:,:,0]\n",
        "print(x.shape)\n",
        "m1 = x[0,:,:]\n",
        "print(m1)\n",
        "print(m1.shape)"
      ],
      "metadata": {
        "colab": {
          "base_uri": "https://localhost:8080/"
        },
        "id": "WVtTV5aejJDb",
        "outputId": "3ee218e1-68c5-4d66-f95b-80c7c9c768c4"
      },
      "execution_count": 18,
      "outputs": [
        {
          "output_type": "stream",
          "name": "stdout",
          "text": [
            "(3, 2, 2, 4)\n",
            "(3, 2, 2)\n",
            "[[-1 -4]\n",
            " [-1 -2]]\n",
            "(2, 2)\n"
          ]
        }
      ]
    }
  ]
}