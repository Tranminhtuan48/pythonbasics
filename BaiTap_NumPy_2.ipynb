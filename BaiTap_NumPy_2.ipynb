{
  "nbformat": 4,
  "nbformat_minor": 0,
  "metadata": {
    "colab": {
      "name": "BaiTap_NumPy_2.ipynb",
      "provenance": [],
      "collapsed_sections": [],
      "include_colab_link": true
    },
    "kernelspec": {
      "name": "python3",
      "display_name": "Python 3"
    },
    "language_info": {
      "name": "python"
    }
  },
  "cells": [
    {
      "cell_type": "markdown",
      "metadata": {
        "id": "view-in-github",
        "colab_type": "text"
      },
      "source": [
        "<a href=\"https://colab.research.google.com/github/Tranminhtuan48/pythonbasics/blob/main/BaiTap_NumPy_2.ipynb\" target=\"_parent\"><img src=\"https://colab.research.google.com/assets/colab-badge.svg\" alt=\"Open In Colab\"/></a>"
      ]
    },
    {
      "cell_type": "code",
      "source": [
        "import numpy as np"
      ],
      "metadata": {
        "id": "9TyUA4TfKCXz"
      },
      "execution_count": 1,
      "outputs": []
    },
    {
      "cell_type": "markdown",
      "source": [
        "Bài 1:Trong Toán học, ma trận (matrix) là một mảng 2 chiều chứa số hoặc các đối\n",
        "tượng toán học khác. Một cách tổng quát ma trận A có m hàng và n cột chứa các số thực, ký hiệu là A ∈ Rm×n hay Am×n hay A = (ai,j)\n",
        "m×n \n",
        "\n",
        "Sử dụng thư viện NumPy, hãy tạo ra một ma trận A ∈ R7×5, giá trị các phần tử của ma trận được sinh ngẫu nhiên. Kết quả xuất ra màn hình."
      ],
      "metadata": {
        "id": "R0eOCBIaJlOR"
      }
    },
    {
      "cell_type": "code",
      "source": [
        "a = np.random.randint(0,30, (7,5))\n",
        "print(a)"
      ],
      "metadata": {
        "colab": {
          "base_uri": "https://localhost:8080/"
        },
        "id": "DrojKmfeJogh",
        "outputId": "3b237225-cea3-4b1f-a682-828537ee9240"
      },
      "execution_count": 2,
      "outputs": [
        {
          "output_type": "stream",
          "name": "stdout",
          "text": [
            "[[23  5  6 27 20]\n",
            " [11  1  3 27  2]\n",
            " [ 0 26  1 27  8]\n",
            " [23  6 16 18 22]\n",
            " [24 13 27 12  8]\n",
            " [ 1  9 26  9 28]\n",
            " [ 7 11 23  5  5]]\n"
          ]
        }
      ]
    },
    {
      "cell_type": "markdown",
      "source": [
        "Bài 2: Ma trận Am×n được gọi là ma trận không khi ai,j = 0, ∀i,j. Sử dụng thư viện NumPy, hãy tạo một ma trận 0 - A6×7."
      ],
      "metadata": {
        "id": "g0hv1YW2KL5n"
      }
    },
    {
      "cell_type": "code",
      "source": [
        "b = np.zeros((6,7))\n",
        "print(b)"
      ],
      "metadata": {
        "colab": {
          "base_uri": "https://localhost:8080/"
        },
        "id": "oxxQex3nKRd-",
        "outputId": "89af40b9-7cc3-489c-f3db-c8ecbe8483a2"
      },
      "execution_count": 3,
      "outputs": [
        {
          "output_type": "stream",
          "name": "stdout",
          "text": [
            "[[0. 0. 0. 0. 0. 0. 0.]\n",
            " [0. 0. 0. 0. 0. 0. 0.]\n",
            " [0. 0. 0. 0. 0. 0. 0.]\n",
            " [0. 0. 0. 0. 0. 0. 0.]\n",
            " [0. 0. 0. 0. 0. 0. 0.]\n",
            " [0. 0. 0. 0. 0. 0. 0.]]\n"
          ]
        }
      ]
    },
    {
      "cell_type": "markdown",
      "source": [
        "Bài 3: Là ma trận có số hàng và số cột bằng nhau. Sử dụng thư viện NumPy,\n",
        "hãy tạo ra một ma trận A ∈ R7×7, giá trị các phần tử của ma trận được sinh ngẫu nhiên. Kết quả xuất ra màn hình."
      ],
      "metadata": {
        "id": "9PCP1dZoKe9A"
      }
    },
    {
      "cell_type": "code",
      "source": [
        "c = np.random.randint(0,30, (7,7))\n",
        "print(c)"
      ],
      "metadata": {
        "colab": {
          "base_uri": "https://localhost:8080/"
        },
        "id": "UHmBygKCKmQz",
        "outputId": "75b2a4f1-d6aa-4637-ad27-046105a8b710"
      },
      "execution_count": 7,
      "outputs": [
        {
          "output_type": "stream",
          "name": "stdout",
          "text": [
            "[[23 14 28  7 28 18 14]\n",
            " [29  8 11 22 27 22 16]\n",
            " [28 24 17 17 26 23 26]\n",
            " [ 3 20 12  5  8 12 14]\n",
            " [15 19 22 27 20 10 22]\n",
            " [26 19 11 27  6  0 11]\n",
            " [ 1  2 11 26 29 25  2]]\n"
          ]
        }
      ]
    },
    {
      "cell_type": "markdown",
      "source": [
        "Bài 4: Ma trận vuông có các phần tử trên đường chéo ai,i ≠ 0\n",
        "trong khi các phần tử còn lại ai,j = 0, ∀i ≠ j.\n",
        "\n",
        "\n",
        "Sử dụng thư viện NumPy, hãy tạo một ma trận chéo A6×6 với phần tử nằm trên đường chéo có giá trị là 15."
      ],
      "metadata": {
        "id": "oLUMcn3tK_hK"
      }
    },
    {
      "cell_type": "code",
      "source": [
        "d = np.zeros([6,6], dtype = int)\n",
        "np.fill_diagonal(d, 15)\n",
        "print(d)"
      ],
      "metadata": {
        "colab": {
          "base_uri": "https://localhost:8080/"
        },
        "id": "EsFyFtucMUrd",
        "outputId": "4ceec6ae-02b4-4288-81cd-61004a48297d"
      },
      "execution_count": 5,
      "outputs": [
        {
          "output_type": "stream",
          "name": "stdout",
          "text": [
            "[[15  0  0  0  0  0]\n",
            " [ 0 15  0  0  0  0]\n",
            " [ 0  0 15  0  0  0]\n",
            " [ 0  0  0 15  0  0]\n",
            " [ 0  0  0  0 15  0]\n",
            " [ 0  0  0  0  0 15]]\n"
          ]
        }
      ]
    },
    {
      "cell_type": "markdown",
      "source": [
        "Bài 5: Sử dụng thư viện NumPy, hãy tạo một ma trận tam giác trên A8×8."
      ],
      "metadata": {
        "id": "LlzwZlj7NGNm"
      }
    },
    {
      "cell_type": "code",
      "source": [
        "e = np.triu(np.random.randint(0,30,[8,8]))\n",
        "print(e)"
      ],
      "metadata": {
        "colab": {
          "base_uri": "https://localhost:8080/"
        },
        "id": "eiRNAlOkNPCd",
        "outputId": "616670cd-06ad-4b7d-ee87-ada2ef097d76"
      },
      "execution_count": 6,
      "outputs": [
        {
          "output_type": "stream",
          "name": "stdout",
          "text": [
            "[[10  0  4 23 19 29 21 20]\n",
            " [ 0 23 20 27 26 12  0  6]\n",
            " [ 0  0 29  9  3 19 27 12]\n",
            " [ 0  0  0 14 28 16  9 13]\n",
            " [ 0  0  0  0 12 24 23 27]\n",
            " [ 0  0  0  0  0  9 24 28]\n",
            " [ 0  0  0  0  0  0 12  7]\n",
            " [ 0  0  0  0  0  0  0 10]]\n"
          ]
        }
      ]
    },
    {
      "cell_type": "markdown",
      "source": [
        "Bài 6: Tương tự bài 5, hãy xây dựng\n",
        "ma trận tam giác dưới. Kết quả xuất ra màn hình."
      ],
      "metadata": {
        "id": "5szK6AEPNpl-"
      }
    },
    {
      "cell_type": "code",
      "source": [
        "f = np.tril(np.random.randint(1,30,[8,8]), k = 0)\n",
        "print(f)"
      ],
      "metadata": {
        "colab": {
          "base_uri": "https://localhost:8080/"
        },
        "id": "RKw4bJ8GNtvu",
        "outputId": "8047273b-aac2-403d-f4bf-3957e446c702"
      },
      "execution_count": 8,
      "outputs": [
        {
          "output_type": "stream",
          "name": "stdout",
          "text": [
            "[[18  0  0  0  0  0  0  0]\n",
            " [10 15  0  0  0  0  0  0]\n",
            " [15  4 20  0  0  0  0  0]\n",
            " [ 7  2 15 11  0  0  0  0]\n",
            " [16  8  6 29 24  0  0  0]\n",
            " [16  1 18  4 13  5  0  0]\n",
            " [27 22  8 25 28 21 28  0]\n",
            " [ 5 20  4 22  6 21 27  3]]\n"
          ]
        }
      ]
    },
    {
      "cell_type": "markdown",
      "source": [
        "Bài 7: Ma trận đơn vị In có số chiều n là một ma trận vuông mà mọi phần tử trên đường chéo chính bằng 1. Sử dụng thư viện NumPy, hãy tạo ra một ma trận I9. Kết quả xuất ra màn hình."
      ],
      "metadata": {
        "id": "Qg6ZX6cYOBgQ"
      }
    },
    {
      "cell_type": "code",
      "source": [
        "g = np.identity(9, dtype = int)\n",
        "print(g)"
      ],
      "metadata": {
        "colab": {
          "base_uri": "https://localhost:8080/"
        },
        "id": "UFReNin6OG7v",
        "outputId": "af1b4f02-9cdd-42e2-e49e-9447260c40b8"
      },
      "execution_count": null,
      "outputs": [
        {
          "output_type": "stream",
          "name": "stdout",
          "text": [
            "[[1 0 0 0 0 0 0 0 0]\n",
            " [0 1 0 0 0 0 0 0 0]\n",
            " [0 0 1 0 0 0 0 0 0]\n",
            " [0 0 0 1 0 0 0 0 0]\n",
            " [0 0 0 0 1 0 0 0 0]\n",
            " [0 0 0 0 0 1 0 0 0]\n",
            " [0 0 0 0 0 0 1 0 0]\n",
            " [0 0 0 0 0 0 0 1 0]\n",
            " [0 0 0 0 0 0 0 0 1]]\n"
          ]
        }
      ]
    },
    {
      "cell_type": "markdown",
      "source": [
        "Bài 8: Phép toán trên ma trận:"
      ],
      "metadata": {
        "id": "hKc0e3VEOdka"
      }
    },
    {
      "cell_type": "markdown",
      "source": [
        "* Phép cộng ma trận:"
      ],
      "metadata": {
        "id": "piJOmRRuOkyJ"
      }
    },
    {
      "cell_type": "code",
      "source": [
        "# create matrix h\n",
        "h = np.random.randint(0,30, [6,7])\n",
        "print(\"Matrix h : \\n\",h)\n",
        "\n",
        "# create matrix i\n",
        "i = np.random.randint(0,30, [6,7])\n",
        "print(\"Matrix i: \\n\",i)\n",
        "\n",
        "# Sum two Matrixs\n",
        "print(\"h + i = \\n\", h + i)"
      ],
      "metadata": {
        "colab": {
          "base_uri": "https://localhost:8080/"
        },
        "id": "m4ILP0FnOkDf",
        "outputId": "efe4f914-5925-4839-f03b-89ba40f0289a"
      },
      "execution_count": 10,
      "outputs": [
        {
          "output_type": "stream",
          "name": "stdout",
          "text": [
            "Matrix h : \n",
            " [[28 12 15 16 16 26 17]\n",
            " [24  9 27 12  3  2  1]\n",
            " [12  0 19 14 12  8  8]\n",
            " [18 19 14 29  6 20 20]\n",
            " [24  8  7  3  8 20  6]\n",
            " [ 4  1 19  1 21  3  3]]\n",
            "Matrix i: \n",
            " [[ 7  2  5 26 13  1  8]\n",
            " [12 10 19 24  4 12  9]\n",
            " [ 1 18 15 17 13 16  0]\n",
            " [16 15 13 11  5 10 20]\n",
            " [29 27 29  4  9  6  3]\n",
            " [ 8  9 24 21  2  1 24]]\n",
            "h + i = \n",
            " [[35 14 20 42 29 27 25]\n",
            " [36 19 46 36  7 14 10]\n",
            " [13 18 34 31 25 24  8]\n",
            " [34 34 27 40 11 30 40]\n",
            " [53 35 36  7 17 26  9]\n",
            " [12 10 43 22 23  4 27]]\n"
          ]
        }
      ]
    },
    {
      "cell_type": "markdown",
      "source": [
        "* Phép nhân vô hướng một số với ma trận: "
      ],
      "metadata": {
        "id": "y8gnE6mjPhhD"
      }
    },
    {
      "cell_type": "code",
      "source": [
        "# create matrix k\n",
        "k = np.random.randint(0,30, [6,7])\n",
        "print(\"Ma trận A: \\n\",A)\n",
        "\n",
        "# scalar multiplication\n",
        "l = float(input(\"Input num: \"))\n",
        "print(f\"k * {l}: \\n\", k * l)"
      ],
      "metadata": {
        "colab": {
          "base_uri": "https://localhost:8080/"
        },
        "id": "EU_aD1CcPp4n",
        "outputId": "3cc417ec-48f8-43a2-aac8-d3e05a94bccb"
      },
      "execution_count": 14,
      "outputs": [
        {
          "output_type": "stream",
          "name": "stdout",
          "text": [
            "Ma trận A: \n",
            " [[24  5 25 26 24  1  8]\n",
            " [11  3  7  7 28 22 12]\n",
            " [18  5 25 15  8 21  0]\n",
            " [13 18  7  8  8 29 10]\n",
            " [24  6 20  9  3 26  6]\n",
            " [ 5 16 29  3  2  4  9]]\n",
            "Input num: 3\n",
            "k * 3.0: \n",
            " [[63.  0. 36. 63. 33. 30. 66.]\n",
            " [15. 33. 48. 60. 66.  3. 63.]\n",
            " [84. 57.  6. 69. 84. 57. 15.]\n",
            " [66. 63.  0. 42. 39. 12. 78.]\n",
            " [18. 24.  3. 12. 54. 84. 72.]\n",
            " [ 3.  3. 66. 60. 24. 51. 21.]]\n"
          ]
        }
      ]
    },
    {
      "cell_type": "markdown",
      "source": [
        "* Phép chuyển vị ma trận: Sinh ngẫu nhiên một ma trận có kích thước 3x7. Thực hiện phép\n",
        "chuyển vị đối với ma trận này. Xuất các ma trận này ra màn hình."
      ],
      "metadata": {
        "id": "3EPgz037QSix"
      }
    },
    {
      "cell_type": "code",
      "source": [
        "# create matrix m 3x7\n",
        "m = np.random.randint(0,30, [3,7])\n",
        "print(\"Matrix m: \\n\",m)\n",
        "\n",
        "# transposition\n",
        "print(\"transposition: \\n\",m.T)"
      ],
      "metadata": {
        "colab": {
          "base_uri": "https://localhost:8080/"
        },
        "id": "VDsptuZrQVWw",
        "outputId": "ca5a2a56-1607-4a8f-e805-cf31fb67eae1"
      },
      "execution_count": 15,
      "outputs": [
        {
          "output_type": "stream",
          "name": "stdout",
          "text": [
            "Matrix m: \n",
            " [[ 9 27 22 15 21 15  4]\n",
            " [12  7  5  8  3  0  5]\n",
            " [23 24 19 13 11  4 13]]\n",
            "transposition: \n",
            " [[ 9 12 23]\n",
            " [27  7 24]\n",
            " [22  5 19]\n",
            " [15  8 13]\n",
            " [21  3 11]\n",
            " [15  0  4]\n",
            " [ 4  5 13]]\n"
          ]
        }
      ]
    },
    {
      "cell_type": "markdown",
      "source": [
        "* Phép nhân 2 ma trận: Am×n ∙ Bn×p = Cm×p. Hãy sinh ngẫu nhiên 2 ma trận A5×7 và B7×3, tiến hành nhân 2 ma trận này để thu được ma trận C5×3. Xuất các ma trận trên ra màn hình."
      ],
      "metadata": {
        "id": "gDqxHubvQqTa"
      }
    },
    {
      "cell_type": "code",
      "source": [
        "# create matrix n 5x7\n",
        "n = np.random.randint(0,30, [5,7])\n",
        "print(\"Matrix n: \\n\",n)\n",
        "\n",
        "# create matrix o 7x3\n",
        "o = np.random.randint(0,30, [7,3])\n",
        "print(\"Matrix o: \\n\",o)\n",
        "\n",
        "#Result\n",
        "print(\"Matrix p: \\n\",n.dot(o))\n"
      ],
      "metadata": {
        "colab": {
          "base_uri": "https://localhost:8080/"
        },
        "id": "MlcxO92vQtnJ",
        "outputId": "f19be2db-1056-444b-d1d3-0910efea9801"
      },
      "execution_count": 16,
      "outputs": [
        {
          "output_type": "stream",
          "name": "stdout",
          "text": [
            "Matrix n: \n",
            " [[18 10  9 18 27 24 23]\n",
            " [ 4  3 12 27  8  0 23]\n",
            " [ 8 18 28 19 28 12 20]\n",
            " [20  8 21 11  6 15  5]\n",
            " [25 21  7  7 10  3 22]]\n",
            "Matrix o: \n",
            " [[ 2 19  6]\n",
            " [10  4  1]\n",
            " [25 23 15]\n",
            " [27 19  0]\n",
            " [11 13  5]\n",
            " [12 10 21]\n",
            " [26  7  3]]\n",
            "Matrix p: \n",
            " [[2030 1683  961]\n",
            " [1753 1142  316]\n",
            " [2381 1853  938]\n",
            " [1318 1367  803]\n",
            " [1342 1167  455]]\n"
          ]
        }
      ]
    },
    {
      "cell_type": "markdown",
      "source": [
        "* Ma trận khả nghịch: ma trận vuông An×n gọi là khả nghịch (hay không suy biến) nếu tồn tại một ma trận vuông Bn×n sao cho A ∙ B = In . Khi này, B được gọi là ma trận nghịch đảo của A và ký hiệu là A mũ -1. Cho ma trận A5×7, hãy tính ma trận khả nghịch của A."
      ],
      "metadata": {
        "id": "Z2HT_6JURnSH"
      }
    },
    {
      "cell_type": "code",
      "source": [
        "q = np.random.randint(0,30, [7,7])\n",
        "print(\"Matrix q: \\n\",q)\n",
        "\n",
        "# determinant:\n",
        "det_q = np.linalg.det(q)\n",
        "\n",
        "# inverse matrix\n",
        "if (det_q != 0):\n",
        "  print(\"inverse matrix of q:\\n\",np.linalg.inv(q))\n",
        "else:\n",
        "  print(\"q not have inverse matrix\")\n"
      ],
      "metadata": {
        "colab": {
          "base_uri": "https://localhost:8080/"
        },
        "id": "GMUMJLYYRtq7",
        "outputId": "c1fc04a1-0e8f-4d98-c533-60be397a0dcf"
      },
      "execution_count": 17,
      "outputs": [
        {
          "output_type": "stream",
          "name": "stdout",
          "text": [
            "Matrix q: \n",
            " [[11 24  7  6 17  2  6]\n",
            " [16 21 17  1  9 18 16]\n",
            " [19 22 19 26  7 28  7]\n",
            " [26  3 17 11 28 12 24]\n",
            " [ 6 22 13 11 14  9  1]\n",
            " [ 0 21 13 22 12  3 25]\n",
            " [ 7 20 27 12 19 18 29]]\n",
            "inverse matrix of q:\n",
            " [[-0.25523342  0.21531684 -0.09691603  0.09331761  0.25049265  0.1368938\n",
            "  -0.246473  ]\n",
            " [ 0.05708625  0.00209374  0.00971292 -0.02830586 -0.0324947  -0.00336042\n",
            "   0.01213234]\n",
            " [-0.64292357  0.41998245 -0.25464423  0.16550036  0.66322899  0.2837431\n",
            "  -0.44167183]\n",
            " [-0.05367995  0.00229152  0.00500688  0.01964255  0.04917837  0.04670883\n",
            "  -0.04958459]\n",
            " [ 0.32674823 -0.25370617  0.11185114 -0.06781203 -0.28837295 -0.17452669\n",
            "   0.26189242]\n",
            " [ 0.50368767 -0.35705725  0.2242155  -0.14733807 -0.52830502 -0.27527733\n",
            "   0.41612529]\n",
            " [ 0.11632449 -0.05754032  0.03925568 -0.02933836 -0.15904487 -0.02902134\n",
            "   0.08746922]]\n"
          ]
        }
      ]
    },
    {
      "cell_type": "markdown",
      "source": [
        "Bài 9: Sử dụng numpy để thực hiện các yêu cầu sau\n",
        "* Vector hàng (row vector) thực chất là ma trận có kích thước 1 × n. Hãy tạo ngẫu nhiên 1 vector hàng - x có kích thước 1 × 8. Kết quả xuất ra màn hình.\n",
        "* Vector cột (column vector) thực chất là ma trận có kích thước m × 1. Hãy tạo ngẫu nhiên 1 vector cột – x có kích thước 8 × 1. Kết quả xuất ra màn hình."
      ],
      "metadata": {
        "id": "f5hKr7yNVNOs"
      }
    },
    {
      "cell_type": "code",
      "source": [
        "# Create row vector\n",
        "row_vec = np.random.randint(0,30, (1,8))\n",
        "print(\"Row Vector: \\n\", row_vec)\n",
        "\n",
        "# Create column vector\n",
        "column_vec = np.random.randint(0,30, (8,1))\n",
        "print(\"Column Vector: \\n\", column_vec)"
      ],
      "metadata": {
        "colab": {
          "base_uri": "https://localhost:8080/"
        },
        "id": "Tsw-ES8eVX31",
        "outputId": "c3083077-4a1c-411a-9230-4c10b53d6e70"
      },
      "execution_count": 18,
      "outputs": [
        {
          "output_type": "stream",
          "name": "stdout",
          "text": [
            "Row Vector: \n",
            " [[16 28  1 15 22  4 28 15]]\n",
            "Column Vector: \n",
            " [[15]\n",
            " [10]\n",
            " [ 7]\n",
            " [13]\n",
            " [ 1]\n",
            " [11]\n",
            " [16]\n",
            " [28]]\n"
          ]
        }
      ]
    },
    {
      "cell_type": "markdown",
      "source": [
        "Bài 10: Xây dựng chương trình Python sử dụng thư viện NumPy để giải hệ phương trình tuyến tính có dạng: Am×n ∙ xn×1 = bm×1"
      ],
      "metadata": {
        "id": "6KdzxIyEVwmQ"
      }
    },
    {
      "cell_type": "code",
      "source": [
        "m = int(input(\"equation : \"))\n",
        "n = int(input(\"Hidden num: \"))\n",
        "index_list = []\n",
        "value_list = []\n",
        " \n",
        "for i in range(m):\n",
        "    print(f\"-------Phương trình {i+1}------\")\n",
        "    for y in range(n):\n",
        "        temp1 = float(input(f\"x[{i+1}][{y+1}] = \"))\n",
        "        index_list.append(temp1)\n",
        "    temp2 = float(input(f\"b[{i+1}] = \"))\n",
        "    value_list.append(temp2)\n",
        "\n",
        "a = np.array(index_list).reshape((m,n))\n",
        "b = np.array(value_list).reshape((m,1))\n",
        "\n",
        "# Coefficient Matrix:\n",
        "a1 = np.concatenate((a,b), axis = 1)\n",
        "\n",
        "if (np.linalg.matrix_rank(a) < np.linalg.matrix_rank(a1)):\n",
        "    print(\"System of equations with no solution\")\n",
        "elif (np.linalg.matrix_rank(a) == np.linalg.matrix_rank(a1) and np.linalg.matrix_rank(a) < n):\n",
        "    print(\"The system of equations has infinitely many solutions\")\n",
        "else:\n",
        "    print(\"The system of equations has a unique solution\")\n",
        "    print(\"The solution set of the system is: \\n\",np.linalg.inv(a).dot(b))"
      ],
      "metadata": {
        "id": "MwJM0qmtV6cK",
        "colab": {
          "base_uri": "https://localhost:8080/"
        },
        "outputId": "5dfc0df5-ae85-4bf2-f42e-1e880dbd66c2"
      },
      "execution_count": 19,
      "outputs": [
        {
          "output_type": "stream",
          "name": "stdout",
          "text": [
            "equation : 3\n",
            "Hidden num: 2\n",
            "-------Phương trình 1------\n",
            "x[1][1] = 1\n",
            "x[1][2] = -1\n",
            "b[1] = 2\n",
            "-------Phương trình 2------\n",
            "x[2][1] = 1\n",
            "x[2][2] = 3\n",
            "b[2] = 2\n",
            "-------Phương trình 3------\n",
            "x[3][1] = 4\n",
            "x[3][2] = 3\n",
            "b[3] = 2\n",
            "System of equations with no solution\n"
          ]
        }
      ]
    }
  ]
}