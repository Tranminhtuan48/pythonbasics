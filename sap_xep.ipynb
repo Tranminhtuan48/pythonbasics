{
  "nbformat": 4,
  "nbformat_minor": 0,
  "metadata": {
    "colab": {
      "name": "sap xep.ipynb",
      "provenance": [],
      "authorship_tag": "ABX9TyMJ343GRRGeKoNAfaYpXDwc",
      "include_colab_link": true
    },
    "kernelspec": {
      "name": "python3",
      "display_name": "Python 3"
    },
    "language_info": {
      "name": "python"
    }
  },
  "cells": [
    {
      "cell_type": "markdown",
      "metadata": {
        "id": "view-in-github",
        "colab_type": "text"
      },
      "source": [
        "<a href=\"https://colab.research.google.com/github/Tranminhtuan48/pythonbasics/blob/main/sap_xep.ipynb\" target=\"_parent\"><img src=\"https://colab.research.google.com/assets/colab-badge.svg\" alt=\"Open In Colab\"/></a>"
      ]
    },
    {
      "cell_type": "code",
      "source": [
        "def nhap():\n",
        "  n = int(input(\"Nhap di lao ban: \"))\n",
        "  return [int(input()) for i in range(n)]"
      ],
      "metadata": {
        "id": "GVZGG0y9zSxh"
      },
      "execution_count": 5,
      "outputs": []
    },
    {
      "cell_type": "code",
      "execution_count": 12,
      "metadata": {
        "id": "EYnkz2AgxEIW"
      },
      "outputs": [],
      "source": [
        "#selectiob sort\n",
        "def sap_xep_lua_chon (a: list):\n",
        "  n =len(a)\n",
        "  Gtnn = 0\n",
        "  for i in range(n -1):\n",
        "    min = i\n",
        "    for j in range(i+1, n):\n",
        "      if a[min] > a[j]:\n",
        "        a[min], a[j]=a[j], a[min]"
      ]
    },
    {
      "cell_type": "code",
      "source": [
        "day = nhap()\n",
        "sap_xep_lua_chon(day)\n",
        "print(day)"
      ],
      "metadata": {
        "id": "Rua1ovI4yZ77"
      },
      "execution_count": null,
      "outputs": []
    },
    {
      "cell_type": "code",
      "source": [
        "# insertion sort\n",
        "def insertionSort(a):\n",
        "    for i in range(1, len(a)):\n",
        "        key = a[i]\n",
        "        j = i-1\n",
        "        while j >=0 and key < a[j] :\n",
        "                a[j+1] = a[j]\n",
        "                j -= 1\n",
        "        a[j+1] = key"
      ],
      "metadata": {
        "id": "8SKlRh1j4VzB"
      },
      "execution_count": 17,
      "outputs": []
    },
    {
      "cell_type": "code",
      "source": [
        "b = nhap()\n",
        "insertionSort(b)\n",
        "print (b)\n"
      ],
      "metadata": {
        "id": "fy-gHD1R4jYB"
      },
      "execution_count": null,
      "outputs": []
    },
    {
      "cell_type": "code",
      "source": [
        "#Bubble sort\n",
        "def bubbleSort(a):\n",
        "    n = len(a)\n",
        "    for i in range(n-1):\n",
        "        for j in range(0, n-i-1):\n",
        "            if a[j] > a[j + 1] :\n",
        "              a[j], a[j + 1] = a[j + 1], a[j]"
      ],
      "metadata": {
        "id": "xdpdq4pP8q6I"
      },
      "execution_count": 26,
      "outputs": []
    },
    {
      "cell_type": "code",
      "source": [
        "c = nhap()\n",
        "bubbleSort(c)\n",
        "print (c)"
      ],
      "metadata": {
        "id": "ZVE-IM8w81xA"
      },
      "execution_count": null,
      "outputs": []
    },
    {
      "cell_type": "code",
      "source": [
        "#Quick sort\n",
        "def tao_vach_ngan(a, nho, lon):\n",
        "    i = (nho-1)\n",
        "    khoa = a[lon]\n",
        " \n",
        "    for j in range(nho, lon):\n",
        "        if a[j] <= khoa:\n",
        "            i = i+1\n",
        "            a[i], a[j] = a[j], a[i]\n",
        " \n",
        "    a[i+1], a[lon] = a[lon], a[i+1]\n",
        "    return (i+1)\n",
        "def quickSort(a, nho, lon):\n",
        "    if len(a) == 1:\n",
        "        return a\n",
        "    if nho < lon:\n",
        "        pi = tao_vach_ngan(a, nho, lon)\n",
        "        quickSort(a, nho, pi-1)\n",
        "        quickSort(a, pi+1, lon)"
      ],
      "metadata": {
        "id": "kp1REVS89mmZ"
      },
      "execution_count": 32,
      "outputs": []
    },
    {
      "cell_type": "code",
      "source": [
        "d = nhap()\n",
        "n = len(d)\n",
        "quickSort(d, 0, n-1)\n",
        "print(d)"
      ],
      "metadata": {
        "id": "AgQ7T23pBME5"
      },
      "execution_count": null,
      "outputs": []
    },
    {
      "cell_type": "code",
      "source": [
        "def tao_asd(a, n, i):\n",
        "    largest = i\n",
        "    l = 2 * i + 1\n",
        "    r = 2 * i + 2 \n",
        "    if l < n and a[i] < a[l]:\n",
        "        largest = l\n",
        "    if r < n and a[largest] < a[r]:\n",
        "        largest = r\n",
        "    if largest != i:\n",
        "        a[i],a[largest] = a[largest],a[i]\n",
        "        tao_asd(a, n, largest)\n",
        "  \n",
        "def heapSort(a):\n",
        "    n = len(a)\n",
        "    for i in range(n // 2 - 1, -1, -1):\n",
        "        tao_asd(a, n, i)\n",
        "    for i in range(n-1, 0, -1):\n",
        "        a[i], a[0] = a[0], a[i]\n",
        "        tao_asd(a, i, 0)"
      ],
      "metadata": {
        "id": "sIjjxakPDmEQ"
      },
      "execution_count": 39,
      "outputs": []
    },
    {
      "cell_type": "code",
      "source": [
        "e = nhap()\n",
        "heapSort(e)\n",
        "n = len(e)\n",
        "print (e)"
      ],
      "metadata": {
        "id": "KyQyjUDLEU8p"
      },
      "execution_count": null,
      "outputs": []
    }
  ]
}