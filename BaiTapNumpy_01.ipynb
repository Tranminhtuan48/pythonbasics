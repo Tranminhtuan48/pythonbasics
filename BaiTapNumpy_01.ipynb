{
  "nbformat": 4,
  "nbformat_minor": 0,
  "metadata": {
    "colab": {
      "name": "BaiTapNumpy-01.ipynb",
      "provenance": [],
      "collapsed_sections": [],
      "authorship_tag": "ABX9TyPRHUUwKXVJv2BTJ8kdgrWR",
      "include_colab_link": true
    },
    "kernelspec": {
      "name": "python3",
      "display_name": "Python 3"
    },
    "language_info": {
      "name": "python"
    }
  },
  "cells": [
    {
      "cell_type": "markdown",
      "metadata": {
        "id": "view-in-github",
        "colab_type": "text"
      },
      "source": [
        "<a href=\"https://colab.research.google.com/github/Tranminhtuan48/pythonbasics/blob/main/BaiTapNumpy_01.ipynb\" target=\"_parent\"><img src=\"https://colab.research.google.com/assets/colab-badge.svg\" alt=\"Open In Colab\"/></a>"
      ]
    },
    {
      "cell_type": "markdown",
      "source": [
        "1. Xét không gian $R$3, một điểm A trong không gian này có tọa độ là (5, 7, 14). Hãy khởi tạo giá trị của điểm A nêu trên bằng Numpy."
      ],
      "metadata": {
        "id": "1IPjq9DNyvOB"
      }
    },
    {
      "cell_type": "code",
      "execution_count": 1,
      "metadata": {
        "id": "OjsWCyJMyJGr"
      },
      "outputs": [],
      "source": [
        "import numpy as np\n",
        "import math"
      ]
    },
    {
      "cell_type": "code",
      "source": [
        "a = np.array([[5],[7],[14]])\n",
        "print(a)"
      ],
      "metadata": {
        "colab": {
          "base_uri": "https://localhost:8080/"
        },
        "id": "wdcz9adBzZX9",
        "outputId": "884db6ca-d083-4aa3-aaa6-ea375ef18dab"
      },
      "execution_count": 4,
      "outputs": [
        {
          "output_type": "stream",
          "name": "stdout",
          "text": [
            "[[ 5]\n",
            " [ 7]\n",
            " [14]]\n"
          ]
        }
      ]
    },
    {
      "cell_type": "markdown",
      "source": [
        "2.Mở rộng không gian lên R15, điểm A trong không gian này có tọa độ là (1, 2, 3, 4, 5, 6, 7, 8, 9, 10, 11, 12, 13, 14, 15). Hãy khởi tạo điểm A trong không gian 15 chiều này bằng Numpy."
      ],
      "metadata": {
        "id": "8BObXA-e0P-g"
      }
    },
    {
      "cell_type": "code",
      "source": [
        "b = np.array([1,2,3,4,5,6,7,8,9,10,11,12,13,14,15])\n",
        "print(b)"
      ],
      "metadata": {
        "colab": {
          "base_uri": "https://localhost:8080/"
        },
        "id": "GHLJxNp10T1d",
        "outputId": "0ed2fe1c-a6db-494f-d1d3-10d05fd731bb"
      },
      "execution_count": 9,
      "outputs": [
        {
          "output_type": "stream",
          "name": "stdout",
          "text": [
            "[ 1  2  3  4  5  6  7  8  9 10 11 12 13 14 15]\n",
            "2\n"
          ]
        }
      ]
    },
    {
      "cell_type": "markdown",
      "source": [
        "3. Trong không gian Rn, xét vector OA với O là điểm gốc tọa độ và A là điểm có tọa độ tổng quát là (a1, a2, ..., an). Vector OA lúc này được viết dưới dạng vector cột (column vector). Hãy viết chương trình sinh ngẫu nhiên một vector trong không gian Rn với n là số nguyên dương được nhập vào từ bàn phím. Yêu cầu: sử dụng Numpy."
      ],
      "metadata": {
        "id": "GoHmRtQf1V8C"
      }
    },
    {
      "cell_type": "code",
      "source": [
        "# Kiem tra n nguyen duong\n",
        "def so_nguyen_duong(num):\n",
        "  if (int(num)>0):\n",
        "    return True\n",
        "  else:\n",
        "    return False\n",
        "#Ham random vector\n",
        "def random_vector(num):\n",
        "  n = input(\"Nhap vao so nguyen: \")\n",
        "  while not so_nguyen_duong(n):\n",
        "    n = input(\"Nhap vao so nguyen: \")\n",
        "  n = int(n)\n",
        "  c = [np.random.randint(0,10,n)]\n",
        "  return c"
      ],
      "metadata": {
        "id": "XVLHOcnz1nh_"
      },
      "execution_count": 73,
      "outputs": []
    },
    {
      "cell_type": "code",
      "source": [
        "d = random_vector(1)[0]\n",
        "print(d)"
      ],
      "metadata": {
        "colab": {
          "base_uri": "https://localhost:8080/"
        },
        "id": "7pIcDHgZ59_u",
        "outputId": "9a0830a7-372f-4487-be1f-0de36c5d551f"
      },
      "execution_count": 57,
      "outputs": [
        {
          "output_type": "stream",
          "name": "stdout",
          "text": [
            "Nhap vao so nguyen: 5\n",
            "[[9]\n",
            " [3]\n",
            " [6]\n",
            " [0]\n",
            " [8]]\n"
          ]
        }
      ]
    },
    {
      "cell_type": "markdown",
      "source": [
        "4. Trong không gian R3, xét vector OA:\n",
        "\n",
        "Hãy viết chương trình tính chiều dài của vector OA, biết công thức tổng quát để tính chiều dài vector OA trong không gian Rn là:"
      ],
      "metadata": {
        "id": "rYum4VnC6mJx"
      }
    },
    {
      "cell_type": "code",
      "source": [
        "e = np.array([[7],[-5],[8]])\n",
        "lenght_e = np.linalg.norm(e)\n",
        "print(lenght_e)"
      ],
      "metadata": {
        "colab": {
          "base_uri": "https://localhost:8080/"
        },
        "id": "7L_S96UW6y8t",
        "outputId": "30a71e43-0e6e-411a-9321-df60567f232a"
      },
      "execution_count": 18,
      "outputs": [
        {
          "output_type": "stream",
          "name": "stdout",
          "text": [
            "11.74734012447073\n"
          ]
        }
      ]
    },
    {
      "cell_type": "markdown",
      "source": [
        "5. Trong không gian Rn, hãy sinh ngẫu nhiên 2 điểm A và B. Xác định vector AB và tính chiều dài của vector này ‖AB‖."
      ],
      "metadata": {
        "id": "wuPvDHKQ7jnT"
      }
    },
    {
      "cell_type": "code",
      "source": [
        "f,g = random_vector(2)\n",
        "print(\"A:\", f); print(\"B:\", g)\n",
        "h = g - f #AB\n",
        "print(\"AB:\", h)\n",
        "#lenght_AB\n",
        "Lenght_AB = np.linalg.norm(h)\n",
        "print(\"Do dai vector AB: \", Lenght_AB)"
      ],
      "metadata": {
        "colab": {
          "base_uri": "https://localhost:8080/"
        },
        "id": "NSufgqWZ72cP",
        "outputId": "c915bebc-9193-46e5-8d53-e7583b40012b"
      },
      "execution_count": 32,
      "outputs": [
        {
          "output_type": "stream",
          "name": "stdout",
          "text": [
            "Nhap vao so nguyen: 5\n",
            "A: [[9]\n",
            " [9]\n",
            " [5]\n",
            " [2]\n",
            " [1]]\n",
            "B: [[0]\n",
            " [1]\n",
            " [7]\n",
            " [7]\n",
            " [8]]\n",
            "AB: [[-9]\n",
            " [-8]\n",
            " [ 2]\n",
            " [ 5]\n",
            " [ 7]]\n",
            "Do dai vector AB:  14.933184523068078\n"
          ]
        }
      ]
    },
    {
      "cell_type": "markdown",
      "source": [
        "6. Tích vô hướng của 2 vector a & b (dot product hoặc inner product hoặc scalar product) được tính theo công thức tổng quát. Trong không gian Rn, hãy sinh ngẫu nhiên 2 vector a & b và tính tích vô hướng của 2 vector này."
      ],
      "metadata": {
        "id": "F4YA0-PW9jx_"
      }
    },
    {
      "cell_type": "code",
      "source": [
        "i,k = random_vector(2)\n",
        "print(\"a:\",i); print(\"b:\",k)\n",
        "l = np.inner(i,k)\n",
        "print(\"Tichs vo huong:\", l)"
      ],
      "metadata": {
        "colab": {
          "base_uri": "https://localhost:8080/"
        },
        "id": "gGzPWazX93Dl",
        "outputId": "bb498724-fb00-40aa-e355-1aa56c75f63c"
      },
      "execution_count": 62,
      "outputs": [
        {
          "output_type": "stream",
          "name": "stdout",
          "text": [
            "Nhap vao so nguyen: 4\n",
            "Nhap vao so nguyen: 4\n",
            "a: [5 7 0 6]\n",
            "b: [2 8 1 8]\n",
            "Tichs vo huong: 114\n"
          ]
        }
      ]
    },
    {
      "cell_type": "markdown",
      "source": [
        "7. Tích hữu hướng (cross product) của 2 vector a & b được tính theo công thức tổng quát. Trong không gian Rn, hãy sinh ngẫu nhiên 2 vector a & b và tính tích hữu hướng của 2 vector này."
      ],
      "metadata": {
        "id": "66ozjweHDJWv"
      }
    },
    {
      "cell_type": "code",
      "source": [
        "m = random_vector(1)\n",
        "n = random_vector(1)\n",
        "print(\"a:\",m); print(\"b:\",n)\n",
        "o = np.cross(n,m)\n",
        "print(\"Tichs vo huong:\", o)"
      ],
      "metadata": {
        "id": "2MX9u3R8HgcX"
      },
      "execution_count": null,
      "outputs": []
    },
    {
      "cell_type": "markdown",
      "source": [
        "8. Phép chuyển vị (transpose): trong numpy, một vector a khi thực hiện chuyển vị sẽ được thực hiện thông qua thao tác a.T\n",
        "\n",
        "Hãy viết chương trình sinh ngẫu nhiên một vector a trong không gian Rn, số nguyên dương n được nhập vào từ bàn phím. Xuất ra màn hình giá của vector a và chuyển vị của vector a ."
      ],
      "metadata": {
        "id": "MIps3_OZHhOj"
      }
    },
    {
      "cell_type": "code",
      "source": [
        "a = random_vector(1)[0]\n",
        "print(\"a: \", a)\n",
        "print(\"Phep chuyen vi a: \", a.T)"
      ],
      "metadata": {
        "colab": {
          "base_uri": "https://localhost:8080/"
        },
        "id": "KTV8rsI3HuXt",
        "outputId": "d1189da6-80f1-46b2-b766-b2319b8c817f"
      },
      "execution_count": 74,
      "outputs": [
        {
          "output_type": "stream",
          "name": "stdout",
          "text": [
            "Nhap vao so nguyen: 4\n",
            "a:  [[1]\n",
            " [1]\n",
            " [4]\n",
            " [7]]\n",
            "Phep chuyen vi a:  [[1 1 4 7]]\n"
          ]
        }
      ]
    },
    {
      "cell_type": "markdown",
      "source": [
        "9. Xét 2 cấu trúc list dưới đây:\n",
        "  1. a = [1, 2, 3, 4, 5]\n",
        "  2. b = [[1], [2], [3], [4], [5]]\n",
        "\n",
        "  Hãy:\n",
        "- Xuất a và b ra màn hình\n",
        "- Tạo vector tương ứng từ a và b, xuất kết quả ra màn hình\n",
        "- Thực hiện phép chuyển vị đối với 2 vector ở trên và xuất kết quả ra màn hình."
      ],
      "metadata": {
        "id": "MpJpXNAsIiF0"
      }
    },
    {
      "cell_type": "code",
      "source": [
        "a = [1, 2, 3, 4, 5]\n",
        "b = [[1], [2], [3], [4], [5]]\n",
        "\n",
        "print(\"a: \",a)\n",
        "print(\"b: \", b)\n",
        "Vector_a = np.array(a)\n",
        "Vector_b = np.array(b)\n",
        "print(\"Vector_a:\", Vector_a)\n",
        "print(\"Vector_b: \\n\", Vector_b)\n",
        "print(\"Vec_chuyenvi_a\", Vector_a.T)\n",
        "print(\"Vec_chuyenvi_b\", Vector_b.T)"
      ],
      "metadata": {
        "colab": {
          "base_uri": "https://localhost:8080/"
        },
        "id": "f9wjdHr8I5Lq",
        "outputId": "8e6b9bba-db91-472c-e1e2-32ed844eafa6"
      },
      "execution_count": 77,
      "outputs": [
        {
          "output_type": "stream",
          "name": "stdout",
          "text": [
            "a:  [1, 2, 3, 4, 5]\n",
            "b:  [[1], [2], [3], [4], [5]]\n",
            "Vector_a: [1 2 3 4 5]\n",
            "Vector_b: \n",
            " [[1]\n",
            " [2]\n",
            " [3]\n",
            " [4]\n",
            " [5]]\n",
            "Vec_chuyenvi_a [1 2 3 4 5]\n",
            "Vec_chuyenvi_b [[1 2 3 4 5]]\n"
          ]
        }
      ]
    },
    {
      "cell_type": "markdown",
      "source": [
        "10. Trong không gian R, hãy sinh ngẫu nhiên vector a và b⃗ , n là số nguyên dương nhập vào từ bàn phím. Hãy:\n",
        "- Thực hiện phép nhân: ma với m là số bất kỳ, xuất kết quả ra màn hình\n",
        "- Thực hiện phép cộng 2 vector: a + b⃗ và xuất kết quả ra màn hình."
      ],
      "metadata": {
        "id": "NavznybsKTbi"
      }
    },
    {
      "cell_type": "code",
      "source": [
        "a,b = random_vector(2)\n",
        "print(\"Vector_a: \\n\", a)\n",
        "print(\"Vector_b: \\n\", b)\n",
        "c = float(input(\"nhap so:\"))\n",
        "print(f\"a* m = \\n\", a*c)\n",
        "print(\"a+b= \\n\", a+b)"
      ],
      "metadata": {
        "colab": {
          "base_uri": "https://localhost:8080/"
        },
        "id": "bSqTOECmKQop",
        "outputId": "32df367b-6ecf-410b-ea14-f6a9a65762a1"
      },
      "execution_count": 81,
      "outputs": [
        {
          "output_type": "stream",
          "name": "stdout",
          "text": [
            "Nhap vao so nguyen: 3\n",
            "Vector_a: \n",
            " [[6]\n",
            " [9]\n",
            " [7]]\n",
            "Vector_b: \n",
            " [[0]\n",
            " [2]\n",
            " [0]]\n",
            "nhap so:5\n",
            "a* m = \n",
            " [[30.]\n",
            " [45.]\n",
            " [35.]]\n",
            "a+b= \n",
            " [[ 6]\n",
            " [11]\n",
            " [ 7]]\n"
          ]
        }
      ]
    }
  ]
}