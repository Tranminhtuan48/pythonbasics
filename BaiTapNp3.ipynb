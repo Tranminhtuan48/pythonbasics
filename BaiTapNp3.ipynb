{
  "nbformat": 4,
  "nbformat_minor": 0,
  "metadata": {
    "colab": {
      "name": "Untitled8.ipynb",
      "provenance": [],
      "authorship_tag": "ABX9TyP2zYDT+IjyzE7lDmD9X6Rp",
      "include_colab_link": true
    },
    "kernelspec": {
      "name": "python3",
      "display_name": "Python 3"
    },
    "language_info": {
      "name": "python"
    }
  },
  "cells": [
    {
      "cell_type": "markdown",
      "metadata": {
        "id": "view-in-github",
        "colab_type": "text"
      },
      "source": [
        "<a href=\"https://colab.research.google.com/github/Tranminhtuan48/pythonbasics/blob/main/BaiTapNp3.ipynb\" target=\"_parent\"><img src=\"https://colab.research.google.com/assets/colab-badge.svg\" alt=\"Open In Colab\"/></a>"
      ]
    },
    {
      "cell_type": "markdown",
      "source": [
        "1.Hãy trình bày cú pháp của hàm apply_along_axis() và ý nghĩa của từng tham số của hàm\n",
        "này.\n",
        "\n",
        "cu phap\n",
        "\n",
        "numpy.apply_along_axis (func1d,axis,arr,args,*kwargs)\n",
        "\n",
        "y nghia\n",
        "\n",
        "func1d: Hamm nay chap mhan mang 1-D.No ap dung cho cac lat arr 1-D doc theo truc duoc chi dinh\n",
        "\n",
        "axis: Truc doc theo arr duoc cat\n",
        "\n",
        "arr: Mang dau vao\n",
        "\n",
        "kwargs: Cac doi so duoc bo sung cho func1d\n",
        "\n",
        "# Ham tra ve: mot mang co hinh dang giong mang dua vao, ngoai tru cac tru duoc thay the bang cac gia tri moi bang cac gia tri tra ve cua func1d"
      ],
      "metadata": {
        "id": "j2gUSQX3jUmC"
      }
    },
    {
      "cell_type": "markdown",
      "source": [
        "2.Tạo một ma trận A15x17 có giá trị ngẫu nhiên"
      ],
      "metadata": {
        "id": "jdKMPfCIk_0l"
      }
    },
    {
      "cell_type": "code",
      "execution_count": 2,
      "metadata": {
        "id": "3jpdJa6PjRqc"
      },
      "outputs": [],
      "source": [
        "import numpy as np"
      ]
    },
    {
      "cell_type": "code",
      "source": [
        "A = np.random.randint(0,20, (15,17))\n",
        "print(A)"
      ],
      "metadata": {
        "colab": {
          "base_uri": "https://localhost:8080/"
        },
        "id": "8Ldl96n4lN0X",
        "outputId": "73bdd751-ea5a-4553-84d7-fae3e18abb03"
      },
      "execution_count": 3,
      "outputs": [
        {
          "output_type": "stream",
          "name": "stdout",
          "text": [
            "[[11 10  3  9 13 15  3 16 12  1 17  7 18 15 15 12 13]\n",
            " [ 3  8  7 15 14 19 10 14 10 19  5 11 19  9  6 10  7]\n",
            " [ 9  8  4 17 16  5 16  0  5 15 12 16  3 19  9 12  9]\n",
            " [16 18  7  4  1  8  3 13 13 15 13 13 15  0  1 17  0]\n",
            " [17  0  6  4 11  7 13 13  3  6  5  3 12  7 11  9  6]\n",
            " [ 5  8 19 19 17 10 15 15 10  0 11  0 10  7 18 10  2]\n",
            " [15 11  5  9 15  7 14  6  5 13 17 11  0 13 17  1 17]\n",
            " [ 8 16 13 17 13 13 19 18 16  1 13 14 11  7 18  3  3]\n",
            " [ 2 15  9 11  6 15 10  2 10 16  4  3  2  6 11  9 14]\n",
            " [ 9  1  8  5  4 12  9  6 11  2 10  6 14  5 10 17  8]\n",
            " [ 0 12 12  4 14 12  6 13 19  6  2  4 10  6 16 15 13]\n",
            " [10  9  7  4  2  1  9  3  1 17  6  6 17  1  1  0  7]\n",
            " [ 4  4 19 14  8 18 15 10 17 16 13 10  7 11 11  0  3]\n",
            " [12 14  8 10 11 18  9 12 18 16 18  5 19 10 17  0 11]\n",
            " [ 8  3 10  4  3 11  8 15  5 15  9 12  5 11 15  0 10]]\n"
          ]
        }
      ]
    },
    {
      "cell_type": "markdown",
      "source": [
        "3.Xây dựng hàm tìm giá trị lớn nhất có tên là tim_gia_tri_lon_nhat(vector_a) có tham số\n",
        "đầu vào là 1 vector a và giá trị trả về là giá trị phần tử lớn nhất của vector này. Áp dụng hàm này\n",
        "theo từng hàng của ma trận A ở Câu 1 và xuất kết quả ra màn hình."
      ],
      "metadata": {
        "id": "x6KufMBalnVI"
      }
    },
    {
      "cell_type": "code",
      "source": [
        "def GTLN(vec_a):\n",
        "  return np.max(vec_a)\n",
        "print(\"Tap GTLN cua hang: \\n\", np.apply_along_axis(GTLN, 1,A))"
      ],
      "metadata": {
        "colab": {
          "base_uri": "https://localhost:8080/"
        },
        "id": "FdYi2DvKlmPj",
        "outputId": "f7cf727c-9124-4fe1-f76c-59436e3146cb"
      },
      "execution_count": 5,
      "outputs": [
        {
          "output_type": "stream",
          "name": "stdout",
          "text": [
            "Tap GTLN cua hang: \n",
            " [18 19 19 18 17 19 17 19 16 17 19 17 19 19 15]\n"
          ]
        }
      ]
    },
    {
      "cell_type": "markdown",
      "source": [
        "4: Xây dựng hàm tìm giá trị nhỏ nhất có tên là tim_gia_tri_nho_nhat(vector_a) có tham số\n",
        "đầu vào là 1 vector a và giá trị trả về là giá trị phần tử nhỏ nhất của vector này. Áp dụng hàm này\n",
        "theo từng cột của ma trận A ở Câu 1 và xuất kết quả ra màn hình."
      ],
      "metadata": {
        "id": "n4Krs0rVmP6C"
      }
    },
    {
      "cell_type": "code",
      "source": [
        "def GTNN(vec_b):\n",
        "  return np.min(vec_b)\n",
        "print(\"Tap GTNN cua hang: \\n\", np.apply_along_axis(GTNN, 0,A))"
      ],
      "metadata": {
        "colab": {
          "base_uri": "https://localhost:8080/"
        },
        "id": "KGfJXH9SmS-W",
        "outputId": "3dc254b9-4e2d-49a3-ed77-78adc1c357f9"
      },
      "execution_count": 6,
      "outputs": [
        {
          "output_type": "stream",
          "name": "stdout",
          "text": [
            "Tap GTNN cua hang: \n",
            " [0 0 3 4 1 1 3 0 1 0 2 0 0 0 1 0 0]\n"
          ]
        }
      ]
    },
    {
      "cell_type": "markdown",
      "source": [
        "5: Xây dựng hàm tìm giá trị lớn nhất có tên là tinh_tong(vector_a) có tham số đầu vào là 1\n",
        "vector a và giá trị trả về là tổng các phần tử của vector này. Áp dụng hàm này theo từng hàng của\n",
        "ma trận A ở Câu 1 và xuất kết quả ra màn hình."
      ],
      "metadata": {
        "id": "DQUhOMv7mobI"
      }
    },
    {
      "cell_type": "code",
      "source": [
        "def Tong(vec_c):\n",
        "  return np.sum(vec_c)\n",
        "print(\"Tap Tong cua hang: \\n\", np.apply_along_axis(Tong, 1,A))"
      ],
      "metadata": {
        "colab": {
          "base_uri": "https://localhost:8080/"
        },
        "id": "xczj47Zemrd4",
        "outputId": "53ee66fa-85fb-41de-c10f-21bfb001eda3"
      },
      "execution_count": 8,
      "outputs": [
        {
          "output_type": "stream",
          "name": "stdout",
          "text": [
            "Tap Tong cua hang: \n",
            " [190 186 175 157 133 176 176 203 145 137 164 101 180 208 144]\n"
          ]
        }
      ]
    },
    {
      "cell_type": "markdown",
      "source": [
        "6: Xây dựng hàm tìm giá trị lớn nhất có tên là tinh_tong_2(vector_a) có tham số đầu vào là\n",
        "1 vector a và giá trị trả về là tổng các phần tử có chỉ số lẻ (1 – 3 – 5 , .v.v.) của vector này. Áp\n",
        "dụng hàm này theo từng cột của ma trận A ở Câu 1 và xuất kết quả ra màn hình. Tiếp tục áp dụng\n",
        "hàm này theo từng hàng của ma trận A kể trên và xuất kết quả ra màn hình."
      ],
      "metadata": {
        "id": "OuNedFjRnD0n"
      }
    },
    {
      "cell_type": "code",
      "source": [
        "def TongCong(vec_d):\n",
        "  s = 0\n",
        "  for i in range(len(vec_d)):\n",
        "    if (i % 2 !=0):\n",
        "      s += vec_d[i]\n",
        "  return s\n",
        "print(\"Tap cac tong gtri cos index le cua hang: \\n\", np.apply_along_axis(TongCong, 1,A))"
      ],
      "metadata": {
        "colab": {
          "base_uri": "https://localhost:8080/"
        },
        "id": "IDKTuUd0nGdw",
        "outputId": "8b49f072-a2d8-4fd0-fbf7-e8e31bce8409"
      },
      "execution_count": 9,
      "outputs": [
        {
          "output_type": "stream",
          "name": "stdout",
          "text": [
            "Tap cac tong gtri cos index le cua hang: \n",
            " [ 85 105  92  88  49  69  71  89  77  54  72  41  83  85  71]\n"
          ]
        }
      ]
    }
  ]
}