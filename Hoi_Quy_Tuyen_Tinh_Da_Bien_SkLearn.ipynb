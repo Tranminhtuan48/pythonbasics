{
  "nbformat": 4,
  "nbformat_minor": 0,
  "metadata": {
    "colab": {
      "provenance": [],
      "authorship_tag": "ABX9TyPo4HEFbSek33plJfCtKQ7H",
      "include_colab_link": true
    },
    "kernelspec": {
      "name": "python3",
      "display_name": "Python 3"
    },
    "language_info": {
      "name": "python"
    }
  },
  "cells": [
    {
      "cell_type": "markdown",
      "metadata": {
        "id": "view-in-github",
        "colab_type": "text"
      },
      "source": [
        "<a href=\"https://colab.research.google.com/github/Tranminhtuan48/pythonbasics/blob/main/Hoi_Quy_Tuyen_Tinh_Da_Bien_SkLearn.ipynb\" target=\"_parent\"><img src=\"https://colab.research.google.com/assets/colab-badge.svg\" alt=\"Open In Colab\"/></a>"
      ]
    },
    {
      "cell_type": "code",
      "execution_count": 1,
      "metadata": {
        "id": "gIL7v8b6F58j"
      },
      "outputs": [],
      "source": [
        "import os\n",
        "import numpy as np\n",
        "from sklearn.linear_model import LinearRegression"
      ]
    },
    {
      "cell_type": "code",
      "source": [
        "from google.colab import drive\n",
        "drive.mount('/content/gdrive')"
      ],
      "metadata": {
        "colab": {
          "base_uri": "https://localhost:8080/"
        },
        "id": "Tv5kFiVHkxLV",
        "outputId": "57352629-4bc8-4be0-fb4e-6b1d17e3fdbb"
      },
      "execution_count": 2,
      "outputs": [
        {
          "output_type": "stream",
          "name": "stdout",
          "text": [
            "Mounted at /content/gdrive\n"
          ]
        }
      ]
    },
    {
      "cell_type": "code",
      "source": [
        "def readData(folder , filename):\n",
        "  data = np.loadtxt(os.path.join(folder, filename), delimiter = ',')\n",
        "  X = data[:, :-1]\n",
        "  y = data[:, -1].reshape(-1, 1)\n",
        "  one = np.ones((X.shape[0], 1))\n",
        "  X = np.concatenate((one, X), axis = 1)\n",
        "  return X, y"
      ],
      "metadata": {
        "id": "3aBlRO6ik2NB"
      },
      "execution_count": 3,
      "outputs": []
    },
    {
      "cell_type": "code",
      "source": [
        "def normScaling(X, y):\n",
        "  for col in range(1, X.shape[1]):\n",
        "    temp = X[:, col]\n",
        "    X[:, col] = (temp - np.min(temp)) / (np.max(temp) - np.min(temp))\n",
        "  temp = y[:, 0]\n",
        "  y[:, 0] = (temp - np.min(temp)) / (np.max(temp) - np.min(temp))"
      ],
      "metadata": {
        "id": "e7j20BPsk_Wb"
      },
      "execution_count": 4,
      "outputs": []
    },
    {
      "cell_type": "code",
      "source": [
        "def standardScaling(X, y):\n",
        "  for col in range(1, X.shape[1]):\n",
        "    temp = X[:, col]\n",
        "    X[:, col] = (temp - np.mean(temp)) / (np.std(temp))\n",
        "  temp = y[:, 0]\n",
        "  y[:, 0] = (temp - np.mean(temp)) / (np.std(temp))\n"
      ],
      "metadata": {
        "id": "qEDEH-lvlC3h"
      },
      "execution_count": 5,
      "outputs": []
    },
    {
      "cell_type": "code",
      "source": [
        "def calculateLoss(X, y, w):\n",
        "  h = np.dot(X, w)\n",
        "  m = X.shape[0]\n",
        "  J = (1/ (2*m)) * np.sum(np.square(h-y))\n",
        "  return J"
      ],
      "metadata": {
        "id": "JN121yIZlMxE"
      },
      "execution_count": 6,
      "outputs": []
    },
    {
      "cell_type": "code",
      "source": [
        "def gradient(X, y, w):\n",
        "  m = X.shape[0]\n",
        "  h = np.dot(X, w)\n",
        "  return (1/m) * np.dot(X.T, h - y)"
      ],
      "metadata": {
        "id": "FXtGL0p-lPHE"
      },
      "execution_count": 7,
      "outputs": []
    },
    {
      "cell_type": "code",
      "source": [
        "def gradientDescent(X, y, w_init, alpha, n = 1500):\n",
        "  w_old = w_init.reshape(-1, 1)\n",
        "  loss_values = []\n",
        "  for i in range(n):\n",
        "    w_new = w_old - alpha * gradient(X, y, w_old)\n",
        "    j = calculateLoss(X, y, w_new)\n",
        "    w_old = w_new\n",
        "    loss_values.append(j)\n",
        "  return w_new, "
      ],
      "metadata": {
        "id": "lI0CBXQklRp7"
      },
      "execution_count": 8,
      "outputs": []
    },
    {
      "cell_type": "code",
      "source": [
        "def gradientDescent_SKLearn():\n",
        "   FOLDER = r\"/content/gdrive/My Drive/\"\n",
        "   X, y = readData(FOLDER, 'ex1data2.txt')\n",
        "   w_init = np.zeros((X.shape[1], 1))\n",
        "  #  normScaling(X, y)\n",
        "   standardScaling(X, y)\n",
        "   omega, l = gradientDescent(X, y, w_init, alpha=0.01)\n",
        "\n",
        "   for i in range(42):\n",
        "    x = X[i, :].reshape(1, 3)\n",
        "    print(np.dot(x, omega)[0, 0], y[i, 0])"
      ],
      "metadata": {
        "id": "dl9Hw47FlTxE"
      },
      "execution_count": 13,
      "outputs": []
    }
  ]
}