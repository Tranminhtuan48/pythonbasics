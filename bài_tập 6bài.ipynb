{
  "nbformat": 4,
  "nbformat_minor": 0,
  "metadata": {
    "colab": {
      "name": "bài tập.ipynb",
      "provenance": [],
      "authorship_tag": "ABX9TyNbFNGVwhQt6wB9EiQlKwUc",
      "include_colab_link": true
    },
    "kernelspec": {
      "name": "python3",
      "display_name": "Python 3"
    },
    "language_info": {
      "name": "python"
    }
  },
  "cells": [
    {
      "cell_type": "markdown",
      "metadata": {
        "id": "view-in-github",
        "colab_type": "text"
      },
      "source": [
        "<a href=\"https://colab.research.google.com/github/Tranminhtuan48/pythonbasics/blob/main/b%C3%A0i_t%E1%BA%ADp%206b%C3%A0i.ipynb\" target=\"_parent\"><img src=\"https://colab.research.google.com/assets/colab-badge.svg\" alt=\"Open In Colab\"/></a>"
      ]
    },
    {
      "cell_type": "markdown",
      "metadata": {
        "id": "h9Sg0lT2DCVe"
      },
      "source": [
        "bài 1"
      ]
    },
    {
      "cell_type": "code",
      "metadata": {
        "colab": {
          "base_uri": "https://localhost:8080/"
        },
        "id": "c0HmFrxJDJlk",
        "outputId": "ef60178a-4587-4e6e-937b-b71ece4e8c3a"
      },
      "source": [
        "a =int(input(\"a= \"))\n",
        "b =int(input(\"b= \"))\n",
        "c=a+b\n",
        "d=a*b\n",
        "e=a-b\n",
        "f=a%b\n",
        "g=a//b\n",
        "print(\"a+b = \",c)\n",
        "print(\"a*b = \",d)\n",
        "print(\"a-b = \",e)\n",
        "print(\"a%b = \",f)\n",
        "print(\"a//b = \",g)"
      ],
      "execution_count": 7,
      "outputs": [
        {
          "output_type": "stream",
          "name": "stdout",
          "text": [
            "a= 25\n",
            "b= 5\n",
            "a+b =  30\n",
            "a*b =  125\n",
            "a-b =  20\n",
            "a%b =  0\n",
            "a//b =  5\n"
          ]
        }
      ]
    },
    {
      "cell_type": "markdown",
      "metadata": {
        "id": "zf3a43EhFQLF"
      },
      "source": [
        "Bài 2"
      ]
    },
    {
      "cell_type": "code",
      "metadata": {
        "colab": {
          "base_uri": "https://localhost:8080/"
        },
        "id": "P6kvvZNnFRvD",
        "outputId": "b43af660-7417-46d8-852e-e7c2825a1396"
      },
      "source": [
        "a =float(input(\"a= \"))\n",
        "b =float(input(\"b= \"))\n",
        "c=a+b\n",
        "d=a*b\n",
        "e=a-b\n",
        "f=a/b\n",
        "print(\"a+b = \",c)\n",
        "print(\"a*b = \",d)\n",
        "print(\"a-b = \",e)\n",
        "print(\"a/b = \",f)"
      ],
      "execution_count": 6,
      "outputs": [
        {
          "output_type": "stream",
          "name": "stdout",
          "text": [
            "a= 35.5\n",
            "b= 2.5\n",
            "a+b =  38.0\n",
            "a*b =  88.75\n",
            "a-b =  33.0\n",
            "a/b =  14.2\n"
          ]
        }
      ]
    },
    {
      "cell_type": "markdown",
      "metadata": {
        "id": "nWSg3BTDF5HS"
      },
      "source": [
        "Bài3"
      ]
    },
    {
      "cell_type": "code",
      "metadata": {
        "colab": {
          "base_uri": "https://localhost:8080/"
        },
        "id": "ck84_xcOF7mf",
        "outputId": "6ecc40ee-d4ce-42e1-f464-f45dca5725b0"
      },
      "source": [
        "import math\n",
        "x = float(input(\"x= \"))\n",
        "y = float(input(\"y= \"))\n",
        "print(\"giá trị truyệt đối của x: \", abs(int(x)))\n",
        "print(\"phần nguyên của x: \",int(x))\n",
        "print(\"số thực x: \", float(x))\n",
        "print(\"x luỹ thừa y: \", math.pow(x, y))\n",
        "print(\"căn bậc hai của x: \", math.sqrt(abs(x)))"
      ],
      "execution_count": 45,
      "outputs": [
        {
          "output_type": "stream",
          "name": "stdout",
          "text": [
            "x= -5\n",
            "y= 2\n",
            "giá trị truyệt đối của x:  5\n",
            "phần nguyên của x:  -5\n",
            "số thực x:  -5.0\n",
            "x luỹ thừa y:  25.0\n",
            "căn bậc hai của x:  2.23606797749979\n"
          ]
        }
      ]
    },
    {
      "cell_type": "markdown",
      "metadata": {
        "id": "-lQQtE4DR1r9"
      },
      "source": [
        "Bài4"
      ]
    },
    {
      "cell_type": "code",
      "metadata": {
        "colab": {
          "base_uri": "https://localhost:8080/"
        },
        "id": "ulq9xRp0R3BZ",
        "outputId": "a77a0112-bfb3-4a03-c8c4-2b9707068dfb"
      },
      "source": [
        "a =float(input(\"a= \"))\n",
        "b =float(input(\"b= \"))\n",
        "print(\"a>=b: \", a>=b)\n",
        "print(\"a<=b: \", a<=b)\n",
        "print(\"a>b: \", a>b)\n",
        "print(\"a<b: \", a<b)\n",
        "print(\"a!=b: \", a!=b)"
      ],
      "execution_count": 47,
      "outputs": [
        {
          "output_type": "stream",
          "name": "stdout",
          "text": [
            "a= 56.4\n",
            "b= 24.8\n",
            "a>=b:  True\n",
            "a<=b:  False\n",
            "a>b:  True\n",
            "a<b:  False\n",
            "a!=b:  True\n"
          ]
        }
      ]
    },
    {
      "cell_type": "markdown",
      "metadata": {
        "id": "84edoOBtTcv1"
      },
      "source": [
        "Bài5"
      ]
    },
    {
      "cell_type": "code",
      "metadata": {
        "colab": {
          "base_uri": "https://localhost:8080/"
        },
        "id": "jwF-EGMwTeAR",
        "outputId": "b2b6c638-3a30-499f-8063-d6d52bfb57e1"
      },
      "source": [
        "a= input(\"nhập chuỗi ký tự: \")\n",
        "print(\"In hoa: \", a.upper())\n",
        "print(\"In thường: \", a.lower())"
      ],
      "execution_count": 49,
      "outputs": [
        {
          "output_type": "stream",
          "name": "stdout",
          "text": [
            "nhập chuỗi ký tự: SGGGvbrav13434\n",
            "In hoa:  SGGGVBRAV13434\n",
            "In thường:  sgggvbrav13434\n"
          ]
        }
      ]
    },
    {
      "cell_type": "markdown",
      "metadata": {
        "id": "t7Q2BYRWU5mK"
      },
      "source": [
        "Bài6"
      ]
    },
    {
      "cell_type": "code",
      "metadata": {
        "colab": {
          "base_uri": "https://localhost:8080/"
        },
        "id": "eSRn8cvnU7H1",
        "outputId": "138f9173-a7c7-4332-d2ea-466bb9171ee4"
      },
      "source": [
        "print(\"Vọng nguyệt-Hồ Chí Minh\")\n",
        "print()\n",
        "print(\"Ngục trung vô tửu diệc vô hoa,\",\"Đối thử lương tiêu nại nhược hà?\",\"Nhân hướng song tiền khán minh nguyệt,\",\"Nguyệt tòng song khích khán thi gia.\", sep='\\n')\n"
      ],
      "execution_count": 53,
      "outputs": [
        {
          "output_type": "stream",
          "name": "stdout",
          "text": [
            "Vọng nguyệt-Hồ Chí Minh\n",
            "\n",
            "Ngục trung vô tửu diệc vô hoa,\n",
            "Đối thử lương tiêu nại nhược hà?\n",
            "Nhân hướng song tiền khán minh nguyệt,\n",
            "Nguyệt tòng song khích khán thi gia.\n"
          ]
        }
      ]
    }
  ]
}