{
  "nbformat": 4,
  "nbformat_minor": 0,
  "metadata": {
    "colab": {
      "name": "List (2).ipynb",
      "provenance": [],
      "authorship_tag": "ABX9TyP7uHwUENPpGtnqgUbuoerv",
      "include_colab_link": true
    },
    "kernelspec": {
      "name": "python3",
      "display_name": "Python 3"
    },
    "language_info": {
      "name": "python"
    }
  },
  "cells": [
    {
      "cell_type": "markdown",
      "metadata": {
        "id": "view-in-github",
        "colab_type": "text"
      },
      "source": [
        "<a href=\"https://colab.research.google.com/github/Tranminhtuan48/pythonbasics/blob/main/List_(2).ipynb\" target=\"_parent\"><img src=\"https://colab.research.google.com/assets/colab-badge.svg\" alt=\"Open In Colab\"/></a>"
      ]
    },
    {
      "cell_type": "code",
      "metadata": {
        "colab": {
          "base_uri": "https://localhost:8080/"
        },
        "id": "LqzzckOBSCfL",
        "outputId": "20b71d22-919c-4e87-95e4-07124e1af83f"
      },
      "source": [
        "1.\n",
        "list1 = [3,5,7,34,89,65,23,56]\n",
        "list11 = sum (list1)\n",
        "print(list11)"
      ],
      "execution_count": null,
      "outputs": [
        {
          "output_type": "stream",
          "name": "stdout",
          "text": [
            "282\n"
          ]
        }
      ]
    },
    {
      "cell_type": "code",
      "metadata": {
        "colab": {
          "base_uri": "https://localhost:8080/"
        },
        "id": "_hN4s6unVuos",
        "outputId": "1982fd59-46bc-4c88-e61a-f4aea16d3707"
      },
      "source": [
        "2.\n",
        "import numpy\n",
        "list1 = [3,5,7,34,89,65,23,56]\n",
        "list21 = numpy.prod(list1)\n",
        "print(list21)"
      ],
      "execution_count": null,
      "outputs": [
        {
          "output_type": "stream",
          "name": "stdout",
          "text": [
            "26600355600\n"
          ]
        }
      ]
    },
    {
      "cell_type": "code",
      "metadata": {
        "colab": {
          "base_uri": "https://localhost:8080/"
        },
        "id": "fe9Wa1VKW_gb",
        "outputId": "046413c0-b43d-471c-85df-241791d7d088"
      },
      "source": [
        "#3and4.\n",
        "list1 = [3,5,7,34,89,65,23,56]\n",
        "list31 = max(list1)\n",
        "print (list31)\n",
        "list41 = min(list1)\n",
        "print (list41)"
      ],
      "execution_count": null,
      "outputs": [
        {
          "output_type": "stream",
          "name": "stdout",
          "text": [
            "89\n",
            "3\n"
          ]
        }
      ]
    },
    {
      "cell_type": "code",
      "metadata": {
        "colab": {
          "base_uri": "https://localhost:8080/"
        },
        "id": "Lmj_FyZEXk-l",
        "outputId": "dcc92b42-0325-45b8-abc8-f81c8004a41a"
      },
      "source": [
        "#5and6.\n",
        "list1 = [3,5,7,34,89,65,23,56]\n",
        "list1.sort(reverse=True)\n",
        "print(list1)\n",
        "list2 = [23,47,64,55,86]\n",
        "list2.sort(reverse=False)\n",
        "print(list2)"
      ],
      "execution_count": null,
      "outputs": [
        {
          "output_type": "stream",
          "name": "stdout",
          "text": [
            "[86, 64, 55, 47, 23]\n",
            "[23, 47, 55, 64, 86]\n"
          ]
        }
      ]
    },
    {
      "cell_type": "code",
      "metadata": {
        "colab": {
          "base_uri": "https://localhost:8080/"
        },
        "id": "7oISfgI1aAPV",
        "outputId": "ac3dbecc-c53d-45b1-dbdd-4008f0ceb028"
      },
      "source": [
        "7.\n",
        "list1 = [23,47,64,55,\"hahan't\",\"bowl\", 86]\n",
        "list7 = len(list1)\n",
        "print(list7)"
      ],
      "execution_count": null,
      "outputs": [
        {
          "output_type": "stream",
          "name": "stdout",
          "text": [
            "7\n"
          ]
        }
      ]
    },
    {
      "cell_type": "code",
      "metadata": {
        "colab": {
          "base_uri": "https://localhost:8080/"
        },
        "id": "6S1aOxdMb2IT",
        "outputId": "af1dad3a-c4d6-4e7a-8fd5-ecbf9c4e40e6"
      },
      "source": [
        "8.\n",
        "import random\n",
        "list1 = [3,5,7,34,89,65,23,56]\n",
        "list8 = random.choices(list1, k=3)\n",
        "print (list8)"
      ],
      "execution_count": 33,
      "outputs": [
        {
          "output_type": "stream",
          "name": "stdout",
          "text": [
            "[34, 56, 65]\n"
          ]
        }
      ]
    },
    {
      "cell_type": "code",
      "metadata": {
        "colab": {
          "base_uri": "https://localhost:8080/"
        },
        "id": "6Mseqe98aUvT",
        "outputId": "baa9d3db-ab36-41b7-a406-5ccd5b93a70e"
      },
      "source": [
        "9.\n",
        "list1 = [3,5,7,34,89,65,23,56]\n",
        "list2 = [23,47,64,55,86]\n",
        "list9 = list1 + list2\n",
        "print(list9)"
      ],
      "execution_count": null,
      "outputs": [
        {
          "output_type": "stream",
          "name": "stdout",
          "text": [
            "[3, 5, 7, 34, 89, 65, 23, 56, 23, 47, 64, 55, 86]\n"
          ]
        }
      ]
    }
  ]
}