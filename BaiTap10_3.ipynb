{
  "nbformat": 4,
  "nbformat_minor": 0,
  "metadata": {
    "colab": {
      "name": "BaiTap10/3.ipynb",
      "provenance": [],
      "authorship_tag": "ABX9TyNpRLafNFT88oHCs98DjztM",
      "include_colab_link": true
    },
    "kernelspec": {
      "name": "python3",
      "display_name": "Python 3"
    },
    "language_info": {
      "name": "python"
    }
  },
  "cells": [
    {
      "cell_type": "markdown",
      "metadata": {
        "id": "view-in-github",
        "colab_type": "text"
      },
      "source": [
        "<a href=\"https://colab.research.google.com/github/Tranminhtuan48/pythonbasics/blob/main/BaiTap10_3.ipynb\" target=\"_parent\"><img src=\"https://colab.research.google.com/assets/colab-badge.svg\" alt=\"Open In Colab\"/></a>"
      ]
    },
    {
      "cell_type": "markdown",
      "source": [
        "Thí  dụ : Han có 500 bài hát trong máy điện thoại. Han muốn ước lượng có mấy bài hát của  mình. Han lấy mẫu 50 bài hát bất kỳ. Trong đó có 20 bài hát của Han. ví dụ mức tin cậy 99%, khoảng tin cậy cho tỷ lệ bài hát của Han là?\n",
        "\n"
      ],
      "metadata": {
        "id": "zb6jquoSB_BY"
      }
    },
    {
      "cell_type": "code",
      "execution_count": null,
      "metadata": {
        "id": "kyjGQpjaBuXB"
      },
      "outputs": [],
      "source": [
        "from scipy import stats\n",
        "from math import sqrt"
      ]
    },
    {
      "cell_type": "code",
      "source": [
        "# dữ liệu mẫu(n>= 30)\n",
        "Dl_Mau = 50\n",
        "# Tỉ lệ  mẫu\n",
        "Tl_Mau = 20/Dl_Mau\n",
        "# Độ tin cậy\n",
        "M_Tin_Cay = 0.99\n",
        "# Độ lệch chuẩn của tỷ lệ mẫu\n",
        "Dl_Chuan = sqrt((Tl_Mau * (1 - Tl_Mau))/50)\n",
        "print(\"Do lech  chuan  cua  mauu: \", Dl_Chuan)\n",
        "#Chỉ số  Z-scores\n",
        "Cs_Z = (1 - M_Tin_Cay)/2\n",
        "print(\"Xac  xuat  tren: \", Cs_Z)\n",
        "# Tính z score bằng diện tích dưới đường cong (xác xuất dữ liệu trong khoảng giá trị của phân phối chuẩn)\n",
        "# ppf là hàm dùng tính diện tích dưới đường cong từ z-score\n",
        "z =  stats.norm.ppf(1 - Cs_Z)\n",
        "print(\"Z score: \", z)\n",
        "# Tính giới hạn lỗi \n",
        "GH_Loi = z * Dl_Chuan\n",
        "print(\"Gioi han  loi: \",GH_Loi) \n",
        "# Tính khoảng tin cậy\n",
        "K_Tin_Cay = (Tl_Mau - GH_Loi, Tl_Mau + GH_Loi)\n",
        "print(\"Khoang  tin  cay: \", K_Tin_Cay)\n",
        "# Kiểm tra khoảng tin cậy\n",
        "K_Tin_Cay_Check = stats.norm.interval(K_Tin_Cay, loc = Tl_Mau, scale=Dl_Chuan)\n",
        "print(\"Kiem Tra  Khoang  Tin  Cay: \", K_Tin_Cay_Check)"
      ],
      "metadata": {
        "colab": {
          "base_uri": "https://localhost:8080/"
        },
        "id": "ZuZBsm4JDE0H",
        "outputId": "40c27315-134c-4800-9bbf-6a90f246638f"
      },
      "execution_count": null,
      "outputs": [
        {
          "output_type": "stream",
          "name": "stdout",
          "text": [
            "Do lech  chuan  cua  mauu:  0.06928203230275509\n",
            "Xac  xuat  tren:  0.0050000000000000044\n",
            "Z score:  2.5758293035489004\n",
            "Gioi han  loi:  0.17845868901485806\n",
            "Khoang  tin  cay:  (0.22154131098514196, 0.5784586890148581)\n",
            "Kiem Tra  Khoang  Tin  Cay:  (array([0.38050901, 0.34431456]), array([0.41949099, 0.45568544]))\n"
          ]
        }
      ]
    },
    {
      "cell_type": "markdown",
      "source": [
        "Với khoảng tin cậy (0.22, 0.58). Ta thấy 99% là số bài hát được hát bởi ca sĩ Han trong điện thoại của Han có tỷ lệ từ 22% đến 58%."
      ],
      "metadata": {
        "id": "z4EEvMOBJbHe"
      }
    }
  ]
}