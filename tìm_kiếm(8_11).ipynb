{
  "nbformat": 4,
  "nbformat_minor": 0,
  "metadata": {
    "colab": {
      "name": " tìm kiếm(8/11).ipynb",
      "provenance": [],
      "collapsed_sections": [],
      "include_colab_link": true
    },
    "kernelspec": {
      "name": "python3",
      "display_name": "Python 3"
    },
    "language_info": {
      "name": "python"
    }
  },
  "cells": [
    {
      "cell_type": "markdown",
      "metadata": {
        "id": "view-in-github",
        "colab_type": "text"
      },
      "source": [
        "<a href=\"https://colab.research.google.com/github/Tranminhtuan48/pythonbasics/blob/main/t%C3%ACm_ki%E1%BA%BFm(8_11).ipynb\" target=\"_parent\"><img src=\"https://colab.research.google.com/assets/colab-badge.svg\" alt=\"Open In Colab\"/></a>"
      ]
    },
    {
      "cell_type": "markdown",
      "metadata": {
        "id": "e_rJD2VzF6xk"
      },
      "source": [
        "Bài 1: Viết chương trình thực hiện các yêu cầu sau:\n",
        "- Sinh ngẫu nhiên 1 danh sách n số nguyên trong đoạn [a, b], với các thông số n, a và b được nhập vào từ bàn phím;\n",
        "- Nhập vào 1 số x từ bàn phím có giá trị trong đoạn [a, b];\n",
        "- Tìm kiếm x có xuất hiện trong danh sách trên hay không. Nếu có thì trả về vị trí xuất hiện đầu tiên trong danh sách. Ngược lại, thông báo không tìm thấy."
      ]
    },
    {
      "cell_type": "code",
      "metadata": {
        "colab": {
          "base_uri": "https://localhost:8080/"
        },
        "id": "GSACCsTVF1jS",
        "outputId": "f53e67a4-aa56-4288-e9a1-c375c10181cf"
      },
      "source": [
        "import random\n",
        "ds1 = []\n",
        "n = int(input(\"nhập số phần tử: \"))\n",
        "a = int(input(\"min: \"))\n",
        "b = int(input(\"max: \"))\n",
        "x = int(input(\"nhập: \"))\n",
        "vi_tri = 0\n",
        "for i in range(n):\n",
        "  ds1.append(random.randint(a, b))\n",
        "print(\"danh sách random: \", ds1)\n",
        "for i in ds1:\n",
        "  vi_tri+=1\n",
        "  if x == i:\n",
        "    print(\"Số\", x, \"xuất hiện lần đầu tiên ở vị trí\", vi_tri)\n",
        "    break\n",
        "else:\n",
        "  print(\"Không tìm thấy\")"
      ],
      "execution_count": null,
      "outputs": [
        {
          "output_type": "stream",
          "name": "stdout",
          "text": [
            "nhập số phần tử: 10\n",
            "min: 1\n",
            "max: 5\n",
            "nhập: 3\n",
            "danh sách random:  [3, 4, 1, 1, 4, 1, 1, 3, 5, 2]\n",
            "Số 3 xuất hiện lần đầu tiên ở vị trí 1\n"
          ]
        }
      ]
    },
    {
      "cell_type": "markdown",
      "metadata": {
        "id": "hzhCB18sI8Nk"
      },
      "source": [
        "Bài 2: Viết chương trình thực hiện các yêu cầu sau:\n",
        "- Sinh ngẫu nhiên 1 danh sách n số nguyên trong đoạn [a, b], với các thông số n, a và b được nhập vào từ bàn phím;\n",
        "- Nhập vào 1 số x từ bàn phím có giá trị trong đoạn [a, b];\n",
        "- Tìm kiếm x có xuất hiện trong danh sách trên hay không theo yêu cầu sau:\n",
        "\n",
        "o Nếu có thì trả về vị trí xuất hiện đầu tiên trong danh sách và thông báo số bước lặp đã thực hiện để tìm được phần tử này\n",
        "\n",
        "o Ngược lại, thông báo không tìm thấy."
      ]
    },
    {
      "cell_type": "code",
      "metadata": {
        "colab": {
          "base_uri": "https://localhost:8080/"
        },
        "id": "KphMXbk_JFOd",
        "outputId": "39d74e2a-59e7-4ad6-c79f-64b8a89fcd70"
      },
      "source": [
        "import random\n",
        "ds2 = []\n",
        "n = int(input(\"nhập số phần tử: \"))\n",
        "a = int(input(\"min: \"))\n",
        "b = int(input(\"max: \"))\n",
        "x = int(input(\"nhập: \"))\n",
        "vi_tri = 0\n",
        "for i in range(n):\n",
        "  ds2.append(random.randint(a, b))\n",
        "print(\"danh sách random: \", ds2)\n",
        "for i in ds2:\n",
        "  vi_tri+=1\n",
        "  if x == i:\n",
        "    print(\"Số\", x, \"xuất hiện lần đầu tiên ở vị trí\", vi_tri)\n",
        "    print(\"Số bước lặp để tìm được phần tử \", vi_tri)\n",
        "    break\n",
        "else:\n",
        "  print(\"Không tìm thấy\")"
      ],
      "execution_count": null,
      "outputs": [
        {
          "output_type": "stream",
          "name": "stdout",
          "text": [
            "nhập số phần tử: 20\n",
            "min: 1\n",
            "max: 10\n",
            "nhập: 12\n",
            "danh sách random:  [1, 1, 7, 7, 2, 2, 6, 6, 5, 2, 6, 4, 9, 5, 8, 3, 1, 2, 1, 10]\n",
            "Không tìm thấy\n"
          ]
        }
      ]
    },
    {
      "cell_type": "markdown",
      "metadata": {
        "id": "74kBvJoCMOMT"
      },
      "source": [
        "Bài 3: Viết chương trình thực hiện các yêu cầu sau:\n",
        "- Bước 1: Sinh ngẫu nhiên 1 danh sách n số nguyên trong đoạn [a, b], với các thông số n, a và b được nhập vào từ bàn phím;\n",
        "- Bước 2: Nhập vào 1 số x từ bàn phím có giá trị trong đoạn [a, b];\n",
        "- Bước 3: Sắp xếp danh sách trên theo chiều tăng dần\n",
        "- Bước 4: Tìm kiếm x có xuất hiện trong danh sách trên hay không theo yêu cầu sau:\n",
        "\n",
        "o Nếu có thì trả về vị trí xuất hiện đầu tiên trong danh sách và thông báo số bước lặp đã thực hiện để tìm được phần tử này.\n",
        "\n",
        "o Ngược lại, thông báo không tìm thấy."
      ]
    },
    {
      "cell_type": "code",
      "metadata": {
        "colab": {
          "base_uri": "https://localhost:8080/"
        },
        "id": "mVAlVpi9MUYp",
        "outputId": "743c51c1-26e2-4bc7-948c-ed77e677c1e9"
      },
      "source": [
        "import random\n",
        "ds3 = []\n",
        "n = int(input(\"nhập số phần tử: \"))\n",
        "a = int(input(\"min: \"))\n",
        "b = int(input(\"max: \"))\n",
        "x = int(input(\"nhập: \"))\n",
        "vi_tri = 0\n",
        "for i in range(n):\n",
        "  ds3.append(random.randint(a, b))\n",
        "print(\"danh sách random: \", ds3)\n",
        "ds3 = sorted(ds3)\n",
        "print(\"sắp xếp theo chiều tăng dần: \", ds3)\n",
        "\n",
        "for i in ds3:\n",
        "  vi_tri+=1\n",
        "  if x == i:\n",
        "    print(\"Số\", x, \"xuất hiện lần đầu tiên ở vị trí\", vi_tri)\n",
        "    print(\"Số bước lặp để tìm được phần tử \", vi_tri)\n",
        "    break\n",
        "else:\n",
        "  print(\"Không tìm thấy\")"
      ],
      "execution_count": null,
      "outputs": [
        {
          "output_type": "stream",
          "name": "stdout",
          "text": [
            "nhập số phần tử: 20\n",
            "min: -10\n",
            "max: 10\n",
            "nhập: -9\n",
            "danh sách random:  [-9, -7, 4, -8, 7, -8, -9, -3, 7, 6, 1, 6, -9, 7, -8, -5, -2, -7, 8, -4]\n",
            "sắp xếp theo chiều tăng dần:  [-9, -9, -9, -8, -8, -8, -7, -7, -5, -4, -3, -2, 1, 4, 6, 6, 7, 7, 7, 8]\n",
            "Số -9 xuất hiện lần đầu tiên ở vị trí 1\n",
            "Số bước lặp để tìm được phần tử  1\n"
          ]
        }
      ]
    },
    {
      "cell_type": "markdown",
      "metadata": {
        "id": "I2RZteefNbjB"
      },
      "source": [
        "Bài 4: Viết chương trình thực hiện các yêu cầu sau:\n",
        "- Bước 1: Sinh ngẫu nhiên 1 danh sách n số nguyên trong đoạn [a, b], với các thông số n, a và b được nhập vào từ bàn phím;\n",
        "- Bước 2: Nhập vào 1 số x từ bàn phím có giá trị trong đoạn [a, b];\n",
        "- Bước 3: Sắp xếp danh sách trên theo chiều tăng dần\n",
        "- Bước 4: Tìm kiếm x có xuất hiện trong danh sách trên hay không theo yêu cầu sau:\n",
        "\n",
        "o Nếu có thì trả về tất cả các vị trí xuất hiện trong danh sách và thông báo số bước lặp đã thực hiện để tìm được các phần tử này.\n",
        "\n",
        "o Ngược lại, thông báo không tìm thấy."
      ]
    },
    {
      "cell_type": "code",
      "metadata": {
        "colab": {
          "base_uri": "https://localhost:8080/"
        },
        "id": "N55k4izXNmn8",
        "outputId": "b9085c04-5548-4790-8ccc-9ee65c728e9b"
      },
      "source": [
        "import random\n",
        "ds4 = []\n",
        "n = int(input(\"nhập số phần tử: \"))\n",
        "a = int(input(\"min: \"))\n",
        "b = int(input(\"max: \"))\n",
        "x = int(input(\"nhập: \"))\n",
        "vi_tri = 0\n",
        "for i in range(n):\n",
        "  ds4.append(random.randint(a, b))\n",
        "print(\"danh sách random: \", ds4)\n",
        "ds4 = sorted(ds4)\n",
        "print(\"sắp xếp theo chiều tăng dần: \", ds4)\n",
        "\n",
        "tim_kiem  = 0\n",
        "for i in ds4:\n",
        "  vi_tri+=1\n",
        "  if x == i:\n",
        "    print(\"Số\", x, \"xuất hiện ở vị trí\", vi_tri)\n",
        "    print(\"Số bước lặp để tìm được phần tử \", vi_tri)\n",
        "    tim_kiem+=1\n",
        "if tim_kiem == 0:\n",
        "  print(\"không tìm thấy\")"
      ],
      "execution_count": null,
      "outputs": [
        {
          "output_type": "stream",
          "name": "stdout",
          "text": [
            "nhập số phần tử: 20\n",
            "min: 1\n",
            "max: 70\n",
            "nhập: 21\n",
            "danh sách random:  [35, 10, 13, 17, 29, 13, 69, 46, 7, 48, 52, 62, 52, 11, 68, 33, 36, 39, 57, 30]\n",
            "sắp xếp theo chiều tăng dần:  [7, 10, 11, 13, 13, 17, 29, 30, 33, 35, 36, 39, 46, 48, 52, 52, 57, 62, 68, 69]\n",
            "không tìm thấy\n"
          ]
        }
      ]
    }
  ]
}