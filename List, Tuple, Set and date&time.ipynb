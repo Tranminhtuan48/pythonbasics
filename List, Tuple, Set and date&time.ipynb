{
  "nbformat": 4,
  "nbformat_minor": 0,
  "metadata": {
    "colab": {
      "name": "Untitled1.ipynb",
      "provenance": [],
      "authorship_tag": "ABX9TyPhHNyUsdOD2TN2g22L8iRd",
      "include_colab_link": true
    },
    "kernelspec": {
      "name": "python3",
      "display_name": "Python 3"
    },
    "language_info": {
      "name": "python"
    }
  },
  "cells": [
    {
      "cell_type": "markdown",
      "metadata": {
        "id": "view-in-github",
        "colab_type": "text"
      },
      "source": [
        "<a href=\"https://colab.research.google.com/github/Tranminhtuan48/pythonbasics/blob/main/List%2C%20Tuple%2C%20Set%20and%20date%26time.ipynb\" target=\"_parent\"><img src=\"https://colab.research.google.com/assets/colab-badge.svg\" alt=\"Open In Colab\"/></a>"
      ]
    },
    {
      "cell_type": "code",
      "metadata": {
        "colab": {
          "base_uri": "https://localhost:8080/"
        },
        "id": "4v5sCo-5LbBA",
        "outputId": "2b30e8b6-0d4b-4434-83f9-44f2bd093aae"
      },
      "source": [
        "list1 = ['physics', 'chemistry', 1997, 2000] \n",
        "list2 = [1, 2, 3, 4, 5, 6, 7 ] \n",
        "print(\"list1[0]: \", list1[0]) \n",
        "print(\"list2[1:5]: \", list2[1:5]) \n",
        "print(\"Value available at index 2 : \") \n",
        "print(list1[2]) \n",
        "del list1[2] \n",
        "print(\"After deleting value at index 2 : \") \n",
        "print(list1)"
      ],
      "execution_count": 2,
      "outputs": [
        {
          "output_type": "stream",
          "name": "stdout",
          "text": [
            "list1[0]:  physics\n",
            "list2[1:5]:  [2, 3, 4, 5]\n",
            "Value available at index 2 : \n",
            "1997\n",
            "After deleting value at index 2 : \n",
            "['physics', 'chemistry', 2000]\n"
          ]
        }
      ]
    },
    {
      "cell_type": "code",
      "metadata": {
        "id": "EYamyZn5Mi50"
      },
      "source": [
        "tup1 = ('physics', 'chemistry', 1997, 2000) \n",
        "tup2 = (1, 2, 3, 4, 5, 6, 7 ) \n",
        "print(\"tup1[0]: \", tup1[0]) \n",
        "print(\"tup2[1:5]: \", tup2[1:5]) \n",
        "tup3 = tup1 + tup2 \n",
        "print(tup3) \n",
        "tup4 = ('physics', 'chemistry', 1997, 2000) \n",
        "print(tup4) \n",
        "del tup4 \n",
        "print(\"After deleting tup : tup is no longer exist \") \n"
      ],
      "execution_count": null,
      "outputs": []
    },
    {
      "cell_type": "code",
      "metadata": {
        "colab": {
          "base_uri": "https://localhost:8080/"
        },
        "id": "wLYJp9nsNneZ",
        "outputId": "2716b852-6014-4a54-df73-54e64958f64d"
      },
      "source": [
        "dict = {'Name': 'Zara', 'Age': 7, 'Class': 'First'} \n",
        "print(\"dict['Name']: \", dict['Name']) \n",
        "print(\"dict['Age']: \", dict['Age']) \n",
        "dict = {'Name': 'Zara', 'Age': 7, 'Class': 'First'} \n",
        "dict['Age'] = 8\n",
        "dict['School'] = \"DPS School\"\n",
        "print(\"dict['Age']: \", dict['Age']) \n",
        "print(\"dict['School']: \", dict['School']) \n",
        "dict1 = {'Name': 'Zara', 'Age': 7, 'Class': 'First'} \n",
        "del dict1['Name'] \n",
        "print(dict1)"
      ],
      "execution_count": 9,
      "outputs": [
        {
          "output_type": "stream",
          "name": "stdout",
          "text": [
            "dict['Name']:  Zara\n",
            "dict['Age']:  7\n",
            "dict['Age']:  8\n",
            "dict['School']:  DPS School\n",
            "{'Age': 7, 'Class': 'First'}\n"
          ]
        }
      ]
    },
    {
      "cell_type": "code",
      "metadata": {
        "colab": {
          "base_uri": "https://localhost:8080/"
        },
        "id": "nD3y0MvPOZiI",
        "outputId": "691eabb7-e3a3-4d4c-fce5-abac09b2dbce"
      },
      "source": [
        "Set = set([\"a\", \"b\", \"c\"]) \n",
        "print(\"Set: \") \n",
        "print(Set)\n",
        "Set.add(\"d\") \n",
        "print(\"\\nSet after adding: \") \n",
        "print(Set)\n",
        "Days=set([\"Mon\",\"Tue\",\"Wed\",\"Thu\",\"Fri\",\"Sat\"])\n",
        "Days.discard(\"Sun\") \n",
        "print(Days) \n",
        "set1 = {1,2,3,4,5,6} \n",
        "print(\"Initial set\") \n",
        "print(set1) \n",
        "# This method will remove \n",
        "# all the elements of the set \n",
        "set1.clear() \n",
        "print(\"\\nSet after using clear() function\") \n",
        "print(set1) \n"
      ],
      "execution_count": 16,
      "outputs": [
        {
          "output_type": "stream",
          "name": "stdout",
          "text": [
            "Set: \n",
            "{'b', 'a', 'c'}\n",
            "\n",
            "Set after adding: \n",
            "{'d', 'b', 'a', 'c'}\n",
            "{'Fri', 'Wed', 'Sat', 'Thu', 'Mon', 'Tue'}\n",
            "Initial set\n",
            "{1, 2, 3, 4, 5, 6}\n",
            "\n",
            "Set after using clear() function\n",
            "set()\n"
          ]
        }
      ]
    },
    {
      "cell_type": "code",
      "metadata": {
        "colab": {
          "base_uri": "https://localhost:8080/"
        },
        "id": "7GtDwhuKQFo3",
        "outputId": "10c4c9ec-5783-4439-e3db-e6fe7e335946"
      },
      "source": [
        "import time\n",
        "time.time() \n",
        "print(\"Number of ticks since 12:00am, January 1, 1970:\")\n",
        "time.localtime(time.time()) \n",
        "print(\"Local current time :\", localtime) \n",
        "import time; \n",
        "localtime = time.asctime( time.localtime(time.time()) ) \n",
        "print(\"Local current time :\", localtime) \n",
        "import calendar \n",
        "cal = calendar.month(2008, 1) \n",
        "print(\"Here is the calendar:\") \n",
        "print(cal)"
      ],
      "execution_count": 21,
      "outputs": [
        {
          "output_type": "stream",
          "name": "stdout",
          "text": [
            "Number of ticks since 12:00am, January 1, 1970:\n",
            "Local current time : Thu Sep 30 01:12:20 2021\n",
            "Local current time : Thu Sep 30 01:12:51 2021\n",
            "Here is the calendar:\n",
            "    January 2008\n",
            "Mo Tu We Th Fr Sa Su\n",
            "    1  2  3  4  5  6\n",
            " 7  8  9 10 11 12 13\n",
            "14 15 16 17 18 19 20\n",
            "21 22 23 24 25 26 27\n",
            "28 29 30 31\n",
            "\n"
          ]
        }
      ]
    }
  ]
}