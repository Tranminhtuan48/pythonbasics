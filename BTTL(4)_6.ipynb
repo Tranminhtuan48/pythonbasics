{
  "nbformat": 4,
  "nbformat_minor": 0,
  "metadata": {
    "colab": {
      "provenance": [],
      "authorship_tag": "ABX9TyPXoWnYk7kX14IRZAVj0ETf",
      "include_colab_link": true
    },
    "kernelspec": {
      "name": "python3",
      "display_name": "Python 3"
    },
    "language_info": {
      "name": "python"
    }
  },
  "cells": [
    {
      "cell_type": "markdown",
      "metadata": {
        "id": "view-in-github",
        "colab_type": "text"
      },
      "source": [
        "<a href=\"https://colab.research.google.com/github/Tranminhtuan48/pythonbasics/blob/main/BTTL(4)_6.ipynb\" target=\"_parent\"><img src=\"https://colab.research.google.com/assets/colab-badge.svg\" alt=\"Open In Colab\"/></a>"
      ]
    },
    {
      "cell_type": "code",
      "execution_count": 1,
      "metadata": {
        "id": "dddGgPxKJXaH"
      },
      "outputs": [],
      "source": [
        "import os\n",
        "import numpy as np\n",
        "from sklearn.preprocessing import StandardScaler\n",
        "from sklearn.model_selection import train_test_split\n",
        "from sklearn.model_selection import KFold\n",
        "from sklearn.metrics import mean_squared_error\n",
        "from sklearn.linear_model import LinearRegression\n",
        "from sklearn.metrics import accuracy_score\n",
        "from sklearn.linear_model import LogisticRegression"
      ]
    },
    {
      "cell_type": "code",
      "source": [
        "from google.colab import drive\n",
        "drive.mount('/content/gdrive')"
      ],
      "metadata": {
        "colab": {
          "base_uri": "https://localhost:8080/"
        },
        "id": "QO7E9MkxKOC1",
        "outputId": "f6bd7b6c-ab21-4ae6-d7c7-409a26a08529"
      },
      "execution_count": 2,
      "outputs": [
        {
          "output_type": "stream",
          "name": "stdout",
          "text": [
            "Mounted at /content/gdrive\n"
          ]
        }
      ]
    },
    {
      "cell_type": "code",
      "source": [
        "def readData(folder , filename):\n",
        "    data = np.loadtxt(os.path.join(folder, filename), delimiter = ',')\n",
        "    X = data[:, :-1]\n",
        "    y = data[:, -1].reshape(-1, 1)\n",
        "    one = np.ones((X.shape[0], 1))\n",
        "    X = np.concatenate((one, X), axis = 1)\n",
        "    return X, y"
      ],
      "metadata": {
        "id": "6EXVBvAuKREM"
      },
      "execution_count": 3,
      "outputs": []
    },
    {
      "cell_type": "markdown",
      "source": [
        "4.1.6"
      ],
      "metadata": {
        "id": "vvb36x5pKUml"
      }
    },
    {
      "cell_type": "code",
      "source": [
        "def featureScalingSplit(X, y):\n",
        "    X_train, X_test, y_train, y_test = train_test_split(X, y, test_size=0.3, random_state=15)\n",
        "    sc_X = StandardScaler()\n",
        "    sc_y = StandardScaler()\n",
        "    X_train[:, 1:] = sc_X.fit_transform(X_train[:, 1:])\n",
        "    X_test[:, 1:] = sc_X.transform(X_test[:, 1:])\n",
        "    y_train = sc_y.fit_transform(y_train)\n",
        "    y_test = sc_y.transform(y_test)\n",
        "    return X_train, X_test, y_train, y_test"
      ],
      "metadata": {
        "id": "u2dV7qCWKbAJ"
      },
      "execution_count": 4,
      "outputs": []
    },
    {
      "cell_type": "code",
      "source": [
        "def kFoldCrossValiation(X_train, y_train):\n",
        "    kf = KFold(n_splits=10)\n",
        "    step = 0\n",
        "    valitdate_models = {}\n",
        "    for train2_index, val_index in kf.split(X = X_train,y = y_train):\n",
        "        step = step + 1\n",
        "        regressor = LinearRegression()\n",
        "        X_train2, X_val = X_train[train2_index], X_train[val_index]\n",
        "        y_train2, y_val = y_train[train2_index], y_train[val_index]\n",
        "        regressor.fit(X_train2, y_train2)\n",
        "        y_pred = regressor.predict(X_val)\n",
        "        valitdate_models[mean_squared_error(y_val, y_pred)] =  regressor\n",
        "    min_error = min(list(valitdate_models.keys()))\n",
        "    return valitdate_models[min_error]"
      ],
      "metadata": {
        "id": "9S6ykppaKgNa"
      },
      "execution_count": 5,
      "outputs": []
    },
    {
      "cell_type": "code",
      "source": [
        "def validateTestSet(X_test, y_test, regressor):\n",
        "    print(\"Đánh giá hiệu năng mô hình trên tập dữ liệu test:\")\n",
        "    y_pred = regressor.predict(X_test)\n",
        "    print(\"\\tMSE: \", mean_squared_error(y_test, y_pred))\n",
        "    return mean_squared_error(y_test, y_pred)"
      ],
      "metadata": {
        "id": "7iujHXODKhtZ"
      },
      "execution_count": 6,
      "outputs": []
    },
    {
      "cell_type": "code",
      "source": [
        "def Linear_Regression():\n",
        "    X, y = readData(\"/content/gdrive/My Drive/\", 'ex1data1.txt')\n",
        "    X_train, X_test, y_train, y_test = featureScalingSplit(X, y)\n",
        "    regressor = kFoldCrossValiation(X_train, y_train)\n",
        "    validateTestSet(X_test, y_test, regressor)"
      ],
      "metadata": {
        "id": "QDm0InotKmCf"
      },
      "execution_count": 8,
      "outputs": []
    },
    {
      "cell_type": "markdown",
      "source": [
        "4.2.6"
      ],
      "metadata": {
        "id": "abM2oss6KzDx"
      }
    },
    {
      "cell_type": "code",
      "source": [
        "def featureScalingSplit(X, y):\n",
        "    X_train, X_test, y_train, y_test = train_test_split(X, y, test_size=0.3, random_state=15)\n",
        "    sc_X = StandardScaler()\n",
        "    X_train = sc_X.fit_transform(X_train)\n",
        "    X_test = sc_X.transform(X_test)\n",
        "    return X_train, X_test, y_train, y_test"
      ],
      "metadata": {
        "id": "aF6Ui4l-KoQx"
      },
      "execution_count": 9,
      "outputs": []
    },
    {
      "cell_type": "code",
      "source": [
        "def kFoldCrossValiation(X_train, y_train):\n",
        "    kf = KFold(n_splits=10)\n",
        "    step = 0\n",
        "    valitdate_models = {}\n",
        "    for train2_index, val_index in kf.split(X = X_train,y = y_train):\n",
        "        step = step + 1\n",
        "        classifier = LogisticRegression()\n",
        "        X_train2, X_val = X_train[train2_index], X_train[val_index]\n",
        "        y_train2, y_val = y_train[train2_index], y_train[val_index]\n",
        "        classifier.fit(X_train2, y_train2)\n",
        "        y_pred = classifier.predict(X_val)\n",
        "        valitdate_models[accuracy_score(y_val, y_pred)] =  classifier\n",
        "    max_accuracy = max(list(valitdate_models.keys()))\n",
        "    return valitdate_models[max_accuracy]\n"
      ],
      "metadata": {
        "id": "uaC59NNpK4vF"
      },
      "execution_count": 10,
      "outputs": []
    },
    {
      "cell_type": "code",
      "source": [
        "def validateTestSet(X_test, y_test, classifier):\n",
        "    print(\"Đánh giá hiệu năng mô hình trên tập dữ liệu test:\")\n",
        "    y_pred = classifier.predict(X_test)\n",
        "    print(\"\\tAccuracy: \", accuracy_score(y_test, y_pred))\n",
        "    return accuracy_score(y_test, y_pred)"
      ],
      "metadata": {
        "id": "OnZd1AFbK7rl"
      },
      "execution_count": 11,
      "outputs": []
    },
    {
      "cell_type": "code",
      "source": [
        "def Logistic_Regression():\n",
        "    X, y = readData(\"/content/gdrive/Mydrive/\", 'ex2data1.txt')\n",
        "    X_train, X_test, y_train, y_test = featureScalingSplit(X, y)\n",
        "    classifier = kFoldCrossValiation(X_train, y_train)\n",
        "    validateTestSet(X_test, y_test, classifier)"
      ],
      "metadata": {
        "id": "H-VVY4MLK9-8"
      },
      "execution_count": 13,
      "outputs": []
    }
  ]
}