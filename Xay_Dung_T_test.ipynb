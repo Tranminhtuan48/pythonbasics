{
  "nbformat": 4,
  "nbformat_minor": 0,
  "metadata": {
    "colab": {
      "name": "Xay_Dung_T-test.ipynb",
      "provenance": [],
      "collapsed_sections": [],
      "include_colab_link": true
    },
    "kernelspec": {
      "name": "python3",
      "display_name": "Python 3"
    },
    "language_info": {
      "name": "python"
    }
  },
  "cells": [
    {
      "cell_type": "markdown",
      "metadata": {
        "id": "view-in-github",
        "colab_type": "text"
      },
      "source": [
        "<a href=\"https://colab.research.google.com/github/Tranminhtuan48/pythonbasics/blob/main/Xay_Dung_T_test.ipynb\" target=\"_parent\"><img src=\"https://colab.research.google.com/assets/colab-badge.svg\" alt=\"Open In Colab\"/></a>"
      ]
    },
    {
      "cell_type": "markdown",
      "source": [
        "Hướng dẫn suy diễn thống kê bằng kiểm định t:"
      ],
      "metadata": {
        "id": "4cYA0QZMm7NA"
      }
    },
    {
      "cell_type": "markdown",
      "source": [
        "1. Các thư viện cần thiết:"
      ],
      "metadata": {
        "id": "25PxAHvHm_Nr"
      }
    },
    {
      "cell_type": "code",
      "source": [
        "import numpy as np\n",
        "from scipy import stats\n",
        "import pandas as pd\n",
        "import math\n",
        "from statsmodels.stats.weightstats import ttest_ind"
      ],
      "metadata": {
        "id": "XmBC3LnlnGLc",
        "colab": {
          "base_uri": "https://localhost:8080/"
        },
        "outputId": "bde1f2e7-5509-4f49-9351-7b09dd6019f3"
      },
      "execution_count": null,
      "outputs": [
        {
          "output_type": "stream",
          "name": "stderr",
          "text": [
            "/usr/local/lib/python3.7/dist-packages/statsmodels/tools/_testing.py:19: FutureWarning: pandas.util.testing is deprecated. Use the functions in the public API at pandas.testing instead.\n",
            "  import pandas.util.testing as tm\n"
          ]
        }
      ]
    },
    {
      "cell_type": "markdown",
      "source": [
        "2. Thành phần của một bài kiểm định:\n",
        "- Vấn đề kiểm định\n",
        "- Cặp giả thuyết $H_0$ và $H_a$\n",
        "- Tiểu chuẩn kiểm định: $G = G(X_1, X_2, ..., X_n)$ Biết quy luật phân phối xác suất khi $H_0$ đúng như Student, chuẩn, Chi bình phương, Fisher\n",
        "- Mức ý nghĩa $\\alpha$: Xác suất mắc sai lầm loại $I$ ($H_0$ đúng nhưng chúng ta bác bỏ)\n",
        "- Miền bác bỏ $H_0$: $W_α$ = {miền giá trị cho thấy $H_0$ sai\n",
        "$$α = P(G \\in W_a|H_0 \\text{ đúng} )$$\n",
        "\n",
        "- Giá trị xác suất (p-value): Mức độ khẳng định của việc bác bỏ $H_0$ hoặc có thể hiểu là mức ý nghĩa nhỏ nhất để bác bỏ $H_0$"
      ],
      "metadata": {
        "id": "ErvqTBWYnU9A"
      }
    },
    {
      "cell_type": "markdown",
      "source": [
        "3. Quy trình kiểm định:\n",
        "\n",
        "Bước 1: Thực hiện các phép đo, hay thu thập dữ liệu quan sát\n",
        "\n",
        "Bước 2: Phát biểu giả thuyết  H0  và giả thuyết thay thế  Ha \n",
        "\n",
        "Bước 3: Xác định mức  α  (hay khoảng tin cậy)\n",
        "\n",
        "Bước 4: Lấy mẫu và tính toán các đại lượng thống kê của mẫu\n",
        "\n",
        "Bước 5: Thực hiện kiểm định t (t-test)\n",
        "\n",
        "Bước 6: Kết luận dựa vào kết quả kiểm định"
      ],
      "metadata": {
        "id": "DV0ZwCK_r-yX"
      }
    },
    {
      "cell_type": "markdown",
      "source": [
        "5. Xây dựng kiểm định t:\n"
      ],
      "metadata": {
        "id": "WenejXzejrxw"
      }
    },
    {
      "cell_type": "markdown",
      "source": [
        "* Trường hợp 2 đuôi:"
      ],
      "metadata": {
        "id": "B03vFOydw8jI"
      }
    },
    {
      "cell_type": "markdown",
      "source": [
        "Bài toán: Điều tra chi tiêu hàng năm của 20 công nhân khi công nghiệp A thấy trung bình mẫu là 34 triệu đồng và độ lệch chuẩn mẫu là 5.8 triệu đồng. Điều tra 20 công nhân ở khu công nghiệp C thì thấy chi tiêu trung bình là 36 triệu đồng và độ lệch chuẩn là 5 triệu đồng. Với mức ý nghĩa 5%, có thể cho rằng mức chi tiêu trung bình hàng năm của công nhân ở khu công nghiệp A có bằng khu C hay không?\n"
      ],
      "metadata": {
        "id": "AL2MeoeLo77x"
      }
    },
    {
      "cell_type": "markdown",
      "source": [
        "Xây dựng giả thuyết:\n",
        "\\begin{align}\n",
        "        H_0: μ_A = μ_C\n",
        "    \\end{align}\n",
        "\n",
        "Giả thuyết thay thế:\n",
        "\\begin{align}\n",
        "        H_a: μ_A \\ne μ_C\n",
        "    \\end{align}\n",
        "\n",
        "α = 0.05\n",
        "\n",
        "Chỉ số t với bậc tự do 19 (20-1) tương ứng với α/2 = 0.025 là 2.093 (Tra bảng phân phối t)\n",
        "\n",
        "Công thức:\n",
        "$$t = \\frac{(\\overline{\\rm X}_1 - \\overline{\\rm X}_2)}{\\sqrt{\\frac{S_1^2}{n_1} + \\frac{S_2^2}{n_2}}}$$\n",
        "\n",
        "Với:\n",
        "- $\\overline{\\rm X}_1$: trung bình mẫu ban đầu (34)\n",
        "- $\\overline{\\rm X}_2$: trung bình của mẫu cần so sánh (36)\n",
        "- $S_1$: độ lệch chuẩn hiệu chỉnh mẫu ban đầu (5.8)\n",
        "- $S_2$: độ lệch chuẩn hiệu chỉnh mẫu cần so sánh (5)\n",
        "- $n_1$: cỡ mẫu của mẫu ban đầu (20)\n",
        "- $n_2$: cỡ mẫu của mẫu cần so sánh (20)\n",
        "\n",
        "Thay giá trị vào công thức ta có:\n",
        "\n",
        "$$t = \\frac{(34 - 36)}{\\sqrt{\\frac{5.8^2}{20} + \\frac{5^2}{20}}} \\approx -1.168$$\n",
        "\n",
        "\n",
        "VÌ $|t_{qs}|$ < 2.093. Do đó chưa có bằng chứng để bác bỏ giả thuyết $H_0$ "
      ],
      "metadata": {
        "id": "J5sKSVhup6ih"
      }
    },
    {
      "cell_type": "markdown",
      "source": [
        "Ta dùng Python để giải bài toán trên như sau:"
      ],
      "metadata": {
        "id": "T3M0nPvKs7gP"
      }
    },
    {
      "cell_type": "code",
      "source": [
        "# Sinh các mẫu:\n",
        "sample_A = np.random.normal(loc = 34, scale = 5.8, size = 20)\n",
        "sample_B = np.random.normal(loc = 36, scale = 5, size = 20)"
      ],
      "metadata": {
        "id": "gmixj2oZuKEw"
      },
      "execution_count": null,
      "outputs": []
    },
    {
      "cell_type": "code",
      "source": [
        "# Xác định mức ý nghĩa:\n",
        "sig = 0.05"
      ],
      "metadata": {
        "id": "AEjXdGoju2YH"
      },
      "execution_count": null,
      "outputs": []
    },
    {
      "cell_type": "code",
      "source": [
        "# Tiến hành kiểm định t:\n",
        "t_statistic, p_value = stats.ttest_ind(sample_A, sample_B)\n",
        "print(f\"p value: {p_value}\")\n",
        "if p_value < sig:\n",
        "    print(\"Có bằng chứng để bác bỏ giả thuyết H0\")\n",
        "else:\n",
        "    print(\"Chưa có bằng chứng để bác bỏ giả thuyết H0\")"
      ],
      "metadata": {
        "colab": {
          "base_uri": "https://localhost:8080/"
        },
        "id": "yBjWnpatvChn",
        "outputId": "953c6d8e-811f-4f71-bd92-01c7d64cebfe"
      },
      "execution_count": null,
      "outputs": [
        {
          "output_type": "stream",
          "name": "stdout",
          "text": [
            "p value: 0.256371137219693\n",
            "Chưa có bằng chứng để bác bỏ giả thuyết H0\n"
          ]
        }
      ]
    },
    {
      "cell_type": "markdown",
      "source": [
        "* Trường hợp 1 đuôi:"
      ],
      "metadata": {
        "id": "6TaD4JUcw_6f"
      }
    },
    {
      "cell_type": "markdown",
      "source": [
        "Bài toán: Điều tra chi tiêu hàng năm của 20 công nhân khi công nghiệp A thấy trung bình mẫu là 34 triệu đồng và độ lệch chuẩn mẫu là 5.8 triệu đồng. Điều tra 20 công nhân ở khu công nghiệp C thì thấy chi tiêu trung bình là 36 triệu đồng và độ lệch chuẩn là 5 triệu đồng. Với mức ý nghĩa 5%, có thể cho rằng mức chi tiêu trung bình hàng năm của công nhân ở khu công nghiệp A thấp hơn khu C hay không?"
      ],
      "metadata": {
        "id": "AvWcTBpzxKuf"
      }
    },
    {
      "cell_type": "markdown",
      "source": [
        "Xây dựng giả thuyết:\n",
        "\\begin{align}\n",
        "        H_0: μ_A = μ_C\n",
        "    \\end{align}\n",
        "\n",
        "Giả thuyết thay thế:\n",
        "\\begin{align}\n",
        "        H_a: μ_A < μ_C\n",
        "    \\end{align}\n",
        "Với α = 0.05"
      ],
      "metadata": {
        "id": "f2g_XPOyyAX3"
      }
    },
    {
      "cell_type": "code",
      "source": [
        "# Sinh các mẫu:\n",
        "sample_A = np.random.normal(loc = 34, scale = 5.8, size = 20)\n",
        "sample_B = np.random.normal(loc = 36, scale = 5, size = 20)"
      ],
      "metadata": {
        "id": "ghgiFK-HyVUm"
      },
      "execution_count": null,
      "outputs": []
    },
    {
      "cell_type": "code",
      "source": [
        "# Xác định mức ý nghĩa:\n",
        "sig = 0.05"
      ],
      "metadata": {
        "id": "CowUVp5CyXa-"
      },
      "execution_count": null,
      "outputs": []
    },
    {
      "cell_type": "code",
      "source": [
        "# Tiến hành kiểm định t:\n",
        "t_statistic, p_value, df = ttest_ind(x1 = sample_A, x2 = sample_B, value = 34 - 36, alternative = \"smaller\")\n",
        "print(f\"p value: {p_value}\")\n",
        "if p_value < sig:\n",
        "    print(\"Có bằng chứng để bác bỏ giả thuyết H0\")\n",
        "else:\n",
        "    print(\"Chưa có bằng chứng để bác bỏ giả thuyết H0\")"
      ],
      "metadata": {
        "colab": {
          "base_uri": "https://localhost:8080/"
        },
        "id": "oAd8GE4YyZX2",
        "outputId": "32c147dd-075f-4b15-9d52-43dfdd6db08f"
      },
      "execution_count": null,
      "outputs": [
        {
          "output_type": "stream",
          "name": "stdout",
          "text": [
            "p value: 0.8743283541042681\n",
            "Chưa có bằng chứng để bác bỏ giả thuyết H0\n"
          ]
        }
      ]
    }
  ]
}