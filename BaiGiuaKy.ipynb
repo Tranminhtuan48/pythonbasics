{
  "nbformat": 4,
  "nbformat_minor": 0,
  "metadata": {
    "colab": {
      "provenance": [],
      "include_colab_link": true
    },
    "kernelspec": {
      "name": "python3",
      "display_name": "Python 3"
    },
    "language_info": {
      "name": "python"
    }
  },
  "cells": [
    {
      "cell_type": "markdown",
      "metadata": {
        "id": "view-in-github",
        "colab_type": "text"
      },
      "source": [
        "<a href=\"https://colab.research.google.com/github/Tranminhtuan48/pythonbasics/blob/main/BaiGiuaKy.ipynb\" target=\"_parent\"><img src=\"https://colab.research.google.com/assets/colab-badge.svg\" alt=\"Open In Colab\"/></a>"
      ]
    },
    {
      "cell_type": "code",
      "source": [
        "import pandas as pd\n",
        "import numpy as np\n",
        "from sklearn.model_selection import train_test_split\n",
        "from sklearn.metrics import accuracy_score\n",
        "from sklearn.metrics import precision_score\n",
        "from sklearn.metrics import recall_score\n",
        "from sklearn.metrics import f1_score\n",
        "from sklearn.linear_model import LogisticRegression\n",
        "from sklearn.model_selection import cross_val_score\n",
        "from sklearn.model_selection import KFold\n",
        "from sklearn.metrics import accuracy_score\n",
        "from sklearn.neighbors import KNeighborsClassifier\n",
        "from sklearn.model_selection import cross_val_score\n",
        "from sklearn.model_selection import GridSearchCV\n",
        "from sklearn.naive_bayes import GaussianNB\n",
        "from sklearn.model_selection import cross_val_score\n",
        "from sklearn.preprocessing import StandardScaler"
      ],
      "metadata": {
        "id": "TRZPk15umPgs"
      },
      "execution_count": 2,
      "outputs": []
    },
    {
      "cell_type": "code",
      "source": [
        "#Tập dữ liệu Breast Cancer Wisconsin\n",
        "bcw = pd.read_csv('breast-cancer-wisconsin.data', sep = \",\", header=None)"
      ],
      "metadata": {
        "id": "xLXaZ9mfmVPz"
      },
      "execution_count": 3,
      "outputs": []
    },
    {
      "cell_type": "code",
      "source": [
        "bcw.head(5)"
      ],
      "metadata": {
        "colab": {
          "base_uri": "https://localhost:8080/",
          "height": 206
        },
        "id": "olWd9oeuomPZ",
        "outputId": "7b549f7a-a619-406e-d32b-821149272064"
      },
      "execution_count": 4,
      "outputs": [
        {
          "output_type": "execute_result",
          "data": {
            "text/plain": [
              "        0   1   2   3   4   5   6   7   8   9   10\n",
              "0  1000025   5   1   1   1   2   1   3   1   1   2\n",
              "1  1002945   5   4   4   5   7  10   3   2   1   2\n",
              "2  1015425   3   1   1   1   2   2   3   1   1   2\n",
              "3  1016277   6   8   8   1   3   4   3   7   1   2\n",
              "4  1017023   4   1   1   3   2   1   3   1   1   2"
            ],
            "text/html": [
              "\n",
              "  <div id=\"df-3ff4ca91-1582-43c7-b0cd-59f0ca238f06\">\n",
              "    <div class=\"colab-df-container\">\n",
              "      <div>\n",
              "<style scoped>\n",
              "    .dataframe tbody tr th:only-of-type {\n",
              "        vertical-align: middle;\n",
              "    }\n",
              "\n",
              "    .dataframe tbody tr th {\n",
              "        vertical-align: top;\n",
              "    }\n",
              "\n",
              "    .dataframe thead th {\n",
              "        text-align: right;\n",
              "    }\n",
              "</style>\n",
              "<table border=\"1\" class=\"dataframe\">\n",
              "  <thead>\n",
              "    <tr style=\"text-align: right;\">\n",
              "      <th></th>\n",
              "      <th>0</th>\n",
              "      <th>1</th>\n",
              "      <th>2</th>\n",
              "      <th>3</th>\n",
              "      <th>4</th>\n",
              "      <th>5</th>\n",
              "      <th>6</th>\n",
              "      <th>7</th>\n",
              "      <th>8</th>\n",
              "      <th>9</th>\n",
              "      <th>10</th>\n",
              "    </tr>\n",
              "  </thead>\n",
              "  <tbody>\n",
              "    <tr>\n",
              "      <th>0</th>\n",
              "      <td>1000025</td>\n",
              "      <td>5</td>\n",
              "      <td>1</td>\n",
              "      <td>1</td>\n",
              "      <td>1</td>\n",
              "      <td>2</td>\n",
              "      <td>1</td>\n",
              "      <td>3</td>\n",
              "      <td>1</td>\n",
              "      <td>1</td>\n",
              "      <td>2</td>\n",
              "    </tr>\n",
              "    <tr>\n",
              "      <th>1</th>\n",
              "      <td>1002945</td>\n",
              "      <td>5</td>\n",
              "      <td>4</td>\n",
              "      <td>4</td>\n",
              "      <td>5</td>\n",
              "      <td>7</td>\n",
              "      <td>10</td>\n",
              "      <td>3</td>\n",
              "      <td>2</td>\n",
              "      <td>1</td>\n",
              "      <td>2</td>\n",
              "    </tr>\n",
              "    <tr>\n",
              "      <th>2</th>\n",
              "      <td>1015425</td>\n",
              "      <td>3</td>\n",
              "      <td>1</td>\n",
              "      <td>1</td>\n",
              "      <td>1</td>\n",
              "      <td>2</td>\n",
              "      <td>2</td>\n",
              "      <td>3</td>\n",
              "      <td>1</td>\n",
              "      <td>1</td>\n",
              "      <td>2</td>\n",
              "    </tr>\n",
              "    <tr>\n",
              "      <th>3</th>\n",
              "      <td>1016277</td>\n",
              "      <td>6</td>\n",
              "      <td>8</td>\n",
              "      <td>8</td>\n",
              "      <td>1</td>\n",
              "      <td>3</td>\n",
              "      <td>4</td>\n",
              "      <td>3</td>\n",
              "      <td>7</td>\n",
              "      <td>1</td>\n",
              "      <td>2</td>\n",
              "    </tr>\n",
              "    <tr>\n",
              "      <th>4</th>\n",
              "      <td>1017023</td>\n",
              "      <td>4</td>\n",
              "      <td>1</td>\n",
              "      <td>1</td>\n",
              "      <td>3</td>\n",
              "      <td>2</td>\n",
              "      <td>1</td>\n",
              "      <td>3</td>\n",
              "      <td>1</td>\n",
              "      <td>1</td>\n",
              "      <td>2</td>\n",
              "    </tr>\n",
              "  </tbody>\n",
              "</table>\n",
              "</div>\n",
              "      <button class=\"colab-df-convert\" onclick=\"convertToInteractive('df-3ff4ca91-1582-43c7-b0cd-59f0ca238f06')\"\n",
              "              title=\"Convert this dataframe to an interactive table.\"\n",
              "              style=\"display:none;\">\n",
              "        \n",
              "  <svg xmlns=\"http://www.w3.org/2000/svg\" height=\"24px\"viewBox=\"0 0 24 24\"\n",
              "       width=\"24px\">\n",
              "    <path d=\"M0 0h24v24H0V0z\" fill=\"none\"/>\n",
              "    <path d=\"M18.56 5.44l.94 2.06.94-2.06 2.06-.94-2.06-.94-.94-2.06-.94 2.06-2.06.94zm-11 1L8.5 8.5l.94-2.06 2.06-.94-2.06-.94L8.5 2.5l-.94 2.06-2.06.94zm10 10l.94 2.06.94-2.06 2.06-.94-2.06-.94-.94-2.06-.94 2.06-2.06.94z\"/><path d=\"M17.41 7.96l-1.37-1.37c-.4-.4-.92-.59-1.43-.59-.52 0-1.04.2-1.43.59L10.3 9.45l-7.72 7.72c-.78.78-.78 2.05 0 2.83L4 21.41c.39.39.9.59 1.41.59.51 0 1.02-.2 1.41-.59l7.78-7.78 2.81-2.81c.8-.78.8-2.07 0-2.86zM5.41 20L4 18.59l7.72-7.72 1.47 1.35L5.41 20z\"/>\n",
              "  </svg>\n",
              "      </button>\n",
              "      \n",
              "  <style>\n",
              "    .colab-df-container {\n",
              "      display:flex;\n",
              "      flex-wrap:wrap;\n",
              "      gap: 12px;\n",
              "    }\n",
              "\n",
              "    .colab-df-convert {\n",
              "      background-color: #E8F0FE;\n",
              "      border: none;\n",
              "      border-radius: 50%;\n",
              "      cursor: pointer;\n",
              "      display: none;\n",
              "      fill: #1967D2;\n",
              "      height: 32px;\n",
              "      padding: 0 0 0 0;\n",
              "      width: 32px;\n",
              "    }\n",
              "\n",
              "    .colab-df-convert:hover {\n",
              "      background-color: #E2EBFA;\n",
              "      box-shadow: 0px 1px 2px rgba(60, 64, 67, 0.3), 0px 1px 3px 1px rgba(60, 64, 67, 0.15);\n",
              "      fill: #174EA6;\n",
              "    }\n",
              "\n",
              "    [theme=dark] .colab-df-convert {\n",
              "      background-color: #3B4455;\n",
              "      fill: #D2E3FC;\n",
              "    }\n",
              "\n",
              "    [theme=dark] .colab-df-convert:hover {\n",
              "      background-color: #434B5C;\n",
              "      box-shadow: 0px 1px 3px 1px rgba(0, 0, 0, 0.15);\n",
              "      filter: drop-shadow(0px 1px 2px rgba(0, 0, 0, 0.3));\n",
              "      fill: #FFFFFF;\n",
              "    }\n",
              "  </style>\n",
              "\n",
              "      <script>\n",
              "        const buttonEl =\n",
              "          document.querySelector('#df-3ff4ca91-1582-43c7-b0cd-59f0ca238f06 button.colab-df-convert');\n",
              "        buttonEl.style.display =\n",
              "          google.colab.kernel.accessAllowed ? 'block' : 'none';\n",
              "\n",
              "        async function convertToInteractive(key) {\n",
              "          const element = document.querySelector('#df-3ff4ca91-1582-43c7-b0cd-59f0ca238f06');\n",
              "          const dataTable =\n",
              "            await google.colab.kernel.invokeFunction('convertToInteractive',\n",
              "                                                     [key], {});\n",
              "          if (!dataTable) return;\n",
              "\n",
              "          const docLinkHtml = 'Like what you see? Visit the ' +\n",
              "            '<a target=\"_blank\" href=https://colab.research.google.com/notebooks/data_table.ipynb>data table notebook</a>'\n",
              "            + ' to learn more about interactive tables.';\n",
              "          element.innerHTML = '';\n",
              "          dataTable['output_type'] = 'display_data';\n",
              "          await google.colab.output.renderOutput(dataTable, element);\n",
              "          const docLink = document.createElement('div');\n",
              "          docLink.innerHTML = docLinkHtml;\n",
              "          element.appendChild(docLink);\n",
              "        }\n",
              "      </script>\n",
              "    </div>\n",
              "  </div>\n",
              "  "
            ]
          },
          "metadata": {},
          "execution_count": 4
        }
      ]
    },
    {
      "cell_type": "code",
      "source": [
        "# Hiển thị số dòng, số cột của dữ liệu\n",
        "bcw.shape"
      ],
      "metadata": {
        "colab": {
          "base_uri": "https://localhost:8080/"
        },
        "id": "I8GTc8wcqvgz",
        "outputId": "9949603c-9ebe-44d8-e01e-ccaea96986bd"
      },
      "execution_count": 5,
      "outputs": [
        {
          "output_type": "execute_result",
          "data": {
            "text/plain": [
              "(699, 11)"
            ]
          },
          "metadata": {},
          "execution_count": 5
        }
      ]
    },
    {
      "cell_type": "markdown",
      "source": [
        "Ta có các biến của dữ liệu lần lượt là Sample code number(ID), Clump Thickness, Uniformity of Cell Size, Uniformity of Cell Shape, Marginal Adhesion, Single Epithelial Cell Size, Bare Nuclei, Bland Chromatin, Normal Nucleoli, Mitoses và Class (phân lớp)\n",
        "\n",
        "==> Biến cuối cùng đóng vai trò nhãn lớp.(2.1)"
      ],
      "metadata": {
        "id": "vAbtOdIFhwOX"
      }
    },
    {
      "cell_type": "code",
      "source": [
        "# Kiểm tra các giá trị khác nhau của nhãn lớp\n",
        "bcw[10].unique()"
      ],
      "metadata": {
        "colab": {
          "base_uri": "https://localhost:8080/"
        },
        "id": "E7Hj-OK-lHN2",
        "outputId": "2f23f324-71e7-4000-ffc8-65a4d96539b8"
      },
      "execution_count": 6,
      "outputs": [
        {
          "output_type": "execute_result",
          "data": {
            "text/plain": [
              "array([2, 4])"
            ]
          },
          "metadata": {},
          "execution_count": 6
        }
      ]
    },
    {
      "cell_type": "markdown",
      "source": [
        "* Biến class có 2 giá trị khác nhau là 2 và 4. Đây là bài toán phân lớp nhị phân (2.2)"
      ],
      "metadata": {
        "id": "9gb3_2Zolv0H"
      }
    },
    {
      "cell_type": "markdown",
      "source": [
        "* Sample code number (ID) là một thuộc tính không cần thiết trong quá trình huấn luyện (2.3) vì nó chỉ dùng để định danh."
      ],
      "metadata": {
        "id": "inyOjto0l6qA"
      }
    },
    {
      "cell_type": "markdown",
      "source": [
        "Tiền xử lí dữ liệu"
      ],
      "metadata": {
        "id": "g37Awq8yosJN"
      }
    },
    {
      "cell_type": "code",
      "source": [
        "# Xử lí dữ liệu bị lỗi (được biểu diễn bằng \"?\")\n",
        "for i in range(11):\n",
        "    if bcw.loc[bcw[i] == \"?\"].shape[0] > 0:\n",
        "      print(i)"
      ],
      "metadata": {
        "colab": {
          "base_uri": "https://localhost:8080/"
        },
        "id": "bqihsICEqTE3",
        "outputId": "397015b3-392d-41c9-d670-bd8302a60d4d"
      },
      "execution_count": 7,
      "outputs": [
        {
          "output_type": "stream",
          "name": "stdout",
          "text": [
            "6\n"
          ]
        }
      ]
    },
    {
      "cell_type": "code",
      "source": [
        "# Tiến hành xóa các dòng chứa dữ liệu lỗi\n",
        "bcw = bcw[bcw[6] != \"?\"]\n",
        "# Chuyển kiểu dữ liệu từ str về integer\n",
        "bcw[6] = pd.to_numeric(bcw[6], downcast=\"integer\")"
      ],
      "metadata": {
        "id": "jMSX29lmwWoi",
        "colab": {
          "base_uri": "https://localhost:8080/"
        },
        "outputId": "a968cd3f-328a-41dd-fe4c-7354dc102850"
      },
      "execution_count": 8,
      "outputs": [
        {
          "output_type": "stream",
          "name": "stderr",
          "text": [
            "<ipython-input-8-2cbd47ecad05>:4: SettingWithCopyWarning: \n",
            "A value is trying to be set on a copy of a slice from a DataFrame.\n",
            "Try using .loc[row_indexer,col_indexer] = value instead\n",
            "\n",
            "See the caveats in the documentation: https://pandas.pydata.org/pandas-docs/stable/user_guide/indexing.html#returning-a-view-versus-a-copy\n",
            "  bcw[6] = pd.to_numeric(bcw[6], downcast=\"integer\")\n"
          ]
        }
      ]
    },
    {
      "cell_type": "code",
      "source": [
        "for i in range(11):\n",
        "    if bcw.loc[bcw[i] == \"?\"].shape[0] > 0:\n",
        "      print(i)\n",
        "else:\n",
        "  print(\"None ERROR\")"
      ],
      "metadata": {
        "colab": {
          "base_uri": "https://localhost:8080/"
        },
        "id": "QP3uXWjTwiFI",
        "outputId": "b7f33648-bba5-4d9f-e7ec-9de402eae106"
      },
      "execution_count": 9,
      "outputs": [
        {
          "output_type": "stream",
          "name": "stdout",
          "text": [
            "None ERROR\n"
          ]
        }
      ]
    },
    {
      "cell_type": "code",
      "source": [
        "# Xác định số lượng các giá trị\n",
        "bcw[10].value_counts()"
      ],
      "metadata": {
        "colab": {
          "base_uri": "https://localhost:8080/"
        },
        "id": "ZpHmXYUFxYJq",
        "outputId": "0751b586-ef13-4833-ac36-073639edae6b"
      },
      "execution_count": 10,
      "outputs": [
        {
          "output_type": "execute_result",
          "data": {
            "text/plain": [
              "2    444\n",
              "4    239\n",
              "Name: 10, dtype: int64"
            ]
          },
          "metadata": {},
          "execution_count": 10
        }
      ]
    },
    {
      "cell_type": "code",
      "source": [
        "#  Chuyển giá trị 2 -> 0 và 4 -> 1 (Cho quá trình phân lớp)\n",
        "bcw[10] = np.where(bcw[10] == 2, 0, 1)"
      ],
      "metadata": {
        "id": "b1GaYgG7q6iQ"
      },
      "execution_count": 11,
      "outputs": []
    },
    {
      "cell_type": "code",
      "source": [
        "# Kiểm tra\n",
        "bcw[10].value_counts()"
      ],
      "metadata": {
        "colab": {
          "base_uri": "https://localhost:8080/"
        },
        "id": "3GBNxoQUrQWl",
        "outputId": "de5ac480-044b-42fb-a519-193d570a4efa"
      },
      "execution_count": 12,
      "outputs": [
        {
          "output_type": "execute_result",
          "data": {
            "text/plain": [
              "0    444\n",
              "1    239\n",
              "Name: 10, dtype: int64"
            ]
          },
          "metadata": {},
          "execution_count": 12
        }
      ]
    },
    {
      "cell_type": "markdown",
      "source": [
        "Phân tích nhãn lớp"
      ],
      "metadata": {
        "id": "fNTLqjCb29yz"
      }
    },
    {
      "cell_type": "markdown",
      "source": [
        "* Biến nhãn lớp 2 - 444 quan sát và 4 - 239 quan sát. Ta thấy có sự chênh lệch rõ ràng giữa 2 nhãn lớp. Vậy nhãn lớp không cân bằng (3.1)"
      ],
      "metadata": {
        "id": "MKGvlG6vyMXO"
      }
    },
    {
      "cell_type": "markdown",
      "source": [
        "* Vì không phải là dữ liệu kiểu thời gian (gắn với chiều thời gian), ta cần xáo trộn dữ liệu khi train_test_split (3.2)"
      ],
      "metadata": {
        "id": "hOYpfBSy0rMC"
      }
    },
    {
      "cell_type": "markdown",
      "source": [
        "Phân chia train test"
      ],
      "metadata": {
        "id": "NJIrkVPn4IvN"
      }
    },
    {
      "cell_type": "code",
      "source": [
        "# Phân tập dữ liệu thành X () biến độc lập) và y (biến nhãn lớp). Bỏ cột (ID) ở X, lấy y là cột cuối cùng\n",
        "# Lấy X dưới dạng numpy array\n",
        "X = bcw.iloc[:, 1:-1].values\n",
        "y = bcw.iloc[:, -1].values"
      ],
      "metadata": {
        "id": "wOvhrLTv44ax"
      },
      "execution_count": 13,
      "outputs": []
    },
    {
      "cell_type": "code",
      "source": [
        "X.shape"
      ],
      "metadata": {
        "colab": {
          "base_uri": "https://localhost:8080/"
        },
        "id": "xQpmk9JW5j9s",
        "outputId": "0e2f3a29-2518-4445-b5d9-5c196cf6cd01"
      },
      "execution_count": 14,
      "outputs": [
        {
          "output_type": "execute_result",
          "data": {
            "text/plain": [
              "(683, 9)"
            ]
          },
          "metadata": {},
          "execution_count": 14
        }
      ]
    },
    {
      "cell_type": "code",
      "source": [
        "y.shape"
      ],
      "metadata": {
        "colab": {
          "base_uri": "https://localhost:8080/"
        },
        "id": "QamV73Lm8k6h",
        "outputId": "4c6be07d-a367-43d9-884f-6c717dc84db7"
      },
      "execution_count": 15,
      "outputs": [
        {
          "output_type": "execute_result",
          "data": {
            "text/plain": [
              "(683,)"
            ]
          },
          "metadata": {},
          "execution_count": 15
        }
      ]
    },
    {
      "cell_type": "code",
      "source": [
        "# Phân tập dữ liệu thành tập train (80%) và test (20%)\n",
        "X_train, X_test, y_train, y_test = train_test_split(X, y,\n",
        "                                                    test_size=0.2,\n",
        "                                                    shuffle=True,\n",
        "                                                    random_state=5)"
      ],
      "metadata": {
        "id": "ZzKR0FOi8j8B"
      },
      "execution_count": 16,
      "outputs": []
    },
    {
      "cell_type": "code",
      "source": [
        "print(f\"Shape của X train: {X_train.shape}\")\n",
        "print(f\"Shape của y train: {y_train.shape}\")\n",
        "print(f\"Shape của X test: {X_test.shape}\")\n",
        "print(f\"Shape của y test: {y_test.shape}\")"
      ],
      "metadata": {
        "colab": {
          "base_uri": "https://localhost:8080/"
        },
        "id": "7BoOtdwg9BAK",
        "outputId": "2766e7b3-c42f-4bee-fe38-b31afc101400"
      },
      "execution_count": 17,
      "outputs": [
        {
          "output_type": "stream",
          "name": "stdout",
          "text": [
            "Shape của X train: (546, 9)\n",
            "Shape của y train: (546,)\n",
            "Shape của X test: (137, 9)\n",
            "Shape của y test: (137,)\n"
          ]
        }
      ]
    },
    {
      "cell_type": "markdown",
      "source": [
        "Huấn luyện mô hình và đánh giá mô hình"
      ],
      "metadata": {
        "id": "XNgYCjVW9dGt"
      }
    },
    {
      "cell_type": "code",
      "source": [
        "# Hàm đánh giá & bảng so sánh\n",
        "#from sklearn.metrics import accuracy_score\n",
        "#from sklearn.metrics import precision_score\n",
        "#from sklearn.metrics import recall_score\n",
        "#from sklearn.metrics import f1_score\n",
        "# Hàm tính toán các giá trị đánh giá\n",
        "def test_score(y_test, y_pred, class_type = \"binary\"):\n",
        "  if class_type == \"binary\":\n",
        "    accuracy = accuracy_score(y_test, y_pred)\n",
        "    precision = precision_score(y_test, y_pred)\n",
        "    recall = recall_score(y_test, y_pred)\n",
        "    f1 = f1_score(y_test, y_pred)\n",
        "    result = [accuracy, precision, recall, f1]\n",
        "  else:\n",
        "    accuracy = accuracy_score(y_test, y_pred)\n",
        "    precision = precision_score(y_test, y_pred, average = \"macro\")\n",
        "    recall = recall_score(y_test, y_pred, average = \"macro\")\n",
        "    f1 = f1_score(y_test, y_pred, average = \"macro\")\n",
        "    result = [accuracy, precision, recall, f1]\n",
        "  return result"
      ],
      "metadata": {
        "id": "_ZO-kaR0-bWI"
      },
      "execution_count": 18,
      "outputs": []
    },
    {
      "cell_type": "code",
      "source": [
        "# Hàm tạo bảng so sánh các mô hình\n",
        "def test_table(lr_scores, kNN_scores, nb_scores):\n",
        "  result = {\n",
        "      \"Scores\": [\"accuracy\", \"precision\", \"recall\", \"f1\"],\n",
        "      \"LogisticRegression\": lr_scores,\n",
        "      \"kNN\": kNN_scores,\n",
        "      \"NaiveBayes\": nb_scores\n",
        "  }\n",
        "  return pd.DataFrame(result)"
      ],
      "metadata": {
        "id": "3ToQPhg9stCp"
      },
      "execution_count": 19,
      "outputs": []
    },
    {
      "cell_type": "markdown",
      "source": [
        "LogisticRegression"
      ],
      "metadata": {
        "id": "P1Nyo-dA9nve"
      }
    },
    {
      "cell_type": "markdown",
      "source": [
        "**Kết quả 10-fold CV sử dụng cross_val_score(3.3)**"
      ],
      "metadata": {
        "id": "ybAjIs1cbSK1"
      }
    },
    {
      "cell_type": "code",
      "source": [
        "classifier = LogisticRegression(solver='liblinear', max_iter=1500, \n",
        "                                multi_class='auto')\n",
        "scores = cross_val_score(classifier, X_train, y_train, cv=10, \n",
        "                       scoring='accuracy')"
      ],
      "metadata": {
        "id": "943waXNmbaSM"
      },
      "execution_count": 20,
      "outputs": []
    },
    {
      "cell_type": "code",
      "source": [
        "print(f\"Kết quả huấn luyện: {scores}\")"
      ],
      "metadata": {
        "colab": {
          "base_uri": "https://localhost:8080/"
        },
        "id": "NVeRUFKobQcx",
        "outputId": "54a7cd94-6766-45ff-9e6c-2dea069ebd91"
      },
      "execution_count": 21,
      "outputs": [
        {
          "output_type": "stream",
          "name": "stdout",
          "text": [
            "Kết quả huấn luyện: [0.94545455 0.90909091 0.98181818 0.98181818 0.98181818 0.96363636\n",
            " 0.92592593 1.         0.96296296 0.94444444]\n"
          ]
        }
      ]
    },
    {
      "cell_type": "markdown",
      "source": [
        "Huấn luyện mô hình"
      ],
      "metadata": {
        "id": "87p3ksaadiXR"
      }
    },
    {
      "cell_type": "code",
      "source": [
        "# Tạo hàm KfoldCV:\n",
        "def kFoldCrossValiation(model, X_train, y_train):\n",
        "    kf = KFold(n_splits=10)\n",
        "    step = 0\n",
        "    valitdate_models = {}\n",
        "    for train2_index, val_index in kf.split(X = X_train,y = y_train):\n",
        "        step = step + 1\n",
        "        X_train2, X_val = X_train[train2_index], X_train[val_index]\n",
        "        y_train2, y_val = y_train[train2_index], y_train[val_index]\n",
        "        model.fit(X_train2, y_train2)\n",
        "        y_pred = model.predict(X_val)\n",
        "        valitdate_models[accuracy_score(y_val, y_pred)] =  model\n",
        "    max_accuracy = max(list(valitdate_models.keys()))\n",
        "    return valitdate_models[max_accuracy]"
      ],
      "metadata": {
        "id": "kJ2B5KBpfncZ"
      },
      "execution_count": 22,
      "outputs": []
    },
    {
      "cell_type": "code",
      "source": [
        "# Huấn luyện mô hình\n",
        "lr = LogisticRegression(solver='liblinear', max_iter=1500, \n",
        "                                multi_class='auto')\n",
        "lr_optimal = kFoldCrossValiation(lr, X_train, y_train)"
      ],
      "metadata": {
        "id": "jV8y42QugwCK"
      },
      "execution_count": 23,
      "outputs": []
    },
    {
      "cell_type": "code",
      "source": [
        "# Dự đoán kết quả\n",
        "y_pred1 = lr_optimal.predict(X_test)"
      ],
      "metadata": {
        "id": "Dbexs4prhCgi"
      },
      "execution_count": 24,
      "outputs": []
    },
    {
      "cell_type": "code",
      "source": [
        "# Tính scores\n",
        "lr_scores = test_score(y_test, y_pred1)"
      ],
      "metadata": {
        "id": "zT4SBijBhKg8"
      },
      "execution_count": 25,
      "outputs": []
    },
    {
      "cell_type": "markdown",
      "source": [
        "k-Nearest Neighbor"
      ],
      "metadata": {
        "id": "ixqLZjfC-A8Z"
      }
    },
    {
      "cell_type": "markdown",
      "source": [
        "Kết quả 10-fold CV sử dụng cross_val_score(3.3)"
      ],
      "metadata": {
        "id": "9h7EJI7Ujy9t"
      }
    },
    {
      "cell_type": "code",
      "source": [
        "kNN1 = KNeighborsClassifier()\n",
        "scores_kNN = cross_val_score(kNN1, X_train, y_train, cv=10, \n",
        "                       scoring='accuracy')"
      ],
      "metadata": {
        "id": "2LQZaNjIjy9u"
      },
      "execution_count": 26,
      "outputs": []
    },
    {
      "cell_type": "code",
      "source": [
        "print(f\"Kết quả huấn luyện: {scores_kNN}\")"
      ],
      "metadata": {
        "colab": {
          "base_uri": "https://localhost:8080/"
        },
        "outputId": "00be360c-ac8d-4b9a-fddf-99a70d94a3ac",
        "id": "ZjNDM2zBjy9v"
      },
      "execution_count": 27,
      "outputs": [
        {
          "output_type": "stream",
          "name": "stdout",
          "text": [
            "Kết quả huấn luyện: [0.92727273 0.94545455 0.98181818 1.         1.         0.96363636\n",
            " 0.92592593 1.         0.96296296 0.96296296]\n"
          ]
        }
      ]
    },
    {
      "cell_type": "markdown",
      "source": [
        "Tìm k tối ưu bằng GridSearchCV"
      ],
      "metadata": {
        "id": "Ier0pb5NhsSy"
      }
    },
    {
      "cell_type": "code",
      "source": [
        "# Xác định k_max\n",
        "from math import sqrt\n",
        "m = y_train.shape[0]\n",
        "k_max = int(sqrt(m)/2)"
      ],
      "metadata": {
        "id": "Z--x-v5bhjmk"
      },
      "execution_count": 28,
      "outputs": []
    },
    {
      "cell_type": "code",
      "source": [
        "# Xác định các tham số:\n",
        "k_values = np.arange(start = 1, stop = k_max + 1, dtype = int)\n",
        "params = {'n_neighbors': k_values}"
      ],
      "metadata": {
        "id": "u-OM5mMHiLZF"
      },
      "execution_count": 29,
      "outputs": []
    },
    {
      "cell_type": "code",
      "source": [
        "# Tìm k tối ưu\n",
        "kNN = KNeighborsClassifier()\n",
        "kNN_grid = GridSearchCV(kNN, params, cv=3)\n",
        "kNN_grid.fit(X_train, y_train)"
      ],
      "metadata": {
        "colab": {
          "base_uri": "https://localhost:8080/"
        },
        "id": "lkB-5-pkiryO",
        "outputId": "5c2bfc5c-fc74-4bb8-b085-24c50a2620f1"
      },
      "execution_count": 30,
      "outputs": [
        {
          "output_type": "execute_result",
          "data": {
            "text/plain": [
              "GridSearchCV(cv=3, estimator=KNeighborsClassifier(),\n",
              "             param_grid={'n_neighbors': array([ 1,  2,  3,  4,  5,  6,  7,  8,  9, 10, 11])})"
            ]
          },
          "metadata": {},
          "execution_count": 30
        }
      ]
    },
    {
      "cell_type": "code",
      "source": [
        "# Dự đoán kết quả:\n",
        "y_pred2 = kNN_grid.predict(X_test)"
      ],
      "metadata": {
        "id": "Ee7LrfV3i2JA"
      },
      "execution_count": 31,
      "outputs": []
    },
    {
      "cell_type": "code",
      "source": [
        "# Tính scores\n",
        "kNN_scores = test_score(y_test, y_pred2)"
      ],
      "metadata": {
        "id": "mshElN7mjEe3"
      },
      "execution_count": 32,
      "outputs": []
    },
    {
      "cell_type": "markdown",
      "source": [
        "Naive Bayes"
      ],
      "metadata": {
        "id": "RlS_WjWM-Jjm"
      }
    },
    {
      "cell_type": "markdown",
      "source": [
        "Kết quả 10-fold CV sử dụng cross_val_score(3.3)"
      ],
      "metadata": {
        "id": "D_0rW65zknEB"
      }
    },
    {
      "cell_type": "code",
      "source": [
        "gnb_model = GaussianNB()\n",
        "scores_gnb = cross_val_score(gnb_model, X_train, y_train, cv=10, \n",
        "                       scoring='accuracy')"
      ],
      "metadata": {
        "id": "EKShbhchknEB"
      },
      "execution_count": 33,
      "outputs": []
    },
    {
      "cell_type": "code",
      "source": [
        "print(f\"Kết quả huấn luyện: {scores_gnb}\")"
      ],
      "metadata": {
        "colab": {
          "base_uri": "https://localhost:8080/"
        },
        "outputId": "8056c4fd-c274-46e4-de41-24f4f6b57a89",
        "id": "t5eZuUACknEB"
      },
      "execution_count": 34,
      "outputs": [
        {
          "output_type": "stream",
          "name": "stdout",
          "text": [
            "Kết quả huấn luyện: [0.92727273 0.92727273 0.98181818 0.96363636 0.98181818 0.96363636\n",
            " 0.94444444 1.         0.96296296 0.90740741]\n"
          ]
        }
      ]
    },
    {
      "cell_type": "markdown",
      "source": [
        "* Huấn luyện mô hình"
      ],
      "metadata": {
        "id": "ShDEt_Y5nCgV"
      }
    },
    {
      "cell_type": "code",
      "source": [
        "# Huấn luyện mô hình\n",
        "gnb = GaussianNB()\n",
        "gnb_optimal = kFoldCrossValiation(gnb, X_train, y_train)"
      ],
      "metadata": {
        "id": "_L375dODnEPj"
      },
      "execution_count": 35,
      "outputs": []
    },
    {
      "cell_type": "code",
      "source": [
        "# Dự đoán kết quả:\n",
        "y_pred3 = gnb_optimal.predict(X_test)"
      ],
      "metadata": {
        "id": "sUHP4Bseomvo"
      },
      "execution_count": 36,
      "outputs": []
    },
    {
      "cell_type": "code",
      "source": [
        "# Tính scores\n",
        "nb_scores = test_score(y_test, y_pred3)"
      ],
      "metadata": {
        "id": "FQGS9smyosrk"
      },
      "execution_count": 37,
      "outputs": []
    },
    {
      "cell_type": "markdown",
      "source": [
        "Đánh giá hiệu năng và so sánh các chỉ số các mô hình (3.4.a & 3.4.b)**"
      ],
      "metadata": {
        "id": "v-a7WKDOvbrs"
      }
    },
    {
      "cell_type": "code",
      "source": [
        "test_table(lr_scores, kNN_scores, nb_scores)"
      ],
      "metadata": {
        "colab": {
          "base_uri": "https://localhost:8080/",
          "height": 175
        },
        "id": "haWMYRXeuSRW",
        "outputId": "896effca-98fb-4e2e-8132-a25b598d5035"
      },
      "execution_count": 38,
      "outputs": [
        {
          "output_type": "execute_result",
          "data": {
            "text/plain": [
              "      Scores  LogisticRegression  kNN  NaiveBayes\n",
              "0   accuracy            0.992701  1.0    0.992701\n",
              "1  precision            1.000000  1.0    0.979167\n",
              "2     recall            0.978723  1.0    1.000000\n",
              "3         f1            0.989247  1.0    0.989474"
            ],
            "text/html": [
              "\n",
              "  <div id=\"df-3dfe9fbf-d1a7-49c4-86ea-299441bcaebd\">\n",
              "    <div class=\"colab-df-container\">\n",
              "      <div>\n",
              "<style scoped>\n",
              "    .dataframe tbody tr th:only-of-type {\n",
              "        vertical-align: middle;\n",
              "    }\n",
              "\n",
              "    .dataframe tbody tr th {\n",
              "        vertical-align: top;\n",
              "    }\n",
              "\n",
              "    .dataframe thead th {\n",
              "        text-align: right;\n",
              "    }\n",
              "</style>\n",
              "<table border=\"1\" class=\"dataframe\">\n",
              "  <thead>\n",
              "    <tr style=\"text-align: right;\">\n",
              "      <th></th>\n",
              "      <th>Scores</th>\n",
              "      <th>LogisticRegression</th>\n",
              "      <th>kNN</th>\n",
              "      <th>NaiveBayes</th>\n",
              "    </tr>\n",
              "  </thead>\n",
              "  <tbody>\n",
              "    <tr>\n",
              "      <th>0</th>\n",
              "      <td>accuracy</td>\n",
              "      <td>0.992701</td>\n",
              "      <td>1.0</td>\n",
              "      <td>0.992701</td>\n",
              "    </tr>\n",
              "    <tr>\n",
              "      <th>1</th>\n",
              "      <td>precision</td>\n",
              "      <td>1.000000</td>\n",
              "      <td>1.0</td>\n",
              "      <td>0.979167</td>\n",
              "    </tr>\n",
              "    <tr>\n",
              "      <th>2</th>\n",
              "      <td>recall</td>\n",
              "      <td>0.978723</td>\n",
              "      <td>1.0</td>\n",
              "      <td>1.000000</td>\n",
              "    </tr>\n",
              "    <tr>\n",
              "      <th>3</th>\n",
              "      <td>f1</td>\n",
              "      <td>0.989247</td>\n",
              "      <td>1.0</td>\n",
              "      <td>0.989474</td>\n",
              "    </tr>\n",
              "  </tbody>\n",
              "</table>\n",
              "</div>\n",
              "      <button class=\"colab-df-convert\" onclick=\"convertToInteractive('df-3dfe9fbf-d1a7-49c4-86ea-299441bcaebd')\"\n",
              "              title=\"Convert this dataframe to an interactive table.\"\n",
              "              style=\"display:none;\">\n",
              "        \n",
              "  <svg xmlns=\"http://www.w3.org/2000/svg\" height=\"24px\"viewBox=\"0 0 24 24\"\n",
              "       width=\"24px\">\n",
              "    <path d=\"M0 0h24v24H0V0z\" fill=\"none\"/>\n",
              "    <path d=\"M18.56 5.44l.94 2.06.94-2.06 2.06-.94-2.06-.94-.94-2.06-.94 2.06-2.06.94zm-11 1L8.5 8.5l.94-2.06 2.06-.94-2.06-.94L8.5 2.5l-.94 2.06-2.06.94zm10 10l.94 2.06.94-2.06 2.06-.94-2.06-.94-.94-2.06-.94 2.06-2.06.94z\"/><path d=\"M17.41 7.96l-1.37-1.37c-.4-.4-.92-.59-1.43-.59-.52 0-1.04.2-1.43.59L10.3 9.45l-7.72 7.72c-.78.78-.78 2.05 0 2.83L4 21.41c.39.39.9.59 1.41.59.51 0 1.02-.2 1.41-.59l7.78-7.78 2.81-2.81c.8-.78.8-2.07 0-2.86zM5.41 20L4 18.59l7.72-7.72 1.47 1.35L5.41 20z\"/>\n",
              "  </svg>\n",
              "      </button>\n",
              "      \n",
              "  <style>\n",
              "    .colab-df-container {\n",
              "      display:flex;\n",
              "      flex-wrap:wrap;\n",
              "      gap: 12px;\n",
              "    }\n",
              "\n",
              "    .colab-df-convert {\n",
              "      background-color: #E8F0FE;\n",
              "      border: none;\n",
              "      border-radius: 50%;\n",
              "      cursor: pointer;\n",
              "      display: none;\n",
              "      fill: #1967D2;\n",
              "      height: 32px;\n",
              "      padding: 0 0 0 0;\n",
              "      width: 32px;\n",
              "    }\n",
              "\n",
              "    .colab-df-convert:hover {\n",
              "      background-color: #E2EBFA;\n",
              "      box-shadow: 0px 1px 2px rgba(60, 64, 67, 0.3), 0px 1px 3px 1px rgba(60, 64, 67, 0.15);\n",
              "      fill: #174EA6;\n",
              "    }\n",
              "\n",
              "    [theme=dark] .colab-df-convert {\n",
              "      background-color: #3B4455;\n",
              "      fill: #D2E3FC;\n",
              "    }\n",
              "\n",
              "    [theme=dark] .colab-df-convert:hover {\n",
              "      background-color: #434B5C;\n",
              "      box-shadow: 0px 1px 3px 1px rgba(0, 0, 0, 0.15);\n",
              "      filter: drop-shadow(0px 1px 2px rgba(0, 0, 0, 0.3));\n",
              "      fill: #FFFFFF;\n",
              "    }\n",
              "  </style>\n",
              "\n",
              "      <script>\n",
              "        const buttonEl =\n",
              "          document.querySelector('#df-3dfe9fbf-d1a7-49c4-86ea-299441bcaebd button.colab-df-convert');\n",
              "        buttonEl.style.display =\n",
              "          google.colab.kernel.accessAllowed ? 'block' : 'none';\n",
              "\n",
              "        async function convertToInteractive(key) {\n",
              "          const element = document.querySelector('#df-3dfe9fbf-d1a7-49c4-86ea-299441bcaebd');\n",
              "          const dataTable =\n",
              "            await google.colab.kernel.invokeFunction('convertToInteractive',\n",
              "                                                     [key], {});\n",
              "          if (!dataTable) return;\n",
              "\n",
              "          const docLinkHtml = 'Like what you see? Visit the ' +\n",
              "            '<a target=\"_blank\" href=https://colab.research.google.com/notebooks/data_table.ipynb>data table notebook</a>'\n",
              "            + ' to learn more about interactive tables.';\n",
              "          element.innerHTML = '';\n",
              "          dataTable['output_type'] = 'display_data';\n",
              "          await google.colab.output.renderOutput(dataTable, element);\n",
              "          const docLink = document.createElement('div');\n",
              "          docLink.innerHTML = docLinkHtml;\n",
              "          element.appendChild(docLink);\n",
              "        }\n",
              "      </script>\n",
              "    </div>\n",
              "  </div>\n",
              "  "
            ]
          },
          "metadata": {},
          "execution_count": 38
        }
      ]
    },
    {
      "cell_type": "markdown",
      "source": [
        "==> Mô hình kNN có các chỉ số đánh giá tốt hơn so với LogisticRegression và NaiveBayes(3.4.c)**"
      ],
      "metadata": {
        "id": "mkESK_JlvISD"
      }
    },
    {
      "cell_type": "code",
      "source": [],
      "metadata": {
        "id": "IzwzYvGr6AGZ"
      },
      "execution_count": null,
      "outputs": []
    },
    {
      "cell_type": "code",
      "source": [],
      "metadata": {
        "id": "YVfJ3h6k6AMQ"
      },
      "execution_count": null,
      "outputs": []
    },
    {
      "cell_type": "code",
      "source": [],
      "metadata": {
        "id": "qMzg-lkD6Bcw"
      },
      "execution_count": null,
      "outputs": []
    },
    {
      "cell_type": "code",
      "source": [
        "# Tập dữ liệu Wine\n",
        "wine = pd.read_csv('wine.data', sep = \",\", header=None)"
      ],
      "metadata": {
        "id": "s7gd2otLyK1Z"
      },
      "execution_count": 39,
      "outputs": []
    },
    {
      "cell_type": "code",
      "source": [
        "wine.head(5)"
      ],
      "metadata": {
        "colab": {
          "base_uri": "https://localhost:8080/",
          "height": 206
        },
        "outputId": "e5164a03-47f1-4421-8999-5e990580ac66",
        "id": "j5ui-EDJyK1Z"
      },
      "execution_count": 40,
      "outputs": [
        {
          "output_type": "execute_result",
          "data": {
            "text/plain": [
              "   0      1     2     3     4    5     6     7     8     9     10    11    12  \\\n",
              "0   1  14.23  1.71  2.43  15.6  127  2.80  3.06  0.28  2.29  5.64  1.04  3.92   \n",
              "1   1  13.20  1.78  2.14  11.2  100  2.65  2.76  0.26  1.28  4.38  1.05  3.40   \n",
              "2   1  13.16  2.36  2.67  18.6  101  2.80  3.24  0.30  2.81  5.68  1.03  3.17   \n",
              "3   1  14.37  1.95  2.50  16.8  113  3.85  3.49  0.24  2.18  7.80  0.86  3.45   \n",
              "4   1  13.24  2.59  2.87  21.0  118  2.80  2.69  0.39  1.82  4.32  1.04  2.93   \n",
              "\n",
              "     13  \n",
              "0  1065  \n",
              "1  1050  \n",
              "2  1185  \n",
              "3  1480  \n",
              "4   735  "
            ],
            "text/html": [
              "\n",
              "  <div id=\"df-1ca6c2cd-6f6c-436c-a2bf-8ef2f4141a50\">\n",
              "    <div class=\"colab-df-container\">\n",
              "      <div>\n",
              "<style scoped>\n",
              "    .dataframe tbody tr th:only-of-type {\n",
              "        vertical-align: middle;\n",
              "    }\n",
              "\n",
              "    .dataframe tbody tr th {\n",
              "        vertical-align: top;\n",
              "    }\n",
              "\n",
              "    .dataframe thead th {\n",
              "        text-align: right;\n",
              "    }\n",
              "</style>\n",
              "<table border=\"1\" class=\"dataframe\">\n",
              "  <thead>\n",
              "    <tr style=\"text-align: right;\">\n",
              "      <th></th>\n",
              "      <th>0</th>\n",
              "      <th>1</th>\n",
              "      <th>2</th>\n",
              "      <th>3</th>\n",
              "      <th>4</th>\n",
              "      <th>5</th>\n",
              "      <th>6</th>\n",
              "      <th>7</th>\n",
              "      <th>8</th>\n",
              "      <th>9</th>\n",
              "      <th>10</th>\n",
              "      <th>11</th>\n",
              "      <th>12</th>\n",
              "      <th>13</th>\n",
              "    </tr>\n",
              "  </thead>\n",
              "  <tbody>\n",
              "    <tr>\n",
              "      <th>0</th>\n",
              "      <td>1</td>\n",
              "      <td>14.23</td>\n",
              "      <td>1.71</td>\n",
              "      <td>2.43</td>\n",
              "      <td>15.6</td>\n",
              "      <td>127</td>\n",
              "      <td>2.80</td>\n",
              "      <td>3.06</td>\n",
              "      <td>0.28</td>\n",
              "      <td>2.29</td>\n",
              "      <td>5.64</td>\n",
              "      <td>1.04</td>\n",
              "      <td>3.92</td>\n",
              "      <td>1065</td>\n",
              "    </tr>\n",
              "    <tr>\n",
              "      <th>1</th>\n",
              "      <td>1</td>\n",
              "      <td>13.20</td>\n",
              "      <td>1.78</td>\n",
              "      <td>2.14</td>\n",
              "      <td>11.2</td>\n",
              "      <td>100</td>\n",
              "      <td>2.65</td>\n",
              "      <td>2.76</td>\n",
              "      <td>0.26</td>\n",
              "      <td>1.28</td>\n",
              "      <td>4.38</td>\n",
              "      <td>1.05</td>\n",
              "      <td>3.40</td>\n",
              "      <td>1050</td>\n",
              "    </tr>\n",
              "    <tr>\n",
              "      <th>2</th>\n",
              "      <td>1</td>\n",
              "      <td>13.16</td>\n",
              "      <td>2.36</td>\n",
              "      <td>2.67</td>\n",
              "      <td>18.6</td>\n",
              "      <td>101</td>\n",
              "      <td>2.80</td>\n",
              "      <td>3.24</td>\n",
              "      <td>0.30</td>\n",
              "      <td>2.81</td>\n",
              "      <td>5.68</td>\n",
              "      <td>1.03</td>\n",
              "      <td>3.17</td>\n",
              "      <td>1185</td>\n",
              "    </tr>\n",
              "    <tr>\n",
              "      <th>3</th>\n",
              "      <td>1</td>\n",
              "      <td>14.37</td>\n",
              "      <td>1.95</td>\n",
              "      <td>2.50</td>\n",
              "      <td>16.8</td>\n",
              "      <td>113</td>\n",
              "      <td>3.85</td>\n",
              "      <td>3.49</td>\n",
              "      <td>0.24</td>\n",
              "      <td>2.18</td>\n",
              "      <td>7.80</td>\n",
              "      <td>0.86</td>\n",
              "      <td>3.45</td>\n",
              "      <td>1480</td>\n",
              "    </tr>\n",
              "    <tr>\n",
              "      <th>4</th>\n",
              "      <td>1</td>\n",
              "      <td>13.24</td>\n",
              "      <td>2.59</td>\n",
              "      <td>2.87</td>\n",
              "      <td>21.0</td>\n",
              "      <td>118</td>\n",
              "      <td>2.80</td>\n",
              "      <td>2.69</td>\n",
              "      <td>0.39</td>\n",
              "      <td>1.82</td>\n",
              "      <td>4.32</td>\n",
              "      <td>1.04</td>\n",
              "      <td>2.93</td>\n",
              "      <td>735</td>\n",
              "    </tr>\n",
              "  </tbody>\n",
              "</table>\n",
              "</div>\n",
              "      <button class=\"colab-df-convert\" onclick=\"convertToInteractive('df-1ca6c2cd-6f6c-436c-a2bf-8ef2f4141a50')\"\n",
              "              title=\"Convert this dataframe to an interactive table.\"\n",
              "              style=\"display:none;\">\n",
              "        \n",
              "  <svg xmlns=\"http://www.w3.org/2000/svg\" height=\"24px\"viewBox=\"0 0 24 24\"\n",
              "       width=\"24px\">\n",
              "    <path d=\"M0 0h24v24H0V0z\" fill=\"none\"/>\n",
              "    <path d=\"M18.56 5.44l.94 2.06.94-2.06 2.06-.94-2.06-.94-.94-2.06-.94 2.06-2.06.94zm-11 1L8.5 8.5l.94-2.06 2.06-.94-2.06-.94L8.5 2.5l-.94 2.06-2.06.94zm10 10l.94 2.06.94-2.06 2.06-.94-2.06-.94-.94-2.06-.94 2.06-2.06.94z\"/><path d=\"M17.41 7.96l-1.37-1.37c-.4-.4-.92-.59-1.43-.59-.52 0-1.04.2-1.43.59L10.3 9.45l-7.72 7.72c-.78.78-.78 2.05 0 2.83L4 21.41c.39.39.9.59 1.41.59.51 0 1.02-.2 1.41-.59l7.78-7.78 2.81-2.81c.8-.78.8-2.07 0-2.86zM5.41 20L4 18.59l7.72-7.72 1.47 1.35L5.41 20z\"/>\n",
              "  </svg>\n",
              "      </button>\n",
              "      \n",
              "  <style>\n",
              "    .colab-df-container {\n",
              "      display:flex;\n",
              "      flex-wrap:wrap;\n",
              "      gap: 12px;\n",
              "    }\n",
              "\n",
              "    .colab-df-convert {\n",
              "      background-color: #E8F0FE;\n",
              "      border: none;\n",
              "      border-radius: 50%;\n",
              "      cursor: pointer;\n",
              "      display: none;\n",
              "      fill: #1967D2;\n",
              "      height: 32px;\n",
              "      padding: 0 0 0 0;\n",
              "      width: 32px;\n",
              "    }\n",
              "\n",
              "    .colab-df-convert:hover {\n",
              "      background-color: #E2EBFA;\n",
              "      box-shadow: 0px 1px 2px rgba(60, 64, 67, 0.3), 0px 1px 3px 1px rgba(60, 64, 67, 0.15);\n",
              "      fill: #174EA6;\n",
              "    }\n",
              "\n",
              "    [theme=dark] .colab-df-convert {\n",
              "      background-color: #3B4455;\n",
              "      fill: #D2E3FC;\n",
              "    }\n",
              "\n",
              "    [theme=dark] .colab-df-convert:hover {\n",
              "      background-color: #434B5C;\n",
              "      box-shadow: 0px 1px 3px 1px rgba(0, 0, 0, 0.15);\n",
              "      filter: drop-shadow(0px 1px 2px rgba(0, 0, 0, 0.3));\n",
              "      fill: #FFFFFF;\n",
              "    }\n",
              "  </style>\n",
              "\n",
              "      <script>\n",
              "        const buttonEl =\n",
              "          document.querySelector('#df-1ca6c2cd-6f6c-436c-a2bf-8ef2f4141a50 button.colab-df-convert');\n",
              "        buttonEl.style.display =\n",
              "          google.colab.kernel.accessAllowed ? 'block' : 'none';\n",
              "\n",
              "        async function convertToInteractive(key) {\n",
              "          const element = document.querySelector('#df-1ca6c2cd-6f6c-436c-a2bf-8ef2f4141a50');\n",
              "          const dataTable =\n",
              "            await google.colab.kernel.invokeFunction('convertToInteractive',\n",
              "                                                     [key], {});\n",
              "          if (!dataTable) return;\n",
              "\n",
              "          const docLinkHtml = 'Like what you see? Visit the ' +\n",
              "            '<a target=\"_blank\" href=https://colab.research.google.com/notebooks/data_table.ipynb>data table notebook</a>'\n",
              "            + ' to learn more about interactive tables.';\n",
              "          element.innerHTML = '';\n",
              "          dataTable['output_type'] = 'display_data';\n",
              "          await google.colab.output.renderOutput(dataTable, element);\n",
              "          const docLink = document.createElement('div');\n",
              "          docLink.innerHTML = docLinkHtml;\n",
              "          element.appendChild(docLink);\n",
              "        }\n",
              "      </script>\n",
              "    </div>\n",
              "  </div>\n",
              "  "
            ]
          },
          "metadata": {},
          "execution_count": 40
        }
      ]
    },
    {
      "cell_type": "code",
      "source": [
        "wine.shape"
      ],
      "metadata": {
        "colab": {
          "base_uri": "https://localhost:8080/"
        },
        "outputId": "9dc9a81f-39d0-4fa1-ce41-5d87f76201b3",
        "id": "C4Zrye85yK1Z"
      },
      "execution_count": 41,
      "outputs": [
        {
          "output_type": "execute_result",
          "data": {
            "text/plain": [
              "(178, 14)"
            ]
          },
          "metadata": {},
          "execution_count": 41
        }
      ]
    },
    {
      "cell_type": "code",
      "source": [
        "# Tìm giá trị khác nhau của biến nhãn lớp\n",
        "wine[0].unique()"
      ],
      "metadata": {
        "colab": {
          "base_uri": "https://localhost:8080/"
        },
        "outputId": "efda7f62-e992-402f-a8ae-b893ed57d63d",
        "id": "PWrGsyrhyK1a"
      },
      "execution_count": 42,
      "outputs": [
        {
          "output_type": "execute_result",
          "data": {
            "text/plain": [
              "array([1, 2, 3])"
            ]
          },
          "metadata": {},
          "execution_count": 42
        }
      ]
    },
    {
      "cell_type": "markdown",
      "source": [
        "Ta có các biến của dữ liệu lần lượt là Class (phân lớp), Alcohol, Malic acid, Ash, Alacalinity of ash, Magnesium, Flavonoids, Nonflavanoid phenols, Proanthocyains, Color intensity, Hue, OD280/OD315 of diluted wines và Proline. \n",
        "\n",
        "==> Biến đầu tiên đóng vai trò nhãn lớp.(2.1)"
      ],
      "metadata": {
        "id": "oACGjaXEyK1a"
      }
    },
    {
      "cell_type": "markdown",
      "source": [
        "\n",
        "Biến class có 3 giá trị khác nhau là 1, 2 và 3 (1 :Barbera, 2: Barolo và 3: Grignolino)\n",
        "\n",
        "==> Phân lớp đa nhãn (2.2)"
      ],
      "metadata": {
        "id": "F_GUz66HyK1a"
      }
    },
    {
      "cell_type": "markdown",
      "source": [
        "Ta giữ lại tất cả các biến khi huấn luyện mô hình (2.3) vì các biến ngoài class đều là các biến liên tục và có khả năng ảnh hưởng đến việc phân lớp"
      ],
      "metadata": {
        "id": "LFq-j_OmyK1a"
      }
    },
    {
      "cell_type": "markdown",
      "source": [
        "Tiền xử lí dữ liệu"
      ],
      "metadata": {
        "id": "hR8pFbapyK1a"
      }
    },
    {
      "cell_type": "code",
      "source": [
        "# Xử lí dữ liệu bị lỗi\n",
        "for i in range(14):\n",
        "    if wine.loc[wine[i] == \"?\"].shape[0] > 0:\n",
        "      print(i)\n",
        "else:\n",
        "  print(\"None ERROR\")"
      ],
      "metadata": {
        "colab": {
          "base_uri": "https://localhost:8080/"
        },
        "outputId": "53b1c71d-f365-46bf-8ee3-81f144e28a9e",
        "id": "0X88CtRmyK1a"
      },
      "execution_count": 43,
      "outputs": [
        {
          "output_type": "stream",
          "name": "stdout",
          "text": [
            "None ERROR\n"
          ]
        }
      ]
    },
    {
      "cell_type": "markdown",
      "source": [
        "Vậy không có giá trị bị lỗi\n",
        "\n",
        "\n",
        "\n",
        "\n",
        "\n",
        "\n",
        "\n",
        "\n"
      ],
      "metadata": {
        "id": "9LIMTZSayK1a"
      }
    },
    {
      "cell_type": "code",
      "source": [
        "# Xác định số lượng các giá trị khác nhau\n",
        "wine[0].value_counts()"
      ],
      "metadata": {
        "colab": {
          "base_uri": "https://localhost:8080/"
        },
        "outputId": "9c4a74e1-c060-4598-fc5b-7b1bf4a33132",
        "id": "odV9h2nnyK1b"
      },
      "execution_count": 44,
      "outputs": [
        {
          "output_type": "execute_result",
          "data": {
            "text/plain": [
              "2    71\n",
              "1    59\n",
              "3    48\n",
              "Name: 0, dtype: int64"
            ]
          },
          "metadata": {},
          "execution_count": 44
        }
      ]
    },
    {
      "cell_type": "code",
      "source": [
        "# Chuyển giá trị 1 -> 0, 2 -> 1, 3 -> 2\n",
        "wine[0].loc[wine[0] == 1] = 0\n",
        "wine[0].loc[wine[0] == 2] = 1\n",
        "wine[0].loc[wine[0] == 3] = 2"
      ],
      "metadata": {
        "colab": {
          "base_uri": "https://localhost:8080/"
        },
        "id": "MPwiwp_ryK1b",
        "outputId": "4070c058-c7c2-4ee4-b3ed-c88b670e17df"
      },
      "execution_count": 45,
      "outputs": [
        {
          "output_type": "stream",
          "name": "stderr",
          "text": [
            "/usr/local/lib/python3.8/dist-packages/pandas/core/indexing.py:1732: SettingWithCopyWarning: \n",
            "A value is trying to be set on a copy of a slice from a DataFrame\n",
            "\n",
            "See the caveats in the documentation: https://pandas.pydata.org/pandas-docs/stable/user_guide/indexing.html#returning-a-view-versus-a-copy\n",
            "  self._setitem_single_block(indexer, value, name)\n"
          ]
        }
      ]
    },
    {
      "cell_type": "code",
      "source": [
        "# Kiểm tra\n",
        "wine[0].value_counts()"
      ],
      "metadata": {
        "colab": {
          "base_uri": "https://localhost:8080/"
        },
        "id": "DuvDmzRs2lvs",
        "outputId": "925be5a1-8d99-4a78-ecd0-99e08276d12b"
      },
      "execution_count": 46,
      "outputs": [
        {
          "output_type": "execute_result",
          "data": {
            "text/plain": [
              "1    71\n",
              "0    59\n",
              "2    48\n",
              "Name: 0, dtype: int64"
            ]
          },
          "metadata": {},
          "execution_count": 46
        }
      ]
    },
    {
      "cell_type": "markdown",
      "source": [
        "Phân tích nhãn lớp"
      ],
      "metadata": {
        "id": "eCKaty8WyK1b"
      }
    },
    {
      "cell_type": "markdown",
      "source": [
        "* Biến nhãn lớp với nhãn lớp 0 - 59 quan sát, 1 - 71 quan sát và 2 - 48 quan sát. Ta thấy không sự chênh lệch rõ ràng giữa 3 nhãn lớp. Vậy nhãn lớp cân bằng (3.1)"
      ],
      "metadata": {
        "id": "sEmLnP7HyK1b"
      }
    },
    {
      "cell_type": "markdown",
      "source": [
        "* Vì không phải dữ liệu kiểu thời gian, ta cần tiến hành xáo trộn dữ liệu khi tran_test_split (3.2)"
      ],
      "metadata": {
        "id": "80oQq1R3yK1b"
      }
    },
    {
      "cell_type": "markdown",
      "source": [
        "Phân chia train test"
      ],
      "metadata": {
        "id": "LXC1-cZtyK1b"
      }
    },
    {
      "cell_type": "code",
      "source": [
        "# # Phân tập dữ liệu thành X () biến độc lập) và y (biến nhãn lớp). Bỏ cột (ID) ở X, lấy y là cột cuối cùng\n",
        "# Lấy X dưới dạng numpy array\n",
        "X2 = wine.iloc[:, 1:].values\n",
        "y2 = wine.iloc[:, 0].values"
      ],
      "metadata": {
        "id": "HnRBXYoryK1b"
      },
      "execution_count": 47,
      "outputs": []
    },
    {
      "cell_type": "code",
      "source": [
        "# Kiểm tra X:\n",
        "X2.shape"
      ],
      "metadata": {
        "colab": {
          "base_uri": "https://localhost:8080/"
        },
        "outputId": "aa235e7d-82a4-46d6-fef2-3985a3d15db7",
        "id": "2guyrC_4yK1b"
      },
      "execution_count": 48,
      "outputs": [
        {
          "output_type": "execute_result",
          "data": {
            "text/plain": [
              "(178, 13)"
            ]
          },
          "metadata": {},
          "execution_count": 48
        }
      ]
    },
    {
      "cell_type": "code",
      "source": [
        "# Kiểm tra y:\n",
        "y2.shape"
      ],
      "metadata": {
        "colab": {
          "base_uri": "https://localhost:8080/"
        },
        "outputId": "c4069ecb-ed3f-4e37-fc69-d63df946a602",
        "id": "qKzk5UzuyK1c"
      },
      "execution_count": 49,
      "outputs": [
        {
          "output_type": "execute_result",
          "data": {
            "text/plain": [
              "(178,)"
            ]
          },
          "metadata": {},
          "execution_count": 49
        }
      ]
    },
    {
      "cell_type": "code",
      "source": [
        "# Phân tập dữ liệu thành tập train (80%) và tập test (20%)\n",
        "X_train2, X_test2, y_train2, y_test2 = train_test_split(X2, y2,\n",
        "                                                    test_size=0.2,\n",
        "                                                    shuffle=True,\n",
        "                                                    random_state=5)"
      ],
      "metadata": {
        "id": "rdvg9Q0gyK1c"
      },
      "execution_count": 50,
      "outputs": []
    },
    {
      "cell_type": "code",
      "source": [
        "print(f\"Shape của X train: {X_train2.shape}\")\n",
        "print(f\"Shape của y train: {y_train2.shape}\")\n",
        "print(f\"Shape của X test: {X_test2.shape}\")\n",
        "print(f\"Shape của y test: {y_test2.shape}\")"
      ],
      "metadata": {
        "colab": {
          "base_uri": "https://localhost:8080/"
        },
        "outputId": "ce4ec744-542e-4257-b571-7059fa4313d6",
        "id": "sI9SRpEJyK1c"
      },
      "execution_count": 51,
      "outputs": [
        {
          "output_type": "stream",
          "name": "stdout",
          "text": [
            "Shape của X train: (142, 13)\n",
            "Shape của y train: (142,)\n",
            "Shape của X test: (36, 13)\n",
            "Shape của y test: (36,)\n"
          ]
        }
      ]
    },
    {
      "cell_type": "code",
      "source": [
        "# Tiến hành feature scaling\n",
        "sc_X = StandardScaler()\n",
        "X_train2 = sc_X.fit_transform(X_train2)\n",
        "X_test2 = sc_X.transform(X_test2)"
      ],
      "metadata": {
        "id": "8Vi5SMuU45bv"
      },
      "execution_count": 52,
      "outputs": []
    },
    {
      "cell_type": "code",
      "source": [
        "print(f\"Kiểm tra X train: \\n{X_train2[:2]}\\n\")\n",
        "print(f\"Kiểm tra X test: \\n{X_test2[:2]}\")"
      ],
      "metadata": {
        "colab": {
          "base_uri": "https://localhost:8080/"
        },
        "id": "1jwz5T3S5fRU",
        "outputId": "9a7f884a-4c56-4e54-dbad-863ce957286a"
      },
      "execution_count": 53,
      "outputs": [
        {
          "output_type": "stream",
          "name": "stdout",
          "text": [
            "Kiểm tra X train: \n",
            "[[ 0.93714471 -0.61512376 -0.39190501 -0.94695164  1.42911289  0.56919905\n",
            "   0.92507397 -1.26819521  0.08123484  0.31479467 -0.17219682  0.87573671\n",
            "   1.03051309]\n",
            " [-0.02707735  0.37686901  1.26217226  0.41011025 -0.1973165  -1.16232562\n",
            "  -1.46746764  1.28053501 -1.43473973 -0.20522444 -0.79322497 -0.38165485\n",
            "  -0.41820237]]\n",
            "\n",
            "Kiểm tra X test: \n",
            "[[ 1.0918964  -0.41498487  1.62974499 -0.06191127  0.6158982   1.14092889\n",
            "   0.99485643  0.0061699   0.32518477 -0.24682597  1.19406512  1.15829661\n",
            "   0.57385278]\n",
            " [ 0.18719422 -1.18943537 -2.413555   -1.35997047 -1.52803145  1.1899343\n",
            "   1.20420382 -0.86995611  1.23128451  0.08598626  0.65584072  0.84748072\n",
            "  -0.72684175]]\n"
          ]
        }
      ]
    },
    {
      "cell_type": "markdown",
      "source": [
        "Huấn luyện mô hình và đánh giá mô hình"
      ],
      "metadata": {
        "id": "cosPg9wuyK1c"
      }
    },
    {
      "cell_type": "markdown",
      "source": [
        "Logistic Regression"
      ],
      "metadata": {
        "id": "JcEFXGiZyK1c"
      }
    },
    {
      "cell_type": "markdown",
      "source": [
        "Kết quả 10-fold CV sử dụng cross_val_score (3.3)"
      ],
      "metadata": {
        "id": "Jes_04FLyK1c"
      }
    },
    {
      "cell_type": "code",
      "source": [
        "wine_classifier = LogisticRegression(solver='liblinear', max_iter=1500, \n",
        "                                multi_class='auto')\n",
        "wine_scores = cross_val_score(wine_classifier, X_train, y_train, cv=10, \n",
        "                       scoring='accuracy')"
      ],
      "metadata": {
        "id": "J5oId3YUyK1c"
      },
      "execution_count": 54,
      "outputs": []
    },
    {
      "cell_type": "code",
      "source": [
        "print(f\"Kết quả huấn luyện: {wine_scores}\")"
      ],
      "metadata": {
        "colab": {
          "base_uri": "https://localhost:8080/"
        },
        "outputId": "d8bc7242-8f6f-49fe-f5e4-2065c5f78add",
        "id": "JAERPiI0yK1d"
      },
      "execution_count": 55,
      "outputs": [
        {
          "output_type": "stream",
          "name": "stdout",
          "text": [
            "Kết quả huấn luyện: [0.94545455 0.90909091 0.98181818 0.98181818 0.98181818 0.96363636\n",
            " 0.92592593 1.         0.96296296 0.94444444]\n"
          ]
        }
      ]
    },
    {
      "cell_type": "markdown",
      "source": [
        "Huấn luyện mô hình"
      ],
      "metadata": {
        "id": "DVeAqfTDyK1d"
      }
    },
    {
      "cell_type": "code",
      "source": [
        "# Huấn luyện mô hình\n",
        "wine_lr = LogisticRegression(solver='liblinear', max_iter=1500, \n",
        "                                multi_class='auto')\n",
        "wine_lr_optimal = kFoldCrossValiation(wine_lr, X_train2, y_train2)"
      ],
      "metadata": {
        "id": "kV8KGe5gyK1d"
      },
      "execution_count": 56,
      "outputs": []
    },
    {
      "cell_type": "code",
      "source": [
        "# Dự đoán kết quả\n",
        "y_pred_wine1 = wine_lr_optimal.predict(X_test2)"
      ],
      "metadata": {
        "id": "4UzIHWO1yK1d"
      },
      "execution_count": 57,
      "outputs": []
    },
    {
      "cell_type": "code",
      "source": [
        "# Tính scores\n",
        "wine_lr_scores = test_score(y_test2, y_pred_wine1, class_type = \"multy\")"
      ],
      "metadata": {
        "id": "zWFb4H6c9D0H"
      },
      "execution_count": 58,
      "outputs": []
    },
    {
      "cell_type": "markdown",
      "source": [
        "Mô hình k-NN"
      ],
      "metadata": {
        "id": "tIWqRKSEyK1d"
      }
    },
    {
      "cell_type": "markdown",
      "source": [
        "Kết quả 10-fold CV sử dụng cross_val_score (3.3)"
      ],
      "metadata": {
        "id": "6omMz4_DyK1d"
      }
    },
    {
      "cell_type": "code",
      "source": [
        "wine_kNN1 = KNeighborsClassifier()\n",
        "wine_scores_kNN = cross_val_score(wine_kNN1, X_train2, y_train2, cv=10, \n",
        "                       scoring='accuracy')"
      ],
      "metadata": {
        "id": "cdQ7-ljEyK1d"
      },
      "execution_count": 59,
      "outputs": []
    },
    {
      "cell_type": "code",
      "source": [
        "print(f\"Kết quả huấn luyện: {wine_scores_kNN}\")"
      ],
      "metadata": {
        "colab": {
          "base_uri": "https://localhost:8080/"
        },
        "outputId": "b48099ea-0bed-45a2-f128-caff2bda16c7",
        "id": "8oGwsQUWyK1d"
      },
      "execution_count": 60,
      "outputs": [
        {
          "output_type": "stream",
          "name": "stdout",
          "text": [
            "Kết quả huấn luyện: [1.         0.93333333 0.92857143 1.         1.         1.\n",
            " 1.         1.         1.         0.85714286]\n"
          ]
        }
      ]
    },
    {
      "cell_type": "markdown",
      "source": [
        "Tìm giá trị k tối ưu bằng GridSearchCV"
      ],
      "metadata": {
        "id": "ggSsPxtWyK1d"
      }
    },
    {
      "cell_type": "code",
      "source": [
        "# Xác định k_max\n",
        "from math import sqrt\n",
        "m2 = y_train2.shape[0]\n",
        "k_max2 = int(sqrt(m2)/2)"
      ],
      "metadata": {
        "id": "avg131jVyK1e"
      },
      "execution_count": 61,
      "outputs": []
    },
    {
      "cell_type": "code",
      "source": [
        "# Xác định các tham số:\n",
        "k_values2 = np.arange(start = 1, stop = k_max + 1, dtype = int)\n",
        "params2 = {'n_neighbors': k_values}"
      ],
      "metadata": {
        "id": "sRdPPskTyK1e"
      },
      "execution_count": 62,
      "outputs": []
    },
    {
      "cell_type": "code",
      "source": [
        "# Tìm k tối ưu\n",
        "kNN2 = KNeighborsClassifier()\n",
        "kNN_grid2 = GridSearchCV(kNN, params, cv=3)\n",
        "kNN_grid2.fit(X_train2, y_train2)"
      ],
      "metadata": {
        "colab": {
          "base_uri": "https://localhost:8080/"
        },
        "outputId": "ee895092-d28c-4693-bd20-bea7609e4a1f",
        "id": "9LiJTtExyK1e"
      },
      "execution_count": 63,
      "outputs": [
        {
          "output_type": "execute_result",
          "data": {
            "text/plain": [
              "GridSearchCV(cv=3, estimator=KNeighborsClassifier(),\n",
              "             param_grid={'n_neighbors': array([ 1,  2,  3,  4,  5,  6,  7,  8,  9, 10, 11])})"
            ]
          },
          "metadata": {},
          "execution_count": 63
        }
      ]
    },
    {
      "cell_type": "code",
      "source": [
        "# Dự đoán kết quả:\n",
        "y_pred_wine2 = kNN_grid2.predict(X_test2)"
      ],
      "metadata": {
        "id": "3wy9KqmoyK1e"
      },
      "execution_count": 64,
      "outputs": []
    },
    {
      "cell_type": "code",
      "source": [
        "# Tính scores\n",
        "wine_kNN_scores = test_score(y_test2, y_pred_wine2, class_type = \"multy\")"
      ],
      "metadata": {
        "id": "ySIdMTzoyK1e"
      },
      "execution_count": 65,
      "outputs": []
    },
    {
      "cell_type": "markdown",
      "source": [
        "Naive Bayes"
      ],
      "metadata": {
        "id": "Qc3W97g_yK1e"
      }
    },
    {
      "cell_type": "markdown",
      "source": [
        "Kết quả 10-fold CV sử dụng cross_val_score(3.3)"
      ],
      "metadata": {
        "id": "YiZmOIY_yK1e"
      }
    },
    {
      "cell_type": "code",
      "source": [
        "wine_gnb_model = GaussianNB()\n",
        "wine_scores_gnb = cross_val_score(wine_gnb_model, X_train, y_train, cv=10, \n",
        "                       scoring='accuracy')"
      ],
      "metadata": {
        "id": "FwksiD3OyK1e"
      },
      "execution_count": 66,
      "outputs": []
    },
    {
      "cell_type": "code",
      "source": [
        "print(f\"Kết quả huấn luyện: {wine_scores_gnb}\")"
      ],
      "metadata": {
        "colab": {
          "base_uri": "https://localhost:8080/"
        },
        "outputId": "093f38da-da71-431a-8461-e1923b6d6dec",
        "id": "oyyuuB9oyK1f"
      },
      "execution_count": 67,
      "outputs": [
        {
          "output_type": "stream",
          "name": "stdout",
          "text": [
            "Kết quả huấn luyện: [0.92727273 0.92727273 0.98181818 0.96363636 0.98181818 0.96363636\n",
            " 0.94444444 1.         0.96296296 0.90740741]\n"
          ]
        }
      ]
    },
    {
      "cell_type": "markdown",
      "source": [
        "Huấn luyện mô hình"
      ],
      "metadata": {
        "id": "J7H-51GxyK1f"
      }
    },
    {
      "cell_type": "code",
      "source": [
        "# Huấn luyện mô hình\n",
        "wine_gnb = GaussianNB()\n",
        "wine_gnb_optimal = kFoldCrossValiation(wine_gnb, X_train2, y_train2)"
      ],
      "metadata": {
        "id": "Iy0qipZ9yK1f"
      },
      "execution_count": 68,
      "outputs": []
    },
    {
      "cell_type": "code",
      "source": [
        "# Dự đoán kết quả:\n",
        "y_pred_wine3 = wine_gnb_optimal.predict(X_test2)"
      ],
      "metadata": {
        "id": "Z0sUailmyK1f"
      },
      "execution_count": 69,
      "outputs": []
    },
    {
      "cell_type": "code",
      "source": [
        "# Tính scores\n",
        "wine_nb_scores = test_score(y_test2, y_pred_wine3, class_type = \"multy\")"
      ],
      "metadata": {
        "id": "bhW9bu6TyK1f"
      },
      "execution_count": 70,
      "outputs": []
    },
    {
      "cell_type": "markdown",
      "source": [
        "Bảng đánh giá mô hình"
      ],
      "metadata": {
        "id": "WvTCVM28yK1f"
      }
    },
    {
      "cell_type": "markdown",
      "source": [
        "Đánh giá hiệu năng và so sánh các chỉ số của mô hình (3.4.a & 3.4.b)"
      ],
      "metadata": {
        "id": "O-zoHtpdyK1f"
      }
    },
    {
      "cell_type": "code",
      "source": [
        "test_table(wine_lr_scores, wine_kNN_scores, wine_nb_scores)"
      ],
      "metadata": {
        "colab": {
          "base_uri": "https://localhost:8080/",
          "height": 175
        },
        "outputId": "44a2bcc3-0ebd-4cb9-ba86-745d920c2048",
        "id": "XcTvAcpVyK1f"
      },
      "execution_count": 71,
      "outputs": [
        {
          "output_type": "execute_result",
          "data": {
            "text/plain": [
              "      Scores  LogisticRegression       kNN  NaiveBayes\n",
              "0   accuracy                 1.0  0.972222    0.916667\n",
              "1  precision                 1.0  0.981481    0.928571\n",
              "2     recall                 1.0  0.969697    0.941176\n",
              "3         f1                 1.0  0.974603    0.927742"
            ],
            "text/html": [
              "\n",
              "  <div id=\"df-9fda7ee0-aea7-4f93-8071-2ee97b1d2e07\">\n",
              "    <div class=\"colab-df-container\">\n",
              "      <div>\n",
              "<style scoped>\n",
              "    .dataframe tbody tr th:only-of-type {\n",
              "        vertical-align: middle;\n",
              "    }\n",
              "\n",
              "    .dataframe tbody tr th {\n",
              "        vertical-align: top;\n",
              "    }\n",
              "\n",
              "    .dataframe thead th {\n",
              "        text-align: right;\n",
              "    }\n",
              "</style>\n",
              "<table border=\"1\" class=\"dataframe\">\n",
              "  <thead>\n",
              "    <tr style=\"text-align: right;\">\n",
              "      <th></th>\n",
              "      <th>Scores</th>\n",
              "      <th>LogisticRegression</th>\n",
              "      <th>kNN</th>\n",
              "      <th>NaiveBayes</th>\n",
              "    </tr>\n",
              "  </thead>\n",
              "  <tbody>\n",
              "    <tr>\n",
              "      <th>0</th>\n",
              "      <td>accuracy</td>\n",
              "      <td>1.0</td>\n",
              "      <td>0.972222</td>\n",
              "      <td>0.916667</td>\n",
              "    </tr>\n",
              "    <tr>\n",
              "      <th>1</th>\n",
              "      <td>precision</td>\n",
              "      <td>1.0</td>\n",
              "      <td>0.981481</td>\n",
              "      <td>0.928571</td>\n",
              "    </tr>\n",
              "    <tr>\n",
              "      <th>2</th>\n",
              "      <td>recall</td>\n",
              "      <td>1.0</td>\n",
              "      <td>0.969697</td>\n",
              "      <td>0.941176</td>\n",
              "    </tr>\n",
              "    <tr>\n",
              "      <th>3</th>\n",
              "      <td>f1</td>\n",
              "      <td>1.0</td>\n",
              "      <td>0.974603</td>\n",
              "      <td>0.927742</td>\n",
              "    </tr>\n",
              "  </tbody>\n",
              "</table>\n",
              "</div>\n",
              "      <button class=\"colab-df-convert\" onclick=\"convertToInteractive('df-9fda7ee0-aea7-4f93-8071-2ee97b1d2e07')\"\n",
              "              title=\"Convert this dataframe to an interactive table.\"\n",
              "              style=\"display:none;\">\n",
              "        \n",
              "  <svg xmlns=\"http://www.w3.org/2000/svg\" height=\"24px\"viewBox=\"0 0 24 24\"\n",
              "       width=\"24px\">\n",
              "    <path d=\"M0 0h24v24H0V0z\" fill=\"none\"/>\n",
              "    <path d=\"M18.56 5.44l.94 2.06.94-2.06 2.06-.94-2.06-.94-.94-2.06-.94 2.06-2.06.94zm-11 1L8.5 8.5l.94-2.06 2.06-.94-2.06-.94L8.5 2.5l-.94 2.06-2.06.94zm10 10l.94 2.06.94-2.06 2.06-.94-2.06-.94-.94-2.06-.94 2.06-2.06.94z\"/><path d=\"M17.41 7.96l-1.37-1.37c-.4-.4-.92-.59-1.43-.59-.52 0-1.04.2-1.43.59L10.3 9.45l-7.72 7.72c-.78.78-.78 2.05 0 2.83L4 21.41c.39.39.9.59 1.41.59.51 0 1.02-.2 1.41-.59l7.78-7.78 2.81-2.81c.8-.78.8-2.07 0-2.86zM5.41 20L4 18.59l7.72-7.72 1.47 1.35L5.41 20z\"/>\n",
              "  </svg>\n",
              "      </button>\n",
              "      \n",
              "  <style>\n",
              "    .colab-df-container {\n",
              "      display:flex;\n",
              "      flex-wrap:wrap;\n",
              "      gap: 12px;\n",
              "    }\n",
              "\n",
              "    .colab-df-convert {\n",
              "      background-color: #E8F0FE;\n",
              "      border: none;\n",
              "      border-radius: 50%;\n",
              "      cursor: pointer;\n",
              "      display: none;\n",
              "      fill: #1967D2;\n",
              "      height: 32px;\n",
              "      padding: 0 0 0 0;\n",
              "      width: 32px;\n",
              "    }\n",
              "\n",
              "    .colab-df-convert:hover {\n",
              "      background-color: #E2EBFA;\n",
              "      box-shadow: 0px 1px 2px rgba(60, 64, 67, 0.3), 0px 1px 3px 1px rgba(60, 64, 67, 0.15);\n",
              "      fill: #174EA6;\n",
              "    }\n",
              "\n",
              "    [theme=dark] .colab-df-convert {\n",
              "      background-color: #3B4455;\n",
              "      fill: #D2E3FC;\n",
              "    }\n",
              "\n",
              "    [theme=dark] .colab-df-convert:hover {\n",
              "      background-color: #434B5C;\n",
              "      box-shadow: 0px 1px 3px 1px rgba(0, 0, 0, 0.15);\n",
              "      filter: drop-shadow(0px 1px 2px rgba(0, 0, 0, 0.3));\n",
              "      fill: #FFFFFF;\n",
              "    }\n",
              "  </style>\n",
              "\n",
              "      <script>\n",
              "        const buttonEl =\n",
              "          document.querySelector('#df-9fda7ee0-aea7-4f93-8071-2ee97b1d2e07 button.colab-df-convert');\n",
              "        buttonEl.style.display =\n",
              "          google.colab.kernel.accessAllowed ? 'block' : 'none';\n",
              "\n",
              "        async function convertToInteractive(key) {\n",
              "          const element = document.querySelector('#df-9fda7ee0-aea7-4f93-8071-2ee97b1d2e07');\n",
              "          const dataTable =\n",
              "            await google.colab.kernel.invokeFunction('convertToInteractive',\n",
              "                                                     [key], {});\n",
              "          if (!dataTable) return;\n",
              "\n",
              "          const docLinkHtml = 'Like what you see? Visit the ' +\n",
              "            '<a target=\"_blank\" href=https://colab.research.google.com/notebooks/data_table.ipynb>data table notebook</a>'\n",
              "            + ' to learn more about interactive tables.';\n",
              "          element.innerHTML = '';\n",
              "          dataTable['output_type'] = 'display_data';\n",
              "          await google.colab.output.renderOutput(dataTable, element);\n",
              "          const docLink = document.createElement('div');\n",
              "          docLink.innerHTML = docLinkHtml;\n",
              "          element.appendChild(docLink);\n",
              "        }\n",
              "      </script>\n",
              "    </div>\n",
              "  </div>\n",
              "  "
            ]
          },
          "metadata": {},
          "execution_count": 71
        }
      ]
    },
    {
      "cell_type": "markdown",
      "source": [
        "Kết luận: Mô hình Logistic Regression có các chỉ số đánh giá tốt hơn so với kNN và Naive Bayes (3.4.c)"
      ],
      "metadata": {
        "id": "mD1EN0AzyK1f"
      }
    }
  ]
}