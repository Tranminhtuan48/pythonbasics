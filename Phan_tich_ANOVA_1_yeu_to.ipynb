{
  "cells": [
    {
      "cell_type": "markdown",
      "metadata": {
        "id": "view-in-github",
        "colab_type": "text"
      },
      "source": [
        "<a href=\"https://colab.research.google.com/github/Tranminhtuan48/pythonbasics/blob/main/Phan_tich_ANOVA_1_yeu_to.ipynb\" target=\"_parent\"><img src=\"https://colab.research.google.com/assets/colab-badge.svg\" alt=\"Open In Colab\"/></a>"
      ]
    },
    {
      "cell_type": "markdown",
      "metadata": {
        "id": "xS7dgsHBczbT"
      },
      "source": [
        "Hãy sử dụng các tập dữ liệu sau và tiến hành phân tích ANOVA 1 chiều\n",
        "\n",
        "- [Excavation Depth and Archaeology](https://college.cengage.com/mathematics/brase/understandable_statistics/7e/students/datasets/owan/frames/owan01.html)\n",
        "- [Apple Orchard Experiment](https://college.cengage.com/mathematics/brase/understandable_statistics/7e/students/datasets/owan/frames/owan02.html)\n",
        "- [Red Dye Number 40](https://college.cengage.com/mathematics/brase/understandable_statistics/7e/students/datasets/owan/frames/owan03.html)\n",
        "- [Business Startup Costs](https://college.cengage.com/mathematics/brase/understandable_statistics/7e/students/datasets/owan/frames/owan04.html)\n",
        "- [Weights of Football Players](https://college.cengage.com/mathematics/brase/understandable_statistics/7e/students/datasets/owan/frames/owan05.html)"
      ]
    },
    {
      "cell_type": "markdown",
      "source": [
        "QUY TRÌNH PHÂN TÍCH ANOVA MỘT CHIỀU\n",
        "\n",
        "Kiểm tra các giả định:\n",
        "\n",
        "- Các mẫu độc lập với nhau\n",
        "- Các mẫu có cùng phương sai\n",
        "- Các mẫu đều tuân theo phân phối chuẩn\n",
        "\n",
        "Xây dựng giả thuyết\n",
        "\n",
        "$$H_{0}: \\mu_{0} = \\mu_{1} = ... = \\mu_{n}$$\n",
        "$$H_{a}: \\text{Có tối thiểu một cặp giá trị trung bình có giá trị khác nhau}$$\n",
        "\n",
        "Giá trị thống kê F được sử dụng trong việc ra quyết định của phân tích ANOVA một chiều. Công thức tính như sau:\n",
        "\n",
        "$$F = \\frac{MS_{B}}{MS_{W}}$$\n",
        "\n",
        "với:\n",
        "\n",
        "- $MS_{B} = \\frac{\\sum_{k}n_{k}(\\overline{\\rm x_{k}} - \\overline{\\rm x})^{2}}{k - 1}$\n",
        "- $MS_{W} = \\frac{\\sum_{k}n_{i,k}( x_{i,k} - \\overline{\\rm x})^{2}}{k - 1}$\n",
        "\n",
        "Loại bỏ giả thuyết $H_{0}$ khi chỉ số F > chỉ số F-critical (hoặc giá trị p tương ứng < 0.05)"
      ],
      "metadata": {
        "id": "D1uviuSWBxje"
      }
    },
    {
      "cell_type": "code",
      "source": [
        "!pip install --upgrade xlrd"
      ],
      "metadata": {
        "colab": {
          "base_uri": "https://localhost:8080/"
        },
        "id": "hX5YJyaEryNf",
        "outputId": "1542bd68-6ac2-4dec-d265-dc1a9c1ebad6"
      },
      "execution_count": 1,
      "outputs": [
        {
          "output_type": "stream",
          "name": "stdout",
          "text": [
            "Requirement already satisfied: xlrd in /usr/local/lib/python3.7/dist-packages (1.1.0)\n",
            "Collecting xlrd\n",
            "  Downloading xlrd-2.0.1-py2.py3-none-any.whl (96 kB)\n",
            "\u001b[?25l\r\u001b[K     |███▍                            | 10 kB 17.9 MB/s eta 0:00:01\r\u001b[K     |██████▉                         | 20 kB 21.2 MB/s eta 0:00:01\r\u001b[K     |██████████▏                     | 30 kB 13.1 MB/s eta 0:00:01\r\u001b[K     |█████████████▋                  | 40 kB 9.9 MB/s eta 0:00:01\r\u001b[K     |█████████████████               | 51 kB 6.6 MB/s eta 0:00:01\r\u001b[K     |████████████████████▍           | 61 kB 7.7 MB/s eta 0:00:01\r\u001b[K     |███████████████████████▊        | 71 kB 8.1 MB/s eta 0:00:01\r\u001b[K     |███████████████████████████▏    | 81 kB 7.7 MB/s eta 0:00:01\r\u001b[K     |██████████████████████████████▌ | 92 kB 8.5 MB/s eta 0:00:01\r\u001b[K     |████████████████████████████████| 96 kB 3.6 MB/s \n",
            "\u001b[?25hInstalling collected packages: xlrd\n",
            "  Attempting uninstall: xlrd\n",
            "    Found existing installation: xlrd 1.1.0\n",
            "    Uninstalling xlrd-1.1.0:\n",
            "      Successfully uninstalled xlrd-1.1.0\n",
            "Successfully installed xlrd-2.0.1\n"
          ]
        }
      ]
    },
    {
      "cell_type": "code",
      "source": [
        "import pandas as pd\n",
        "import xlrd\n",
        "import numpy as np\n",
        "from scipy import stats\n",
        "from google.colab import drive\n",
        "drive.mount('/content/gdrive')"
      ],
      "metadata": {
        "id": "FcptcPRxg0HP",
        "colab": {
          "base_uri": "https://localhost:8080/"
        },
        "outputId": "34faa0d7-db8f-4b51-ebde-e45205657d93"
      },
      "execution_count": 2,
      "outputs": [
        {
          "output_type": "stream",
          "name": "stdout",
          "text": [
            "Mounted at /content/gdrive\n"
          ]
        }
      ]
    },
    {
      "cell_type": "code",
      "source": [
        "# Excavation Depth and Archaeology\n",
        "dataset = pd.read_excel('/content/gdrive/MyDrive/EDaA.xls', engine = \"xlrd\")\n",
        "NA  = [list(dataset[\"X1\"].dropna()),\n",
        "       list(dataset[\"X2\"].dropna()),\n",
        "       list(dataset[\"X3\"].dropna()),\n",
        "       list(dataset[\"X4\"].dropna())]\n",
        "print(dataset)"
      ],
      "metadata": {
        "colab": {
          "base_uri": "https://localhost:8080/"
        },
        "id": "_o7d6wezmEXF",
        "outputId": "89714384-4c2a-4ca0-de17-c962f2123400"
      },
      "execution_count": 4,
      "outputs": [
        {
          "output_type": "stream",
          "name": "stdout",
          "text": [
            "*** No CODEPAGE record, no encoding_override: will use 'iso-8859-1'\n",
            "     X1    X2     X3    X4\n",
            "0    93  85.0  100.0  96.0\n",
            "1   120  45.0   75.0  58.0\n",
            "2    65  80.0   65.0  95.0\n",
            "3   105  28.0   40.0  90.0\n",
            "4   115  75.0   73.0  65.0\n",
            "5    82  70.0   65.0  80.0\n",
            "6    99  65.0   50.0  85.0\n",
            "7    87  55.0   30.0  95.0\n",
            "8   100  50.0   45.0  82.0\n",
            "9    90  40.0   50.0   NaN\n",
            "10   78   NaN   45.0   NaN\n",
            "11   95   NaN   55.0   NaN\n",
            "12   93   NaN    NaN   NaN\n",
            "13   88   NaN    NaN   NaN\n",
            "14  110   NaN    NaN   NaN\n"
          ]
        }
      ]
    },
    {
      "cell_type": "markdown",
      "source": [
        "**Tiến hành kiểm định các điều kiện *Phân phối chuẩn, phương sai*:**\n",
        "\n",
        "Phát biểu giả thuyết *a = 0.05*:\n",
        "- Null: \"Nhóm thứ i được lấy từ phân phối chuẩn và không có sự khác biệt về phương sai giữa các nhóm\" \n",
        "- Giả thuyết thay thế: \"Nhóm thứ i không được lấy từ phân phối chuẩn và có sự khác biệt về phương sai giữa các nhóm\""
      ],
      "metadata": {
        "id": "zchPbzcT-sxA"
      }
    },
    {
      "cell_type": "code",
      "source": [
        "#phan phoi chuan\n",
        "for i in range(4):\n",
        "  p_value = stats.shapiro(NA[i])[1]\n",
        "  print(f\"P_value của cột {i+1}: {p_value}\")\n",
        "  if p_value < 0.05:\n",
        "    print(f\"Có bằng chứng cho thấy nhóm thứ {i+1} không tuân theo phân phối chuẩn\")\n",
        "  else:\n",
        "    print(f\"Không có bằng chứng cho thấy nhóm thứ {i+1} không tuân theo phân phối chuẩn\")\n",
        "#phuong sai\n",
        "stat_value ,p_value = stats.levene(NA[0], NA[1],\n",
        "                                   NA[2], NA[3])\n",
        "print(f\"P value: {p_value}\")\n",
        "if p_value > 0.05:\n",
        "    print(f\"Có bằng chứng cho thấy sự đồng nhất phương sai giữa các nhóm\")\n",
        "else:\n",
        "    print(f\"Không có bằng chứng cho thấy có sự đồng nhất phương sai giữa các nhóm\")"
      ],
      "metadata": {
        "colab": {
          "base_uri": "https://localhost:8080/"
        },
        "id": "E4LP5bg067X3",
        "outputId": "a6d9f3bc-d61e-494c-9c8c-efcace1f1877"
      },
      "execution_count": 25,
      "outputs": [
        {
          "output_type": "stream",
          "name": "stdout",
          "text": [
            "P_value của cột 1: 0.23906797170639038\n",
            "Không có bằng chứng cho thấy nhóm thứ 1 không tuân theo phân phối chuẩn\n",
            "P_value của cột 2: 0.9998751282691956\n",
            "Không có bằng chứng cho thấy nhóm thứ 2 không tuân theo phân phối chuẩn\n",
            "P_value của cột 3: 0.19140109419822693\n",
            "Không có bằng chứng cho thấy nhóm thứ 3 không tuân theo phân phối chuẩn\n",
            "P_value của cột 4: 0.14956821501255035\n",
            "Không có bằng chứng cho thấy nhóm thứ 4 không tuân theo phân phối chuẩn\n",
            "P value: 0.02110640000655371\n",
            "Không có bằng chứng cho thấy có sự đồng nhất phương sai giữa các nhóm\n"
          ]
        }
      ]
    },
    {
      "cell_type": "markdown",
      "source": [
        "**Các nhóm đã thỏa mãn các điều kiện nên ta tiến hành kiểm định ANOVA:**"
      ],
      "metadata": {
        "id": "vARhANF_92bp"
      }
    },
    {
      "cell_type": "markdown",
      "source": [
        "Phát biểu giả thuyết *a = 0.05* :\n",
        "- Null: \"Không có sự khác biệt về giá trị trung bình giữa các nhóm\"\n",
        "- Giả thuyết thay thế: \"Có sự khác biệt về giá trị trung bình giữa các nhóm\""
      ],
      "metadata": {
        "id": "4dKoHq3l_y8w"
      }
    },
    {
      "cell_type": "code",
      "source": [
        "f_stat, p_value = stats.f_oneway(NA[0], NA[1],\n",
        "                                 NA[2], NA[3])\n",
        "print(f\"P value: {p_value}\")\n",
        "if p_value < 0.05:\n",
        "    print(f\"Có bằng chứng để bác bỏ giả thuyết null\")\n",
        "else:\n",
        "    print(f\"Không có bằng chứng để bác bỏ giả thuyết Null\")"
      ],
      "metadata": {
        "colab": {
          "base_uri": "https://localhost:8080/"
        },
        "id": "USxazmOJ-EzA",
        "outputId": "90349516-7967-4f3c-d4a4-1a2edd761152"
      },
      "execution_count": 9,
      "outputs": [
        {
          "output_type": "stream",
          "name": "stdout",
          "text": [
            "P value: 7.99057539367343e-07\n",
            "Có bằng chứng để bác bỏ giả thuyết null\n"
          ]
        }
      ]
    },
    {
      "cell_type": "markdown",
      "source": [
        "Vậy có bằng chứng để nói rằng có sự khác biệt về giá trị trung bình của các nhóm."
      ],
      "metadata": {
        "id": "07mEwgww-h-A"
      }
    },
    {
      "cell_type": "code",
      "source": [
        ""
      ],
      "metadata": {
        "id": "55eoCIP7CnuJ"
      },
      "execution_count": null,
      "outputs": []
    },
    {
      "cell_type": "code",
      "source": [
        "#Apple Orchard Experiment\n",
        "dataset2 = pd.read_excel('/content/gdrive/MyDrive/AOE.xls', engine = \"xlrd\")\n",
        "print(dataset2)\n",
        "NA = [list(dataset2[\"X1\"].dropna()),\n",
        "      list(dataset2[\"X2\"].dropna()),\n",
        "      list(dataset2[\"X3\"].dropna()),\n",
        "      list(dataset2[\"X4\"].dropna()),\n",
        "      list(dataset2[\"X5\"].dropna())]"
      ],
      "metadata": {
        "colab": {
          "base_uri": "https://localhost:8080/"
        },
        "outputId": "c8e7527f-9a33-4a38-e8fd-e406c1283c7b",
        "id": "WROuV9POCn52"
      },
      "execution_count": 29,
      "outputs": [
        {
          "output_type": "stream",
          "name": "stdout",
          "text": [
            "*** No CODEPAGE record, no encoding_override: will use 'iso-8859-1'\n",
            "     X1    X2    X3    X4    X5\n",
            "0  2569  2074  2505  2838  1532\n",
            "1  2928  2885  2315  2351  2552\n",
            "2  2865  3378  2667  3001  3083\n",
            "3  3844  3906  2390  2439  2330\n",
            "4  3027  2782  3021  2199  2079\n",
            "5  2336  3018  3085  3318  3366\n",
            "6  3211  3383  3308  3601  2416\n",
            "7  3037  3447  3231  3291  3100\n"
          ]
        }
      ]
    },
    {
      "cell_type": "markdown",
      "source": [
        "**Tiến hành kiểm định các điều kiện *Phân phối chuẩn, phương sai*:**\n",
        "\n",
        "Phát biểu giả thuyết *a = 0.05*:\n",
        "- Null: \"Nhóm thứ i được lấy từ phân phối chuẩn và không có sự khác biệt về phương sai giữa các nhóm\" \n",
        "- Giả thuyết thay thế: \"Nhóm thứ i không được lấy từ phân phối chuẩn và có sự khác biệt về phương sai giữa các nhóm\""
      ],
      "metadata": {
        "id": "6YqvO7PKCn57"
      }
    },
    {
      "cell_type": "code",
      "source": [
        "#phan phoi chuan\n",
        "for i in range(5):\n",
        "  p_value = stats.shapiro(NA[i])[1]\n",
        "  print(f\"P_value của cột {i+1}: {p_value}\")\n",
        "  if p_value < 0.05:\n",
        "    print(f\"Có bằng chứng cho thấy nhóm thứ {i+1} không tuân theo phân phối chuẩn\")\n",
        "  else:\n",
        "    print(f\"Không có bằng chứng cho thấy nhóm thứ {i+1} không tuân theo phân phối chuẩn\")\n",
        "#phuong sai\n",
        "stat_value ,p_value = stats.levene(NA[0], NA[1],\n",
        "                                   NA[2], NA[3],\n",
        "                                   NA[4])\n",
        "print(f\"P value: {p_value}\")\n",
        "if p_value > 0.05:\n",
        "    print(f\"Có bằng chứng cho thấy sự đồng nhất phương sai giữa các nhóm\")\n",
        "else:\n",
        "    print(f\"Không có bằng chứng cho thấy có sự đồng nhất phương sai giữa các nhóm\")"
      ],
      "metadata": {
        "colab": {
          "base_uri": "https://localhost:8080/"
        },
        "outputId": "cd12966f-2f6e-4b75-f95c-942d5115140c",
        "id": "XUEJhS7XCn58"
      },
      "execution_count": 30,
      "outputs": [
        {
          "output_type": "stream",
          "name": "stdout",
          "text": [
            "P_value của cột 1: 0.644533634185791\n",
            "Không có bằng chứng cho thấy nhóm thứ 1 không tuân theo phân phối chuẩn\n",
            "P_value của cột 2: 0.7472830414772034\n",
            "Không có bằng chứng cho thấy nhóm thứ 2 không tuân theo phân phối chuẩn\n",
            "P_value của cột 3: 0.3169650137424469\n",
            "Không có bằng chứng cho thấy nhóm thứ 3 không tuân theo phân phối chuẩn\n",
            "P_value của cột 4: 0.5994704365730286\n",
            "Không có bằng chứng cho thấy nhóm thứ 4 không tuân theo phân phối chuẩn\n",
            "P_value của cột 5: 0.803491473197937\n",
            "Không có bằng chứng cho thấy nhóm thứ 5 không tuân theo phân phối chuẩn\n",
            "P value: 0.7871189934362511\n",
            "Có bằng chứng cho thấy sự đồng nhất phương sai giữa các nhóm\n"
          ]
        }
      ]
    },
    {
      "cell_type": "markdown",
      "source": [
        "**Các nhóm đã thỏa mãn các điều kiện nên ta tiến hành kiểm định ANOVA:**"
      ],
      "metadata": {
        "id": "nllLSdG4Cn6A"
      }
    },
    {
      "cell_type": "markdown",
      "source": [
        "Phát biểu giả thuyết *a = 0.05* :\n",
        "- Null: \"Không có sự khác biệt về giá trị trung bình giữa các nhóm\"\n",
        "- Giả thuyết thay thế: \"Có sự khác biệt về giá trị trung bình giữa các nhóm\""
      ],
      "metadata": {
        "id": "qZB9x-7PCn6A"
      }
    },
    {
      "cell_type": "code",
      "source": [
        "f_stat, p_value = stats.f_oneway(NA[0], NA[1],\n",
        "                                 NA[2], NA[3],\n",
        "                                 NA[4])\n",
        "print(f\"P value: {p_value}\")\n",
        "if p_value < 0.05:\n",
        "    print(f\"Có bằng chứng để bác bỏ giả thuyết null\")\n",
        "else:\n",
        "    print(f\"Không có bằng chứng để bác bỏ giả thuyết Null\")"
      ],
      "metadata": {
        "colab": {
          "base_uri": "https://localhost:8080/"
        },
        "outputId": "7eecbd93-fa95-4f98-a5c0-fade5b0a2557",
        "id": "GKDBplmDCn6B"
      },
      "execution_count": 18,
      "outputs": [
        {
          "output_type": "stream",
          "name": "stdout",
          "text": [
            "P value: 0.28382583646160114\n",
            "Không có bằng chứng để bác bỏ giả thuyết Null\n"
          ]
        }
      ]
    },
    {
      "cell_type": "markdown",
      "source": [
        "Vậy không có bằng chứng để nói rằng có sự khác biệt về giá trị trung bình của các nhóm."
      ],
      "metadata": {
        "id": "aNHCKPmNCn6C"
      }
    },
    {
      "cell_type": "code",
      "source": [
        ""
      ],
      "metadata": {
        "id": "JjG-ui1MH9Zt"
      },
      "execution_count": null,
      "outputs": []
    },
    {
      "cell_type": "code",
      "source": [
        "#Red Dye Number 40\n",
        "dataset3 = pd.read_excel('/content/gdrive/MyDrive/RDN.xls', engine = \"xlrd\")\n",
        "print(dataset3)\n",
        "NA = [list(dataset3[\"X1\"].dropna()),\n",
        "               list(dataset3[\"X2\"].dropna()),\n",
        "               list(dataset3[\"X3\"].dropna()),\n",
        "               list(dataset3[\"X4\"].dropna())]\n"
      ],
      "metadata": {
        "colab": {
          "base_uri": "https://localhost:8080/"
        },
        "outputId": "b40241a1-4c7f-4bb8-87d9-530cc64c19f2",
        "id": "dq-EdOW-DV-_"
      },
      "execution_count": 21,
      "outputs": [
        {
          "output_type": "stream",
          "name": "stdout",
          "text": [
            "*** No CODEPAGE record, no encoding_override: will use 'iso-8859-1'\n",
            "     X1    X2    X3     X4\n",
            "0    70  49.0  30.0   34.0\n",
            "1    77  60.0  37.0   36.0\n",
            "2    83  63.0  56.0   48.0\n",
            "3    87  67.0  65.0   48.0\n",
            "4    92  70.0  76.0   65.0\n",
            "5    93  74.0  83.0   91.0\n",
            "6   100  77.0  87.0   98.0\n",
            "7   102  80.0  90.0  102.0\n",
            "8   102  89.0  94.0    NaN\n",
            "9   103   NaN  97.0    NaN\n",
            "10   96   NaN   NaN    NaN\n"
          ]
        }
      ]
    },
    {
      "cell_type": "markdown",
      "source": [
        "**Tiến hành kiểm định các điều kiện *Phân phối chuẩn, phương sai*:**\n",
        "\n",
        "Phát biểu giả thuyết *a = 0.05*:\n",
        "- Null: \"Nhóm thứ i được lấy từ phân phối chuẩn và không có sự khác biệt về phương sai giữa các nhóm\" \n",
        "- Giả thuyết thay thế: \"Nhóm thứ i không được lấy từ phân phối chuẩn và có sự khác biệt về phương sai giữa các nhóm\"Tiến hành kiểm định xem các nhóm có tuân theo phân phối chuẩn ko:"
      ],
      "metadata": {
        "id": "3HkPgOdyDV_A"
      }
    },
    {
      "cell_type": "code",
      "source": [
        "#phan phoi chuan\n",
        "for i in range(4):\n",
        "  p_value = stats.shapiro(NA[i])[1]\n",
        "  print(f\"P_value của cột {i+1}: {p_value}\")\n",
        "  if p_value < 0.05:\n",
        "    print(f\"Có bằng chứng cho thấy nhóm thứ {i+1} không tuân theo phân phối chuẩn\")\n",
        "  else:\n",
        "    print(f\"Không có bằng chứng cho thấy nhóm thứ {i+1} không tuân theo phân phối chuẩn\")\n",
        "#phuong sai\n",
        "stat_value ,p_value = stats.levene(NA[0], NA[1],\n",
        "                                   NA[2], NA[3])\n",
        "print(f\"P value: {p_value}\")\n",
        "if p_value > 0.05:\n",
        "    print(f\"Có bằng chứng cho thấy sự đồng nhất phương sai giữa các nhóm\")\n",
        "else:\n",
        "    print(f\"Không có bằng chứng cho thấy có sự đồng nhất phương sai giữa các nhóm\")"
      ],
      "metadata": {
        "colab": {
          "base_uri": "https://localhost:8080/"
        },
        "outputId": "195edd55-f886-40c3-e7c9-1f9eea20a49d",
        "id": "OAXTCc7tDV_A"
      },
      "execution_count": 28,
      "outputs": [
        {
          "output_type": "stream",
          "name": "stdout",
          "text": [
            "P_value của cột 1: 0.23906797170639038\n",
            "Không có bằng chứng cho thấy nhóm thứ 1 không tuân theo phân phối chuẩn\n",
            "P_value của cột 2: 0.9998751282691956\n",
            "Không có bằng chứng cho thấy nhóm thứ 2 không tuân theo phân phối chuẩn\n",
            "P_value của cột 3: 0.19140109419822693\n",
            "Không có bằng chứng cho thấy nhóm thứ 3 không tuân theo phân phối chuẩn\n",
            "P_value của cột 4: 0.14956821501255035\n",
            "Không có bằng chứng cho thấy nhóm thứ 4 không tuân theo phân phối chuẩn\n",
            "P value: 0.02110640000655371\n",
            "Không có bằng chứng cho thấy có sự đồng nhất phương sai giữa các nhóm\n"
          ]
        }
      ]
    },
    {
      "cell_type": "markdown",
      "source": [
        "Vì có bằng chứng cho thấy không có sự tương đồng về phương sai của các nhóm nên ta không thể tiến hành kiểm định ANOVA"
      ],
      "metadata": {
        "id": "Y1LVNCzODV_B"
      }
    },
    {
      "cell_type": "code",
      "source": [
        "#Business Startup Costs\n",
        "dataset4 = pd.read_excel('/content/gdrive/MyDrive/BSC.xls', engine = \"xlrd\")\n",
        "print(dataset4)\n",
        "NA = [list(dataset4[\"X1\"].dropna()),\n",
        "               list(dataset4[\"X2\"].dropna()),\n",
        "               list(dataset4[\"X3\"].dropna()),\n",
        "               list(dataset4[\"X4\"].dropna()),\n",
        "               list(dataset4[\"X5\"].dropna())]"
      ],
      "metadata": {
        "colab": {
          "base_uri": "https://localhost:8080/"
        },
        "outputId": "43a20dfe-f89b-4b49-be22-abcf2ea930d6",
        "id": "D5wCCGC4EKdx"
      },
      "execution_count": 36,
      "outputs": [
        {
          "output_type": "stream",
          "name": "stdout",
          "text": [
            "*** No CODEPAGE record, no encoding_override: will use 'iso-8859-1'\n",
            "       X1     X2     X3     X4   X5\n",
            "0    80.0  150.0   48.0  100.0   25\n",
            "1   125.0   40.0   35.0   96.0   80\n",
            "2    35.0  120.0   95.0   35.0   30\n",
            "3    58.0   75.0   45.0   99.0   35\n",
            "4   110.0  160.0   75.0   75.0   30\n",
            "5   140.0   60.0  115.0  150.0   28\n",
            "6    97.0   45.0   42.0   45.0   20\n",
            "7    50.0  100.0   78.0  100.0   75\n",
            "8    65.0   86.0   65.0  120.0   48\n",
            "9    79.0   87.0  125.0   50.0   20\n",
            "10   35.0   90.0    NaN    NaN   50\n",
            "11   85.0    NaN    NaN    NaN   75\n",
            "12  120.0    NaN    NaN    NaN   55\n",
            "13    NaN    NaN    NaN    NaN   60\n",
            "14    NaN    NaN    NaN    NaN   85\n",
            "15    NaN    NaN    NaN    NaN  110\n"
          ]
        }
      ]
    },
    {
      "cell_type": "markdown",
      "source": [
        "**Tiến hành kiểm định các điều kiện *Phân phối chuẩn, phương sai*:**\n",
        "\n",
        "Phát biểu giả thuyết *a = 0.05*:\n",
        "- Null: \"Nhóm thứ i được lấy từ phân phối chuẩn và không có sự khác biệt về phương sai giữa các nhóm\" \n",
        "- Giả thuyết thay thế: \"Nhóm thứ i không được lấy từ phân phối chuẩn và có sự khác biệt về phương sai giữa các nhóm\"Tiến hành kiểm định xem các nhóm có tuân theo phân phối chuẩn ko:Tiến hành kiểm định xem các nhóm có tuân theo phân phối chuẩn ko:"
      ],
      "metadata": {
        "id": "lT1GT8OZEKdz"
      }
    },
    {
      "cell_type": "code",
      "source": [
        "#phan phoi chuan\n",
        "for i in range(5):\n",
        "  p_value = stats.shapiro(NA[i])[1]\n",
        "  print(f\"P_value của cột {i+1}: {p_value}\")\n",
        "  if p_value < 0.05:\n",
        "    print(f\"Có bằng chứng cho thấy nhóm thứ {i+1} không tuân theo phân phối chuẩn\")\n",
        "  else:\n",
        "    print(f\"Không có bằng chứng cho thấy nhóm thứ {i+1} không tuân theo phân phối chuẩn\")\n",
        "#phuong sai\n",
        "stat_value ,p_value = stats.levene(NA[0], NA[1],\n",
        "                                   NA[2], NA[3],\n",
        "                                   NA[4])\n",
        "print(f\"P value: {p_value}\")\n",
        "if p_value > 0.05:\n",
        "    print(f\"Có bằng chứng cho thấy sự đồng nhất phương sai giữa các nhóm\")\n",
        "else:\n",
        "    print(f\"Không có bằng chứng cho thấy có sự đồng nhất phương sai giữa các nhóm\")"
      ],
      "metadata": {
        "colab": {
          "base_uri": "https://localhost:8080/"
        },
        "outputId": "55133a7e-7de3-4144-caad-fdafff7f8ce7",
        "id": "W3UjGB-8EKd0"
      },
      "execution_count": 37,
      "outputs": [
        {
          "output_type": "stream",
          "name": "stdout",
          "text": [
            "P_value của cột 1: 0.7370653748512268\n",
            "Không có bằng chứng cho thấy nhóm thứ 1 không tuân theo phân phối chuẩn\n",
            "P_value của cột 2: 0.5559222102165222\n",
            "Không có bằng chứng cho thấy nhóm thứ 2 không tuân theo phân phối chuẩn\n",
            "P_value của cột 3: 0.3917592167854309\n",
            "Không có bằng chứng cho thấy nhóm thứ 3 không tuân theo phân phối chuẩn\n",
            "P_value của cột 4: 0.5785742998123169\n",
            "Không có bằng chứng cho thấy nhóm thứ 4 không tuân theo phân phối chuẩn\n",
            "P_value của cột 5: 0.17400741577148438\n",
            "Không có bằng chứng cho thấy nhóm thứ 5 không tuân theo phân phối chuẩn\n",
            "P value: 0.9309738160407797\n",
            "Có bằng chứng cho thấy sự đồng nhất phương sai giữa các nhóm\n"
          ]
        }
      ]
    },
    {
      "cell_type": "markdown",
      "source": [
        "**Các nhóm đã thỏa mãn các điều kiện nên ta tiến hành kiểm định ANOVA:**"
      ],
      "metadata": {
        "id": "sdDp8cBrEKd1"
      }
    },
    {
      "cell_type": "markdown",
      "source": [
        "Phát biểu giả thuyết *a = 0.05* :\n",
        "- Null: \"Không có sự khác biệt về giá trị trung bình giữa các nhóm\"\n",
        "- Giả thuyết thay thế: \"Có sự khác biệt về giá trị trung bình giữa các nhóm\""
      ],
      "metadata": {
        "id": "fWcS910AEKd1"
      }
    },
    {
      "cell_type": "code",
      "source": [
        "f_stat, p_value = stats.f_oneway(NA[0], NA[1],\n",
        "                                 NA[2], NA[3],\n",
        "                                 NA[4])\n",
        "print(f\"P value: {p_value}\")\n",
        "if p_value < 0.05:\n",
        "    print(f\"Có bằng chứng để bác bỏ giả thuyết null\")\n",
        "else:\n",
        "    print(f\"Không có bằng chứng để bác bỏ giả thuyết Null\")"
      ],
      "metadata": {
        "colab": {
          "base_uri": "https://localhost:8080/"
        },
        "outputId": "c635f1db-bccf-4335-978b-01161f1fe7b6",
        "id": "vAcbwgmDEKd1"
      },
      "execution_count": 38,
      "outputs": [
        {
          "output_type": "stream",
          "name": "stdout",
          "text": [
            "P value: 0.018391232905488122\n",
            "Có bằng chứng để bác bỏ giả thuyết null\n"
          ]
        }
      ]
    },
    {
      "cell_type": "markdown",
      "source": [
        "Vậy có bằng chứng để nói rằng có sự khác biệt về giá trị trung bình của các nhóm."
      ],
      "metadata": {
        "id": "Wp_ljF97EKd2"
      }
    },
    {
      "cell_type": "code",
      "source": [
        "#Weights of Football Players\n",
        "dataset5 = pd.read_excel('/content/gdrive/MyDrive/WoFP.xls', engine = \"xlrd\")\n",
        "print(dataset5)\n",
        "NA = [list(dataset5[\"X1\"].dropna()),\n",
        "      list(dataset5[\"X2\"].dropna()),\n",
        "      list(dataset5[\"X3\"].dropna()),\n",
        "      list(dataset5[\"X4\"].dropna()),\n",
        "      list(dataset5[\"X5\"].dropna())]"
      ],
      "metadata": {
        "colab": {
          "base_uri": "https://localhost:8080/"
        },
        "outputId": "f0c669a7-600a-4009-8344-67efb77ae4c7",
        "id": "dzToNEppEujh"
      },
      "execution_count": 39,
      "outputs": [
        {
          "output_type": "stream",
          "name": "stdout",
          "text": [
            "*** No CODEPAGE record, no encoding_override: will use 'iso-8859-1'\n",
            "     X1   X2   X3   X4   X5\n",
            "0   250  260  270  260  247\n",
            "1   255  271  250  255  249\n",
            "2   255  258  281  265  255\n",
            "3   264  263  273  257  247\n",
            "4   250  267  257  268  244\n",
            "5   265  254  264  263  245\n",
            "6   245  255  233  247  249\n",
            "7   252  250  254  253  260\n",
            "8   266  248  268  251  217\n",
            "9   246  240  252  252  208\n",
            "10  251  254  256  266  228\n",
            "11  263  275  265  264  253\n",
            "12  248  270  252  210  249\n",
            "13  228  225  256  236  223\n",
            "14  221  222  235  225  221\n",
            "15  223  230  216  230  228\n",
            "16  220  225  241  232  271\n"
          ]
        }
      ]
    },
    {
      "cell_type": "markdown",
      "source": [
        "**Tiến hành kiểm định các điều kiện *Phân phối chuẩn, phương sai*:**\n",
        "\n",
        "Phát biểu giả thuyết *a = 0.05*:\n",
        "- Null: \"Nhóm thứ i được lấy từ phân phối chuẩn và không có sự khác biệt về phương sai giữa các nhóm\" \n",
        "- Giả thuyết thay thế: \"Nhóm thứ i không được lấy từ phân phối chuẩn và có sự khác biệt về phương sai giữa các nhóm\"Tiến hành kiểm định xem các nhóm có tuân theo phân phối chuẩn ko:Tiến hành kiểm định xem các nhóm có tuân theo phân phối chuẩn ko:"
      ],
      "metadata": {
        "id": "oDGM5OVDEuji"
      }
    },
    {
      "cell_type": "code",
      "source": [
        "#phan phoi chuan\n",
        "for i in range(5):\n",
        "  p_value = stats.shapiro(NA[i])[1]\n",
        "  print(f\"P_value của cột {i+1}: {p_value}\")\n",
        "  if p_value < 0.05:\n",
        "    print(f\"Có bằng chứng cho thấy nhóm thứ {i+1} không tuân theo phân phối chuẩn\")\n",
        "  else:\n",
        "    print(f\"Không có bằng chứng cho thấy nhóm thứ {i+1} không tuân theo phân phối chuẩn\")\n",
        "#phuong sai\n",
        "stat_value ,p_value = stats.levene(NA[0], NA[1],\n",
        "                                   NA[2], NA[3],\n",
        "                                   NA[4])\n",
        "print(f\"P value: {p_value}\")\n",
        "if p_value > 0.05:\n",
        "    print(f\"Có bằng chứng cho thấy sự đồng nhất phương sai giữa các nhóm\")\n",
        "else:\n",
        "    print(f\"Không có bằng chứng cho thấy có sự đồng nhất phương sai giữa các nhóm\")"
      ],
      "metadata": {
        "colab": {
          "base_uri": "https://localhost:8080/"
        },
        "outputId": "4334857a-a4d0-49b0-83c0-d68f767577e9",
        "id": "C4JR8oZJEuji"
      },
      "execution_count": 40,
      "outputs": [
        {
          "output_type": "stream",
          "name": "stdout",
          "text": [
            "P_value của cột 1: 0.028549334034323692\n",
            "Có bằng chứng cho thấy nhóm thứ 1 không tuân theo phân phối chuẩn\n",
            "P_value của cột 2: 0.16341625154018402\n",
            "Không có bằng chứng cho thấy nhóm thứ 2 không tuân theo phân phối chuẩn\n",
            "P_value của cột 3: 0.6627115607261658\n",
            "Không có bằng chứng cho thấy nhóm thứ 3 không tuân theo phân phối chuẩn\n",
            "P_value của cột 4: 0.06506332755088806\n",
            "Không có bằng chứng cho thấy nhóm thứ 4 không tuân theo phân phối chuẩn\n",
            "P_value của cột 5: 0.3383376896381378\n",
            "Không có bằng chứng cho thấy nhóm thứ 5 không tuân theo phân phối chuẩn\n",
            "P value: 0.9835921534462739\n",
            "Có bằng chứng cho thấy sự đồng nhất phương sai giữa các nhóm\n"
          ]
        }
      ]
    },
    {
      "cell_type": "markdown",
      "source": [
        "Vì có bằng chứng cho thấy 1 nhóm không tuân theo phân phối chuẩn nên ta không thể tiến hành kiểm định ANOVA"
      ],
      "metadata": {
        "id": "kVqhlrX8E_Uq"
      }
    }
  ],
  "metadata": {
    "kernelspec": {
      "display_name": "Python 3",
      "language": "python",
      "name": "python3"
    },
    "language_info": {
      "codemirror_mode": {
        "name": "ipython",
        "version": 3
      },
      "file_extension": ".py",
      "mimetype": "text/x-python",
      "name": "python",
      "nbconvert_exporter": "python",
      "pygments_lexer": "ipython3",
      "version": "3.7.3"
    },
    "colab": {
      "name": "Phan_tich_ANOVA_1_yeu_to.ipynb",
      "provenance": [],
      "include_colab_link": true
    }
  },
  "nbformat": 4,
  "nbformat_minor": 0
}