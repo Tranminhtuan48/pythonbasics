{
  "nbformat": 4,
  "nbformat_minor": 0,
  "metadata": {
    "colab": {
      "name": "Untitled1.ipynb",
      "provenance": [],
      "authorship_tag": "ABX9TyNcGPOLFh2bt0cUATl0e+EH",
      "include_colab_link": true
    },
    "kernelspec": {
      "name": "python3",
      "display_name": "Python 3"
    },
    "language_info": {
      "name": "python"
    }
  },
  "cells": [
    {
      "cell_type": "markdown",
      "metadata": {
        "id": "view-in-github",
        "colab_type": "text"
      },
      "source": [
        "<a href=\"https://colab.research.google.com/github/Tranminhtuan48/pythonbasics/blob/main/github_colab.ipynb\" target=\"_parent\"><img src=\"https://colab.research.google.com/assets/colab-badge.svg\" alt=\"Open In Colab\"/></a>"
      ]
    },
    {
      "cell_type": "markdown",
      "metadata": {
        "id": "kdaWyCRYRuCU"
      },
      "source": [
        "\n",
        "Đây là chương trình đầu tiên"
      ]
    },
    {
      "cell_type": "code",
      "metadata": {
        "colab": {
          "base_uri": "https://localhost:8080/"
        },
        "id": "OiI2UIBmRs3c",
        "outputId": "5ec9743d-a29d-4abf-f0b9-f06cb7c7168f"
      },
      "source": [
        "In [1]:print(\"Hello Github & Colab\")"
      ],
      "execution_count": 3,
      "outputs": [
        {
          "output_type": "stream",
          "name": "stdout",
          "text": [
            "Hello Github & Colab\n"
          ]
        }
      ]
    }
  ]
}