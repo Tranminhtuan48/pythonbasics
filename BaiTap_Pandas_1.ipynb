{
  "nbformat": 4,
  "nbformat_minor": 0,
  "metadata": {
    "colab": {
      "name": "BaiTap_Pandas_1.ipynb",
      "provenance": [],
      "collapsed_sections": [],
      "include_colab_link": true
    },
    "kernelspec": {
      "name": "python3",
      "display_name": "Python 3"
    },
    "language_info": {
      "name": "python"
    }
  },
  "cells": [
    {
      "cell_type": "markdown",
      "metadata": {
        "id": "view-in-github",
        "colab_type": "text"
      },
      "source": [
        "<a href=\"https://colab.research.google.com/github/Tranminhtuan48/pythonbasics/blob/main/BaiTap_Pandas_1.ipynb\" target=\"_parent\"><img src=\"https://colab.research.google.com/assets/colab-badge.svg\" alt=\"Open In Colab\"/></a>"
      ]
    },
    {
      "cell_type": "code",
      "source": [
        "import pandas as pd\n",
        "import numpy as np"
      ],
      "metadata": {
        "id": "0gzRrIP2sjYc"
      },
      "execution_count": 1,
      "outputs": []
    },
    {
      "cell_type": "markdown",
      "source": [
        "Câu 1: Khởi tạo 1 Series với giá trị rỗng"
      ],
      "metadata": {
        "id": "WqQFoX_IsoI8"
      }
    },
    {
      "cell_type": "code",
      "source": [
        "empty_seri = pd.Series([])\n",
        "print(empty_seri)"
      ],
      "metadata": {
        "colab": {
          "base_uri": "https://localhost:8080/"
        },
        "id": "HKs-TrBQsp3D",
        "outputId": "8ecea475-59a3-4ee2-d871-d38139124df7"
      },
      "execution_count": 2,
      "outputs": [
        {
          "output_type": "stream",
          "name": "stdout",
          "text": [
            "Series([], dtype: float64)\n"
          ]
        },
        {
          "output_type": "stream",
          "name": "stderr",
          "text": [
            "/usr/local/lib/python3.7/dist-packages/ipykernel_launcher.py:1: DeprecationWarning: The default dtype for empty Series will be 'object' instead of 'float64' in a future version. Specify a dtype explicitly to silence this warning.\n",
            "  \"\"\"Entry point for launching an IPython kernel.\n"
          ]
        }
      ]
    },
    {
      "cell_type": "markdown",
      "source": [
        "Câu 2: Giả sử có 1 vector hàng a có kích thước (1x7) được biểu diễn trong NumPy, hãy tạo 1\n",
        "series tương ứng với các giá trị được sinh ngẫu nhiên."
      ],
      "metadata": {
        "id": "w40wzv2qwTGd"
      }
    },
    {
      "cell_type": "code",
      "source": [
        "vec_x = np.random.randint(0,30,7)\n",
        "print(\"Random Vector hàng: \",vec_x)\n",
        "\n",
        "seri_x = pd.Series(vec_x)\n",
        "print(\"Series tương ứng : \\n\",seri_x)"
      ],
      "metadata": {
        "colab": {
          "base_uri": "https://localhost:8080/"
        },
        "id": "AsTpohc9wW4i",
        "outputId": "c0af3d93-818c-44db-b839-ec22c2b0ab4c"
      },
      "execution_count": 3,
      "outputs": [
        {
          "output_type": "stream",
          "name": "stdout",
          "text": [
            "Random Vector hàng:  [12  1 14 24  6 22  3]\n",
            "Series tương ứng : \n",
            " 0    12\n",
            "1     1\n",
            "2    14\n",
            "3    24\n",
            "4     6\n",
            "5    22\n",
            "6     3\n",
            "dtype: int64\n"
          ]
        }
      ]
    },
    {
      "cell_type": "markdown",
      "source": [
        "Câu 3: Giả sử có 1 vector hàng a có kích thước (1x7), hãy nhập các giá trị cho 7 phần tử này từ\n",
        "bàn phím và tạo series tương ứng."
      ],
      "metadata": {
        "id": "3HXPXVA4xMY0"
      }
    },
    {
      "cell_type": "code",
      "source": [
        "vec_y = np.array([float(input(f\"Nhập phần tử {i+1}: \")) for i in range(7)])\n",
        "print(\"Vector sau khi nhập : \", vec_y)\n",
        "\n",
        "seri_y = pd.Series(vec_y)\n",
        "print(\"Series tương ứng : \\n\",seri_y)"
      ],
      "metadata": {
        "colab": {
          "base_uri": "https://localhost:8080/"
        },
        "id": "xtFuSNXIxNJr",
        "outputId": "b7d29224-b0cd-4ebd-da2f-3ec3630966bf"
      },
      "execution_count": 4,
      "outputs": [
        {
          "output_type": "stream",
          "name": "stdout",
          "text": [
            "Nhập phần tử 1: 3\n",
            "Nhập phần tử 2: 5\n",
            "Nhập phần tử 3: 6\n",
            "Nhập phần tử 4: 2\n",
            "Nhập phần tử 5: 4\n",
            "Nhập phần tử 6: 5\n",
            "Nhập phần tử 7: 8\n",
            "Vector sau khi nhập :  [3. 5. 6. 2. 4. 5. 8.]\n",
            "Series tương ứng : \n",
            " 0    3.0\n",
            "1    5.0\n",
            "2    6.0\n",
            "3    2.0\n",
            "4    4.0\n",
            "5    5.0\n",
            "6    8.0\n",
            "dtype: float64\n"
          ]
        }
      ]
    },
    {
      "cell_type": "markdown",
      "source": [
        "Câu 4: Giả sử có 1 vector cột có kích thước (7x1) được biểu diễn trong NumPy, hãy tạo Series\n",
        "tương ứng."
      ],
      "metadata": {
        "id": "XLlEHVT6x1cI"
      }
    },
    {
      "cell_type": "code",
      "source": [
        "vec_z = np.random.randint(0,30,(7,1))\n",
        "print(\"Random Vector cột : \\n\",vec_z)\n",
        "\n",
        "#series là dữ liệu 1 chiều nên ta reshape\n",
        "seri_z = pd.Series(vec_z.reshape(7,))\n",
        "print(\"Series tương ứng : \\n\",seri_z)"
      ],
      "metadata": {
        "colab": {
          "base_uri": "https://localhost:8080/"
        },
        "id": "6VIm_F_Xx3_4",
        "outputId": "95308005-6f1f-4ded-9c02-c5d1f3862598"
      },
      "execution_count": 5,
      "outputs": [
        {
          "output_type": "stream",
          "name": "stdout",
          "text": [
            "Random Vector cột : \n",
            " [[21]\n",
            " [13]\n",
            " [20]\n",
            " [19]\n",
            " [17]\n",
            " [23]\n",
            " [20]]\n",
            "Series tương ứng : \n",
            " 0    21\n",
            "1    13\n",
            "2    20\n",
            "3    19\n",
            "4    17\n",
            "5    23\n",
            "6    20\n",
            "dtype: int64\n"
          ]
        }
      ]
    },
    {
      "cell_type": "markdown",
      "source": [
        "Câu 5: Chuyển đổi dữ liệu, hãy thực hiện các yêu cầu sau:\n",
        "* Chuyển 1 list thành 1 series\n"
      ],
      "metadata": {
        "id": "N9crNnjlzBEA"
      }
    },
    {
      "cell_type": "code",
      "source": [
        "tem_list = [2,4,5,7,9]\n",
        "tem_series = pd.Series(tem_list)\n",
        "print(tem_series)"
      ],
      "metadata": {
        "colab": {
          "base_uri": "https://localhost:8080/"
        },
        "id": "GwKMIyxfzKkz",
        "outputId": "223a35b4-3814-482a-d41b-b931650ed67e"
      },
      "execution_count": 7,
      "outputs": [
        {
          "output_type": "stream",
          "name": "stdout",
          "text": [
            "0    2\n",
            "1    4\n",
            "2    5\n",
            "3    7\n",
            "4    9\n",
            "dtype: int64\n"
          ]
        }
      ]
    },
    {
      "cell_type": "markdown",
      "source": [
        "* Chuyển 1 tuple thành 1 series\n"
      ],
      "metadata": {
        "id": "qD3uFQ7WzONm"
      }
    },
    {
      "cell_type": "code",
      "source": [
        "oop_tuple = (\"a\",\"b\",\"c\",\"d\",\"e\")\n",
        "oop_series = pd.Series(oop_tuple)\n",
        "print(oop_series)"
      ],
      "metadata": {
        "colab": {
          "base_uri": "https://localhost:8080/"
        },
        "id": "X7jmvPxwzPsW",
        "outputId": "15006f97-d7df-4c8a-86e9-e12214dbde46"
      },
      "execution_count": 8,
      "outputs": [
        {
          "output_type": "stream",
          "name": "stdout",
          "text": [
            "0    a\n",
            "1    b\n",
            "2    c\n",
            "3    d\n",
            "4    e\n",
            "dtype: object\n"
          ]
        }
      ]
    },
    {
      "cell_type": "markdown",
      "source": [
        "* Chuyển 1 dictionary thành 1 series"
      ],
      "metadata": {
        "id": "o4XQgkz5zPzV"
      }
    },
    {
      "cell_type": "code",
      "source": [
        "tem_dict = {\n",
        "    \"gia trung\": 2000,\n",
        "    \"gia gao\": 5000,\n",
        "    \"gia thit\": 22000\n",
        "}\n",
        "tem_series = pd.Series(tem_dict)\n",
        "print(tem_series)"
      ],
      "metadata": {
        "colab": {
          "base_uri": "https://localhost:8080/"
        },
        "id": "4dLFTthBzQd3",
        "outputId": "daf3bd05-b763-42de-9881-30b755d7bf75"
      },
      "execution_count": 10,
      "outputs": [
        {
          "output_type": "stream",
          "name": "stdout",
          "text": [
            "gia trung     2000\n",
            "gia gao       5000\n",
            "gia thit     22000\n",
            "dtype: int64\n"
          ]
        }
      ]
    },
    {
      "cell_type": "markdown",
      "source": [
        "Câu 6: Mỗi phần tử của series đều gắn liền với các chỉ số (index) tương ứng, hãy tạo một series\n",
        "có kích thước (1x20) với giá trị ngẫu nhiên:\n",
        "* Xuất series ra màn hình\n",
        "* Xuất các chỉ số của series ra màn hình\n",
        "* Thay đổi cách đánh chỉ số mặc định của series từ đánh chỉ số bằng số nguyên sang các kiểu\n",
        "đánh chỉ số bằng label và in kết quả ra màn hình"
      ],
      "metadata": {
        "id": "g5Fb04Hb0EDY"
      }
    },
    {
      "cell_type": "code",
      "source": [
        "tem_series = pd.Series(np.random.randint(0,30, 20))\n",
        "print(tem_series)"
      ],
      "metadata": {
        "id": "dl9uifZD0YwE",
        "colab": {
          "base_uri": "https://localhost:8080/"
        },
        "outputId": "58ae8781-39d6-45b4-ce72-5837ffa4c5cb"
      },
      "execution_count": 11,
      "outputs": [
        {
          "output_type": "stream",
          "name": "stdout",
          "text": [
            "0     20\n",
            "1     15\n",
            "2     10\n",
            "3     23\n",
            "4     17\n",
            "5      7\n",
            "6     21\n",
            "7      5\n",
            "8      7\n",
            "9      5\n",
            "10    20\n",
            "11     8\n",
            "12    15\n",
            "13     6\n",
            "14     0\n",
            "15     0\n",
            "16    26\n",
            "17     3\n",
            "18    25\n",
            "19    16\n",
            "dtype: int64\n"
          ]
        }
      ]
    },
    {
      "cell_type": "code",
      "source": [
        "print(tem_series.index)"
      ],
      "metadata": {
        "id": "7i5VlXDt0pUP",
        "colab": {
          "base_uri": "https://localhost:8080/"
        },
        "outputId": "70dd44a7-8c76-4627-a022-4240857f9350"
      },
      "execution_count": 12,
      "outputs": [
        {
          "output_type": "stream",
          "name": "stdout",
          "text": [
            "RangeIndex(start=0, stop=20, step=1)\n"
          ]
        }
      ]
    },
    {
      "cell_type": "code",
      "source": [
        "import string\n",
        "label_list = [i for i in string.ascii_lowercase] \n",
        "\n",
        "tem_series.index = label_list[: 20]\n",
        "tem_series"
      ],
      "metadata": {
        "id": "nKYu69fEZS7J",
        "colab": {
          "base_uri": "https://localhost:8080/"
        },
        "outputId": "af6fe772-b530-4f79-a1ad-e328569321dd"
      },
      "execution_count": 14,
      "outputs": [
        {
          "output_type": "execute_result",
          "data": {
            "text/plain": [
              "a    20\n",
              "b    15\n",
              "c    10\n",
              "d    23\n",
              "e    17\n",
              "f     7\n",
              "g    21\n",
              "h     5\n",
              "i     7\n",
              "j     5\n",
              "k    20\n",
              "l     8\n",
              "m    15\n",
              "n     6\n",
              "o     0\n",
              "p     0\n",
              "q    26\n",
              "r     3\n",
              "s    25\n",
              "t    16\n",
              "dtype: int64"
            ]
          },
          "metadata": {},
          "execution_count": 14
        }
      ]
    },
    {
      "cell_type": "markdown",
      "source": [
        "Câu 7: Giả sử có series có kích thước (1x10), giá trị ngẫu nhiên, index được đánh từ ‘a’ trở đi,\n",
        "hãy:\n",
        "* Trích xuất các phần tử của Series có chỉ số là ‘a’, ‘c’, ‘e’\n",
        "* Trích xuất các phần tử của Series có chỉ số từ 3 đến 6"
      ],
      "metadata": {
        "id": "p152GZFHZIzR"
      }
    },
    {
      "cell_type": "code",
      "source": [
        "tem_series = pd.Series(np.random.randint(0,30,10), index = label_list[:10])\n",
        "tem_series\n",
        "print(\"a: \",tem_series.loc['a'])\n",
        "print(\"c: \",tem_series.loc['c'])\n",
        "print(\"e: \",tem_series.loc['e'])"
      ],
      "metadata": {
        "colab": {
          "base_uri": "https://localhost:8080/"
        },
        "id": "vb-gFHCGZhLP",
        "outputId": "dd7a9f21-e9a7-46e8-ded2-fb4536316c43"
      },
      "execution_count": 18,
      "outputs": [
        {
          "output_type": "stream",
          "name": "stdout",
          "text": [
            "a:  23\n",
            "c:  24\n",
            "e:  3\n"
          ]
        }
      ]
    },
    {
      "cell_type": "code",
      "source": [
        "print(\"phần từ có chỉ số từ 3 đến 6: \\n\", tem_series.iloc[3:7])"
      ],
      "metadata": {
        "colab": {
          "base_uri": "https://localhost:8080/"
        },
        "id": "mOS1tu0qaOPm",
        "outputId": "5c8a196f-8873-4a54-ca42-1b78636719e3"
      },
      "execution_count": 19,
      "outputs": [
        {
          "output_type": "stream",
          "name": "stdout",
          "text": [
            "phần từ có chỉ số từ 3 đến 6: \n",
            " d    27\n",
            "e     3\n",
            "f    15\n",
            "g     8\n",
            "dtype: int64\n"
          ]
        }
      ]
    }
  ]
}