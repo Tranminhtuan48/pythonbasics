{
  "nbformat": 4,
  "nbformat_minor": 0,
  "metadata": {
    "colab": {
      "provenance": [],
      "authorship_tag": "ABX9TyOtlrpl+bhmcLy2ks519v3T",
      "include_colab_link": true
    },
    "kernelspec": {
      "name": "python3",
      "display_name": "Python 3"
    },
    "language_info": {
      "name": "python"
    }
  },
  "cells": [
    {
      "cell_type": "markdown",
      "metadata": {
        "id": "view-in-github",
        "colab_type": "text"
      },
      "source": [
        "<a href=\"https://colab.research.google.com/github/Tranminhtuan48/pythonbasics/blob/main/H%E1%BB%93i_quy_tuy%E1%BA%BFn_t%C3%ADnh_%C4%91%C6%A1n_bi%E1%BA%BFn_%C4%90%E1%BB%8Dc_d%E1%BB%AF_li%E1%BB%87u_t%E1%BB%AB_t%E1%BA%ADp_tin.ipynb\" target=\"_parent\"><img src=\"https://colab.research.google.com/assets/colab-badge.svg\" alt=\"Open In Colab\"/></a>"
      ]
    },
    {
      "cell_type": "code",
      "execution_count": 1,
      "metadata": {
        "id": "F7W9p0-OqZS3"
      },
      "outputs": [],
      "source": [
        "import os\n",
        "import numpy as np\n",
        "import matplotlib.pyplot as plt"
      ]
    },
    {
      "cell_type": "code",
      "source": [
        "def readData(folder , filename):\n",
        "  data = np.loadtxt(os.path.join(folder, filename), delimiter = ',')\n",
        "  X = data[:, 0]\n",
        "  y = data[:, -1]\n",
        "  one = np.ones((X.shape[0], 1))\n",
        "  X = np.concatenate((one, X.reshape(X.shape[0], 1)), axis = 1)\n",
        "  return X, y"
      ],
      "metadata": {
        "id": "gCTWRJaAqtid"
      },
      "execution_count": 2,
      "outputs": []
    },
    {
      "cell_type": "code",
      "source": [
        "def calculateLoss(X, y, w):\n",
        "  h = np.dot(X, w)\n",
        "  m = X.shape[0]\n",
        "  J = (1/ (2*m)) * np.sum(np.square(h-y))\n",
        "  return J"
      ],
      "metadata": {
        "id": "6aLv29C_rI5z"
      },
      "execution_count": null,
      "outputs": []
    },
    {
      "cell_type": "code",
      "source": [
        "def gradientDescent(X, y, w, alpha, n = 1500):\n",
        "  m = X.shape[0]\n",
        "  w_optimal = []\n",
        "  loss_values = []\n",
        "  for i in range(n):\n",
        "    w = w - (alpha/m) * (np.dot(X, w) - y ).dot(X)\n",
        "    j = calculateLoss(X, y, w)\n",
        "    w_optimal.append(w)\n",
        "    loss_values.append(j)\n",
        "  return w_optimal, loss_values"
      ],
      "metadata": {
        "id": "pireLQUyrsUM"
      },
      "execution_count": null,
      "outputs": []
    },
    {
      "cell_type": "code",
      "source": [
        "def visualizeModel(X, y, w):\n",
        "    plt.scatter(X[:, -1], y, color = \"red\")\n",
        "    plt.plot(X[:, -1], w[0] + w[1] * X[:, -1], color = \"blue\")\n",
        "    plt.title(\"Simple Linear Regression\")\n",
        "    plt.show()"
      ],
      "metadata": {
        "id": "yj5HaX3Dr0m4"
      },
      "execution_count": null,
      "outputs": []
    }
  ]
}