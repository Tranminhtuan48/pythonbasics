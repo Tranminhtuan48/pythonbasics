{
  "nbformat": 4,
  "nbformat_minor": 0,
  "metadata": {
    "colab": {
      "name": "5/10(1).ipynb",
      "provenance": [],
      "authorship_tag": "ABX9TyOhKY8tpqvsXtdRJPiMbxOs",
      "include_colab_link": true
    },
    "kernelspec": {
      "display_name": "Python 3",
      "name": "python3"
    },
    "language_info": {
      "name": "python"
    }
  },
  "cells": [
    {
      "cell_type": "markdown",
      "metadata": {
        "id": "view-in-github",
        "colab_type": "text"
      },
      "source": [
        "<a href=\"https://colab.research.google.com/github/Tranminhtuan48/pythonbasics/blob/main/If%26else(1).ipynb\" target=\"_parent\"><img src=\"https://colab.research.google.com/assets/colab-badge.svg\" alt=\"Open In Colab\"/></a>"
      ]
    },
    {
      "cell_type": "code",
      "metadata": {
        "colab": {
          "base_uri": "https://localhost:8080/"
        },
        "id": "Z4FSarviCEYE",
        "outputId": "5e66d4f9-2361-48cc-aadb-518b90033e3d"
      },
      "source": [
        "so = float(input(\"Nhap so cua ban: \"))\n",
        "if so<0:\n",
        "  print(\"So Am\")\n",
        "else:\n",
        "  print(\"So Duong\")"
      ],
      "execution_count": null,
      "outputs": [
        {
          "output_type": "stream",
          "name": "stdout",
          "text": [
            "Nhap so cua ban: 35\n",
            "So Duong\n"
          ]
        }
      ]
    },
    {
      "cell_type": "code",
      "metadata": {
        "colab": {
          "base_uri": "https://localhost:8080/"
        },
        "id": "yC7i1agXEBGL",
        "outputId": "f845d31e-0392-4284-9d64-ce705648b948"
      },
      "source": [
        "k1= float(input(\"Nhap so 1 cua ban: \"))\n",
        "k2= float(input(\"Nhap so 2 cua ban: \"))\n",
        "k3= float(input(\"Nhap so 3 cua ban: \"))\n",
        "if (k1>k2) and (k2>k3):\n",
        "  print(\"So lon nhat la: \",k1)\n",
        "  if (k2>k1) and (k1>k3):\n",
        "    print(\"So lon nhat la: \",k2)\n",
        "else:\n",
        "    print(\"So lon nhat la:\", k3)"
      ],
      "execution_count": null,
      "outputs": [
        {
          "output_type": "stream",
          "name": "stdout",
          "text": [
            "Nhap so 1 cua ban: 25\n",
            "Nhap so 2 cua ban: 78\n",
            "Nhap so 3 cua ban: 87\n",
            "So lon nhat la: 87.0\n"
          ]
        }
      ]
    },
    {
      "cell_type": "code",
      "metadata": {
        "colab": {
          "base_uri": "https://localhost:8080/"
        },
        "id": "G7WMAr2flPfC",
        "outputId": "af6fb782-cad7-4d69-912f-0226308e4b7a"
      },
      "source": [
        "num= float(input(\"So cua ban la: \"))\n",
        "k=\"\"\n",
        "if (num >0):\n",
        "  k=\"Positive number\"\n",
        "elif (num <0):\n",
        "  k=\"Negative number\"\n",
        "else:\n",
        "  print (\"Zero\")\n",
        "\n",
        "if (abs(num)> 1000000):\n",
        "  k= (\"Large \")+k\n",
        "if (abs(num) < 1):\n",
        "  k= (\"Small \")+k\n",
        "print(k)"
      ],
      "execution_count": 33,
      "outputs": [
        {
          "output_type": "stream",
          "name": "stdout",
          "text": [
            "So cua ban la: 0.4577\n",
            "Small Positive number\n"
          ]
        }
      ]
    },
    {
      "cell_type": "code",
      "metadata": {
        "colab": {
          "base_uri": "https://localhost:8080/"
        },
        "id": "rP4ioF3Xr2Ll",
        "outputId": "5b08bf87-765b-4ffb-ef41-64a01642445a"
      },
      "source": [
        "import math\n",
        "ngay = int(input(\"Hay nhap so ngay: \"))\n",
        "ngay = (abs(ngay)% 7)+1\n",
        "if ngay==1:\n",
        "  print(\"Thu hai\")\n",
        "elif ngay==2:\n",
        "  print(\"Thu ba\")\n",
        "elif ngay==3:\n",
        "  print(\"Thu tu\")\n",
        "elif ngay==5:\n",
        "  print(\"Thu sau\")\n",
        "elif ngay==6:\n",
        "  print(\"Thu bay\")\n",
        "elif ngay==7:\n",
        "  print(\"Chu nhat\")\n",
        "else: print(\"Hay nhap so ngay: \")"
      ],
      "execution_count": 36,
      "outputs": [
        {
          "output_type": "stream",
          "name": "stdout",
          "text": [
            "Hay nhap so ngay: 25\n",
            "Thu sau\n"
          ]
        }
      ]
    },
    {
      "cell_type": "code",
      "metadata": {
        "colab": {
          "base_uri": "https://localhost:8080/"
        },
        "id": "YH28snMVtujg",
        "outputId": "14d1a2ea-5506-4701-ffde-60481c6241e8"
      },
      "source": [
        "r=float(input(\"Nhap so dau tien:\"))\n",
        "r=round(r,3)\n",
        "print(r)\n",
        "q=float(input(\"Nhap so thu hai:\"))\n",
        "q=round(q,3)\n",
        "print(q)\n",
        "\n",
        "if (r==q):\n",
        "  print(\"hai so giong nhau\")\n",
        "else:\n",
        "  print(\"hai so khac nhau\")"
      ],
      "execution_count": 55,
      "outputs": [
        {
          "output_type": "stream",
          "name": "stdout",
          "text": [
            "Nhap so dau tien:1.43325\n",
            "1.433\n",
            "Nhap so thu hai:1.2352353\n",
            "1.235\n",
            "hai so khac nhau\n"
          ]
        }
      ]
    }
  ]
}