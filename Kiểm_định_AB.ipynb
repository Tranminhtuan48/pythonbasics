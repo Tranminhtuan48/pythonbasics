{
  "nbformat": 4,
  "nbformat_minor": 0,
  "metadata": {
    "colab": {
      "name": "Kiểm định AB.ipynb",
      "provenance": [],
      "include_colab_link": true
    },
    "kernelspec": {
      "name": "python3",
      "display_name": "Python 3"
    },
    "language_info": {
      "name": "python"
    }
  },
  "cells": [
    {
      "cell_type": "markdown",
      "metadata": {
        "id": "view-in-github",
        "colab_type": "text"
      },
      "source": [
        "<a href=\"https://colab.research.google.com/github/Tranminhtuan48/pythonbasics/blob/main/Ki%E1%BB%83m_%C4%91%E1%BB%8Bnh_AB.ipynb\" target=\"_parent\"><img src=\"https://colab.research.google.com/assets/colab-badge.svg\" alt=\"Open In Colab\"/></a>"
      ]
    },
    {
      "cell_type": "markdown",
      "source": [
        "**BÀI TẬP TỰ HỌC VỀ KIỂM ĐỊNH A/B**\n",
        "\n",
        "Sinh viên sử dụng tài liệu tham khảo \"Practical Statistics...\", Chương 3 để hoàn thành các yêu cầu sau."
      ],
      "metadata": {
        "id": "fw49i_jmb7ZK"
      }
    },
    {
      "cell_type": "markdown",
      "source": [
        "**Câu 1**: Trả lời các câu hỏi lý thuyết sau:\n",
        "\n",
        "\n",
        "1.   Kiểm định A/B là gì?\n",
        "2.   Thuật ngữ treatment trong ngữ cảnh của thống kê có thể dịch sang tiếng Việt không? nếu có thì là gì?\n",
        "3.   Nêu định nghĩa về treatment\n",
        "4.   Control group là gì? vai trò trong thí nghiệm của kiểm định A/B?\n",
        "5.   Treament group là gì? vai trò trong thí nghiệm của kiểm định A/B?\n",
        "6.   Hãy liệt kê một số kiểm định A/B trong thực tế?\n",
        "\n"
      ],
      "metadata": {
        "id": "EBsgDMSRcVy9"
      }
    },
    {
      "cell_type": "markdown",
      "source": [
        "Trả lời tại đây\n",
        "\n",
        "1.Kiểm định A/B là một thử nghiệm với hai nhóm để xác định nhóm nào trong hai phương pháp, sản phẩm, quy trình hoặc tương tự ưu việt hơn. Thông thường một trong hai phương pháp sẽ là phương pháp tiêu chuẩn hiện có, hoặc không có phương pháp nào. Nếu một phương pháp tiêu chuẩn (hoặc không) được sử dụng, nó được gọi là phương pháp kiểm soát. Giả thuyết điển hình sẽ được đưa ra khi một phương pháp mới tốt hơn phương pháp kiểm soát.\n",
        "\n",
        "2.Treatment (trong thống kê) có nghĩa là giải pháp.\n",
        "\n",
        "3.Treatment được định nghĩa là sự kết hợp các mức độ yếu tố hay các giá trị khác nhau của một biến trong một thử nghiệm.\n",
        "\n",
        "4.Control group hay nhóm đối chứng là nhóm không nhận được những thay đổi gì mới khi tham gia thí nghiệm (nhóm cơ sở).\n",
        "  * Vai trò: nhóm đối chứng được sử dụng để thiết lập mối quan hệ nguyên nhân và kết quả bằng cách cô lập tác động của một biến độc lập. Việc sử dụng nhóm kiểm soát đồng nghĩa bất kỳ thay đổi nào trong biến phụ thuộc đều có thể được quy cho biến độc lập.\n",
        "\n",
        "5.Treament group là nhóm xử lý (đôi khi được gọi là Nhóm thực nghiệm ) là nhóm nhận được một phương pháp xử lý trong một thử nghiệm. “Nhóm” bao gồm các đối tượng thử nghiệm và “phương pháp xử lý” là biến số mà ta đang nghiên cứu.\n",
        "  * Vai trò: nhóm thực nghiệm có nhiệm vụ nhận được phương pháp xử lý mà ta đặt ra và quan tâm đến tác dụng của nó.\n",
        "\n",
        "6.Ví dụ:\n",
        "  * Ta muốn chứng minh rằng việc bọc thịt sẽ ngăn không cho giòi nở ra. Ta cho thịt vào hai lọ khác nhau: một lọ có nắp và một lọ để hở. Hũ có nắp là nhóm thí nghiệm; bình để mở là nhóm điều khiển. (thí nghiệm Redi ).\n",
        "  * Ta đang thử nghiệm để xem liệu một loại phân bón mới có làm tăng kích thước hoa hướng dương hay không. Ta đặt 20 cây có cùng chiều cao và căng thẳng vào một vị trí mà tất cả các cây đều nhận được lượng nước và ánh sáng mặt trời như nhau. Một nửa số cây - nhóm đối chứng - được bón phân thường xuyên. Một nửa số cây còn lại - nhóm thí nghiệm - lấy loại phân bón mà ta đang thử nghiệm."
      ],
      "metadata": {
        "id": "NJmyUuh0dwh-"
      }
    },
    {
      "cell_type": "markdown",
      "source": [
        "**Câu 2**: Tại sao không có kiểm định A/B/C/D?\n",
        "\n",
        "\n",
        "Trả lời tại đây:"
      ],
      "metadata": {
        "id": "Ghp_lniLedz8"
      }
    },
    {
      "cell_type": "markdown",
      "source": [
        "**Câu 3**: Lý thuyết về kiểm định giả thuyết. Trả lời các câu hỏi sau:\n",
        "\n",
        "\n",
        "1.   Nêu định nghĩa về kiểm định giả thuyết\n",
        "2.   Giả thuyết null là gì? cho ví dụ\n",
        "3.   Giả thuyết thay thế là gì? cho ví dụ\n",
        "4.   Kiểm định 1 chiều (hay 1 đuôi) là gì? cho ví dụ\n",
        "5.   Kiểm định 2 chiều (hay 2 đuôi) là gì?cho ví dụ\n",
        "6.   Nêu điểm khác biệt giữa kiểm định 1 chiều so với kiểm định 2 chiều?\n",
        "\n"
      ],
      "metadata": {
        "id": "4bRj6dX8fQKu"
      }
    },
    {
      "cell_type": "markdown",
      "source": [
        "Trả lời tại đây\n",
        "\n",
        "1. Kiểm định giả thuyết hay kiểm định ý nghĩa, là phương pháp phổ biến trong phân tích thống kê truyền thống. Kiểm định giả thuyết được sử dụng để đánh giá tính hợp lý của giả thuyết bằng cách sử dụng dữ liệu mẫu.\n",
        "2. Giả thuyết rỗng (hay vô hiệu) là một loại phỏng đoán trong thống kê đề xuất rằng không có sự khác biệt giữa các đặc điểm nhất định của một quần thể hoặc quá trình tạo dữ liệu. ( Hoặc không tồn tại ý nghĩa thống kê trong một tập hợp các dữ liệu đã cho)\n",
        "\n",
        "  Giả thuyết vô hiệu chỉ có thể bị bác bỏ, không được chứng minh.\n",
        "  * VD: Hiệu trưởng một trường học tuyên bố rằng học sinh trong trường của cô ấy đạt điểm trung bình là 7 trên 10 trong các kỳ thi. Vậy giả thuyết vô hiệu là trung bình dân số là 7,0.\n",
        "3. Giả thuyết thay thế đề xuất rằng có sự khác biệt so với gải thuyết rỗng.\n",
        "  * VD: Lấy ví dụ ở trên, giả thuyết thay thế sẽ là:\n",
        "\n",
        "    - Học sinh đạt điểm trung bình  không  bằng 7.\n",
        "4. Kiểm định 1 chiều (1 đuôi) là kiểm định giả thuyết thống kê được thiết lập để chỉ ra rằng trung bình mẫu sẽ cao hơn hoặc thấp hơn trung bình tổng thể (chỉ một trong hai).\n",
        "5. Kiểm tra 2 chiều (2 đuôi) là phương pháp trong đó vùng tới hạn của phân bố là hai phía và kiểm tra xem một mẫu lớn hơn hay nhỏ hơn một dải giá trị.\n",
        "Kiểm tra 2 đuôi được sử dụng trong kiểm tra giả thuyết không và kiểm tra ý nghĩa thống kê.\n",
        "6. Kiểm định hai \bchiều sử dụng để cho biết giá trị trung bình của mẫu có lớn hơn và nhỏ hơn đáng kể so với giá trị trung bình của một tổng thể hay không. Kiểm định một đuôi được sử dụng để chỉ ra rằng trung bình mẫu sẽ cao hơn hoặc thấp hơn trung bình tổng thể."
      ],
      "metadata": {
        "id": "xZHLM-16guTL"
      }
    },
    {
      "cell_type": "markdown",
      "source": [
        "**Câu 4**: Lý thuyết về lấy mẫu (sampling). \n",
        "\n",
        "\n",
        "1.   Sampling là gì? cho ví dụ\n",
        "2.   Resampling là gì? cho ví dụ?\n",
        "3.   Hãy mô tả kỹ thuật permutation (hoặc quy trình của permutation test)? Xây dựng đoạn code lập trình permutation test\n",
        "\n",
        "\n"
      ],
      "metadata": {
        "id": "jpcORdODhElp"
      }
    },
    {
      "cell_type": "markdown",
      "source": [
        "1. Sampling là quá trình lấy mẫu hay lấy một lượng cá thể từ một quần thể nhất định bằng các phương pháp bao gồm lấy mẫu ngẫu nhiên, lấy mẫu khối, lấy mẫu phán đoán và lấy mẫu hệ thống.\n",
        "2. Resampling là phương pháp sử dụng một cách hợp lý dữ liệu mẫu để cải thiện độ chính xác và kiểm tra độ không đảm bảo của một tham số tổng thể.\n",
        "3. Kiểm tra hoán vị (hay gọi là kiểm tra chính xác, kiểm tra ngẫu nhiên hoặc kiểm tra lại ngẫu nhiên) là quy trình kiểm tra phi tham số để kiểm tra giả thuyết rỗng rằng hai nhóm khác nhau đến từ cùng một phân phối."
      ],
      "metadata": {
        "id": "HyDM-nFEiLW9"
      }
    },
    {
      "cell_type": "code",
      "execution_count": 1,
      "metadata": {
        "id": "AQEZUA1Eb1Fq",
        "outputId": "20f4a33e-d49a-4b0f-d504-1bcea9ee9e77",
        "colab": {
          "base_uri": "https://localhost:8080/"
        }
      },
      "outputs": [
        {
          "output_type": "stream",
          "name": "stdout",
          "text": [
            "0.0066\n"
          ]
        }
      ],
      "source": [
        "#Kiểm tra ngẫu nhiên hai phía\n",
        "treatment = [ 28.44,  29.32,  31.22,  29.58,  30.34,  28.76,  29.21,  30.4 ,\n",
        "              31.12,  31.78,  27.58,  31.57,  30.73,  30.43,  30.31,  30.32,\n",
        "              29.18,  29.52,  29.22,  30.56]\n",
        "control = [ 33.51,  30.63,  32.38,  32.52,  29.41,  30.93,  49.78,  28.96,\n",
        "            35.77,  31.42,  30.76,  30.6 ,  23.64,  30.54,  47.78,  31.98,\n",
        "            34.52,  32.42,  31.32,  40.72]\n",
        "from mlxtend.evaluate import permutation_test\n",
        "\n",
        "p_value = permutation_test(treatment, control,\n",
        "                           method='approximate',\n",
        "                           num_rounds=10000,\n",
        "                           seed=0)\n",
        "print(p_value)\n",
        "#0.0066993300669933005\n",
        "#Vì p-value <alpha, chúng ta có thể bác bỏ giả thuyết rỗng rằng hai mẫu đến từ cùng một phân phối."
      ]
    }
  ]
}