{
  "nbformat": 4,
  "nbformat_minor": 0,
  "metadata": {
    "colab": {
      "name": "BaiTap_NumPy_4.ipynb",
      "provenance": [],
      "collapsed_sections": [],
      "include_colab_link": true
    },
    "kernelspec": {
      "name": "python3",
      "display_name": "Python 3"
    },
    "language_info": {
      "name": "python"
    }
  },
  "cells": [
    {
      "cell_type": "markdown",
      "metadata": {
        "id": "view-in-github",
        "colab_type": "text"
      },
      "source": [
        "<a href=\"https://colab.research.google.com/github/Tranminhtuan48/pythonbasics/blob/main/BaiTap_NumPy_4.ipynb\" target=\"_parent\"><img src=\"https://colab.research.google.com/assets/colab-badge.svg\" alt=\"Open In Colab\"/></a>"
      ]
    },
    {
      "cell_type": "code",
      "source": [
        "import numpy as np"
      ],
      "metadata": {
        "id": "ldzht1asCxs4"
      },
      "execution_count": 2,
      "outputs": []
    },
    {
      "cell_type": "markdown",
      "source": [
        "Câu 1: Sử dụng thư viện Numpy, hãy tạo một vector a có 7 chiều (tương ứng 7 phần tử) với giá\n",
        "trị các phần tử được sinh bằng hàm (kết quả xuất ra màn hình):\n",
        "- np.arrange()\n",
        "- np.linspace()\n",
        "- np.logspace()\n",
        "- np.random.rand()"
      ],
      "metadata": {
        "id": "BhwBfwUiCajx"
      }
    },
    {
      "cell_type": "code",
      "source": [
        "def infor(vec_x):\n",
        "  print(\"Vector x: \",vec_x)\n",
        "  print(\"Số chiều của x: \", vec_x.ndim)\n",
        "  print(\"Kích thước của x: \", vec_x.shape)\n",
        "  print(\"Vector chuyển vị của x: \\n\", vec_x.T)\n",
        "  print(\"Số chiều của vector chuyển vị của x: \", (vec_x.T).ndim)\n",
        "  print(\"Kích thước của chuyển vị của x: \", vec_x.T.shape)"
      ],
      "metadata": {
        "id": "EXQnWwNZFphY"
      },
      "execution_count": 9,
      "outputs": []
    },
    {
      "cell_type": "code",
      "source": [
        "#np.arange():\n",
        "vec_a = np.arange(0,7,1)\n",
        "infor(vec_a)\n",
        "#np.linspace():\n",
        "vec_b = np.linspace(0,10,num = 7)\n",
        "infor(vec_b)\n",
        "#np.logspace():\n",
        "vec_c = np.logspace(1,2, num = 7)\n",
        "infor(vec_c)\n",
        "#np.random.rand():\n",
        "vec_d = np.random.rand(7)\n",
        "infor(vec_d)"
      ],
      "metadata": {
        "colab": {
          "base_uri": "https://localhost:8080/"
        },
        "id": "kbt8dANwC0og",
        "outputId": "b5ec0e1e-8340-4e49-f244-86318fa18b25"
      },
      "execution_count": 10,
      "outputs": [
        {
          "output_type": "stream",
          "name": "stdout",
          "text": [
            "Vector x:  [0 1 2 3 4 5 6]\n",
            "Số chiều của x:  1\n",
            "Kích thước của x:  (7,)\n",
            "Vector chuyển vị của x: \n",
            " [0 1 2 3 4 5 6]\n",
            "Số chiều của vector chuyển vị của x:  1\n",
            "Kích thước của chuyển vị của x:  (7,)\n",
            "Vector x:  [ 0.          1.66666667  3.33333333  5.          6.66666667  8.33333333\n",
            " 10.        ]\n",
            "Số chiều của x:  1\n",
            "Kích thước của x:  (7,)\n",
            "Vector chuyển vị của x: \n",
            " [ 0.          1.66666667  3.33333333  5.          6.66666667  8.33333333\n",
            " 10.        ]\n",
            "Số chiều của vector chuyển vị của x:  1\n",
            "Kích thước của chuyển vị của x:  (7,)\n",
            "Vector x:  [ 10.          14.67799268  21.5443469   31.6227766   46.41588834\n",
            "  68.12920691 100.        ]\n",
            "Số chiều của x:  1\n",
            "Kích thước của x:  (7,)\n",
            "Vector chuyển vị của x: \n",
            " [ 10.          14.67799268  21.5443469   31.6227766   46.41588834\n",
            "  68.12920691 100.        ]\n",
            "Số chiều của vector chuyển vị của x:  1\n",
            "Kích thước của chuyển vị của x:  (7,)\n",
            "Vector x:  [0.83888905 0.83655119 0.22457301 0.20148113 0.89136374 0.50913822\n",
            " 0.705051  ]\n",
            "Số chiều của x:  1\n",
            "Kích thước của x:  (7,)\n",
            "Vector chuyển vị của x: \n",
            " [0.83888905 0.83655119 0.22457301 0.20148113 0.89136374 0.50913822\n",
            " 0.705051  ]\n",
            "Số chiều của vector chuyển vị của x:  1\n",
            "Kích thước của chuyển vị của x:  (7,)\n"
          ]
        }
      ]
    },
    {
      "cell_type": "markdown",
      "source": [
        "Câu 2: Sử dụng thư viện Numpy, hãy tạo ra ma trận A10x7 với giá trị các phần tử của ma trận A\n",
        "được sinh bởi:\n",
        "- np.arrange()\n",
        "- np.linspace()\n",
        "- np.logspace()\n",
        "- np.random.rand()"
      ],
      "metadata": {
        "id": "W_esmI7VNUaW"
      }
    },
    {
      "cell_type": "code",
      "source": [
        "def OpR(matrix_x):\n",
        "  print(\"Ma trận x: \\n\", matrix_x)\n",
        "  print(\"Số chiều của x: \", matrix_x.ndim)\n",
        "  print(\"Ma trận chuyển vị của x: \\n\", matrix_x.T)\n",
        "  print(\"Số chiều của chuyển vị của x: \", (matrix_x.T).ndim)\n",
        "  print(\"Kích thước của chuyển vị của x: \", (matrix_x.T).shape)"
      ],
      "metadata": {
        "id": "fW7Mm6RA49wZ"
      },
      "execution_count": 16,
      "outputs": []
    },
    {
      "cell_type": "code",
      "source": [
        "#np.arrange()\n",
        "matrix_x = np.arange(0,70,1).reshape(10,7)\n",
        "OpR(matrix_x)"
      ],
      "metadata": {
        "colab": {
          "base_uri": "https://localhost:8080/"
        },
        "id": "Jn_6xWn25xia",
        "outputId": "6f0e43e2-64dc-4660-aeb7-73fdde6641e5"
      },
      "execution_count": 18,
      "outputs": [
        {
          "output_type": "stream",
          "name": "stdout",
          "text": [
            "Ma trận x: \n",
            " [[ 0  1  2  3  4  5  6]\n",
            " [ 7  8  9 10 11 12 13]\n",
            " [14 15 16 17 18 19 20]\n",
            " [21 22 23 24 25 26 27]\n",
            " [28 29 30 31 32 33 34]\n",
            " [35 36 37 38 39 40 41]\n",
            " [42 43 44 45 46 47 48]\n",
            " [49 50 51 52 53 54 55]\n",
            " [56 57 58 59 60 61 62]\n",
            " [63 64 65 66 67 68 69]]\n",
            "Số chiều của x:  2\n",
            "Ma trận chuyển vị của x: \n",
            " [[ 0  7 14 21 28 35 42 49 56 63]\n",
            " [ 1  8 15 22 29 36 43 50 57 64]\n",
            " [ 2  9 16 23 30 37 44 51 58 65]\n",
            " [ 3 10 17 24 31 38 45 52 59 66]\n",
            " [ 4 11 18 25 32 39 46 53 60 67]\n",
            " [ 5 12 19 26 33 40 47 54 61 68]\n",
            " [ 6 13 20 27 34 41 48 55 62 69]]\n",
            "Số chiều của chuyển vị của x:  2\n",
            "Kích thước của chuyển vị của x:  (7, 10)\n"
          ]
        }
      ]
    },
    {
      "cell_type": "code",
      "source": [
        "#np.linspace():\n",
        "matrix_x = np.linspace((1,1,1,1,1,1,1),(100,100,100,100,100,100,100),10)\n",
        "OpR(matrix_x)"
      ],
      "metadata": {
        "colab": {
          "base_uri": "https://localhost:8080/"
        },
        "id": "kGr6fyRf6HpG",
        "outputId": "3aa6dfb3-0e29-4203-99a3-83c8d3d3e7d7"
      },
      "execution_count": 19,
      "outputs": [
        {
          "output_type": "stream",
          "name": "stdout",
          "text": [
            "Ma trận x: \n",
            " [[  1.   1.   1.   1.   1.   1.   1.]\n",
            " [ 12.  12.  12.  12.  12.  12.  12.]\n",
            " [ 23.  23.  23.  23.  23.  23.  23.]\n",
            " [ 34.  34.  34.  34.  34.  34.  34.]\n",
            " [ 45.  45.  45.  45.  45.  45.  45.]\n",
            " [ 56.  56.  56.  56.  56.  56.  56.]\n",
            " [ 67.  67.  67.  67.  67.  67.  67.]\n",
            " [ 78.  78.  78.  78.  78.  78.  78.]\n",
            " [ 89.  89.  89.  89.  89.  89.  89.]\n",
            " [100. 100. 100. 100. 100. 100. 100.]]\n",
            "Số chiều của x:  2\n",
            "Ma trận chuyển vị của x: \n",
            " [[  1.  12.  23.  34.  45.  56.  67.  78.  89. 100.]\n",
            " [  1.  12.  23.  34.  45.  56.  67.  78.  89. 100.]\n",
            " [  1.  12.  23.  34.  45.  56.  67.  78.  89. 100.]\n",
            " [  1.  12.  23.  34.  45.  56.  67.  78.  89. 100.]\n",
            " [  1.  12.  23.  34.  45.  56.  67.  78.  89. 100.]\n",
            " [  1.  12.  23.  34.  45.  56.  67.  78.  89. 100.]\n",
            " [  1.  12.  23.  34.  45.  56.  67.  78.  89. 100.]]\n",
            "Số chiều của chuyển vị của x:  2\n",
            "Kích thước của chuyển vị của x:  (7, 10)\n"
          ]
        }
      ]
    },
    {
      "cell_type": "code",
      "source": [
        "#np.logspace():\n",
        "matrix_x = np.logspace((1,1,1,1,1,1,1),(3,3,3,3,3,3,3),10)\n",
        "OpR(matrix_x)"
      ],
      "metadata": {
        "colab": {
          "base_uri": "https://localhost:8080/"
        },
        "id": "3HVxWFRr6oCr",
        "outputId": "ac6b546c-2435-464f-9f23-36372c459fbf"
      },
      "execution_count": 20,
      "outputs": [
        {
          "output_type": "stream",
          "name": "stdout",
          "text": [
            "Ma trận x: \n",
            " [[  10.           10.           10.           10.           10.\n",
            "    10.           10.        ]\n",
            " [  16.68100537   16.68100537   16.68100537   16.68100537   16.68100537\n",
            "    16.68100537   16.68100537]\n",
            " [  27.82559402   27.82559402   27.82559402   27.82559402   27.82559402\n",
            "    27.82559402   27.82559402]\n",
            " [  46.41588834   46.41588834   46.41588834   46.41588834   46.41588834\n",
            "    46.41588834   46.41588834]\n",
            " [  77.42636827   77.42636827   77.42636827   77.42636827   77.42636827\n",
            "    77.42636827   77.42636827]\n",
            " [ 129.1549665   129.1549665   129.1549665   129.1549665   129.1549665\n",
            "   129.1549665   129.1549665 ]\n",
            " [ 215.443469    215.443469    215.443469    215.443469    215.443469\n",
            "   215.443469    215.443469  ]\n",
            " [ 359.38136638  359.38136638  359.38136638  359.38136638  359.38136638\n",
            "   359.38136638  359.38136638]\n",
            " [ 599.48425032  599.48425032  599.48425032  599.48425032  599.48425032\n",
            "   599.48425032  599.48425032]\n",
            " [1000.         1000.         1000.         1000.         1000.\n",
            "  1000.         1000.        ]]\n",
            "Số chiều của x:  2\n",
            "Ma trận chuyển vị của x: \n",
            " [[  10.           16.68100537   27.82559402   46.41588834   77.42636827\n",
            "   129.1549665   215.443469    359.38136638  599.48425032 1000.        ]\n",
            " [  10.           16.68100537   27.82559402   46.41588834   77.42636827\n",
            "   129.1549665   215.443469    359.38136638  599.48425032 1000.        ]\n",
            " [  10.           16.68100537   27.82559402   46.41588834   77.42636827\n",
            "   129.1549665   215.443469    359.38136638  599.48425032 1000.        ]\n",
            " [  10.           16.68100537   27.82559402   46.41588834   77.42636827\n",
            "   129.1549665   215.443469    359.38136638  599.48425032 1000.        ]\n",
            " [  10.           16.68100537   27.82559402   46.41588834   77.42636827\n",
            "   129.1549665   215.443469    359.38136638  599.48425032 1000.        ]\n",
            " [  10.           16.68100537   27.82559402   46.41588834   77.42636827\n",
            "   129.1549665   215.443469    359.38136638  599.48425032 1000.        ]\n",
            " [  10.           16.68100537   27.82559402   46.41588834   77.42636827\n",
            "   129.1549665   215.443469    359.38136638  599.48425032 1000.        ]]\n",
            "Số chiều của chuyển vị của x:  2\n",
            "Kích thước của chuyển vị của x:  (7, 10)\n"
          ]
        }
      ]
    },
    {
      "cell_type": "code",
      "source": [
        "#np.random.rand():\n",
        "matrix_x = np.random.rand(10,7)\n",
        "OpR(matrix_x)"
      ],
      "metadata": {
        "colab": {
          "base_uri": "https://localhost:8080/"
        },
        "id": "XsN1nFW66zta",
        "outputId": "e300ebe7-240e-4f50-ba72-3aca0646b585"
      },
      "execution_count": 21,
      "outputs": [
        {
          "output_type": "stream",
          "name": "stdout",
          "text": [
            "Ma trận x: \n",
            " [[0.22852741 0.65673144 0.21427114 0.98486847 0.55879472 0.60619431\n",
            "  0.19217759]\n",
            " [0.52428241 0.52614465 0.48482935 0.72724616 0.06047136 0.04109349\n",
            "  0.24251934]\n",
            " [0.25758141 0.76574729 0.15169762 0.76096141 0.20938331 0.48930517\n",
            "  0.73898347]\n",
            " [0.80305507 0.08478917 0.09204333 0.54234646 0.14358417 0.40677822\n",
            "  0.99920773]\n",
            " [0.36990384 0.15604388 0.89391279 0.44789944 0.78837964 0.25731204\n",
            "  0.62963184]\n",
            " [0.46777169 0.98850888 0.33764373 0.42737078 0.63759566 0.41897088\n",
            "  0.01683371]\n",
            " [0.17226732 0.18518075 0.15745943 0.94347836 0.4753283  0.63485061\n",
            "  0.73550129]\n",
            " [0.9927542  0.61788579 0.8505687  0.20788616 0.31560062 0.71770757\n",
            "  0.01091693]\n",
            " [0.25452567 0.6696995  0.16555032 0.33737231 0.80384723 0.32256674\n",
            "  0.7965515 ]\n",
            " [0.30629337 0.12346459 0.0706551  0.21021511 0.47279398 0.13540944\n",
            "  0.09202294]]\n",
            "Số chiều của x:  2\n",
            "Ma trận chuyển vị của x: \n",
            " [[0.22852741 0.52428241 0.25758141 0.80305507 0.36990384 0.46777169\n",
            "  0.17226732 0.9927542  0.25452567 0.30629337]\n",
            " [0.65673144 0.52614465 0.76574729 0.08478917 0.15604388 0.98850888\n",
            "  0.18518075 0.61788579 0.6696995  0.12346459]\n",
            " [0.21427114 0.48482935 0.15169762 0.09204333 0.89391279 0.33764373\n",
            "  0.15745943 0.8505687  0.16555032 0.0706551 ]\n",
            " [0.98486847 0.72724616 0.76096141 0.54234646 0.44789944 0.42737078\n",
            "  0.94347836 0.20788616 0.33737231 0.21021511]\n",
            " [0.55879472 0.06047136 0.20938331 0.14358417 0.78837964 0.63759566\n",
            "  0.4753283  0.31560062 0.80384723 0.47279398]\n",
            " [0.60619431 0.04109349 0.48930517 0.40677822 0.25731204 0.41897088\n",
            "  0.63485061 0.71770757 0.32256674 0.13540944]\n",
            " [0.19217759 0.24251934 0.73898347 0.99920773 0.62963184 0.01683371\n",
            "  0.73550129 0.01091693 0.7965515  0.09202294]]\n",
            "Số chiều của chuyển vị của x:  2\n",
            "Kích thước của chuyển vị của x:  (7, 10)\n"
          ]
        }
      ]
    },
    {
      "cell_type": "markdown",
      "source": [
        "Câu 3: Sử dụng thư viện Numpy, hãy:\n",
        "- Chuyển ma trận A ở câu 2 thành vector. (Gợi ý: sử dụng hàm flatten())\n",
        "\n",
        "- Chuyển vector vừa được tạo ra ở câu trên thành ma trận. (Gợi ý: sử dụng hàm reshape())"
      ],
      "metadata": {
        "id": "zyiTxh5M9v3V"
      }
    },
    {
      "cell_type": "code",
      "source": [
        "matrix_b = np.arange(0,70,1).reshape(10,7)\n",
        "vector_c = matrix_b.flatten()\n",
        "print(vector_c)"
      ],
      "metadata": {
        "colab": {
          "base_uri": "https://localhost:8080/"
        },
        "id": "n1IyU_7i91fk",
        "outputId": "1f9ca102-e8b5-4ddd-f783-22ddd4ec5b19"
      },
      "execution_count": 29,
      "outputs": [
        {
          "output_type": "stream",
          "name": "stdout",
          "text": [
            "[ 0  1  2  3  4  5  6  7  8  9 10 11 12 13 14 15 16 17 18 19 20 21 22 23\n",
            " 24 25 26 27 28 29 30 31 32 33 34 35 36 37 38 39 40 41 42 43 44 45 46 47\n",
            " 48 49 50 51 52 53 54 55 56 57 58 59 60 61 62 63 64 65 66 67 68 69]\n"
          ]
        }
      ]
    },
    {
      "cell_type": "code",
      "source": [
        "matrix_d = vector_c.reshape(10,7)\n",
        "print(matrix_d)"
      ],
      "metadata": {
        "colab": {
          "base_uri": "https://localhost:8080/"
        },
        "id": "XRmMmMA--hGX",
        "outputId": "018c766d-1e1a-402a-dfa8-50eaca5bc97d"
      },
      "execution_count": 30,
      "outputs": [
        {
          "output_type": "stream",
          "name": "stdout",
          "text": [
            "[[ 0  1  2  3  4  5  6]\n",
            " [ 7  8  9 10 11 12 13]\n",
            " [14 15 16 17 18 19 20]\n",
            " [21 22 23 24 25 26 27]\n",
            " [28 29 30 31 32 33 34]\n",
            " [35 36 37 38 39 40 41]\n",
            " [42 43 44 45 46 47 48]\n",
            " [49 50 51 52 53 54 55]\n",
            " [56 57 58 59 60 61 62]\n",
            " [63 64 65 66 67 68 69]]\n"
          ]
        }
      ]
    },
    {
      "cell_type": "markdown",
      "source": [
        "Câu 4:Sử dụng thư viện Numpy, hãy:\n",
        "- Tạo ra 1 ma trận A10x15 với các giá trị được sinh ra bởi hàm logspace();\n",
        "\n",
        "- Hãy trích rút dòng thứ 3 của ma trận A (tương ứng với 1 vector hàng);\n",
        "\n",
        "- Hãy trích rút ra cột thứ 5 của ma trận A (tương ứng với 1 vector cột)."
      ],
      "metadata": {
        "id": "oWMKZVRk-x1F"
      }
    },
    {
      "cell_type": "code",
      "source": [
        "matrix_e = np.logspace(0,3,150).reshape(10,15)\n",
        "print(matrix_e)\n",
        "print(\"row_vec\")\n",
        "row_vec = matrix_e[2, :] \n",
        "print(row_vec)\n",
        "print(\"col_vec\")\n",
        "col_vec = matrix_e[:, 4]\n",
        "print(col_vec)"
      ],
      "metadata": {
        "colab": {
          "base_uri": "https://localhost:8080/"
        },
        "id": "Y1I_y5_p-3O1",
        "outputId": "f96dacf2-931e-421a-f406-ae7b844eb7b3"
      },
      "execution_count": 37,
      "outputs": [
        {
          "output_type": "stream",
          "name": "stdout",
          "text": [
            "[[   1.            1.04745224    1.09715619    1.1492187     1.2037517\n",
            "     1.26087241    1.32070362    1.38337396    1.44901815    1.5177773\n",
            "     1.58979923    1.66523876    1.74425806    1.827027      1.91372352]\n",
            " [   2.00453398    2.0996536     2.19928686    2.30364794    2.41296118\n",
            "     2.52746159    2.64739529    2.77302012    2.90460612    3.04243618\n",
            "     3.18680658    3.33802767    3.49642455    3.66233771    3.83612383]\n",
            " [   4.01815648    4.20882699    4.40854524    4.61774057    4.83686269\n",
            "     5.06638264    5.30679382    5.55861305    5.82238167    6.0986667\n",
            "     6.38806207    6.6911899     7.00870182    7.3412804     7.68964057]\n",
            " [   8.05453121    8.43673672    8.83707874    9.25641789    9.69565562\n",
            "    10.15573615   10.63764854   11.14242875   11.67116191   12.22498464\n",
            "    12.8050875    13.41271753   14.04918097   14.71584602   15.41414582]\n",
            " [  16.1455815    16.91172545   17.71422463   18.5548042    19.43527115\n",
            "    20.35751822   21.32352798   22.33537706   23.39524065   24.50539713\n",
            "    25.66823302   26.88624807   28.16206065   29.4984134    30.89817908]\n",
            " [  32.36436676   33.90012833   35.50876522   37.19373553   38.95866145\n",
            "    40.80733704   42.74373643   44.7720223    46.89655487   49.12190126\n",
            "    51.45284531   53.89439787   56.45180756   59.13057205   61.93644991]\n",
            " [  64.87547295   67.9539592    71.17852651   74.55610675   78.09396072\n",
            "    81.79969378   85.68127215   89.7470401    94.00573782   98.46652028\n",
            "   103.13897684  108.03315191  113.15956653  118.52924098  124.1537185 ]\n",
            " [ 130.04509005  136.21602036  142.6797751   149.45024946  156.54199797\n",
            "   163.9702658   171.75102155  179.90099156  188.43769587  197.37948588\n",
            "   206.74558383  216.55612406  226.83219637  237.59589128  248.87034759]\n",
            " [ 260.67980206  273.04964155  286.00645758  299.5781035   313.79375437\n",
            "   328.68396965  344.28075895  360.61765078  377.72976465  395.65388658\n",
            "   414.42854818  434.09410946  454.69284559  476.2690378   498.86906858]\n",
            " [ 522.54152136  547.33728495  573.30966297  600.5144884   629.01024362\n",
            "   658.85818615  690.12248029  722.87033509  757.17214883  793.10166033\n",
            "   830.73610749  870.15639332  911.44725985  954.69747033 1000.        ]]\n",
            "row_vec\n",
            "[4.01815648 4.20882699 4.40854524 4.61774057 4.83686269 5.06638264\n",
            " 5.30679382 5.55861305 5.82238167 6.0986667  6.38806207 6.6911899\n",
            " 7.00870182 7.3412804  7.68964057]\n",
            "col_vec\n",
            "[  1.2037517    2.41296118   4.83686269   9.69565562  19.43527115\n",
            "  38.95866145  78.09396072 156.54199797 313.79375437 629.01024362]\n"
          ]
        }
      ]
    },
    {
      "cell_type": "markdown",
      "source": [
        "Câu 5: Thực hiện các yêu cầu sau:"
      ],
      "metadata": {
        "id": "pAEs1LAJAKPZ"
      }
    },
    {
      "cell_type": "code",
      "source": [
        "#Ham tinh trung binh\n",
        "def means(vec_a):\n",
        "  s = 0\n",
        "  for i in vec_a:\n",
        "    s += i\n",
        "  return s/len(vec_a)"
      ],
      "metadata": {
        "id": "cnEZWik5Arh0"
      },
      "execution_count": 47,
      "outputs": []
    },
    {
      "cell_type": "code",
      "source": [
        "#Ham tinh trung vi\n",
        "def median(vec_a):\n",
        "  len_a = len(vec_a)\n",
        "  # Sap xep phan tu tang dan:\n",
        "  for i in range(len_a - 1):\n",
        "    for j in range(i + 1, len_a):\n",
        "      if (vec_a[i] > vec_a[j]):\n",
        "        vec_a[i],vec_a[j] = vec_a[j], vec_a[i]\n",
        "  # tinh trung vi:\n",
        "  if (len_a % 2 != 0):\n",
        "    return vec_a[int(len_a / 2)]\n",
        "  else:\n",
        "    return ((vec_a[int((len_a-1)/2)]) + (vec_a[int((len_a-1)/2) + 1])) / 2"
      ],
      "metadata": {
        "id": "tk6MqGdMBHYB"
      },
      "execution_count": 48,
      "outputs": []
    },
    {
      "cell_type": "code",
      "source": [
        "#Ham tinh yeu vi\n",
        "def mode(vec_a):\n",
        "    result = []\n",
        "    # tan suat phan tu trong vec_a:\n",
        "    tan_so = {}\n",
        "    for i in vec_a:\n",
        "        if i in tan_so:\n",
        "            tan_so[i] += 1\n",
        "        else:\n",
        "            tan_so[i] = 1\n",
        "    \n",
        "    # tinh tan so lon nhat:\n",
        "    max_tan_so = 0\n",
        "    for i in tan_so.values():\n",
        "        if i >= max_tan_so:\n",
        "            max_tan_so = i\n",
        "    \n",
        "    # Tìm số yếu vị:\n",
        "    for i in tan_so:\n",
        "        if tan_so[i] == max_tan_so:\n",
        "            result.append(i)\n",
        "    return result"
      ],
      "metadata": {
        "id": "M4wuU-1CEiil"
      },
      "execution_count": 55,
      "outputs": []
    },
    {
      "cell_type": "markdown",
      "source": [
        "- Xây dựng hàm tính phương sai:"
      ],
      "metadata": {
        "id": "37rwRPruLFtV"
      }
    },
    {
      "cell_type": "code",
      "source": [
        "#ham tinh phuong sai\n",
        "def variance(vec_a):\n",
        "  mean_a = means(vec_a)\n",
        "  s = 0\n",
        "  for i in vec_a:\n",
        "    s += (i - mean_a) ** 2\n",
        "  return s/(len(vec_a))"
      ],
      "metadata": {
        "id": "SVh3kXfZLHld"
      },
      "execution_count": 57,
      "outputs": []
    },
    {
      "cell_type": "code",
      "source": [
        "#ham tinh do lech chuan\n",
        "def sd(vec_a):\n",
        "  return variance(vec_a) ** 0.5"
      ],
      "metadata": {
        "id": "ei0ybWZUL2MA"
      },
      "execution_count": 51,
      "outputs": []
    },
    {
      "cell_type": "markdown",
      "source": [
        "- Hãy tạo ra ma trận A15x10 với các giá trị sinh bởi hàm arrange():"
      ],
      "metadata": {
        "id": "AB8rANgfMUD6"
      }
    },
    {
      "cell_type": "code",
      "source": [
        "A = np.arange(1,151,1).reshape(15,10)\n",
        "print(A)"
      ],
      "metadata": {
        "colab": {
          "base_uri": "https://localhost:8080/"
        },
        "id": "xlnkZXzUMWTh",
        "outputId": "d8d5f312-de87-447e-a433-add0d495da93"
      },
      "execution_count": 52,
      "outputs": [
        {
          "output_type": "stream",
          "name": "stdout",
          "text": [
            "[[  1   2   3   4   5   6   7   8   9  10]\n",
            " [ 11  12  13  14  15  16  17  18  19  20]\n",
            " [ 21  22  23  24  25  26  27  28  29  30]\n",
            " [ 31  32  33  34  35  36  37  38  39  40]\n",
            " [ 41  42  43  44  45  46  47  48  49  50]\n",
            " [ 51  52  53  54  55  56  57  58  59  60]\n",
            " [ 61  62  63  64  65  66  67  68  69  70]\n",
            " [ 71  72  73  74  75  76  77  78  79  80]\n",
            " [ 81  82  83  84  85  86  87  88  89  90]\n",
            " [ 91  92  93  94  95  96  97  98  99 100]\n",
            " [101 102 103 104 105 106 107 108 109 110]\n",
            " [111 112 113 114 115 116 117 118 119 120]\n",
            " [121 122 123 124 125 126 127 128 129 130]\n",
            " [131 132 133 134 135 136 137 138 139 140]\n",
            " [141 142 143 144 145 146 147 148 149 150]]\n"
          ]
        }
      ]
    },
    {
      "cell_type": "markdown",
      "source": [
        "- Áp dụng 5 hàm ở trên cho từng hàng của ma trận A"
      ],
      "metadata": {
        "id": "cPrRdHz_MxSf"
      }
    },
    {
      "cell_type": "code",
      "source": [
        "#Trung binh\n",
        "print(\"Trung binh\")\n",
        "np.apply_along_axis(means, 1, A)"
      ],
      "metadata": {
        "colab": {
          "base_uri": "https://localhost:8080/"
        },
        "id": "r18eh42IuSqT",
        "outputId": "3992caa1-c5ba-4c92-892f-e448fa801cd6"
      },
      "execution_count": 59,
      "outputs": [
        {
          "output_type": "stream",
          "name": "stdout",
          "text": [
            "Trung binh\n"
          ]
        },
        {
          "output_type": "execute_result",
          "data": {
            "text/plain": [
              "array([  5.5,  15.5,  25.5,  35.5,  45.5,  55.5,  65.5,  75.5,  85.5,\n",
              "        95.5, 105.5, 115.5, 125.5, 135.5, 145.5])"
            ]
          },
          "metadata": {},
          "execution_count": 59
        }
      ]
    },
    {
      "cell_type": "code",
      "source": [
        "#Trung vi\n",
        "print(\"Trung vi\")\n",
        "np.apply_along_axis(median, 1, A)"
      ],
      "metadata": {
        "colab": {
          "base_uri": "https://localhost:8080/"
        },
        "id": "YCfGdCt6uW4b",
        "outputId": "da8efc24-6038-4caa-de7e-a52b01934b2f"
      },
      "execution_count": 60,
      "outputs": [
        {
          "output_type": "stream",
          "name": "stdout",
          "text": [
            "Trung vi\n"
          ]
        },
        {
          "output_type": "execute_result",
          "data": {
            "text/plain": [
              "array([  5.5,  15.5,  25.5,  35.5,  45.5,  55.5,  65.5,  75.5,  85.5,\n",
              "        95.5, 105.5, 115.5, 125.5, 135.5, 145.5])"
            ]
          },
          "metadata": {},
          "execution_count": 60
        }
      ]
    },
    {
      "cell_type": "code",
      "source": [
        "#Yeu vi\n",
        "print(\"Yeu vi\")\n",
        "np.apply_along_axis(mode, 1, A)"
      ],
      "metadata": {
        "colab": {
          "base_uri": "https://localhost:8080/"
        },
        "id": "_p_DFaE6uaEi",
        "outputId": "6bd330f8-6749-4e5e-cd82-0f04ce0aeaf4"
      },
      "execution_count": 61,
      "outputs": [
        {
          "output_type": "stream",
          "name": "stdout",
          "text": [
            "Yeu vi\n"
          ]
        },
        {
          "output_type": "execute_result",
          "data": {
            "text/plain": [
              "array([[  1,   2,   3,   4,   5,   6,   7,   8,   9,  10],\n",
              "       [ 11,  12,  13,  14,  15,  16,  17,  18,  19,  20],\n",
              "       [ 21,  22,  23,  24,  25,  26,  27,  28,  29,  30],\n",
              "       [ 31,  32,  33,  34,  35,  36,  37,  38,  39,  40],\n",
              "       [ 41,  42,  43,  44,  45,  46,  47,  48,  49,  50],\n",
              "       [ 51,  52,  53,  54,  55,  56,  57,  58,  59,  60],\n",
              "       [ 61,  62,  63,  64,  65,  66,  67,  68,  69,  70],\n",
              "       [ 71,  72,  73,  74,  75,  76,  77,  78,  79,  80],\n",
              "       [ 81,  82,  83,  84,  85,  86,  87,  88,  89,  90],\n",
              "       [ 91,  92,  93,  94,  95,  96,  97,  98,  99, 100],\n",
              "       [101, 102, 103, 104, 105, 106, 107, 108, 109, 110],\n",
              "       [111, 112, 113, 114, 115, 116, 117, 118, 119, 120],\n",
              "       [121, 122, 123, 124, 125, 126, 127, 128, 129, 130],\n",
              "       [131, 132, 133, 134, 135, 136, 137, 138, 139, 140],\n",
              "       [141, 142, 143, 144, 145, 146, 147, 148, 149, 150]])"
            ]
          },
          "metadata": {},
          "execution_count": 61
        }
      ]
    },
    {
      "cell_type": "code",
      "source": [
        "#Phuong sai\n",
        "print(\"Phuong sai\")\n",
        "np.apply_along_axis(variance, 1, A)"
      ],
      "metadata": {
        "colab": {
          "base_uri": "https://localhost:8080/"
        },
        "id": "GmrNdLcxucSi",
        "outputId": "ae7a8b11-13e9-4aa8-dd0a-ff23e5f52b9d"
      },
      "execution_count": 62,
      "outputs": [
        {
          "output_type": "stream",
          "name": "stdout",
          "text": [
            "Phuong sai\n"
          ]
        },
        {
          "output_type": "execute_result",
          "data": {
            "text/plain": [
              "array([8.25, 8.25, 8.25, 8.25, 8.25, 8.25, 8.25, 8.25, 8.25, 8.25, 8.25,\n",
              "       8.25, 8.25, 8.25, 8.25])"
            ]
          },
          "metadata": {},
          "execution_count": 62
        }
      ]
    },
    {
      "cell_type": "code",
      "source": [
        "#Do lech chuan\n",
        "print(\"Do lech chuan\")\n",
        "np.apply_along_axis(sd, 1, A)"
      ],
      "metadata": {
        "colab": {
          "base_uri": "https://localhost:8080/"
        },
        "id": "2uD_gifeugFv",
        "outputId": "35b619bb-ac25-4e32-bd39-7d811623b5f4"
      },
      "execution_count": 63,
      "outputs": [
        {
          "output_type": "stream",
          "name": "stdout",
          "text": [
            "Do lech chuan\n"
          ]
        },
        {
          "output_type": "execute_result",
          "data": {
            "text/plain": [
              "array([2.87228132, 2.87228132, 2.87228132, 2.87228132, 2.87228132,\n",
              "       2.87228132, 2.87228132, 2.87228132, 2.87228132, 2.87228132,\n",
              "       2.87228132, 2.87228132, 2.87228132, 2.87228132, 2.87228132])"
            ]
          },
          "metadata": {},
          "execution_count": 63
        }
      ]
    },
    {
      "cell_type": "markdown",
      "source": [
        "- Áp dụng 5 hàm ở trên cho từng cột của ma trận A:"
      ],
      "metadata": {
        "id": "jJb3CLU_QMwR"
      }
    },
    {
      "cell_type": "code",
      "source": [
        "#Trung binh\n",
        "np.apply_along_axis(means, 0, A)"
      ],
      "metadata": {
        "colab": {
          "base_uri": "https://localhost:8080/"
        },
        "id": "rNYynZuEQR4C",
        "outputId": "e476b0d8-1eb1-4df9-d689-094cd7a10de3"
      },
      "execution_count": 64,
      "outputs": [
        {
          "output_type": "execute_result",
          "data": {
            "text/plain": [
              "array([71., 72., 73., 74., 75., 76., 77., 78., 79., 80.])"
            ]
          },
          "metadata": {},
          "execution_count": 64
        }
      ]
    },
    {
      "cell_type": "code",
      "source": [
        "#Trung vi\n",
        "np.apply_along_axis(median, 0, A)"
      ],
      "metadata": {
        "colab": {
          "base_uri": "https://localhost:8080/"
        },
        "id": "plhMqFP9QTmZ",
        "outputId": "5d867f6b-6df7-4120-a0a2-b2e0bbef377a"
      },
      "execution_count": 65,
      "outputs": [
        {
          "output_type": "execute_result",
          "data": {
            "text/plain": [
              "array([71, 72, 73, 74, 75, 76, 77, 78, 79, 80])"
            ]
          },
          "metadata": {},
          "execution_count": 65
        }
      ]
    },
    {
      "cell_type": "code",
      "source": [
        "#Yeu vi\n",
        "np.apply_along_axis(mode, 0, A)"
      ],
      "metadata": {
        "colab": {
          "base_uri": "https://localhost:8080/"
        },
        "id": "O7plJRDNQU5a",
        "outputId": "f8ec017f-bdd3-4a42-b393-7ecd881a38ad"
      },
      "execution_count": 66,
      "outputs": [
        {
          "output_type": "execute_result",
          "data": {
            "text/plain": [
              "array([[  1,   2,   3,   4,   5,   6,   7,   8,   9,  10],\n",
              "       [ 11,  12,  13,  14,  15,  16,  17,  18,  19,  20],\n",
              "       [ 21,  22,  23,  24,  25,  26,  27,  28,  29,  30],\n",
              "       [ 31,  32,  33,  34,  35,  36,  37,  38,  39,  40],\n",
              "       [ 41,  42,  43,  44,  45,  46,  47,  48,  49,  50],\n",
              "       [ 51,  52,  53,  54,  55,  56,  57,  58,  59,  60],\n",
              "       [ 61,  62,  63,  64,  65,  66,  67,  68,  69,  70],\n",
              "       [ 71,  72,  73,  74,  75,  76,  77,  78,  79,  80],\n",
              "       [ 81,  82,  83,  84,  85,  86,  87,  88,  89,  90],\n",
              "       [ 91,  92,  93,  94,  95,  96,  97,  98,  99, 100],\n",
              "       [101, 102, 103, 104, 105, 106, 107, 108, 109, 110],\n",
              "       [111, 112, 113, 114, 115, 116, 117, 118, 119, 120],\n",
              "       [121, 122, 123, 124, 125, 126, 127, 128, 129, 130],\n",
              "       [131, 132, 133, 134, 135, 136, 137, 138, 139, 140],\n",
              "       [141, 142, 143, 144, 145, 146, 147, 148, 149, 150]])"
            ]
          },
          "metadata": {},
          "execution_count": 66
        }
      ]
    },
    {
      "cell_type": "code",
      "source": [
        "#Phuong sai\n",
        "np.apply_along_axis(variance, 0, A)"
      ],
      "metadata": {
        "colab": {
          "base_uri": "https://localhost:8080/"
        },
        "id": "k121TumBQWr-",
        "outputId": "69c91b61-f1a0-48ea-fa11-faf86c5234f7"
      },
      "execution_count": 67,
      "outputs": [
        {
          "output_type": "execute_result",
          "data": {
            "text/plain": [
              "array([1866.66666667, 1866.66666667, 1866.66666667, 1866.66666667,\n",
              "       1866.66666667, 1866.66666667, 1866.66666667, 1866.66666667,\n",
              "       1866.66666667, 1866.66666667])"
            ]
          },
          "metadata": {},
          "execution_count": 67
        }
      ]
    },
    {
      "cell_type": "code",
      "source": [
        "#Do lech chuan\n",
        "np.apply_along_axis(sd, 0, A)"
      ],
      "metadata": {
        "colab": {
          "base_uri": "https://localhost:8080/"
        },
        "id": "S-Dujip7QYy6",
        "outputId": "9b780e8c-a102-4f08-cae8-3c7e0d69ed02"
      },
      "execution_count": 68,
      "outputs": [
        {
          "output_type": "execute_result",
          "data": {
            "text/plain": [
              "array([43.20493799, 43.20493799, 43.20493799, 43.20493799, 43.20493799,\n",
              "       43.20493799, 43.20493799, 43.20493799, 43.20493799, 43.20493799])"
            ]
          },
          "metadata": {},
          "execution_count": 68
        }
      ]
    }
  ]
}