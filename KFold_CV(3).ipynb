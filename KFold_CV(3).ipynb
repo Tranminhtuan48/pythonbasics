{
  "nbformat": 4,
  "nbformat_minor": 0,
  "metadata": {
    "colab": {
      "provenance": [],
      "authorship_tag": "ABX9TyO/MrFCWxs/aeuLu9QvfUYO",
      "include_colab_link": true
    },
    "kernelspec": {
      "name": "python3",
      "display_name": "Python 3"
    },
    "language_info": {
      "name": "python"
    }
  },
  "cells": [
    {
      "cell_type": "markdown",
      "metadata": {
        "id": "view-in-github",
        "colab_type": "text"
      },
      "source": [
        "<a href=\"https://colab.research.google.com/github/Tranminhtuan48/pythonbasics/blob/main/KFold_CV(3).ipynb\" target=\"_parent\"><img src=\"https://colab.research.google.com/assets/colab-badge.svg\" alt=\"Open In Colab\"/></a>"
      ]
    },
    {
      "cell_type": "code",
      "execution_count": 1,
      "metadata": {
        "id": "xuIdAK39OKPo"
      },
      "outputs": [],
      "source": [
        "import os\n",
        "import numpy as np\n",
        "from sklearn.model_selection import train_test_split\n",
        "from sklearn.model_selection import cross_val_predict\n",
        "from sklearn.preprocessing import StandardScaler\n",
        "from sklearn.linear_model import LogisticRegression"
      ]
    },
    {
      "cell_type": "code",
      "source": [
        "from google.colab import drive\n",
        "drive.mount('/content/gdrive')"
      ],
      "metadata": {
        "colab": {
          "base_uri": "https://localhost:8080/"
        },
        "id": "Mr72iLnRO7y9",
        "outputId": "2f817928-2bf8-485b-95d9-bc186468bdba"
      },
      "execution_count": 6,
      "outputs": [
        {
          "output_type": "stream",
          "name": "stdout",
          "text": [
            "Mounted at /content/gdrive\n"
          ]
        }
      ]
    },
    {
      "cell_type": "code",
      "source": [
        "def readData(folder, filename, delimiter= \",\"):\n",
        "    D = np.loadtxt(os.path.join(folder, filename), delimiter=delimiter)\n",
        "    X = D[:, :-1]\n",
        "    y = D[:, -1]\n",
        "    return X, y"
      ],
      "metadata": {
        "id": "HoRkgMbLOTxk"
      },
      "execution_count": 2,
      "outputs": []
    },
    {
      "cell_type": "code",
      "source": [
        "def featureScaling(X_train, X_test):\n",
        "    sc = StandardScaler()\n",
        "    X_train = sc.fit_transform(X_train)\n",
        "    X_test = sc.transform(X_test)\n",
        "    return X_train, X_test\n"
      ],
      "metadata": {
        "id": "QSrW3_AWOhPI"
      },
      "execution_count": 3,
      "outputs": []
    },
    {
      "cell_type": "code",
      "source": [
        "def checkTypeDependentData(y_train):\n",
        "    unique, counts = np.unique(y_train, return_counts=True)\n",
        "    result = dict(zip(unique, counts))\n",
        "    print(result)\n",
        "    return result"
      ],
      "metadata": {
        "id": "0-QZWSndOjTS"
      },
      "execution_count": 4,
      "outputs": []
    },
    {
      "cell_type": "code",
      "source": [
        "def crossValPredict(model, X_train, y_train, cv=10):\n",
        "    scores = cross_val_predict(model, X_train, y_train, cv=10)\n",
        "    print('Kết quả huấn luyên 10-fold cv')\n",
        "    print('\\t', scores)\n",
        "    return scores"
      ],
      "metadata": {
        "id": "-3lRf6dYOl0S"
      },
      "execution_count": 5,
      "outputs": []
    },
    {
      "cell_type": "code",
      "source": [
        "def KFold_CV():\n",
        "    X, y = readData(\"/content/gdrive/Mydrive/\", 'ex2data2.txt')\n",
        "    X_train, X_test, y_train, y_test = train_test_split(X, y, test_size=0.3, random_state=15)\n",
        "    X_train, X_test = featureScaling(X_train, X_test)\n",
        "    classifier = LogisticRegression(solver='liblinear', max_iter=1500, multi_class='auto')\n",
        "    scores = crossValPredict(classifier, X_train, y_train, cv=10)"
      ],
      "metadata": {
        "id": "9F_IBX4ROn1f"
      },
      "execution_count": 7,
      "outputs": []
    }
  ]
}