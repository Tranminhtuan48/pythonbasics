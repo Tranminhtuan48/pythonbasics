{
  "nbformat": 4,
  "nbformat_minor": 0,
  "metadata": {
    "colab": {
      "provenance": [],
      "authorship_tag": "ABX9TyMxEg5Xxy3A5UXn5DBkZjGp",
      "include_colab_link": true
    },
    "kernelspec": {
      "name": "python3",
      "display_name": "Python 3"
    },
    "language_info": {
      "name": "python"
    }
  },
  "cells": [
    {
      "cell_type": "markdown",
      "metadata": {
        "id": "view-in-github",
        "colab_type": "text"
      },
      "source": [
        "<a href=\"https://colab.research.google.com/github/Tranminhtuan48/pythonbasics/blob/main/BTTL(4)_4.ipynb\" target=\"_parent\"><img src=\"https://colab.research.google.com/assets/colab-badge.svg\" alt=\"Open In Colab\"/></a>"
      ]
    },
    {
      "cell_type": "code",
      "execution_count": 1,
      "metadata": {
        "id": "QRPy1k6FGB0x"
      },
      "outputs": [],
      "source": [
        "import os\n",
        "import numpy as np\n",
        "from sklearn.model_selection import train_test_split\n",
        "from sklearn.metrics import mean_squared_error\n",
        "from sklearn.linear_model import LinearRegression"
      ]
    },
    {
      "cell_type": "code",
      "source": [
        "from google.colab import drive\n",
        "drive.mount('/content/gdrive')"
      ],
      "metadata": {
        "colab": {
          "base_uri": "https://localhost:8080/"
        },
        "id": "MRf92RAeEIGz",
        "outputId": "a6153755-432a-419c-a230-2c1ae5fe9728"
      },
      "execution_count": 2,
      "outputs": [
        {
          "output_type": "stream",
          "name": "stdout",
          "text": [
            "Mounted at /content/gdrive\n"
          ]
        }
      ]
    },
    {
      "cell_type": "code",
      "source": [
        "def readData(folder , filename):\n",
        "    data = np.loadtxt(os.path.join(folder, filename), delimiter = ',')\n",
        "    X = data[:, :-1]\n",
        "    y = data[:, -1].reshape(-1, 1)\n",
        "    one = np.ones((X.shape[0], 1))\n",
        "    X = np.concatenate((one, X), axis = 1)\n",
        "    return X, y"
      ],
      "metadata": {
        "id": "08QMToNBGRPy"
      },
      "execution_count": 3,
      "outputs": []
    },
    {
      "cell_type": "markdown",
      "source": [
        "4.1.4"
      ],
      "metadata": {
        "id": "I1_cDU-NGbBa"
      }
    },
    {
      "cell_type": "code",
      "source": [
        "def normScaling(X, y):\n",
        "  for col in range(1, X.shape[1]):\n",
        "    temp = X[:, col]\n",
        "    X[:, col] = (temp - np.min(temp)) / (np.max(temp) - np.min(temp))\n",
        "  temp = y[:, 0]\n",
        "  y[:, 0] = (temp - np.min(temp)) / (np.max(temp) - np.min(temp))"
      ],
      "metadata": {
        "id": "L3gKTbnzGX9B"
      },
      "execution_count": 4,
      "outputs": []
    },
    {
      "cell_type": "code",
      "source": [
        "def standardScaling(X, y):\n",
        "  for col in range(1, X.shape[1]):\n",
        "    temp = X[:, col]\n",
        "    X[:, col] = (temp - np.mean(temp)) / (np.std(temp))\n",
        "  temp = y[:, 0]\n",
        "  y[:, 0] = (temp - np.mean(temp)) / (np.std(temp))"
      ],
      "metadata": {
        "id": "_LA-YuRkGdtv"
      },
      "execution_count": 5,
      "outputs": []
    },
    {
      "cell_type": "code",
      "source": [
        "def Linear_Regression():\n",
        "    X, y = readData(\"/content/gdrive/Mydrive/\", 'ex1data2.txt')\n",
        "    X_train, X_test, y_train, y_test = train_test_split(X, y, test_size=0.3,\n",
        "                                                        random_state = 5)\n",
        "    standardScaling(X_train, y_train)\n",
        "    standardScaling(X_test, y_test)\n",
        "    regressor = LinearRegression()\n",
        "    regressor.fit(X_train, y_train)\n",
        "    y_pred = regressor.predict(X_test)\n",
        "    print(\"Đánh giá hiệu năng mô hình\")\n",
        "    print(\"\\tMSE: \",mean_squared_error(y_test, y_pred))\n",
        "    print(\"\\tRMSE: \",mean_squared_error(y_test, y_pred) ** (1/2))"
      ],
      "metadata": {
        "id": "FKDgLfMUGf1Q"
      },
      "execution_count": 7,
      "outputs": []
    },
    {
      "cell_type": "markdown",
      "source": [
        "4.2.4"
      ],
      "metadata": {
        "id": "eX-H1qQgG2EK"
      }
    },
    {
      "cell_type": "code",
      "source": [
        "def normScaling(X):\n",
        "  for col in range(1, X.shape[1]):\n",
        "    temp = X[:, col]\n",
        "    X[:, col] = (temp - np.min(temp)) / (np.max(temp) - np.min(temp))"
      ],
      "metadata": {
        "id": "89KCF5luG3Wa"
      },
      "execution_count": 8,
      "outputs": []
    },
    {
      "cell_type": "code",
      "source": [
        "\n",
        "def standardScaling(X):\n",
        "  for col in range(1, X.shape[1]):\n",
        "    temp = X[:, col]\n",
        "    X[:, col] = (temp - np.mean(temp)) / (np.std(temp))"
      ],
      "metadata": {
        "id": "O80xSA93HbZO"
      },
      "execution_count": 9,
      "outputs": []
    },
    {
      "cell_type": "code",
      "source": [
        "def Logistic_Regression():\n",
        "    X, y = readData(\"/content/gdrive/Mydrive/\", 'ex2data1.txt')\n",
        "    X_train, X_test, y_train, y_test = train_test_split(X, y, test_size=0.3,\n",
        "                                                        random_state = 5)\n",
        "    standardScaling(X_train)\n",
        "    standardScaling(X_test)\n",
        "    classifier = LogisticRegression()\n",
        "    classifier.fit(X_train, y_train)\n",
        "    y_pred = classifier.predict(X_test)\n",
        "    print(\"Đánh giá hiệu năng mô hình\")\n",
        "    print(\"\\tAccuracy: \",accuracy_score(y_test, y_pred))\n"
      ],
      "metadata": {
        "id": "yplIP5TeHdc3"
      },
      "execution_count": 11,
      "outputs": []
    }
  ]
}