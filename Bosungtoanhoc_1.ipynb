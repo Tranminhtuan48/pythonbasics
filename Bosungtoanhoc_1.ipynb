{
  "nbformat": 4,
  "nbformat_minor": 0,
  "metadata": {
    "colab": {
      "provenance": [],
      "authorship_tag": "ABX9TyP9l2hq0X/m89TNB3K6sl/l",
      "include_colab_link": true
    },
    "kernelspec": {
      "name": "python3",
      "display_name": "Python 3"
    },
    "language_info": {
      "name": "python"
    }
  },
  "cells": [
    {
      "cell_type": "markdown",
      "metadata": {
        "id": "view-in-github",
        "colab_type": "text"
      },
      "source": [
        "<a href=\"https://colab.research.google.com/github/Tranminhtuan48/pythonbasics/blob/main/Bosungtoanhoc_1.ipynb\" target=\"_parent\"><img src=\"https://colab.research.google.com/assets/colab-badge.svg\" alt=\"Open In Colab\"/></a>"
      ]
    },
    {
      "cell_type": "code",
      "execution_count": 3,
      "metadata": {
        "id": "akAtrhpzGxsE"
      },
      "outputs": [],
      "source": [
        "import numpy as np"
      ]
    },
    {
      "cell_type": "code",
      "source": [
        "#1\n",
        "v = np.array([1,2,3,4,5])"
      ],
      "metadata": {
        "id": "CHVehyp6Hd7_"
      },
      "execution_count": 9,
      "outputs": []
    },
    {
      "cell_type": "code",
      "source": [
        "#2\n",
        "w = np.array([1,2,3,4,5]).reshape(1,-1)"
      ],
      "metadata": {
        "id": "zlDIhdX4HqR1"
      },
      "execution_count": 12,
      "outputs": []
    },
    {
      "cell_type": "code",
      "source": [
        "#3\n",
        "v.ndim\n",
        "w.ndim\n",
        "v.shape\n",
        "w.shape"
      ],
      "metadata": {
        "colab": {
          "base_uri": "https://localhost:8080/"
        },
        "id": "9SR6xgKxIS9G",
        "outputId": "61bc862c-b8cf-4e37-a4bb-bdfc214c3bdc"
      },
      "execution_count": 13,
      "outputs": [
        {
          "output_type": "execute_result",
          "data": {
            "text/plain": [
              "(1, 5)"
            ]
          },
          "metadata": {},
          "execution_count": 13
        }
      ]
    },
    {
      "cell_type": "code",
      "source": [
        "#4\n",
        "u = np.array([1,2,3,4,5])\n",
        "v = np.array([6,7,8,9,0])\n",
        "np.column_stack((u,v))\n",
        "np.hstack((u,v))"
      ],
      "metadata": {
        "colab": {
          "base_uri": "https://localhost:8080/"
        },
        "id": "DkDyJ3QNIksu",
        "outputId": "c7c3ad6f-338a-45e1-a410-5c196f0e45a8"
      },
      "execution_count": 15,
      "outputs": [
        {
          "output_type": "execute_result",
          "data": {
            "text/plain": [
              "array([1, 2, 3, 4, 5, 6, 7, 8, 9, 0])"
            ]
          },
          "metadata": {},
          "execution_count": 15
        }
      ]
    },
    {
      "cell_type": "code",
      "source": [
        "#5\n",
        "X = np.array([[[1,2,3,4,5], [6,7,8,9,2], [4,5,7,2,1]]])\n",
        "X"
      ],
      "metadata": {
        "colab": {
          "base_uri": "https://localhost:8080/"
        },
        "id": "aQV-MW2zJziu",
        "outputId": "4b5de8bf-72f0-4d6c-af1e-7c5fa206ec4d"
      },
      "execution_count": 41,
      "outputs": [
        {
          "output_type": "execute_result",
          "data": {
            "text/plain": [
              "array([[[1, 2, 3, 4, 5],\n",
              "        [6, 7, 8, 9, 2],\n",
              "        [4, 5, 7, 2, 1]]])"
            ]
          },
          "metadata": {},
          "execution_count": 41
        }
      ]
    },
    {
      "cell_type": "code",
      "source": [
        "X.reshape(3,5)\n",
        "X.ndim"
      ],
      "metadata": {
        "colab": {
          "base_uri": "https://localhost:8080/"
        },
        "id": "ydyilRe6KoPA",
        "outputId": "171a4c55-479e-46cc-c9b8-4ac27093e2d2"
      },
      "execution_count": 26,
      "outputs": [
        {
          "output_type": "execute_result",
          "data": {
            "text/plain": [
              "3"
            ]
          },
          "metadata": {},
          "execution_count": 26
        }
      ]
    },
    {
      "cell_type": "code",
      "source": [
        "t = np.dot(X,v)\n",
        "t.ndim\n",
        "t"
      ],
      "metadata": {
        "colab": {
          "base_uri": "https://localhost:8080/"
        },
        "id": "AgXah2YIMKzH",
        "outputId": "98c5b968-0947-4b31-f373-90e19bb40bb0"
      },
      "execution_count": 34,
      "outputs": [
        {
          "output_type": "execute_result",
          "data": {
            "text/plain": [
              "array([[ 80, 230, 133]])"
            ]
          },
          "metadata": {},
          "execution_count": 34
        }
      ]
    },
    {
      "cell_type": "code",
      "source": [
        "k = np.dot(X, np.transpose(w))\n",
        "k.ndim\n",
        "k"
      ],
      "metadata": {
        "colab": {
          "base_uri": "https://localhost:8080/"
        },
        "id": "Nw2HZSXYMpgf",
        "outputId": "49f64ba9-ee9b-4e97-e7de-cf841314c269"
      },
      "execution_count": 35,
      "outputs": [
        {
          "output_type": "execute_result",
          "data": {
            "text/plain": [
              "array([[[55],\n",
              "        [90],\n",
              "        [48]]])"
            ]
          },
          "metadata": {},
          "execution_count": 35
        }
      ]
    },
    {
      "cell_type": "code",
      "source": [
        "np.transpose(X)"
      ],
      "metadata": {
        "colab": {
          "base_uri": "https://localhost:8080/"
        },
        "id": "Eypu9aVTM-pl",
        "outputId": "16282f64-65c9-4400-ea5c-01822d5ac451"
      },
      "execution_count": 39,
      "outputs": [
        {
          "output_type": "execute_result",
          "data": {
            "text/plain": [
              "array([[[1],\n",
              "        [6],\n",
              "        [4]],\n",
              "\n",
              "       [[2],\n",
              "        [7],\n",
              "        [5]],\n",
              "\n",
              "       [[3],\n",
              "        [8],\n",
              "        [7]],\n",
              "\n",
              "       [[4],\n",
              "        [9],\n",
              "        [2]],\n",
              "\n",
              "       [[5],\n",
              "        [2],\n",
              "        [1]]])"
            ]
          },
          "metadata": {},
          "execution_count": 39
        }
      ]
    }
  ]
}