{
  "nbformat": 4,
  "nbformat_minor": 0,
  "metadata": {
    "colab": {
      "name": "Uoc _Luong.ipynb",
      "provenance": [],
      "include_colab_link": true
    },
    "kernelspec": {
      "name": "python3",
      "display_name": "Python 3"
    },
    "language_info": {
      "name": "python"
    }
  },
  "cells": [
    {
      "cell_type": "markdown",
      "metadata": {
        "id": "view-in-github",
        "colab_type": "text"
      },
      "source": [
        "<a href=\"https://colab.research.google.com/github/Tranminhtuan48/pythonbasics/blob/main/Uoc__Luong.ipynb\" target=\"_parent\"><img src=\"https://colab.research.google.com/assets/colab-badge.svg\" alt=\"Open In Colab\"/></a>"
      ]
    },
    {
      "cell_type": "code",
      "source": [
        "import numpy as np\n",
        "from scipy import stats\n",
        "from math import sqrt"
      ],
      "metadata": {
        "id": "HJ54MofrM1Dj"
      },
      "execution_count": null,
      "outputs": []
    },
    {
      "cell_type": "code",
      "source": [
        "# Xây dựng hàm ước lượng:\n",
        "def norm_interval(data, alpha, std, type_interval = \"two\"):\n",
        "  mean = np.mean(data)\n",
        "  if type_interval == \"two\":\n",
        "    z = - stats.norm.ppf((1 - alpha) /2)\n",
        "    m = mean - z * (std/sqrt(len(data)))\n",
        "    n = mean + z * (std/sqrt(len(data)))\n",
        "    return m, n\n",
        "  elif type_interval == \"lower\":\n",
        "    z = - stats.norm.ppf(1 - alpha)\n",
        "    return mean - z * (std/sqrt(len(data)))\n",
        "  else:\n",
        "    z = - stats.norm.ppf(1 - alpha)\n",
        "    return mean + z * (std/sqrt(len(data)))"
      ],
      "metadata": {
        "id": "T2wTd51cS_RM"
      },
      "execution_count": null,
      "outputs": []
    },
    {
      "cell_type": "markdown",
      "source": [
        "#VD_5"
      ],
      "metadata": {
        "id": "fAe7-_OeEMvD"
      }
    },
    {
      "cell_type": "code",
      "source": [
        "data = [11.5, 11.5, 11.5, 11.5, 11.5,\n",
        "        11.6, 11.6, 11.6, 11.6, 11.6, 11.6, 11.6, 11.6,\n",
        "        11.7, 11.7, 11.7, 11.7,\n",
        "        11.8, 11.8, 11.8, 11.8, 11.8, 11.8,\n",
        "        11.9,\n",
        "        12]\n",
        "norm_interval(data, 0.95, 0.2)"
      ],
      "metadata": {
        "colab": {
          "base_uri": "https://localhost:8080/"
        },
        "id": "mVC54HgWMUWw",
        "outputId": "4276449b-1ff0-4f3e-c989-35ca672f93cb"
      },
      "execution_count": null,
      "outputs": [
        {
          "output_type": "execute_result",
          "data": {
            "text/plain": [
              "(11.593601440618396, 11.750398559381601)"
            ]
          },
          "metadata": {},
          "execution_count": 19
        }
      ]
    },
    {
      "cell_type": "markdown",
      "source": [
        "#VD_6"
      ],
      "metadata": {
        "id": "KGQcHghYEXxO"
      }
    },
    {
      "cell_type": "code",
      "source": [
        "print(\"Ước lượng tối thiểu với độ tin cậy 99%: \",\n",
        "      norm_interval(data, 0.99, 0.2, type_interval=\"lower\"))\n",
        "print(\"Ước lượng tối đa với độ tin cậy 99%: \",\n",
        "      norm_interval(data, 0.99, 0.2, type_interval=\"upper\"))"
      ],
      "metadata": {
        "colab": {
          "base_uri": "https://localhost:8080/"
        },
        "id": "rnH64swvOjOC",
        "outputId": "2e4d39e2-672b-4d7d-a8ac-14fee8834b17"
      },
      "execution_count": null,
      "outputs": [
        {
          "output_type": "stream",
          "name": "stdout",
          "text": [
            "Ước lượng tối thiểu với độ tin cậy 99%:  11.578946085038366\n",
            "Ước lượng tối đa với độ tin cậy 99%:  11.765053914961632\n"
          ]
        }
      ]
    },
    {
      "cell_type": "markdown",
      "source": [
        "#VD_7"
      ],
      "metadata": {
        "id": "ZmIk7lHOEcF9"
      }
    },
    {
      "cell_type": "code",
      "source": [
        "stats.t.interval(alpha = 0.95, df = 25 - 1, \n",
        "                 loc = np.mean(data), scale = stats.sem(data))"
      ],
      "metadata": {
        "colab": {
          "base_uri": "https://localhost:8080/"
        },
        "id": "dMOrG3IjYWGI",
        "outputId": "d60d0513-4c2e-4428-b63c-51c8f183daca"
      },
      "execution_count": null,
      "outputs": [
        {
          "output_type": "execute_result",
          "data": {
            "text/plain": [
              "(11.615452694676348, 11.72854730532365)"
            ]
          },
          "metadata": {},
          "execution_count": 28
        }
      ]
    },
    {
      "cell_type": "markdown",
      "source": [
        "#VD_8"
      ],
      "metadata": {
        "id": "RKMpzoHeEf1r"
      }
    },
    {
      "cell_type": "code",
      "source": [
        "z = - stats.norm.ppf((1 - 0.95)/ 2)\n",
        "e = 0.05\n",
        "std = 0.2\n",
        "print(\"Mẫu tối thiểu cần phải lấy là :\", int((z/e * std)**2)+1)"
      ],
      "metadata": {
        "colab": {
          "base_uri": "https://localhost:8080/"
        },
        "id": "VWmS0bwHZXZM",
        "outputId": "062904a1-4443-4bf8-dd61-41a6371111da"
      },
      "execution_count": null,
      "outputs": [
        {
          "output_type": "stream",
          "name": "stdout",
          "text": [
            "Mẫu tối thiểu cần phải lấy là : 62\n"
          ]
        }
      ]
    },
    {
      "cell_type": "markdown",
      "source": [
        "#VD_9"
      ],
      "metadata": {
        "id": "Le9DChxHalyD"
      }
    },
    {
      "cell_type": "code",
      "source": [
        "t = - stats.t.ppf((1 - 0.95)/ 2, df = 25 - 1)\n",
        "e = 0.05\n",
        "std = np.std(data, ddof = 1)\n",
        "print(\"Mẫu tối thiểu cần phải lấy là :\", int((t/e * std)**2)+1)"
      ],
      "metadata": {
        "colab": {
          "base_uri": "https://localhost:8080/"
        },
        "id": "k_vXOUWramc9",
        "outputId": "dd3fca3a-af5d-48ee-9075-4680aad29be6"
      },
      "execution_count": null,
      "outputs": [
        {
          "output_type": "stream",
          "name": "stdout",
          "text": [
            "Mẫu tối thiểu cần phải lấy là : 32\n"
          ]
        }
      ]
    },
    {
      "cell_type": "markdown",
      "source": [
        "#VD_10"
      ],
      "metadata": {
        "id": "5qtFrh_3Enpy"
      }
    },
    {
      "cell_type": "code",
      "source": [
        "var = 0.0153\n",
        "df = 20 - 1\n",
        "chi2 = stats.chi2.ppf(1 - 0.95, df)\n",
        "print(\"Ước lượng tối đa cho độ chính xăc: \",\n",
        "      (var * df) / chi2)"
      ],
      "metadata": {
        "colab": {
          "base_uri": "https://localhost:8080/"
        },
        "id": "GsrARR9ybTfN",
        "outputId": "042b3132-14e0-44f9-8b85-036336b33793"
      },
      "execution_count": null,
      "outputs": [
        {
          "output_type": "stream",
          "name": "stdout",
          "text": [
            "Ước lượng tối đa cho độ chính xăc:  0.02873377726855627\n"
          ]
        }
      ]
    },
    {
      "cell_type": "markdown",
      "source": [
        "#VD_11"
      ],
      "metadata": {
        "id": "5R7aVeiEEve_"
      }
    },
    {
      "cell_type": "code",
      "source": [
        "def proportion_interval(n, m, alpha):\n",
        "  f = m / n\n",
        "  z = - stats.norm.ppf((1 - alpha) / 2)\n",
        "  x = f - sqrt(f * (1-f)) / sqrt(n) * z\n",
        "  y = f + sqrt(f * (1-f)) / sqrt(n) * z\n",
        "  return x, y"
      ],
      "metadata": {
        "id": "UgOMGI7hcUbQ"
      },
      "execution_count": null,
      "outputs": []
    },
    {
      "cell_type": "code",
      "source": [
        "proportion_interval(n = 100, m = 12, alpha = 0.95)"
      ],
      "metadata": {
        "colab": {
          "base_uri": "https://localhost:8080/"
        },
        "id": "grhBrdIjgMvw",
        "outputId": "b0284da3-dc6f-40ae-86e7-4d6eff26590b"
      },
      "execution_count": null,
      "outputs": [
        {
          "output_type": "execute_result",
          "data": {
            "text/plain": [
              "(0.05630870927157311, 0.18369129072842688)"
            ]
          },
          "metadata": {},
          "execution_count": 65
        }
      ]
    }
  ]
}