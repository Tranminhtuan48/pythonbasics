{
  "cells": [
    {
      "cell_type": "markdown",
      "metadata": {
        "id": "view-in-github",
        "colab_type": "text"
      },
      "source": [
        "<a href=\"https://colab.research.google.com/github/Tranminhtuan48/pythonbasics/blob/main/LogisticRegression.ipynb\" target=\"_parent\"><img src=\"https://colab.research.google.com/assets/colab-badge.svg\" alt=\"Open In Colab\"/></a>"
      ]
    },
    {
      "cell_type": "markdown",
      "id": "c6c354d6",
      "metadata": {
        "id": "c6c354d6"
      },
      "source": [
        "Bước 1: Mô tả dữ liệu"
      ]
    },
    {
      "cell_type": "code",
      "execution_count": null,
      "id": "d23b7aca",
      "metadata": {
        "id": "d23b7aca"
      },
      "outputs": [],
      "source": [
        "import numpy as  np\n",
        "import os"
      ]
    },
    {
      "cell_type": "code",
      "source": [
        "from google.colab import drive\n",
        "drive.mount('/content/gdrive')"
      ],
      "metadata": {
        "id": "Ddei6kJDotPt",
        "colab": {
          "base_uri": "https://localhost:8080/"
        },
        "outputId": "658ae955-57f1-46f5-dab7-36d6d6e47131"
      },
      "id": "Ddei6kJDotPt",
      "execution_count": null,
      "outputs": [
        {
          "output_type": "stream",
          "name": "stdout",
          "text": [
            "Mounted at /content/gdrive\n"
          ]
        }
      ]
    },
    {
      "cell_type": "code",
      "execution_count": null,
      "id": "47b6a3fc",
      "metadata": {
        "id": "47b6a3fc"
      },
      "outputs": [],
      "source": [
        "def readData(filePath: str, filename: str):\n",
        "    data = np.loadtxt(os.path.join(filePath, filename), delimiter = ',')\n",
        "    X = data[:,:-1]\n",
        "    y = data[:, -1]\n",
        "    m = X.shape[0]\n",
        "    n = X.shape[1]\n",
        "    X = np.reshape(X, (m,n))\n",
        "    y = np.reshape(y, (m,1))\n",
        "    #Them cot x0 = 1 vao X\n",
        "    x0 = np.ones((m,1))\n",
        "    X = np.column_stack([x0, X])\n",
        "    return X, y"
      ]
    },
    {
      "cell_type": "code",
      "execution_count": null,
      "id": "7aa03b30",
      "metadata": {
        "id": "7aa03b30"
      },
      "outputs": [],
      "source": [
        "def featureVectorScaling(data):\n",
        "    avg = np.mean(data)\n",
        "    sln = data.max()\n",
        "    snn = data.min()\n",
        "    data_scl = (data - avg)/(sln - snn)\n",
        "    print(data_scl[1])\n",
        "    return data_scl\n",
        "\n",
        "def normalizeData(X):\n",
        "    X_scl = X[:, 0]\n",
        "    for i in range(1, X.shape[1]):\n",
        "        scl = featureVectorScaling(X[:, i])\n",
        "        X_scl = np.column_stack([X_scl, scl])\n",
        "    return X_scl"
      ]
    },
    {
      "cell_type": "code",
      "execution_count": null,
      "id": "91b48718",
      "metadata": {
        "id": "91b48718"
      },
      "outputs": [],
      "source": [
        "#Day chinh la ham  hw(X)\n",
        "def sigmoid(X, w):\n",
        "    result = 1/(1 + np.exp(-np.dot(X, w)))\n",
        "    return result"
      ]
    },
    {
      "cell_type": "code",
      "execution_count": null,
      "id": "164a50e5",
      "metadata": {
        "id": "164a50e5"
      },
      "outputs": [],
      "source": [
        "def loss(X, y, w):\n",
        "    m = y.shape[0]\n",
        "    result = (-1/m)*np.sum(np.dot(y.T, np.log(sigmoid(X, w))) + np.dot((1 - y).T, np.log(1 - sigmoid(X, w))))\n",
        "    return result"
      ]
    },
    {
      "cell_type": "code",
      "execution_count": null,
      "id": "42fea66f",
      "metadata": {
        "id": "42fea66f"
      },
      "outputs": [],
      "source": [
        "def gradient(X, y, w):\n",
        "    m = X.shape[0]\n",
        "    result = (1/m)*np.dot(X.T, sigmoid(X, w) - y)\n",
        "    return result"
      ]
    },
    {
      "cell_type": "code",
      "execution_count": null,
      "id": "65019a5b",
      "metadata": {
        "id": "65019a5b"
      },
      "outputs": [],
      "source": [
        "def gradientDescent(X, y, w, alpha, n_iters):\n",
        "    w_optimal = w.copy()\n",
        "    J_history = []\n",
        "    for i in range(n_iters):\n",
        "        w_optimal = w_optimal - alpha*gradient(X, y, w_optimal)\n",
        "        J_history.append(loss(X, y, w_optimal))\n",
        "    return w_optimal, J_history"
      ]
    },
    {
      "cell_type": "code",
      "execution_count": null,
      "id": "60905f5f",
      "metadata": {
        "id": "60905f5f",
        "outputId": "9e2a149b-77de-4502-e080-5401ec7d97da"
      },
      "outputs": [
        {
          "name": "stdout",
          "output_type": "stream",
          "text": [
            "-0.5067801656080071\n",
            "-0.3270580397857178\n",
            "Ket qua la: \n",
            "\t\tTrong so w toi uu la:  [[0.41683919]\n",
            " [1.31218868]\n",
            " [1.15423699]]\n",
            "\t\tGia tri Loss toi uu:  0.5186665295508813\n"
          ]
        }
      ],
      "source": [
        "def LogisticRegression():\n",
        "    X, y = readData(\"/content/gdrive/My Drive/\", 'ex2data1.txt')\n",
        "    X_scl = normalizeData(X)\n",
        "    n = X_scl.shape[1]\n",
        "    w = np.zeros((n, 1))\n",
        "    alpha = 0.01\n",
        "    n_iters = 2000\n",
        "    w_opt, J_hist = gradientDescent(X_scl, y, w, alpha, n_iters)\n",
        "    print(\"Ket qua la: \")\n",
        "    print('\\t\\tTrong so w toi uu la: ', w_opt)\n",
        "    print('\\t\\tGia tri Loss toi uu: ', J_hist[-1])\n",
        "\n",
        "LogisticRegression()"
      ]
    },
    {
      "cell_type": "code",
      "execution_count": null,
      "id": "971f19fc",
      "metadata": {
        "id": "971f19fc"
      },
      "outputs": [],
      "source": []
    }
  ],
  "metadata": {
    "kernelspec": {
      "display_name": "Python 3 (ipykernel)",
      "language": "python",
      "name": "python3"
    },
    "language_info": {
      "codemirror_mode": {
        "name": "ipython",
        "version": 3
      },
      "file_extension": ".py",
      "mimetype": "text/x-python",
      "name": "python",
      "nbconvert_exporter": "python",
      "pygments_lexer": "ipython3",
      "version": "3.9.7"
    },
    "colab": {
      "provenance": [],
      "include_colab_link": true
    }
  },
  "nbformat": 4,
  "nbformat_minor": 5
}