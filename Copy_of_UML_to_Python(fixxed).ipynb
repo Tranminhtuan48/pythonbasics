{
  "nbformat": 4,
  "nbformat_minor": 0,
  "metadata": {
    "colab": {
      "name": "Copy of UML_to_Python(fixxed).ipynb",
      "provenance": [],
      "collapsed_sections": [],
      "authorship_tag": "ABX9TyOlSUQo9ZiwG+gj4eEE7J6L",
      "include_colab_link": true
    },
    "kernelspec": {
      "name": "python3",
      "display_name": "Python 3"
    },
    "language_info": {
      "name": "python"
    }
  },
  "cells": [
    {
      "cell_type": "markdown",
      "metadata": {
        "id": "view-in-github",
        "colab_type": "text"
      },
      "source": [
        "<a href=\"https://colab.research.google.com/github/Tranminhtuan48/pythonbasics/blob/main/Copy_of_UML_to_Python(fixxed).ipynb\" target=\"_parent\"><img src=\"https://colab.research.google.com/assets/colab-badge.svg\" alt=\"Open In Colab\"/></a>"
      ]
    },
    {
      "cell_type": "code",
      "metadata": {
        "id": "0XrNasgnfxcs"
      },
      "source": [
        "class Payment:\n",
        "    def __init__(self, amount:float):\n",
        "        self.amount = amount\n",
        "\n",
        "class Cash(Payment):\n",
        "    def __init__(self, amount:float, cashTendered:float):\n",
        "        super().__init__(amount)\n",
        "        self.cashTendered = cashTendered\n",
        "\n",
        "class Check(Payment):\n",
        "    def __init__(self, amount:float, name:str, bankID:str):\n",
        "        super().__init__(amount)\n",
        "        self.name = name\n",
        "        self.bankID = bankID\n",
        "\n",
        "class Credit(Payment):\n",
        "    def __init__(self, amount:float, number:str, type:str, expDate):\n",
        "        super().__init__(amount)\n",
        "        self.number = number\n",
        "        self.type = type\n",
        "        self.expDate = expDate\n",
        "\n",
        "class Item:\n",
        "    def __init__(self, shippingWeight, description:str):\n",
        "        self.shippingWeight = shippingWeight\n",
        "        self.description = description\n",
        "\n",
        "    def getPriceForQuantity():\n",
        "        pass\n",
        "\n",
        "    def getTax():\n",
        "        pass\n",
        "\n",
        "    def inStock():\n",
        "        pass\n",
        "\n",
        "class OrderDetail(Item):\n",
        "    def __init__(self, shipping, description:str, quantity, taxStatus:str):\n",
        "        super().__init__(shipping, description)\n",
        "        self.quantity = quantity\n",
        "        self.taxStatus = taxStatus\n",
        "\n",
        "    def calcSubTotal():\n",
        "        pass\n",
        "\n",
        "    def calcWeight():\n",
        "        pass\n",
        "\n",
        "    def calcTax():\n",
        "        pass\n",
        "\n",
        "class Order:\n",
        "    detail: list[OrderDetail]\n",
        "    def __init__(self, date, status:str, detail):\n",
        "        self.date = date\n",
        "        self.status = status\n",
        "        self.detail = []\n",
        "\n",
        "    def calcSubTotal():\n",
        "        pass\n",
        "\n",
        "    def calcTax():\n",
        "        pass\n",
        "\n",
        "    def calcTotal():\n",
        "        pass\n",
        "\n",
        "    def calcTotalWeight():\n",
        "        pass\n",
        "\n",
        "class Customer:\n",
        "    def __init__(self, name:str, address):\n",
        "        self.name = name\n",
        "        self.address = address"
      ],
      "execution_count": null,
      "outputs": []
    }
  ]
}