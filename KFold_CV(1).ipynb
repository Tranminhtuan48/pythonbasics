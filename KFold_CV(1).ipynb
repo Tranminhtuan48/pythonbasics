{
  "nbformat": 4,
  "nbformat_minor": 0,
  "metadata": {
    "colab": {
      "provenance": [],
      "authorship_tag": "ABX9TyMzAXAxj+LuTRCtzmFXzD/u",
      "include_colab_link": true
    },
    "kernelspec": {
      "name": "python3",
      "display_name": "Python 3"
    },
    "language_info": {
      "name": "python"
    }
  },
  "cells": [
    {
      "cell_type": "markdown",
      "metadata": {
        "id": "view-in-github",
        "colab_type": "text"
      },
      "source": [
        "<a href=\"https://colab.research.google.com/github/Tranminhtuan48/pythonbasics/blob/main/KFold_CV(1).ipynb\" target=\"_parent\"><img src=\"https://colab.research.google.com/assets/colab-badge.svg\" alt=\"Open In Colab\"/></a>"
      ]
    },
    {
      "cell_type": "code",
      "execution_count": 3,
      "metadata": {
        "id": "Uas50TOCL6RE"
      },
      "outputs": [],
      "source": [
        "import os\n",
        "import numpy as np\n",
        "from sklearn.model_selection import train_test_split\n",
        "from sklearn.model_selection import cross_val_score\n",
        "from sklearn.preprocessing import StandardScaler\n",
        "from sklearn.linear_model import LogisticRegression"
      ]
    },
    {
      "cell_type": "code",
      "source": [
        "from google.colab import drive\n",
        "drive.mount('/content/gdrive')"
      ],
      "metadata": {
        "colab": {
          "base_uri": "https://localhost:8080/"
        },
        "id": "YK23WZAPMFsM",
        "outputId": "d875b1ca-1023-4083-b2e2-46f1ee20e853"
      },
      "execution_count": 2,
      "outputs": [
        {
          "output_type": "stream",
          "name": "stdout",
          "text": [
            "Mounted at /content/gdrive\n"
          ]
        }
      ]
    },
    {
      "cell_type": "code",
      "source": [
        "def featureScaling(X_train, X_test):\n",
        "    sc = StandardScaler()\n",
        "    X_train = sc.fit_transform(X_train)\n",
        "    X_test = sc.transform(X_test)\n",
        "    return X_train, X_test"
      ],
      "metadata": {
        "id": "8ti6MdcrMHnR"
      },
      "execution_count": 4,
      "outputs": []
    },
    {
      "cell_type": "code",
      "source": [
        "def checkTypeDependentData(y_train):\n",
        "    unique, counts = np.unique(y_train, return_counts=True)\n",
        "    result = dict(zip(unique, counts))\n",
        "    print(result)\n",
        "    return result"
      ],
      "metadata": {
        "id": "apd5MeWFMgPe"
      },
      "execution_count": 5,
      "outputs": []
    },
    {
      "cell_type": "code",
      "source": [
        "def crossValScore(model, X_train, y_train, cv=10, scoring='accuracy'):\n",
        "    scores = cross_val_score(model, X_train, y_train, cv=10, scoring=scoring)\n",
        "    print('Kết quả huấn luyên 10-fold cv')\n",
        "    print('\\t', scores)\n",
        "    return score"
      ],
      "metadata": {
        "id": "rtRsQDHZMiuX"
      },
      "execution_count": 6,
      "outputs": []
    },
    {
      "cell_type": "code",
      "source": [
        "def KFold_CV():\n",
        "    X, y = readData(\"/content/gdrive/My Drive/\", 'ex2data2.txt')\n",
        "    X_train, X_test, y_train, y_test = train_test_split(X, y, test_size=0.30, random_state=15)\n",
        "    X_train, X_test = featureScaling(X_train, X_test)\n",
        "    result = checkTypeDependentData(y_train)\n",
        "    classifier = LogisticRegression(solver='liblinear', max_iter=1500, multi_class='auto')\n",
        "    scores = crossValScore(classifier, X_train, y_train, cv=10, scoring='accuracy')"
      ],
      "metadata": {
        "id": "YuDbRq7TMlaW"
      },
      "execution_count": 7,
      "outputs": []
    }
  ]
}