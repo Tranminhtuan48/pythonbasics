{
  "nbformat": 4,
  "nbformat_minor": 0,
  "metadata": {
    "colab": {
      "name": "Lập trình tập tin nâng cao.ipynb",
      "provenance": [],
      "collapsed_sections": [],
      "include_colab_link": true
    },
    "kernelspec": {
      "name": "python3",
      "display_name": "Python 3"
    },
    "language_info": {
      "name": "python"
    }
  },
  "cells": [
    {
      "cell_type": "markdown",
      "metadata": {
        "id": "view-in-github",
        "colab_type": "text"
      },
      "source": [
        "<a href=\"https://colab.research.google.com/github/Tranminhtuan48/pythonbasics/blob/main/L%E1%BA%ADp_tr%C3%ACnh_t%E1%BA%ADp_tin_n%C3%A2ng_cao(9/11).ipynb\" target=\"_parent\"><img src=\"https://colab.research.google.com/assets/colab-badge.svg\" alt=\"Open In Colab\"/></a>"
      ]
    },
    {
      "cell_type": "code",
      "metadata": {
        "id": "H1-PYDtreo2Z"
      },
      "source": [
        "import pickle\n",
        "import random\n",
        "class Person:\n",
        "  def __init__(self, name, phone_number, email):\n",
        "    self.name = name\n",
        "    self.phone_number = phone_number\n",
        "    self.email = email\n",
        "\n",
        "class Student(Person):\n",
        "  def __init__(self, name, phone_number, email, student_number, average_mark):\n",
        "    super().__init__(name, phone_number, email)\n",
        "    self.student_number = student_number\n",
        "    self.average_mark = average_mark\n",
        "\n",
        "class Professor(Person):\n",
        "  def __init__(self, name, phone_number, email, salary):\n",
        "    super().__init__(name, phone_number, email)\n",
        "    self.salary = salary\n",
        "\n",
        "perSon = []\n",
        "for i in range(10):\n",
        "  name = input(\"Name: \")\n",
        "  phone = random.randint(1000000, 100000000)\n",
        "  email = name + \"@gmail.com\"\n",
        "  perSon.append(vars(Person(name, phone, email))) #Person(name, phone, email).__dict__\n",
        "newper = sorted(perSon, key=lambda k:k['name'], reverse=True)\n",
        "print(newper)\n",
        "\n",
        "stuDent = []\n",
        "Name = [\"John\", \"Tuan\", \"Linda\", \"Hai\", \"My\", \"heo\", \"ca\", \"gia\", \"lien\", \"thao\"]\n",
        "for i in range(10):\n",
        "  name = random.choice(Name)\n",
        "  phone = random.randint(1000000000, 9999999999)\n",
        "  email = name + \"@gmail.com\"\n",
        "  student_number = random.randint(1,100)\n",
        "  average_mark = random.randint(1,10)\n",
        "  \n",
        "  hs = Student(name, phone, email, student_number, average_mark)\n",
        "  stuDent.append(vars(hs))\n",
        "print(stuDent)\n",
        "newstu = sorted(stuDent, key=lambda k:k['average_mark'], reverse=True)\n",
        "newstu\n",
        "\n",
        "proF = []\n",
        "Name = [\"cuong\", \"dung\", \"mau\", \"lich\", \"thai\", \"viet\", \"xuan\", \"tien\", \"kien\", \"giang\"]\n",
        "for i in range(10): \n",
        "  name = random.choice(Name)\n",
        "  phone = random.randint(1000000000, 9999999999)\n",
        "  email = name + \"@gmail.com\"\n",
        "  salary = random.randint(10000000, 99999999)\n",
        "\n",
        "  luong = Professor(name, phone, email, salary)\n",
        "  proF.append(vars(luong))\n",
        "  newpro = sorted(proF, key=lambda k:k['salary'], reverse=False)\n",
        "print(proF)\n",
        "newpro\n",
        "\n",
        "f = open('Person', 'wb')\n",
        "pickle.dump(newper, f)\n",
        "f.close()\n",
        "f = open(\"Person\", \"rb\")\n",
        "print(\"Person\\n\", pickle.load(f))\n",
        "f.close()\n",
        "\n",
        "s = open(\"Student\", \"wb\")\n",
        "pickle.dump(newstu, s)\n",
        "s.close()\n",
        "s = open(\"Student\", \"rb\")\n",
        "print(\"Student\\n\", pickle.load(s))\n",
        "s.close()\n",
        "\n",
        "x = open(\"Professor\", \"wb\")\n",
        "pickle.dump(newpro, x)\n",
        "x.close()\n",
        "x = open(\"Professor\", \"rb\")\n",
        "print(\"Professor\\n\", pickle.load(x))\n",
        "x.close()"
      ],
      "execution_count": null,
      "outputs": []
    }
  ]
}