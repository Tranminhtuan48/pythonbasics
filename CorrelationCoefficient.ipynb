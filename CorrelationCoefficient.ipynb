{
  "nbformat": 4,
  "nbformat_minor": 0,
  "metadata": {
    "colab": {
      "name": "CorrelationCoefficient.ipynb",
      "provenance": [],
      "include_colab_link": true
    },
    "kernelspec": {
      "name": "python3",
      "display_name": "Python 3"
    },
    "language_info": {
      "name": "python"
    }
  },
  "cells": [
    {
      "cell_type": "markdown",
      "metadata": {
        "id": "view-in-github",
        "colab_type": "text"
      },
      "source": [
        "<a href=\"https://colab.research.google.com/github/Tranminhtuan48/pythonbasics/blob/main/CorrelationCoefficient.ipynb\" target=\"_parent\"><img src=\"https://colab.research.google.com/assets/colab-badge.svg\" alt=\"Open In Colab\"/></a>"
      ]
    },
    {
      "cell_type": "markdown",
      "source": [
        "Hệ số tương quan là chỉ số thống kê đo lường mức độ mạnh yếu của mối quan hệ giữa hai biến số.\n",
        "Hệ số tương quan có giá trị trong khoảng từ -1 đến +1:\n",
        "\n",
        "- r = 0: Hai biến không có tương quan tuyến tính\n",
        "- r = 1; r = -1: Hai biến có mối tương quan tuyến tính tuyệt đối.\n",
        "- r < 0: Hệ số tương quan âm. Nghĩa là giá trị biến x tăng thì giá trị biến y giảm và ngược lại, giá trị biến y tăng thì giá trị biến x giảm.\n",
        "- r > 0: Hệ số tương quan dương. Nghĩa là giá trị biến x tăng thì giá trị biến y tăng và ngược lại, giá trị biến y tăng thì giá trị biến x cũng tăng."
      ],
      "metadata": {
        "id": "gcZ4JFuZCHLi"
      }
    },
    {
      "cell_type": "markdown",
      "source": [
        "- Nếu r nằm trong khoảng từ 0,50 đến ± 1, thì nó được cho là tương quan mạnh.\n",
        "- Nếu r nằm trong khoảng từ 0,30 đến ± 0,49, thì nó được gọi là tương quan trung bình.\n",
        "- Nếu r nằm dưới ± .29, thì nó được gọi là một mối tương quan yếu."
      ],
      "metadata": {
        "id": "uPgBDwg2CqFY"
      }
    }
  ]
}