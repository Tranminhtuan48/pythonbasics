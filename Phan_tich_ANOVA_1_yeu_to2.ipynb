{
  "cells": [
    {
      "cell_type": "markdown",
      "metadata": {
        "id": "view-in-github",
        "colab_type": "text"
      },
      "source": [
        "<a href=\"https://colab.research.google.com/github/Tranminhtuan48/pythonbasics/blob/main/Phan_tich_ANOVA_1_yeu_to2.ipynb\" target=\"_parent\"><img src=\"https://colab.research.google.com/assets/colab-badge.svg\" alt=\"Open In Colab\"/></a>"
      ]
    },
    {
      "cell_type": "markdown",
      "metadata": {
        "id": "xS7dgsHBczbT"
      },
      "source": [
        "Hãy sử dụng các tập dữ liệu sau và tiến hành phân tích ANOVA 1 chiều\n",
        "\n",
        "- [Excavation Depth and Archaeology](https://college.cengage.com/mathematics/brase/understandable_statistics/7e/students/datasets/owan/frames/owan01.html)\n",
        "- [Apple Orchard Experiment](https://college.cengage.com/mathematics/brase/understandable_statistics/7e/students/datasets/owan/frames/owan02.html)\n",
        "- [Red Dye Number 40](https://college.cengage.com/mathematics/brase/understandable_statistics/7e/students/datasets/owan/frames/owan03.html)\n",
        "- [Business Startup Costs](https://college.cengage.com/mathematics/brase/understandable_statistics/7e/students/datasets/owan/frames/owan04.html)\n",
        "- [Weights of Football Players](https://college.cengage.com/mathematics/brase/understandable_statistics/7e/students/datasets/owan/frames/owan05.html)"
      ]
    },
    {
      "cell_type": "markdown",
      "source": [
        "QUY TRÌNH PHÂN TÍCH ANOVA MỘT CHIỀU\n",
        "\n",
        "Kiểm tra các giả định:\n",
        "\n",
        "- Các mẫu độc lập với nhau\n",
        "- Các mẫu có cùng phương sai\n",
        "- Các mẫu đều tuân theo phân phối chuẩn\n",
        "\n",
        "Xây dựng giả thuyết\n",
        "\n",
        "$$H_{0}: \\mu_{0} = \\mu_{1} = ... = \\mu_{n}$$\n",
        "$$H_{a}: \\text{Có tối thiểu một cặp giá trị trung bình có giá trị khác nhau}$$\n",
        "\n",
        "Giá trị thống kê F được sử dụng trong việc ra quyết định của phân tích ANOVA một chiều. Công thức tính như sau:\n",
        "\n",
        "$$F = \\frac{MS_{B}}{MS_{W}}$$\n",
        "\n",
        "với:\n",
        "\n",
        "- $MS_{B} = \\frac{\\sum_{k}n_{k}(\\overline{\\rm x_{k}} - \\overline{\\rm x})^{2}}{k - 1}$\n",
        "- $MS_{W} = \\frac{\\sum_{k}n_{i,k}( x_{i,k} - \\overline{\\rm x})^{2}}{k - 1}$\n",
        "\n",
        "Loại bỏ giả thuyết $H_{0}$ khi chỉ số F > chỉ số F-critical (hoặc giá trị p tương ứng < 0.05)"
      ],
      "metadata": {
        "id": "ZqiamBKG6IIu"
      }
    },
    {
      "cell_type": "code",
      "source": [
        "!pip install --upgrade xlrd"
      ],
      "metadata": {
        "colab": {
          "base_uri": "https://localhost:8080/"
        },
        "id": "hX5YJyaEryNf",
        "outputId": "5bbc33b1-3049-450b-ce2c-4cebc3623937"
      },
      "execution_count": 18,
      "outputs": [
        {
          "output_type": "stream",
          "name": "stdout",
          "text": [
            "Requirement already satisfied: xlrd in /usr/local/lib/python3.7/dist-packages (2.0.1)\n"
          ]
        }
      ]
    },
    {
      "cell_type": "code",
      "source": [
        "import pandas as pd\n",
        "import xlrd\n",
        "import numpy as np\n",
        "from scipy import stats\n",
        "from google.colab import drive\n",
        "drive.mount('/content/gdrive')"
      ],
      "metadata": {
        "id": "FcptcPRxg0HP",
        "colab": {
          "base_uri": "https://localhost:8080/"
        },
        "outputId": "628b1d0f-599d-45a7-8233-9077442022e3"
      },
      "execution_count": 19,
      "outputs": [
        {
          "output_type": "stream",
          "name": "stdout",
          "text": [
            "Drive already mounted at /content/gdrive; to attempt to forcibly remount, call drive.mount(\"/content/gdrive\", force_remount=True).\n"
          ]
        }
      ]
    },
    {
      "cell_type": "code",
      "source": [
        "# Excavation Depth and Archaeology\n",
        "dataset = pd.read_excel('/content/gdrive/MyDrive/EDaA.xls', engine = \"xlrd\")\n",
        "NA  = [list(dataset[\"X1\"].dropna()),\n",
        "       list(dataset[\"X2\"].dropna()),\n",
        "       list(dataset[\"X3\"].dropna()),\n",
        "       list(dataset[\"X4\"].dropna())]\n",
        "print(dataset)"
      ],
      "metadata": {
        "id": "_o7d6wezmEXF"
      },
      "execution_count": null,
      "outputs": []
    },
    {
      "cell_type": "markdown",
      "source": [
        "**Tiến hành kiểm định *Phân phối chuẩn*:**\n",
        "\n",
        "Phát biểu giả thuyết *a = 0.05*:\n",
        "- Null: \"Nhóm thứ i được lấy từ phân phối chuẩn\"(i từ 0 đến 3)\n",
        "- Giả thuyết thay thế: \"Nhóm thứ i không được lấy từ phân phối chuẩn\"(i từ 0 đến 3)"
      ],
      "metadata": {
        "id": "zchPbzcT-sxA"
      }
    },
    {
      "cell_type": "code",
      "source": [
        "for i in range(4):\n",
        "  p_value = stats.shapiro(NA[i])[1]\n",
        "  print(f\"P_value của cột thứ {i+1}: {p_value}\")\n",
        "  if p_value < 0.05:\n",
        "    print(f\"Có bằng chứng cho thấy nhóm thứ {i+1} không tuân theo phân phối chuẩn\")\n",
        "  else:\n",
        "    print(f\"Không có bằng chứng cho thấy nhóm thứ {i+1} không tuân theo phân phối chuẩn\")"
      ],
      "metadata": {
        "colab": {
          "base_uri": "https://localhost:8080/"
        },
        "id": "E4LP5bg067X3",
        "outputId": "ee6b7479-b645-4945-bebd-68323c0fe144"
      },
      "execution_count": null,
      "outputs": [
        {
          "output_type": "stream",
          "name": "stdout",
          "text": [
            "P_value của cột thứ 1: 0.9960364103317261\n",
            "Không có bằng chứng cho thấy nhóm thứ 1 không tuân theo phân phối chuẩn\n",
            "P_value của cột thứ 2: 0.864689826965332\n",
            "Không có bằng chứng cho thấy nhóm thứ 2 không tuân theo phân phối chuẩn\n",
            "P_value của cột thứ 3: 0.601704478263855\n",
            "Không có bằng chứng cho thấy nhóm thứ 3 không tuân theo phân phối chuẩn\n",
            "P_value của cột thứ 4: 0.13579683005809784\n",
            "Không có bằng chứng cho thấy nhóm thứ 4 không tuân theo phân phối chuẩn\n"
          ]
        }
      ]
    },
    {
      "cell_type": "markdown",
      "source": [
        "**Tiến hành kiểm định *phương sai* :**\n",
        "\n",
        "Phát biểu giả thuyết *a = 0.05*:\n",
        "\n",
        "- Null: \"Không có sự khác biệt về phương sai của các nhóm\"\n",
        "- Giả thuyết thay thể: \"Có sự khác biệt về phương sai của các nhóm\""
      ],
      "metadata": {
        "id": "Hbcrbc8u_H9x"
      }
    },
    {
      "cell_type": "code",
      "source": [
        "stat_value ,p_value = stats.levene(NA[0], NA[1],\n",
        "                                   NA[2], NA[3])\n",
        "print(f\"P value: {p_value}\")"
      ],
      "metadata": {
        "colab": {
          "base_uri": "https://localhost:8080/"
        },
        "id": "8qc6zWQR72Sn",
        "outputId": "9ae60ce7-1e88-407f-889e-2a1f39a0499c"
      },
      "execution_count": null,
      "outputs": [
        {
          "output_type": "stream",
          "name": "stdout",
          "text": [
            "P value: 0.5020818274234007\n"
          ]
        }
      ]
    },
    {
      "cell_type": "markdown",
      "source": [
        "P_value >> 0.05 \n",
        "\n",
        "Vậy có bằng chứng cho thấy sự đồng nhất phương sai giữa các nhóm."
      ],
      "metadata": {
        "id": "Ppra1MGf9pzY"
      }
    },
    {
      "cell_type": "markdown",
      "source": [
        "**Tiến hành kiểm định ANOVA sau khi kiểm tra điều kiện:**"
      ],
      "metadata": {
        "id": "vARhANF_92bp"
      }
    },
    {
      "cell_type": "markdown",
      "source": [
        "Phát biểu giả thuyết *a = 0.05* :\n",
        "- Null: \"Không có sự khác biệt về giá trị trung bình giữa các nhóm\"\n",
        "- Giả thuyết thay thế: \"Tồn tại có sự khác biệt về giá trị trung bình giữa các nhóm\""
      ],
      "metadata": {
        "id": "4dKoHq3l_y8w"
      }
    },
    {
      "cell_type": "code",
      "source": [
        "f_stat, p_value = stats.f_oneway(NA[0], NA[1],\n",
        "                                 NA[2], NA[3])\n",
        "print(f\"P value: {p_value}\")"
      ],
      "metadata": {
        "colab": {
          "base_uri": "https://localhost:8080/"
        },
        "id": "USxazmOJ-EzA",
        "outputId": "8e0b20e6-e7b9-4dff-f2dd-16ab366d021a"
      },
      "execution_count": null,
      "outputs": [
        {
          "output_type": "stream",
          "name": "stdout",
          "text": [
            "P value: 7.99057539367343e-07\n"
          ]
        }
      ]
    },
    {
      "cell_type": "markdown",
      "source": [
        "Vì P value << 0.05 \n",
        "\n",
        "Nên ta có bằng chứng để bác bỏ giả thuyết null.\n",
        "\n",
        "Vậy có bằng chứng thống kê để nói rằng có sự khác biệt về giá trị trung bình của các nhóm."
      ],
      "metadata": {
        "id": "07mEwgww-h-A"
      }
    },
    {
      "cell_type": "code",
      "source": [
        "#Apple Orchard Experiment\n",
        "dataset2 = pd.read_excel('/content/gdrive/MyDrive/AOE.xls', engine = \"xlrd\")\n",
        "NA = [list(df2[\"X1\"].dropna()),\n",
        "      list(df2[\"X2\"].dropna()),\n",
        "      list(df2[\"X3\"].dropna()),\n",
        "      list(df2[\"X4\"].dropna()),\n",
        "      list(df2[\"X5\"].dropna())]\n",
        "dataset2"
      ],
      "metadata": {
        "id": "WROuV9POCn52"
      },
      "execution_count": null,
      "outputs": []
    },
    {
      "cell_type": "markdown",
      "source": [
        "Tiến hành kiểm định xem các nhóm có tuân theo phân phối chuẩn ko:"
      ],
      "metadata": {
        "id": "6YqvO7PKCn57"
      }
    },
    {
      "cell_type": "markdown",
      "source": [
        "Ta phát biểu giả thuyết với mức ý nghĩa 0.05:\n",
        "- Null: \"Nhóm thứ i được lấy từ phân phối chuẩn\"(i từ 0 đến 3)\n",
        "- Giả thuyết thay thế: \"Nhóm thứ i không được lấy từ phân phối chuẩn\"(i từ 0 đến 3)"
      ],
      "metadata": {
        "id": "wvMdbzUXCn58"
      }
    },
    {
      "cell_type": "code",
      "source": [
        "for i in range(5):\n",
        "  p_value = stats.shapiro(list_non_na[i])[1]\n",
        "  print(f\"P_value của cột thứ {i+1}: {p_value}\")\n",
        "  if p_value < 0.05:\n",
        "    print(f\"Có bằng chứng cho thấy nhóm thứ {i+1} không tuân theo phân phối chuẩn\")\n",
        "  else:\n",
        "    print(f\"Không có bằng chứng cho thấy nhóm thứ {i+1} không tuân theo phân phối chuẩn\")"
      ],
      "metadata": {
        "colab": {
          "base_uri": "https://localhost:8080/"
        },
        "outputId": "f316a3c9-2e19-4cd1-9010-5dc1b8351958",
        "id": "XUEJhS7XCn58"
      },
      "execution_count": null,
      "outputs": [
        {
          "output_type": "stream",
          "name": "stdout",
          "text": [
            "P_value của cột thứ 1: 0.644533634185791\n",
            "Không có bằng chứng cho thấy nhóm thứ 1 không tuân theo phân phối chuẩn\n",
            "P_value của cột thứ 2: 0.7472830414772034\n",
            "Không có bằng chứng cho thấy nhóm thứ 2 không tuân theo phân phối chuẩn\n",
            "P_value của cột thứ 3: 0.3169650137424469\n",
            "Không có bằng chứng cho thấy nhóm thứ 3 không tuân theo phân phối chuẩn\n",
            "P_value của cột thứ 4: 0.5994704365730286\n",
            "Không có bằng chứng cho thấy nhóm thứ 4 không tuân theo phân phối chuẩn\n",
            "P_value của cột thứ 5: 0.803491473197937\n",
            "Không có bằng chứng cho thấy nhóm thứ 5 không tuân theo phân phối chuẩn\n"
          ]
        }
      ]
    },
    {
      "cell_type": "markdown",
      "source": [
        "Tiến hành kiểm định sự đồng nhất giữa phương sai các nhóm:"
      ],
      "metadata": {
        "id": "JG-W-TRQCn59"
      }
    },
    {
      "cell_type": "markdown",
      "source": [
        "Phát biểu giả thuyết với mức ý nghĩa 0.05:\n",
        "\n",
        "- Giả thuyết null: \"Không có sự khác biệt về phương sai của các nhóm\"\n",
        "- Giả thuyết thay thể: \"Có sự khác biệt về phương sai của các nhóm\""
      ],
      "metadata": {
        "id": "OSrAIQPMCn5-"
      }
    },
    {
      "cell_type": "code",
      "source": [
        "stat_value ,p_value = stats.levene(list_non_na[0], list_non_na[1],\n",
        "                                   list_non_na[2], list_non_na[3],\n",
        "                                   list_non_na[4])\n",
        "print(f\"P value: {p_value}\")"
      ],
      "metadata": {
        "colab": {
          "base_uri": "https://localhost:8080/"
        },
        "outputId": "4f3d5871-0f7a-47e1-9c98-5f03d93d0882",
        "id": "abX6gzfyCn5-"
      },
      "execution_count": null,
      "outputs": [
        {
          "output_type": "stream",
          "name": "stdout",
          "text": [
            "P value: 0.7871189934362511\n"
          ]
        }
      ]
    },
    {
      "cell_type": "markdown",
      "source": [
        "Vì p value >> 0.05 nên có bằng chứng cho thấy sự đồng nhất phương sai giữa các nhóm."
      ],
      "metadata": {
        "id": "-uDiFefPCn5_"
      }
    },
    {
      "cell_type": "markdown",
      "source": [
        "Vì các nhóm độc lập, tuân theo phân phối chuẩn và có sự đồng nhất về phương sai giữa các nhóm nên ta có thể tiến hành kiểm định ANOVA:"
      ],
      "metadata": {
        "id": "nllLSdG4Cn6A"
      }
    },
    {
      "cell_type": "markdown",
      "source": [
        "Phát biểu giả thuyết với mức ý nghĩa 0.05:\n",
        "- Giả thuyết null: \"Không có sự khác biệt về giá trị trung bình giữa các nhóm\"\n",
        "- Giả thuyết thay thế: \"Tồn tại có sự khác biệt về giá trị trung bình giữa các nhóm\""
      ],
      "metadata": {
        "id": "qZB9x-7PCn6A"
      }
    },
    {
      "cell_type": "code",
      "source": [
        "f_stat, p_value = stats.f_oneway(list_non_na[0], list_non_na[1],\n",
        "                                 list_non_na[2], list_non_na[3],\n",
        "                                 list_non_na[4])\n",
        "print(f\"P value: {p_value}\")"
      ],
      "metadata": {
        "colab": {
          "base_uri": "https://localhost:8080/"
        },
        "outputId": "f19727ca-2220-4882-a93b-105b3fa5516b",
        "id": "GKDBplmDCn6B"
      },
      "execution_count": null,
      "outputs": [
        {
          "output_type": "stream",
          "name": "stdout",
          "text": [
            "P value: 0.28382583646160114\n"
          ]
        }
      ]
    },
    {
      "cell_type": "markdown",
      "source": [
        "Vì P value >> 0.05 nên ta không có bằng chứng để bác bỏ giả thuyết null."
      ],
      "metadata": {
        "id": "XE6NdpoBCn6B"
      }
    },
    {
      "cell_type": "markdown",
      "source": [
        "Kết luận: Không có bằng chứng để nói rằng có sự khác biệt về giá trị trung bình của các nhóm."
      ],
      "metadata": {
        "id": "aNHCKPmNCn6C"
      }
    },
    {
      "cell_type": "markdown",
      "source": [
        "Ta tiến hành phân tích ANOVA 1 chiều với dữ liệu **Red Dye Number 40**"
      ],
      "metadata": {
        "id": "UII0RONNDV--"
      }
    },
    {
      "cell_type": "code",
      "source": [
        "df3 = pd.read_excel(\"owan03.xls\", engine = \"xlrd\")"
      ],
      "metadata": {
        "colab": {
          "base_uri": "https://localhost:8080/"
        },
        "outputId": "6a3dc1f7-19ed-4b3f-d918-32f755f42863",
        "id": "dq-EdOW-DV-_"
      },
      "execution_count": null,
      "outputs": [
        {
          "output_type": "stream",
          "name": "stdout",
          "text": [
            "*** No CODEPAGE record, no encoding_override: will use 'iso-8859-1'\n"
          ]
        }
      ]
    },
    {
      "cell_type": "markdown",
      "source": [
        "Vì số dòng, số cột không quá nhiều nên ta sẽ hiển thị hết bảng dữ liệu:"
      ],
      "metadata": {
        "id": "Wi0MoEafDV-_"
      }
    },
    {
      "cell_type": "code",
      "source": [
        "df3"
      ],
      "metadata": {
        "colab": {
          "base_uri": "https://localhost:8080/",
          "height": 394
        },
        "outputId": "42bbfcf6-aa1a-4e2b-e43d-d5a89abcc42b",
        "id": "2vZrEjUzDV-_"
      },
      "execution_count": null,
      "outputs": [
        {
          "output_type": "execute_result",
          "data": {
            "text/plain": [
              "     X1    X2    X3     X4\n",
              "0    70  49.0  30.0   34.0\n",
              "1    77  60.0  37.0   36.0\n",
              "2    83  63.0  56.0   48.0\n",
              "3    87  67.0  65.0   48.0\n",
              "4    92  70.0  76.0   65.0\n",
              "5    93  74.0  83.0   91.0\n",
              "6   100  77.0  87.0   98.0\n",
              "7   102  80.0  90.0  102.0\n",
              "8   102  89.0  94.0    NaN\n",
              "9   103   NaN  97.0    NaN\n",
              "10   96   NaN   NaN    NaN"
            ],
            "text/html": [
              "\n",
              "  <div id=\"df-7cc0ab12-5911-4ada-9dc1-a7604c6959a1\">\n",
              "    <div class=\"colab-df-container\">\n",
              "      <div>\n",
              "<style scoped>\n",
              "    .dataframe tbody tr th:only-of-type {\n",
              "        vertical-align: middle;\n",
              "    }\n",
              "\n",
              "    .dataframe tbody tr th {\n",
              "        vertical-align: top;\n",
              "    }\n",
              "\n",
              "    .dataframe thead th {\n",
              "        text-align: right;\n",
              "    }\n",
              "</style>\n",
              "<table border=\"1\" class=\"dataframe\">\n",
              "  <thead>\n",
              "    <tr style=\"text-align: right;\">\n",
              "      <th></th>\n",
              "      <th>X1</th>\n",
              "      <th>X2</th>\n",
              "      <th>X3</th>\n",
              "      <th>X4</th>\n",
              "    </tr>\n",
              "  </thead>\n",
              "  <tbody>\n",
              "    <tr>\n",
              "      <th>0</th>\n",
              "      <td>70</td>\n",
              "      <td>49.0</td>\n",
              "      <td>30.0</td>\n",
              "      <td>34.0</td>\n",
              "    </tr>\n",
              "    <tr>\n",
              "      <th>1</th>\n",
              "      <td>77</td>\n",
              "      <td>60.0</td>\n",
              "      <td>37.0</td>\n",
              "      <td>36.0</td>\n",
              "    </tr>\n",
              "    <tr>\n",
              "      <th>2</th>\n",
              "      <td>83</td>\n",
              "      <td>63.0</td>\n",
              "      <td>56.0</td>\n",
              "      <td>48.0</td>\n",
              "    </tr>\n",
              "    <tr>\n",
              "      <th>3</th>\n",
              "      <td>87</td>\n",
              "      <td>67.0</td>\n",
              "      <td>65.0</td>\n",
              "      <td>48.0</td>\n",
              "    </tr>\n",
              "    <tr>\n",
              "      <th>4</th>\n",
              "      <td>92</td>\n",
              "      <td>70.0</td>\n",
              "      <td>76.0</td>\n",
              "      <td>65.0</td>\n",
              "    </tr>\n",
              "    <tr>\n",
              "      <th>5</th>\n",
              "      <td>93</td>\n",
              "      <td>74.0</td>\n",
              "      <td>83.0</td>\n",
              "      <td>91.0</td>\n",
              "    </tr>\n",
              "    <tr>\n",
              "      <th>6</th>\n",
              "      <td>100</td>\n",
              "      <td>77.0</td>\n",
              "      <td>87.0</td>\n",
              "      <td>98.0</td>\n",
              "    </tr>\n",
              "    <tr>\n",
              "      <th>7</th>\n",
              "      <td>102</td>\n",
              "      <td>80.0</td>\n",
              "      <td>90.0</td>\n",
              "      <td>102.0</td>\n",
              "    </tr>\n",
              "    <tr>\n",
              "      <th>8</th>\n",
              "      <td>102</td>\n",
              "      <td>89.0</td>\n",
              "      <td>94.0</td>\n",
              "      <td>NaN</td>\n",
              "    </tr>\n",
              "    <tr>\n",
              "      <th>9</th>\n",
              "      <td>103</td>\n",
              "      <td>NaN</td>\n",
              "      <td>97.0</td>\n",
              "      <td>NaN</td>\n",
              "    </tr>\n",
              "    <tr>\n",
              "      <th>10</th>\n",
              "      <td>96</td>\n",
              "      <td>NaN</td>\n",
              "      <td>NaN</td>\n",
              "      <td>NaN</td>\n",
              "    </tr>\n",
              "  </tbody>\n",
              "</table>\n",
              "</div>\n",
              "      <button class=\"colab-df-convert\" onclick=\"convertToInteractive('df-7cc0ab12-5911-4ada-9dc1-a7604c6959a1')\"\n",
              "              title=\"Convert this dataframe to an interactive table.\"\n",
              "              style=\"display:none;\">\n",
              "        \n",
              "  <svg xmlns=\"http://www.w3.org/2000/svg\" height=\"24px\"viewBox=\"0 0 24 24\"\n",
              "       width=\"24px\">\n",
              "    <path d=\"M0 0h24v24H0V0z\" fill=\"none\"/>\n",
              "    <path d=\"M18.56 5.44l.94 2.06.94-2.06 2.06-.94-2.06-.94-.94-2.06-.94 2.06-2.06.94zm-11 1L8.5 8.5l.94-2.06 2.06-.94-2.06-.94L8.5 2.5l-.94 2.06-2.06.94zm10 10l.94 2.06.94-2.06 2.06-.94-2.06-.94-.94-2.06-.94 2.06-2.06.94z\"/><path d=\"M17.41 7.96l-1.37-1.37c-.4-.4-.92-.59-1.43-.59-.52 0-1.04.2-1.43.59L10.3 9.45l-7.72 7.72c-.78.78-.78 2.05 0 2.83L4 21.41c.39.39.9.59 1.41.59.51 0 1.02-.2 1.41-.59l7.78-7.78 2.81-2.81c.8-.78.8-2.07 0-2.86zM5.41 20L4 18.59l7.72-7.72 1.47 1.35L5.41 20z\"/>\n",
              "  </svg>\n",
              "      </button>\n",
              "      \n",
              "  <style>\n",
              "    .colab-df-container {\n",
              "      display:flex;\n",
              "      flex-wrap:wrap;\n",
              "      gap: 12px;\n",
              "    }\n",
              "\n",
              "    .colab-df-convert {\n",
              "      background-color: #E8F0FE;\n",
              "      border: none;\n",
              "      border-radius: 50%;\n",
              "      cursor: pointer;\n",
              "      display: none;\n",
              "      fill: #1967D2;\n",
              "      height: 32px;\n",
              "      padding: 0 0 0 0;\n",
              "      width: 32px;\n",
              "    }\n",
              "\n",
              "    .colab-df-convert:hover {\n",
              "      background-color: #E2EBFA;\n",
              "      box-shadow: 0px 1px 2px rgba(60, 64, 67, 0.3), 0px 1px 3px 1px rgba(60, 64, 67, 0.15);\n",
              "      fill: #174EA6;\n",
              "    }\n",
              "\n",
              "    [theme=dark] .colab-df-convert {\n",
              "      background-color: #3B4455;\n",
              "      fill: #D2E3FC;\n",
              "    }\n",
              "\n",
              "    [theme=dark] .colab-df-convert:hover {\n",
              "      background-color: #434B5C;\n",
              "      box-shadow: 0px 1px 3px 1px rgba(0, 0, 0, 0.15);\n",
              "      filter: drop-shadow(0px 1px 2px rgba(0, 0, 0, 0.3));\n",
              "      fill: #FFFFFF;\n",
              "    }\n",
              "  </style>\n",
              "\n",
              "      <script>\n",
              "        const buttonEl =\n",
              "          document.querySelector('#df-7cc0ab12-5911-4ada-9dc1-a7604c6959a1 button.colab-df-convert');\n",
              "        buttonEl.style.display =\n",
              "          google.colab.kernel.accessAllowed ? 'block' : 'none';\n",
              "\n",
              "        async function convertToInteractive(key) {\n",
              "          const element = document.querySelector('#df-7cc0ab12-5911-4ada-9dc1-a7604c6959a1');\n",
              "          const dataTable =\n",
              "            await google.colab.kernel.invokeFunction('convertToInteractive',\n",
              "                                                     [key], {});\n",
              "          if (!dataTable) return;\n",
              "\n",
              "          const docLinkHtml = 'Like what you see? Visit the ' +\n",
              "            '<a target=\"_blank\" href=https://colab.research.google.com/notebooks/data_table.ipynb>data table notebook</a>'\n",
              "            + ' to learn more about interactive tables.';\n",
              "          element.innerHTML = '';\n",
              "          dataTable['output_type'] = 'display_data';\n",
              "          await google.colab.output.renderOutput(dataTable, element);\n",
              "          const docLink = document.createElement('div');\n",
              "          docLink.innerHTML = docLinkHtml;\n",
              "          element.appendChild(docLink);\n",
              "        }\n",
              "      </script>\n",
              "    </div>\n",
              "  </div>\n",
              "  "
            ]
          },
          "metadata": {},
          "execution_count": 28
        }
      ]
    },
    {
      "cell_type": "markdown",
      "source": [
        "Tiến hành xóa NaN từng nhóm:"
      ],
      "metadata": {
        "id": "QrGzs64wDV_A"
      }
    },
    {
      "cell_type": "code",
      "source": [
        "list_non_na = [list(df3[\"X1\"].dropna()),\n",
        "               list(df3[\"X2\"].dropna()),\n",
        "               list(df3[\"X3\"].dropna()),\n",
        "               list(df3[\"X4\"].dropna())]"
      ],
      "metadata": {
        "id": "THigz2SBDV_A"
      },
      "execution_count": null,
      "outputs": []
    },
    {
      "cell_type": "markdown",
      "source": [
        "Tiến hành kiểm định xem các nhóm có tuân theo phân phối chuẩn ko:"
      ],
      "metadata": {
        "id": "3HkPgOdyDV_A"
      }
    },
    {
      "cell_type": "markdown",
      "source": [
        "Ta phát biểu giả thuyết với mức ý nghĩa 0.05:\n",
        "- Giả thuyết null: \"Nhóm thứ i được lấy từ phân phối chuẩn\"(i từ 0 đến 3)\n",
        "- Giả thuyết thay thế: \"Nhóm thứ i không được lấy từ phân phối chuẩn\"(i từ 0 đến 3)"
      ],
      "metadata": {
        "id": "Mzl5PpegDV_A"
      }
    },
    {
      "cell_type": "code",
      "source": [
        "for i in range(4):\n",
        "  p_value = stats.shapiro(list_non_na[i])[1]\n",
        "  print(f\"P_value của cột thứ {i+1}: {p_value}\")\n",
        "  if p_value < 0.05:\n",
        "    print(f\"Có bằng chứng cho thấy nhóm thứ {i+1} không tuân theo phân phối chuẩn\")\n",
        "  else:\n",
        "    print(f\"Không có bằng chứng cho thấy nhóm thứ {i+1} không tuân theo phân phối chuẩn\")"
      ],
      "metadata": {
        "colab": {
          "base_uri": "https://localhost:8080/"
        },
        "outputId": "ae9db83e-58e2-4ac9-b603-4a2ee838ad32",
        "id": "OAXTCc7tDV_A"
      },
      "execution_count": null,
      "outputs": [
        {
          "output_type": "stream",
          "name": "stdout",
          "text": [
            "P_value của cột thứ 1: 0.23906797170639038\n",
            "Không có bằng chứng cho thấy nhóm thứ 1 không tuân theo phân phối chuẩn\n",
            "P_value của cột thứ 2: 0.9998751282691956\n",
            "Không có bằng chứng cho thấy nhóm thứ 2 không tuân theo phân phối chuẩn\n",
            "P_value của cột thứ 3: 0.19140109419822693\n",
            "Không có bằng chứng cho thấy nhóm thứ 3 không tuân theo phân phối chuẩn\n",
            "P_value của cột thứ 4: 0.14956821501255035\n",
            "Không có bằng chứng cho thấy nhóm thứ 4 không tuân theo phân phối chuẩn\n"
          ]
        }
      ]
    },
    {
      "cell_type": "markdown",
      "source": [
        "Tiến hành kiểm định sự đồng nhất giữa phương sai các nhóm:"
      ],
      "metadata": {
        "id": "GDWcdKKbDV_A"
      }
    },
    {
      "cell_type": "markdown",
      "source": [
        "Phát biểu giả thuyết với mức ý nghĩa 0.05:\n",
        "\n",
        "- Giả thuyết null: \"Không có sự khác biệt về phương sai của các nhóm\"\n",
        "- Giả thuyết thay thể: \"Có sự khác biệt về phương sai của các nhóm\""
      ],
      "metadata": {
        "id": "rc6O1O5LDV_A"
      }
    },
    {
      "cell_type": "code",
      "source": [
        "stat_value ,p_value = stats.levene(list_non_na[0], list_non_na[1],\n",
        "                                   list_non_na[2], list_non_na[3])\n",
        "print(f\"P value: {p_value}\")"
      ],
      "metadata": {
        "colab": {
          "base_uri": "https://localhost:8080/"
        },
        "outputId": "2e3710df-801e-42bf-da62-d72abcb2feed",
        "id": "hqh4rP-ZDV_A"
      },
      "execution_count": null,
      "outputs": [
        {
          "output_type": "stream",
          "name": "stdout",
          "text": [
            "P value: 0.02110640000655371\n"
          ]
        }
      ]
    },
    {
      "cell_type": "markdown",
      "source": [
        "Vì p value < 0.05 nên có bằng chứng để bác bỏ giả thuyết null.\n",
        "\n",
        "Kết luận: Có bằng chứng cho thấy không có sự tương đồng về phương sai của các nhóm."
      ],
      "metadata": {
        "id": "JBkMGjE9DV_A"
      }
    },
    {
      "cell_type": "markdown",
      "source": [
        "Vì có bằng chứng cho thấy không có sự tương đồng về phương sai của các nhóm nên ta không thể tiến hành kiểm định ANOVA"
      ],
      "metadata": {
        "id": "Y1LVNCzODV_B"
      }
    },
    {
      "cell_type": "markdown",
      "source": [
        "Ta tiến hành phân tích ANOVA 1 chiều với dữ liệu **Business Startup Costs**"
      ],
      "metadata": {
        "id": "0fs85fhhEKdx"
      }
    },
    {
      "cell_type": "code",
      "source": [
        "df4 = pd.read_excel(\"owan04.xls\", engine = \"xlrd\")"
      ],
      "metadata": {
        "colab": {
          "base_uri": "https://localhost:8080/"
        },
        "outputId": "91c2d2de-02bc-4f0f-b96a-54fa5567ea73",
        "id": "D5wCCGC4EKdx"
      },
      "execution_count": null,
      "outputs": [
        {
          "output_type": "stream",
          "name": "stdout",
          "text": [
            "*** No CODEPAGE record, no encoding_override: will use 'iso-8859-1'\n"
          ]
        }
      ]
    },
    {
      "cell_type": "markdown",
      "source": [
        "Vì số dòng, số cột không quá nhiều nên ta sẽ hiển thị hết bảng dữ liệu:"
      ],
      "metadata": {
        "id": "V-20CT9jEKdy"
      }
    },
    {
      "cell_type": "code",
      "source": [
        "df4"
      ],
      "metadata": {
        "colab": {
          "base_uri": "https://localhost:8080/",
          "height": 551
        },
        "outputId": "a68542f2-1b85-42ef-8b9f-c27d566379c1",
        "id": "fs6kyMH_EKdy"
      },
      "execution_count": null,
      "outputs": [
        {
          "output_type": "execute_result",
          "data": {
            "text/plain": [
              "       X1     X2     X3     X4   X5\n",
              "0    80.0  150.0   48.0  100.0   25\n",
              "1   125.0   40.0   35.0   96.0   80\n",
              "2    35.0  120.0   95.0   35.0   30\n",
              "3    58.0   75.0   45.0   99.0   35\n",
              "4   110.0  160.0   75.0   75.0   30\n",
              "5   140.0   60.0  115.0  150.0   28\n",
              "6    97.0   45.0   42.0   45.0   20\n",
              "7    50.0  100.0   78.0  100.0   75\n",
              "8    65.0   86.0   65.0  120.0   48\n",
              "9    79.0   87.0  125.0   50.0   20\n",
              "10   35.0   90.0    NaN    NaN   50\n",
              "11   85.0    NaN    NaN    NaN   75\n",
              "12  120.0    NaN    NaN    NaN   55\n",
              "13    NaN    NaN    NaN    NaN   60\n",
              "14    NaN    NaN    NaN    NaN   85\n",
              "15    NaN    NaN    NaN    NaN  110"
            ],
            "text/html": [
              "\n",
              "  <div id=\"df-621aed06-4af5-4300-84c3-a6db5210f9e0\">\n",
              "    <div class=\"colab-df-container\">\n",
              "      <div>\n",
              "<style scoped>\n",
              "    .dataframe tbody tr th:only-of-type {\n",
              "        vertical-align: middle;\n",
              "    }\n",
              "\n",
              "    .dataframe tbody tr th {\n",
              "        vertical-align: top;\n",
              "    }\n",
              "\n",
              "    .dataframe thead th {\n",
              "        text-align: right;\n",
              "    }\n",
              "</style>\n",
              "<table border=\"1\" class=\"dataframe\">\n",
              "  <thead>\n",
              "    <tr style=\"text-align: right;\">\n",
              "      <th></th>\n",
              "      <th>X1</th>\n",
              "      <th>X2</th>\n",
              "      <th>X3</th>\n",
              "      <th>X4</th>\n",
              "      <th>X5</th>\n",
              "    </tr>\n",
              "  </thead>\n",
              "  <tbody>\n",
              "    <tr>\n",
              "      <th>0</th>\n",
              "      <td>80.0</td>\n",
              "      <td>150.0</td>\n",
              "      <td>48.0</td>\n",
              "      <td>100.0</td>\n",
              "      <td>25</td>\n",
              "    </tr>\n",
              "    <tr>\n",
              "      <th>1</th>\n",
              "      <td>125.0</td>\n",
              "      <td>40.0</td>\n",
              "      <td>35.0</td>\n",
              "      <td>96.0</td>\n",
              "      <td>80</td>\n",
              "    </tr>\n",
              "    <tr>\n",
              "      <th>2</th>\n",
              "      <td>35.0</td>\n",
              "      <td>120.0</td>\n",
              "      <td>95.0</td>\n",
              "      <td>35.0</td>\n",
              "      <td>30</td>\n",
              "    </tr>\n",
              "    <tr>\n",
              "      <th>3</th>\n",
              "      <td>58.0</td>\n",
              "      <td>75.0</td>\n",
              "      <td>45.0</td>\n",
              "      <td>99.0</td>\n",
              "      <td>35</td>\n",
              "    </tr>\n",
              "    <tr>\n",
              "      <th>4</th>\n",
              "      <td>110.0</td>\n",
              "      <td>160.0</td>\n",
              "      <td>75.0</td>\n",
              "      <td>75.0</td>\n",
              "      <td>30</td>\n",
              "    </tr>\n",
              "    <tr>\n",
              "      <th>5</th>\n",
              "      <td>140.0</td>\n",
              "      <td>60.0</td>\n",
              "      <td>115.0</td>\n",
              "      <td>150.0</td>\n",
              "      <td>28</td>\n",
              "    </tr>\n",
              "    <tr>\n",
              "      <th>6</th>\n",
              "      <td>97.0</td>\n",
              "      <td>45.0</td>\n",
              "      <td>42.0</td>\n",
              "      <td>45.0</td>\n",
              "      <td>20</td>\n",
              "    </tr>\n",
              "    <tr>\n",
              "      <th>7</th>\n",
              "      <td>50.0</td>\n",
              "      <td>100.0</td>\n",
              "      <td>78.0</td>\n",
              "      <td>100.0</td>\n",
              "      <td>75</td>\n",
              "    </tr>\n",
              "    <tr>\n",
              "      <th>8</th>\n",
              "      <td>65.0</td>\n",
              "      <td>86.0</td>\n",
              "      <td>65.0</td>\n",
              "      <td>120.0</td>\n",
              "      <td>48</td>\n",
              "    </tr>\n",
              "    <tr>\n",
              "      <th>9</th>\n",
              "      <td>79.0</td>\n",
              "      <td>87.0</td>\n",
              "      <td>125.0</td>\n",
              "      <td>50.0</td>\n",
              "      <td>20</td>\n",
              "    </tr>\n",
              "    <tr>\n",
              "      <th>10</th>\n",
              "      <td>35.0</td>\n",
              "      <td>90.0</td>\n",
              "      <td>NaN</td>\n",
              "      <td>NaN</td>\n",
              "      <td>50</td>\n",
              "    </tr>\n",
              "    <tr>\n",
              "      <th>11</th>\n",
              "      <td>85.0</td>\n",
              "      <td>NaN</td>\n",
              "      <td>NaN</td>\n",
              "      <td>NaN</td>\n",
              "      <td>75</td>\n",
              "    </tr>\n",
              "    <tr>\n",
              "      <th>12</th>\n",
              "      <td>120.0</td>\n",
              "      <td>NaN</td>\n",
              "      <td>NaN</td>\n",
              "      <td>NaN</td>\n",
              "      <td>55</td>\n",
              "    </tr>\n",
              "    <tr>\n",
              "      <th>13</th>\n",
              "      <td>NaN</td>\n",
              "      <td>NaN</td>\n",
              "      <td>NaN</td>\n",
              "      <td>NaN</td>\n",
              "      <td>60</td>\n",
              "    </tr>\n",
              "    <tr>\n",
              "      <th>14</th>\n",
              "      <td>NaN</td>\n",
              "      <td>NaN</td>\n",
              "      <td>NaN</td>\n",
              "      <td>NaN</td>\n",
              "      <td>85</td>\n",
              "    </tr>\n",
              "    <tr>\n",
              "      <th>15</th>\n",
              "      <td>NaN</td>\n",
              "      <td>NaN</td>\n",
              "      <td>NaN</td>\n",
              "      <td>NaN</td>\n",
              "      <td>110</td>\n",
              "    </tr>\n",
              "  </tbody>\n",
              "</table>\n",
              "</div>\n",
              "      <button class=\"colab-df-convert\" onclick=\"convertToInteractive('df-621aed06-4af5-4300-84c3-a6db5210f9e0')\"\n",
              "              title=\"Convert this dataframe to an interactive table.\"\n",
              "              style=\"display:none;\">\n",
              "        \n",
              "  <svg xmlns=\"http://www.w3.org/2000/svg\" height=\"24px\"viewBox=\"0 0 24 24\"\n",
              "       width=\"24px\">\n",
              "    <path d=\"M0 0h24v24H0V0z\" fill=\"none\"/>\n",
              "    <path d=\"M18.56 5.44l.94 2.06.94-2.06 2.06-.94-2.06-.94-.94-2.06-.94 2.06-2.06.94zm-11 1L8.5 8.5l.94-2.06 2.06-.94-2.06-.94L8.5 2.5l-.94 2.06-2.06.94zm10 10l.94 2.06.94-2.06 2.06-.94-2.06-.94-.94-2.06-.94 2.06-2.06.94z\"/><path d=\"M17.41 7.96l-1.37-1.37c-.4-.4-.92-.59-1.43-.59-.52 0-1.04.2-1.43.59L10.3 9.45l-7.72 7.72c-.78.78-.78 2.05 0 2.83L4 21.41c.39.39.9.59 1.41.59.51 0 1.02-.2 1.41-.59l7.78-7.78 2.81-2.81c.8-.78.8-2.07 0-2.86zM5.41 20L4 18.59l7.72-7.72 1.47 1.35L5.41 20z\"/>\n",
              "  </svg>\n",
              "      </button>\n",
              "      \n",
              "  <style>\n",
              "    .colab-df-container {\n",
              "      display:flex;\n",
              "      flex-wrap:wrap;\n",
              "      gap: 12px;\n",
              "    }\n",
              "\n",
              "    .colab-df-convert {\n",
              "      background-color: #E8F0FE;\n",
              "      border: none;\n",
              "      border-radius: 50%;\n",
              "      cursor: pointer;\n",
              "      display: none;\n",
              "      fill: #1967D2;\n",
              "      height: 32px;\n",
              "      padding: 0 0 0 0;\n",
              "      width: 32px;\n",
              "    }\n",
              "\n",
              "    .colab-df-convert:hover {\n",
              "      background-color: #E2EBFA;\n",
              "      box-shadow: 0px 1px 2px rgba(60, 64, 67, 0.3), 0px 1px 3px 1px rgba(60, 64, 67, 0.15);\n",
              "      fill: #174EA6;\n",
              "    }\n",
              "\n",
              "    [theme=dark] .colab-df-convert {\n",
              "      background-color: #3B4455;\n",
              "      fill: #D2E3FC;\n",
              "    }\n",
              "\n",
              "    [theme=dark] .colab-df-convert:hover {\n",
              "      background-color: #434B5C;\n",
              "      box-shadow: 0px 1px 3px 1px rgba(0, 0, 0, 0.15);\n",
              "      filter: drop-shadow(0px 1px 2px rgba(0, 0, 0, 0.3));\n",
              "      fill: #FFFFFF;\n",
              "    }\n",
              "  </style>\n",
              "\n",
              "      <script>\n",
              "        const buttonEl =\n",
              "          document.querySelector('#df-621aed06-4af5-4300-84c3-a6db5210f9e0 button.colab-df-convert');\n",
              "        buttonEl.style.display =\n",
              "          google.colab.kernel.accessAllowed ? 'block' : 'none';\n",
              "\n",
              "        async function convertToInteractive(key) {\n",
              "          const element = document.querySelector('#df-621aed06-4af5-4300-84c3-a6db5210f9e0');\n",
              "          const dataTable =\n",
              "            await google.colab.kernel.invokeFunction('convertToInteractive',\n",
              "                                                     [key], {});\n",
              "          if (!dataTable) return;\n",
              "\n",
              "          const docLinkHtml = 'Like what you see? Visit the ' +\n",
              "            '<a target=\"_blank\" href=https://colab.research.google.com/notebooks/data_table.ipynb>data table notebook</a>'\n",
              "            + ' to learn more about interactive tables.';\n",
              "          element.innerHTML = '';\n",
              "          dataTable['output_type'] = 'display_data';\n",
              "          await google.colab.output.renderOutput(dataTable, element);\n",
              "          const docLink = document.createElement('div');\n",
              "          docLink.innerHTML = docLinkHtml;\n",
              "          element.appendChild(docLink);\n",
              "        }\n",
              "      </script>\n",
              "    </div>\n",
              "  </div>\n",
              "  "
            ]
          },
          "metadata": {},
          "execution_count": 34
        }
      ]
    },
    {
      "cell_type": "markdown",
      "source": [
        "Tiến hành xóa NaN từng nhóm:"
      ],
      "metadata": {
        "id": "X_zC28C1EKdz"
      }
    },
    {
      "cell_type": "code",
      "source": [
        "list_non_na = [list(df4[\"X1\"].dropna()),\n",
        "               list(df4[\"X2\"].dropna()),\n",
        "               list(df4[\"X3\"].dropna()),\n",
        "               list(df4[\"X4\"].dropna()),\n",
        "               list(df4[\"X5\"].dropna())]"
      ],
      "metadata": {
        "id": "t3yHB4QcEKdz"
      },
      "execution_count": null,
      "outputs": []
    },
    {
      "cell_type": "markdown",
      "source": [
        "Tiến hành kiểm định xem các nhóm có tuân theo phân phối chuẩn ko:"
      ],
      "metadata": {
        "id": "lT1GT8OZEKdz"
      }
    },
    {
      "cell_type": "markdown",
      "source": [
        "Ta phát biểu giả thuyết với mức ý nghĩa 0.05:\n",
        "- Giả thuyết null: \"Nhóm thứ i được lấy từ phân phối chuẩn\"(i từ 0 đến 3)\n",
        "- Giả thuyết thay thế: \"Nhóm thứ i không được lấy từ phân phối chuẩn\"(i từ 0 đến 3)"
      ],
      "metadata": {
        "id": "5BHoj5k9EKdz"
      }
    },
    {
      "cell_type": "code",
      "source": [
        "for i in range(5):\n",
        "  p_value = stats.shapiro(list_non_na[i])[1]\n",
        "  print(f\"P_value của cột thứ {i+1}: {p_value}\")\n",
        "  if p_value < 0.05:\n",
        "    print(f\"Có bằng chứng cho thấy nhóm thứ {i+1} không tuân theo phân phối chuẩn\")\n",
        "  else:\n",
        "    print(f\"Không có bằng chứng cho thấy nhóm thứ {i+1} không tuân theo phân phối chuẩn\")"
      ],
      "metadata": {
        "colab": {
          "base_uri": "https://localhost:8080/"
        },
        "outputId": "89e2000f-56f6-484a-96ae-e83339bf4b0b",
        "id": "W3UjGB-8EKd0"
      },
      "execution_count": null,
      "outputs": [
        {
          "output_type": "stream",
          "name": "stdout",
          "text": [
            "P_value của cột thứ 1: 0.7370653748512268\n",
            "Không có bằng chứng cho thấy nhóm thứ 1 không tuân theo phân phối chuẩn\n",
            "P_value của cột thứ 2: 0.5559222102165222\n",
            "Không có bằng chứng cho thấy nhóm thứ 2 không tuân theo phân phối chuẩn\n",
            "P_value của cột thứ 3: 0.3917592167854309\n",
            "Không có bằng chứng cho thấy nhóm thứ 3 không tuân theo phân phối chuẩn\n",
            "P_value của cột thứ 4: 0.5785742998123169\n",
            "Không có bằng chứng cho thấy nhóm thứ 4 không tuân theo phân phối chuẩn\n",
            "P_value của cột thứ 5: 0.17400741577148438\n",
            "Không có bằng chứng cho thấy nhóm thứ 5 không tuân theo phân phối chuẩn\n"
          ]
        }
      ]
    },
    {
      "cell_type": "markdown",
      "source": [
        "Tiến hành kiểm định sự đồng nhất giữa phương sai các nhóm:"
      ],
      "metadata": {
        "id": "qEC06aq8EKd0"
      }
    },
    {
      "cell_type": "markdown",
      "source": [
        "Phát biểu giả thuyết với mức ý nghĩa 0.05:\n",
        "\n",
        "- Giả thuyết null: \"Không có sự khác biệt về phương sai của các nhóm\"\n",
        "- Giả thuyết thay thể: \"Có sự khác biệt về phương sai của các nhóm\""
      ],
      "metadata": {
        "id": "PkelOm3eEKd0"
      }
    },
    {
      "cell_type": "code",
      "source": [
        "stat_value ,p_value = stats.levene(list_non_na[0], list_non_na[1],\n",
        "                                   list_non_na[2], list_non_na[3],\n",
        "                                   list_non_na[4])\n",
        "print(f\"P value: {p_value}\")"
      ],
      "metadata": {
        "colab": {
          "base_uri": "https://localhost:8080/"
        },
        "outputId": "d2433bb8-fa4b-4fde-9764-bc376afc1d6b",
        "id": "Nb6n6Uv8EKd0"
      },
      "execution_count": null,
      "outputs": [
        {
          "output_type": "stream",
          "name": "stdout",
          "text": [
            "P value: 0.9309738160407797\n"
          ]
        }
      ]
    },
    {
      "cell_type": "markdown",
      "source": [
        "Vì p value >> 0.05 nên có bằng chứng cho thấy sự đồng nhất phương sai giữa các nhóm."
      ],
      "metadata": {
        "id": "K3x7at_fEKd1"
      }
    },
    {
      "cell_type": "markdown",
      "source": [
        "Vì các nhóm độc lập, tuân theo phân phối chuẩn và có sự đồng nhất về phương sai giữa các nhóm nên ta có thể tiến hành kiểm định ANOVA:"
      ],
      "metadata": {
        "id": "sdDp8cBrEKd1"
      }
    },
    {
      "cell_type": "markdown",
      "source": [
        "Phát biểu giả thuyết với mức ý nghĩa 0.05:\n",
        "- Giả thuyết null: \"Không có sự khác biệt về giá trị trung bình giữa các nhóm\"\n",
        "- Giả thuyết thay thế: \"Tồn tại có sự khác biệt về giá trị trung bình giữa các nhóm\""
      ],
      "metadata": {
        "id": "fWcS910AEKd1"
      }
    },
    {
      "cell_type": "code",
      "source": [
        "f_stat, p_value = stats.f_oneway(list_non_na[0], list_non_na[1],\n",
        "                                 list_non_na[2], list_non_na[3],\n",
        "                                 list_non_na[4])\n",
        "print(f\"P value: {p_value}\")"
      ],
      "metadata": {
        "colab": {
          "base_uri": "https://localhost:8080/"
        },
        "outputId": "05a40855-5c32-4a4f-e446-87a3ff3914f2",
        "id": "vAcbwgmDEKd1"
      },
      "execution_count": null,
      "outputs": [
        {
          "output_type": "stream",
          "name": "stdout",
          "text": [
            "P value: 0.018391232905488122\n"
          ]
        }
      ]
    },
    {
      "cell_type": "markdown",
      "source": [
        "Vì P value << 0.05 nên ta có bằng chứng để bác bỏ giả thuyết null."
      ],
      "metadata": {
        "id": "0610cYh2EKd2"
      }
    },
    {
      "cell_type": "markdown",
      "source": [
        "Kết luận: Có bằng chứng để nói rằng có sự khác biệt về giá trị trung bình của các nhóm."
      ],
      "metadata": {
        "id": "Wp_ljF97EKd2"
      }
    },
    {
      "cell_type": "markdown",
      "source": [
        "Ta tiến hành phân tích ANOVA 1 chiều với dữ liệu **Weights of Football Players**"
      ],
      "metadata": {
        "id": "mEwR1yoiEujh"
      }
    },
    {
      "cell_type": "code",
      "source": [
        "df5 = pd.read_excel(\"owan05.xls\", engine = \"xlrd\")"
      ],
      "metadata": {
        "colab": {
          "base_uri": "https://localhost:8080/"
        },
        "outputId": "07522c4f-ae3f-43ba-f9a5-74eac39445b8",
        "id": "dzToNEppEujh"
      },
      "execution_count": null,
      "outputs": [
        {
          "output_type": "stream",
          "name": "stdout",
          "text": [
            "*** No CODEPAGE record, no encoding_override: will use 'iso-8859-1'\n"
          ]
        }
      ]
    },
    {
      "cell_type": "markdown",
      "source": [
        "Vì số dòng, số cột không quá nhiều nên ta sẽ hiển thị hết bảng dữ liệu:"
      ],
      "metadata": {
        "id": "dkaixIHEEujh"
      }
    },
    {
      "cell_type": "code",
      "source": [
        "df5"
      ],
      "metadata": {
        "colab": {
          "base_uri": "https://localhost:8080/",
          "height": 582
        },
        "outputId": "0d27769e-34df-4e84-e054-21dd5f95c95b",
        "id": "WSJKr_07Eujh"
      },
      "execution_count": null,
      "outputs": [
        {
          "output_type": "execute_result",
          "data": {
            "text/plain": [
              "     X1   X2   X3   X4   X5\n",
              "0   250  260  270  260  247\n",
              "1   255  271  250  255  249\n",
              "2   255  258  281  265  255\n",
              "3   264  263  273  257  247\n",
              "4   250  267  257  268  244\n",
              "5   265  254  264  263  245\n",
              "6   245  255  233  247  249\n",
              "7   252  250  254  253  260\n",
              "8   266  248  268  251  217\n",
              "9   246  240  252  252  208\n",
              "10  251  254  256  266  228\n",
              "11  263  275  265  264  253\n",
              "12  248  270  252  210  249\n",
              "13  228  225  256  236  223\n",
              "14  221  222  235  225  221\n",
              "15  223  230  216  230  228\n",
              "16  220  225  241  232  271"
            ],
            "text/html": [
              "\n",
              "  <div id=\"df-c52659e9-0d07-4245-85b7-26ce6307d18e\">\n",
              "    <div class=\"colab-df-container\">\n",
              "      <div>\n",
              "<style scoped>\n",
              "    .dataframe tbody tr th:only-of-type {\n",
              "        vertical-align: middle;\n",
              "    }\n",
              "\n",
              "    .dataframe tbody tr th {\n",
              "        vertical-align: top;\n",
              "    }\n",
              "\n",
              "    .dataframe thead th {\n",
              "        text-align: right;\n",
              "    }\n",
              "</style>\n",
              "<table border=\"1\" class=\"dataframe\">\n",
              "  <thead>\n",
              "    <tr style=\"text-align: right;\">\n",
              "      <th></th>\n",
              "      <th>X1</th>\n",
              "      <th>X2</th>\n",
              "      <th>X3</th>\n",
              "      <th>X4</th>\n",
              "      <th>X5</th>\n",
              "    </tr>\n",
              "  </thead>\n",
              "  <tbody>\n",
              "    <tr>\n",
              "      <th>0</th>\n",
              "      <td>250</td>\n",
              "      <td>260</td>\n",
              "      <td>270</td>\n",
              "      <td>260</td>\n",
              "      <td>247</td>\n",
              "    </tr>\n",
              "    <tr>\n",
              "      <th>1</th>\n",
              "      <td>255</td>\n",
              "      <td>271</td>\n",
              "      <td>250</td>\n",
              "      <td>255</td>\n",
              "      <td>249</td>\n",
              "    </tr>\n",
              "    <tr>\n",
              "      <th>2</th>\n",
              "      <td>255</td>\n",
              "      <td>258</td>\n",
              "      <td>281</td>\n",
              "      <td>265</td>\n",
              "      <td>255</td>\n",
              "    </tr>\n",
              "    <tr>\n",
              "      <th>3</th>\n",
              "      <td>264</td>\n",
              "      <td>263</td>\n",
              "      <td>273</td>\n",
              "      <td>257</td>\n",
              "      <td>247</td>\n",
              "    </tr>\n",
              "    <tr>\n",
              "      <th>4</th>\n",
              "      <td>250</td>\n",
              "      <td>267</td>\n",
              "      <td>257</td>\n",
              "      <td>268</td>\n",
              "      <td>244</td>\n",
              "    </tr>\n",
              "    <tr>\n",
              "      <th>5</th>\n",
              "      <td>265</td>\n",
              "      <td>254</td>\n",
              "      <td>264</td>\n",
              "      <td>263</td>\n",
              "      <td>245</td>\n",
              "    </tr>\n",
              "    <tr>\n",
              "      <th>6</th>\n",
              "      <td>245</td>\n",
              "      <td>255</td>\n",
              "      <td>233</td>\n",
              "      <td>247</td>\n",
              "      <td>249</td>\n",
              "    </tr>\n",
              "    <tr>\n",
              "      <th>7</th>\n",
              "      <td>252</td>\n",
              "      <td>250</td>\n",
              "      <td>254</td>\n",
              "      <td>253</td>\n",
              "      <td>260</td>\n",
              "    </tr>\n",
              "    <tr>\n",
              "      <th>8</th>\n",
              "      <td>266</td>\n",
              "      <td>248</td>\n",
              "      <td>268</td>\n",
              "      <td>251</td>\n",
              "      <td>217</td>\n",
              "    </tr>\n",
              "    <tr>\n",
              "      <th>9</th>\n",
              "      <td>246</td>\n",
              "      <td>240</td>\n",
              "      <td>252</td>\n",
              "      <td>252</td>\n",
              "      <td>208</td>\n",
              "    </tr>\n",
              "    <tr>\n",
              "      <th>10</th>\n",
              "      <td>251</td>\n",
              "      <td>254</td>\n",
              "      <td>256</td>\n",
              "      <td>266</td>\n",
              "      <td>228</td>\n",
              "    </tr>\n",
              "    <tr>\n",
              "      <th>11</th>\n",
              "      <td>263</td>\n",
              "      <td>275</td>\n",
              "      <td>265</td>\n",
              "      <td>264</td>\n",
              "      <td>253</td>\n",
              "    </tr>\n",
              "    <tr>\n",
              "      <th>12</th>\n",
              "      <td>248</td>\n",
              "      <td>270</td>\n",
              "      <td>252</td>\n",
              "      <td>210</td>\n",
              "      <td>249</td>\n",
              "    </tr>\n",
              "    <tr>\n",
              "      <th>13</th>\n",
              "      <td>228</td>\n",
              "      <td>225</td>\n",
              "      <td>256</td>\n",
              "      <td>236</td>\n",
              "      <td>223</td>\n",
              "    </tr>\n",
              "    <tr>\n",
              "      <th>14</th>\n",
              "      <td>221</td>\n",
              "      <td>222</td>\n",
              "      <td>235</td>\n",
              "      <td>225</td>\n",
              "      <td>221</td>\n",
              "    </tr>\n",
              "    <tr>\n",
              "      <th>15</th>\n",
              "      <td>223</td>\n",
              "      <td>230</td>\n",
              "      <td>216</td>\n",
              "      <td>230</td>\n",
              "      <td>228</td>\n",
              "    </tr>\n",
              "    <tr>\n",
              "      <th>16</th>\n",
              "      <td>220</td>\n",
              "      <td>225</td>\n",
              "      <td>241</td>\n",
              "      <td>232</td>\n",
              "      <td>271</td>\n",
              "    </tr>\n",
              "  </tbody>\n",
              "</table>\n",
              "</div>\n",
              "      <button class=\"colab-df-convert\" onclick=\"convertToInteractive('df-c52659e9-0d07-4245-85b7-26ce6307d18e')\"\n",
              "              title=\"Convert this dataframe to an interactive table.\"\n",
              "              style=\"display:none;\">\n",
              "        \n",
              "  <svg xmlns=\"http://www.w3.org/2000/svg\" height=\"24px\"viewBox=\"0 0 24 24\"\n",
              "       width=\"24px\">\n",
              "    <path d=\"M0 0h24v24H0V0z\" fill=\"none\"/>\n",
              "    <path d=\"M18.56 5.44l.94 2.06.94-2.06 2.06-.94-2.06-.94-.94-2.06-.94 2.06-2.06.94zm-11 1L8.5 8.5l.94-2.06 2.06-.94-2.06-.94L8.5 2.5l-.94 2.06-2.06.94zm10 10l.94 2.06.94-2.06 2.06-.94-2.06-.94-.94-2.06-.94 2.06-2.06.94z\"/><path d=\"M17.41 7.96l-1.37-1.37c-.4-.4-.92-.59-1.43-.59-.52 0-1.04.2-1.43.59L10.3 9.45l-7.72 7.72c-.78.78-.78 2.05 0 2.83L4 21.41c.39.39.9.59 1.41.59.51 0 1.02-.2 1.41-.59l7.78-7.78 2.81-2.81c.8-.78.8-2.07 0-2.86zM5.41 20L4 18.59l7.72-7.72 1.47 1.35L5.41 20z\"/>\n",
              "  </svg>\n",
              "      </button>\n",
              "      \n",
              "  <style>\n",
              "    .colab-df-container {\n",
              "      display:flex;\n",
              "      flex-wrap:wrap;\n",
              "      gap: 12px;\n",
              "    }\n",
              "\n",
              "    .colab-df-convert {\n",
              "      background-color: #E8F0FE;\n",
              "      border: none;\n",
              "      border-radius: 50%;\n",
              "      cursor: pointer;\n",
              "      display: none;\n",
              "      fill: #1967D2;\n",
              "      height: 32px;\n",
              "      padding: 0 0 0 0;\n",
              "      width: 32px;\n",
              "    }\n",
              "\n",
              "    .colab-df-convert:hover {\n",
              "      background-color: #E2EBFA;\n",
              "      box-shadow: 0px 1px 2px rgba(60, 64, 67, 0.3), 0px 1px 3px 1px rgba(60, 64, 67, 0.15);\n",
              "      fill: #174EA6;\n",
              "    }\n",
              "\n",
              "    [theme=dark] .colab-df-convert {\n",
              "      background-color: #3B4455;\n",
              "      fill: #D2E3FC;\n",
              "    }\n",
              "\n",
              "    [theme=dark] .colab-df-convert:hover {\n",
              "      background-color: #434B5C;\n",
              "      box-shadow: 0px 1px 3px 1px rgba(0, 0, 0, 0.15);\n",
              "      filter: drop-shadow(0px 1px 2px rgba(0, 0, 0, 0.3));\n",
              "      fill: #FFFFFF;\n",
              "    }\n",
              "  </style>\n",
              "\n",
              "      <script>\n",
              "        const buttonEl =\n",
              "          document.querySelector('#df-c52659e9-0d07-4245-85b7-26ce6307d18e button.colab-df-convert');\n",
              "        buttonEl.style.display =\n",
              "          google.colab.kernel.accessAllowed ? 'block' : 'none';\n",
              "\n",
              "        async function convertToInteractive(key) {\n",
              "          const element = document.querySelector('#df-c52659e9-0d07-4245-85b7-26ce6307d18e');\n",
              "          const dataTable =\n",
              "            await google.colab.kernel.invokeFunction('convertToInteractive',\n",
              "                                                     [key], {});\n",
              "          if (!dataTable) return;\n",
              "\n",
              "          const docLinkHtml = 'Like what you see? Visit the ' +\n",
              "            '<a target=\"_blank\" href=https://colab.research.google.com/notebooks/data_table.ipynb>data table notebook</a>'\n",
              "            + ' to learn more about interactive tables.';\n",
              "          element.innerHTML = '';\n",
              "          dataTable['output_type'] = 'display_data';\n",
              "          await google.colab.output.renderOutput(dataTable, element);\n",
              "          const docLink = document.createElement('div');\n",
              "          docLink.innerHTML = docLinkHtml;\n",
              "          element.appendChild(docLink);\n",
              "        }\n",
              "      </script>\n",
              "    </div>\n",
              "  </div>\n",
              "  "
            ]
          },
          "metadata": {},
          "execution_count": 41
        }
      ]
    },
    {
      "cell_type": "markdown",
      "source": [
        "Tiến hành xóa NaN từng nhóm:"
      ],
      "metadata": {
        "id": "U80jWrMKEujh"
      }
    },
    {
      "cell_type": "code",
      "source": [
        "list_non_na = [list(df5[\"X1\"].dropna()),\n",
        "               list(df5[\"X2\"].dropna()),\n",
        "               list(df5[\"X3\"].dropna()),\n",
        "               list(df5[\"X4\"].dropna()),\n",
        "               list(df5[\"X5\"].dropna())]"
      ],
      "metadata": {
        "id": "psgXyflaEuji"
      },
      "execution_count": null,
      "outputs": []
    },
    {
      "cell_type": "markdown",
      "source": [
        "Tiến hành kiểm định xem các nhóm có tuân theo phân phối chuẩn ko:"
      ],
      "metadata": {
        "id": "oDGM5OVDEuji"
      }
    },
    {
      "cell_type": "markdown",
      "source": [
        "Ta phát biểu giả thuyết với mức ý nghĩa 0.05:\n",
        "- Giả thuyết null: \"Nhóm thứ i được lấy từ phân phối chuẩn\"(i từ 0 đến 3)\n",
        "- Giả thuyết thay thế: \"Nhóm thứ i không được lấy từ phân phối chuẩn\"(i từ 0 đến 3)"
      ],
      "metadata": {
        "id": "OSr_3RXOEuji"
      }
    },
    {
      "cell_type": "code",
      "source": [
        "for i in range(5):\n",
        "  p_value = stats.shapiro(list_non_na[i])[1]\n",
        "  print(f\"P_value của cột thứ {i+1}: {p_value}\")\n",
        "  if p_value < 0.05:\n",
        "    print(f\"Có bằng chứng cho thấy nhóm thứ {i+1} không tuân theo phân phối chuẩn\")\n",
        "  else:\n",
        "    print(f\"Không có bằng chứng cho thấy nhóm thứ {i+1} không tuân theo phân phối chuẩn\")"
      ],
      "metadata": {
        "colab": {
          "base_uri": "https://localhost:8080/"
        },
        "outputId": "5ea409cb-9ccb-4354-dea7-6b9cfcaefa69",
        "id": "C4JR8oZJEuji"
      },
      "execution_count": null,
      "outputs": [
        {
          "output_type": "stream",
          "name": "stdout",
          "text": [
            "P_value của cột thứ 1: 0.028549334034323692\n",
            "Có bằng chứng cho thấy nhóm thứ 1 không tuân theo phân phối chuẩn\n",
            "P_value của cột thứ 2: 0.16341625154018402\n",
            "Không có bằng chứng cho thấy nhóm thứ 2 không tuân theo phân phối chuẩn\n",
            "P_value của cột thứ 3: 0.6627115607261658\n",
            "Không có bằng chứng cho thấy nhóm thứ 3 không tuân theo phân phối chuẩn\n",
            "P_value của cột thứ 4: 0.06506332755088806\n",
            "Không có bằng chứng cho thấy nhóm thứ 4 không tuân theo phân phối chuẩn\n",
            "P_value của cột thứ 5: 0.3383376896381378\n",
            "Không có bằng chứng cho thấy nhóm thứ 5 không tuân theo phân phối chuẩn\n"
          ]
        }
      ]
    },
    {
      "cell_type": "markdown",
      "source": [
        "Vì có bằng chứng cho thấy 1 nhóm không tuân theo phân phối chuẩn nên ta không thể tiến hành kiểm định ANOVA"
      ],
      "metadata": {
        "id": "kVqhlrX8E_Uq"
      }
    }
  ],
  "metadata": {
    "kernelspec": {
      "display_name": "Python 3",
      "language": "python",
      "name": "python3"
    },
    "language_info": {
      "codemirror_mode": {
        "name": "ipython",
        "version": 3
      },
      "file_extension": ".py",
      "mimetype": "text/x-python",
      "name": "python",
      "nbconvert_exporter": "python",
      "pygments_lexer": "ipython3",
      "version": "3.7.3"
    },
    "colab": {
      "name": "Phan_tich_ANOVA_1_yeu_to.ipynb",
      "provenance": [],
      "include_colab_link": true
    }
  },
  "nbformat": 4,
  "nbformat_minor": 0
}