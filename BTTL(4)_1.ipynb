{
  "nbformat": 4,
  "nbformat_minor": 0,
  "metadata": {
    "colab": {
      "provenance": [],
      "authorship_tag": "ABX9TyNTQf+vInIfvCs3/zXRGiL4",
      "include_colab_link": true
    },
    "kernelspec": {
      "name": "python3",
      "display_name": "Python 3"
    },
    "language_info": {
      "name": "python"
    }
  },
  "cells": [
    {
      "cell_type": "markdown",
      "metadata": {
        "id": "view-in-github",
        "colab_type": "text"
      },
      "source": [
        "<a href=\"https://colab.research.google.com/github/Tranminhtuan48/pythonbasics/blob/main/BTTL(4)_1.ipynb\" target=\"_parent\"><img src=\"https://colab.research.google.com/assets/colab-badge.svg\" alt=\"Open In Colab\"/></a>"
      ]
    },
    {
      "cell_type": "code",
      "execution_count": 1,
      "metadata": {
        "id": "8RIQlfoN-gVg"
      },
      "outputs": [],
      "source": [
        "import numpy as np"
      ]
    },
    {
      "cell_type": "code",
      "source": [
        "from google.colab import drive\n",
        "drive.mount('/content/gdrive')"
      ],
      "metadata": {
        "colab": {
          "base_uri": "https://localhost:8080/"
        },
        "id": "8I4tIF72_XqU",
        "outputId": "54b91307-1a3e-4e53-c348-e18d603d0cfb"
      },
      "execution_count": 6,
      "outputs": [
        {
          "output_type": "stream",
          "name": "stdout",
          "text": [
            "Mounted at /content/gdrive\n"
          ]
        }
      ]
    },
    {
      "cell_type": "code",
      "source": [
        "def read_txt(filename, delimiter):\n",
        "    data = np.loadtxt(filename, delimiter = delimiter)\n",
        "    X = data[:, :-1]\n",
        "    y = data[:, -1]\n",
        "    return X, y"
      ],
      "metadata": {
        "id": "UeiGme9V-pxe"
      },
      "execution_count": 2,
      "outputs": []
    },
    {
      "cell_type": "code",
      "source": [
        "def split_train_test(X, y, test_size, random_state = None):\n",
        "    from sklearn.model_selection import train_test_split\n",
        "    X_train, X_test, y_train, y_test = train_test_split(X, y, test_size=test_size, random_state = random_state)\n",
        "    return X_train, X_test, y_train, "
      ],
      "metadata": {
        "id": "7N8wq7va-yiV"
      },
      "execution_count": 3,
      "outputs": []
    },
    {
      "cell_type": "code",
      "source": [
        "def print_train_test(X_train, X_test, y_train, y_test):\n",
        "    print(f\"Size of training set\\nX train: {X_train.shape} and y train: {y_train.shape}\")\n",
        "    print(f\"Size of test set\\nX test: {X_test.shape} and y test: {y_test.shape}\")"
      ],
      "metadata": {
        "id": "C3HfiD4y-04l"
      },
      "execution_count": 4,
      "outputs": []
    },
    {
      "cell_type": "code",
      "source": [
        "def train_test_split():\n",
        "    X, y = read_txt(\"/content/gdrive/My Drive/\",\"ex1data2.txt\")\n",
        "    X_train, X_test, y_train, y_test =  split_train_test(X, y, test_size = 0.3, random_state=4)\n",
        "    print_train_test(X_train, X_test, y_train, y_test)"
      ],
      "metadata": {
        "id": "9hcJwxmm-4fs"
      },
      "execution_count": 7,
      "outputs": []
    }
  ]
}