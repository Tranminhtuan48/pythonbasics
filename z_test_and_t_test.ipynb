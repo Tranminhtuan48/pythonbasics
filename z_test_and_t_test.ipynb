{
  "cells": [
    {
      "cell_type": "markdown",
      "metadata": {
        "id": "view-in-github",
        "colab_type": "text"
      },
      "source": [
        "<a href=\"https://colab.research.google.com/github/Tranminhtuan48/pythonbasics/blob/main/z_test_and_t_test.ipynb\" target=\"_parent\"><img src=\"https://colab.research.google.com/assets/colab-badge.svg\" alt=\"Open In Colab\"/></a>"
      ]
    },
    {
      "cell_type": "markdown",
      "metadata": {
        "id": "QL4T3DMIhiCO"
      },
      "source": [
        "XÂY DỰNG CHƯƠNG TRÌNH KIỂM ĐỊNH Z (HOẶC T) CHO CÁC BÀI TẬP SAU\n",
        "\n",
        "Gợi ý:\n",
        "\n",
        "- Số liệu được sinh ngẫu nhiên theo phân phối chuẩn\n",
        "- Sử dụng gói phần mềm statsmodels để tiến hành kiểm định\n",
        "- Đối với các bài tập kiểm định giả thuyết thì sinh viên cần phát biểu các giả thuyết (bằng tiếng Việt) $H_{0}$ và $H_{a}$ trước khi lập trình kiểm định"
      ]
    },
    {
      "cell_type": "code",
      "source": [
        "#import library\n",
        "from scipy import stats\n",
        "import numpy as np\n",
        "import math\n",
        "from statsmodels.stats.weightstats import ztest\n",
        "from statsmodels.stats.weightstats import DescrStatsW, ttest_ind\n",
        "import scipy.stats as st"
      ],
      "metadata": {
        "id": "1NCd24nhhxlS"
      },
      "execution_count": 12,
      "outputs": []
    },
    {
      "cell_type": "markdown",
      "metadata": {
        "id": "sBVAF_l7hiCR"
      },
      "source": [
        "Bài 1: You’re a Q/C inspector for Gallo. The sample standard deviation for 2-liter bottles is .05 liters.  A random sample of 100 bottles showed sample mean = 1.99 liters.  What is the 90%  confidence interval estimate of the true mean amount in 2-liter bottles? "
      ]
    },
    {
      "cell_type": "code",
      "execution_count": 3,
      "metadata": {
        "id": "dY4wOiFqhiCS",
        "colab": {
          "base_uri": "https://localhost:8080/"
        },
        "outputId": "0de3abf2-8485-422a-cd2e-37d9c1c3df4f"
      },
      "outputs": [
        {
          "output_type": "execute_result",
          "data": {
            "text/plain": [
              "(1.9863229953398405, 2.0022832720326758)"
            ]
          },
          "metadata": {},
          "execution_count": 3
        }
      ],
      "source": [
        "bottle = np.random.normal(1.99, 0.05, 100)\n",
        "st.norm.interval(0.9, np.mean(bottle), np.std(bottle)/math.sqrt(len(bottle)))"
      ]
    },
    {
      "cell_type": "markdown",
      "metadata": {
        "id": "A3nr3gmahiCT"
      },
      "source": [
        "Bài 2: You’re a time study analyst in manufacturing.  You’ve recorded the following task times (min.): 3.6, 4.2, 4.0, 3.5, 3.8, 3.1. What is the 90% confidence interval estimate of the population mean task time? "
      ]
    },
    {
      "cell_type": "code",
      "source": [
        "task_time = [3.6, 4.2, 4.0, 3.5, 3.8, 3.1]\n",
        "st.t.interval(0.9, len(task_time ) - 1, np.mean(task_time ), np.std(task_time )/math.sqrt(len(task_time )))"
      ],
      "metadata": {
        "colab": {
          "base_uri": "https://localhost:8080/"
        },
        "id": "u2lHfvyYdNnF",
        "outputId": "f4e4aab8-811e-4203-81f8-1df3f9063b2b"
      },
      "execution_count": null,
      "outputs": [
        {
          "output_type": "execute_result",
          "data": {
            "text/plain": [
              "(3.4072202592396357, 3.9927797407603656)"
            ]
          },
          "metadata": {},
          "execution_count": 8
        }
      ]
    },
    {
      "cell_type": "markdown",
      "metadata": {
        "id": "7m_gBwHbhiCT"
      },
      "source": [
        "Bài 3: Does an average box of cereal contain 368 grams of cereal?  A random sample of 25 boxes had $\\overline{\\rm x}$ = 372.5.  The company has specified $\\sigma$ to be 25 grams.  Test at the .05 level of significance.\n",
        "\n",
        "\n"
      ]
    },
    {
      "cell_type": "markdown",
      "source": [
        "gia thuyet null: \"Mot hop ngu coc chua Tb 368g\"\n",
        "\n",
        "Gia thuyet thay the: \"Mot hop ngu coc khong chua Tb 368g\""
      ],
      "metadata": {
        "id": "qh_Doh1vUV4V"
      }
    },
    {
      "cell_type": "markdown",
      "source": [
        "H_0: $$H_0: μ = 368$$\n",
        "H_A:$$H_a: μ \\ne 368$$\n"
      ],
      "metadata": {
        "id": "GldxshMqM8lj"
      }
    },
    {
      "cell_type": "code",
      "source": [
        "cereal = np.random.normal(372.5, 25, 25)\n",
        "#info\n",
        "a = 0.05\n",
        "population = 368\n",
        "#z-test\n",
        "z_score, p= ztest(cereal, value = population, alternative='two-sided')\n",
        "if(p < a ):\n",
        "  print(\"Co bang chung de bac bo gia thuyet H0\")\n",
        "else:\n",
        "  print(\"Khong co bang chung de bac bo gia thuyet H00\")"
      ],
      "metadata": {
        "id": "AUQTT3IePjJo",
        "colab": {
          "base_uri": "https://localhost:8080/"
        },
        "outputId": "cfbbc5a7-5d87-4617-89a7-4bbac2357af5"
      },
      "execution_count": 42,
      "outputs": [
        {
          "output_type": "stream",
          "name": "stdout",
          "text": [
            "Khong co bang chung de bac bo gia thuyet H00\n"
          ]
        }
      ]
    },
    {
      "cell_type": "markdown",
      "metadata": {
        "id": "XtYFuKGyhiCU"
      },
      "source": [
        "Bài 4: You’re a Q/C inspector.  You want to find out if a new machine is making electrical cords to customer specification: average breaking strength of 70 lb. with $\\sigma$ = 3.5 lb.  You take a sample of 36 cords & compute a sample mean of 69.7 lb.  At the .05 level of significance, is there evidence that the machine is not meeting the average breaking strength?"
      ]
    },
    {
      "cell_type": "markdown",
      "source": [
        "gia thuyet null: \"May moi lam dua tren yeu cau cua khachs hang\" \n",
        "\n",
        "gia thuyet thay the: \"May moi khong lam dua tren yeu cau cua khach \""
      ],
      "metadata": {
        "id": "7XAzDFK8U84e"
      }
    },
    {
      "cell_type": "markdown",
      "source": [
        "$$H_0: μ = 70$$\n",
        "$$H_a: μ \\ne 70$$"
      ],
      "metadata": {
        "id": "9RHCGcVwSuo8"
      }
    },
    {
      "cell_type": "code",
      "execution_count": 41,
      "metadata": {
        "id": "xffcTMzfhiCV",
        "colab": {
          "base_uri": "https://localhost:8080/"
        },
        "outputId": "eaad6971-0e64-437b-8e73-54ad0ef2f461"
      },
      "outputs": [
        {
          "output_type": "stream",
          "name": "stdout",
          "text": [
            "Khong co bang chung de bac bo gia thuyet H0\n"
          ]
        }
      ],
      "source": [
        "machine = np.random.normal(69.7, 3.5, 36)\n",
        "# info\n",
        "population = 70\n",
        "a = 0.05\n",
        "# z-test\n",
        "z_score, p= ztest(machine, value = population, alternative='two-sided')\n",
        "if(p <  a):\n",
        "  print(\"Co bang chung de bac bo gia thuyet H0\")\n",
        "else:\n",
        "  print(\"Khong co bang chung de bac bo gia thuyet H0\")"
      ]
    },
    {
      "cell_type": "markdown",
      "metadata": {
        "id": "UjqZZsBOhiCV"
      },
      "source": [
        "Bài 5: Does an average box of cereal contain more than 368 grams of cereal?  A random sample of 25 boxes showed $\\overline{\\rm x}$ =  372.5.  The company has specified $\\sigma$ to be 25 grams.  Test at the .05 level of significance."
      ]
    },
    {
      "cell_type": "markdown",
      "source": [
        "gia thuyet null: \"Mot hop ngu coc chua Tb 368g\"\n",
        "\n",
        "Gia thuyet thay the: \"Mot hop ngu coc chua nnhieu hon Tb 368g\""
      ],
      "metadata": {
        "id": "jb20VhdjWDXN"
      }
    },
    {
      "cell_type": "markdown",
      "source": [
        "$$H_0: μ = 368$$\n",
        "$$H_a: μ > 368$$"
      ],
      "metadata": {
        "id": "KZr0OaxeUHaK"
      }
    },
    {
      "cell_type": "code",
      "execution_count": 40,
      "metadata": {
        "id": "DgZsie4ehiCV",
        "colab": {
          "base_uri": "https://localhost:8080/"
        },
        "outputId": "7fed8505-e9dc-4437-afdf-ee60d13ebb0c"
      },
      "outputs": [
        {
          "output_type": "stream",
          "name": "stdout",
          "text": [
            "Khong co bang chung de bac bo gia thuyet H0\n"
          ]
        }
      ],
      "source": [
        "box_cereal = np.random.normal(372.5, 25, 25)\n",
        "# info\n",
        "population = 368\n",
        "a = 0.05\n",
        "# z-test:\n",
        "z_score, p= ztest(box_cereal, value = population, alternative='larger')\n",
        "if(p <  a):\n",
        "  print(\"Co bang chung de bac bo gia thuyet H0\")\n",
        "else:\n",
        "  print(\"Khong co bang chung de bac bo gia thuyet H0\")"
      ]
    },
    {
      "cell_type": "markdown",
      "metadata": {
        "id": "ZDUc62QHhiCW"
      },
      "source": [
        "Bài 6: You’re an analyst for Ford.  You want to find out if the average miles per gallon of Escorts is at least 32 mpg. Similar models have a standard deviation of 3.8 mpg. You take a sample of 60 Escorts & compute a sample mean of 30.7 mpg. At the .01 level of significance, is there evidence that the miles per gallon is less than 32?"
      ]
    },
    {
      "cell_type": "markdown",
      "source": [
        "\n",
        "Gia thuye null: \"So dam tren mot gallon cua Escorts la 32 mpg\"\n",
        "\n",
        "Gia thuyet thay the: \"So dam tren mot gallon cua Escorts be hon 32 mpg\""
      ],
      "metadata": {
        "id": "nVSdfwPPWY39"
      }
    },
    {
      "cell_type": "markdown",
      "source": [
        "$$H_0: μ = 32$$\n",
        "$$H_a: μ < 32$$"
      ],
      "metadata": {
        "id": "Ty4NrR7bYRG0"
      }
    },
    {
      "cell_type": "code",
      "source": [
        "ford = np.random.normal(30.7, 3.8, 60)\n",
        "# info\n",
        "pop = 32\n",
        "a = 0.01\n",
        "# z_test:\n",
        "z_score, p = ztest(ford, value = pop, alternative='smaller')\n",
        "if(p <  a):\n",
        "  print(\"Co bang chung de bac bo gia thuyet H0\")\n",
        "else:\n",
        "  print(\"Khong co bang chung de bac bo gia thuyet H0\")"
      ],
      "metadata": {
        "colab": {
          "base_uri": "https://localhost:8080/"
        },
        "id": "vTAGpbQwZNkU",
        "outputId": "d1b0f858-59c2-4931-894a-a61473d8a38a"
      },
      "execution_count": 39,
      "outputs": [
        {
          "output_type": "stream",
          "name": "stdout",
          "text": [
            "Co bang chung de bac bo gia thuyet H0\n"
          ]
        }
      ]
    },
    {
      "cell_type": "markdown",
      "metadata": {
        "id": "KxJRJrQrhiCW"
      },
      "source": [
        "Bài 7: Does an average box of cereal contain 368 grams of cereal?  A random sample of 25 boxes showed $\\overline{\\rm x}$ = 372.5.  The company has specified $\\sigma$ to be 15 grams.  Find the p-Value."
      ]
    },
    {
      "cell_type": "markdown",
      "source": [
        "gia thuyet null: \"Mot hop ngu coc chua Tb 368g\"\n",
        "\n",
        "Gia thuyet thay the: \"Mot hop ngu coc Tb khong chua 368g\""
      ],
      "metadata": {
        "id": "GxOzte0NXew9"
      }
    },
    {
      "cell_type": "markdown",
      "source": [
        "\n",
        "$$H_0: μ = 368$$\n",
        "\n",
        "$$H_a: μ \\ne 368$$"
      ],
      "metadata": {
        "id": "t9VdpLf2Zg1j"
      }
    },
    {
      "cell_type": "code",
      "source": [
        "average = np.random.normal(372.5, 15, 25)\n",
        "#info\n",
        "pop = 368\n",
        "#t-test\n",
        "cereal = DescrStatsW(average)\n",
        "ttest_score, p_value, df = cereal.ttest_mean(pop, 'two-sided')\n",
        "print(\"p-value\", p_value)"
      ],
      "metadata": {
        "id": "szB1B1i_YyrF",
        "outputId": "72f386a9-d41e-4731-d0d8-b2d695225f5f",
        "colab": {
          "base_uri": "https://localhost:8080/"
        }
      },
      "execution_count": 19,
      "outputs": [
        {
          "output_type": "stream",
          "name": "stdout",
          "text": [
            "p-value 0.9454915835340545\n"
          ]
        }
      ]
    },
    {
      "cell_type": "markdown",
      "metadata": {
        "id": "KKuzgjWVhiCX"
      },
      "source": [
        "Bài 8: Does an average box of cereal contain more than 368 grams of cereal?  A random sample of 25 boxes showed $\\overline{\\rm x}$ = 372.5.  The company has specified $\\sigma$ to be 15 grams.  Find the p-Value."
      ]
    },
    {
      "cell_type": "markdown",
      "source": [
        "gia thuyet null: \"Mot hop ngu coc chua Tb 368g\"\n",
        "\n",
        "Gia thuyet thay the: \"Mot hop ngu coc Tb chua nhieu hon 368g\""
      ],
      "metadata": {
        "id": "v9ZKfy3BZSQL"
      }
    },
    {
      "cell_type": "markdown",
      "source": [
        "\n",
        "$$H_0: μ = 368$$\n",
        "\n",
        "$$H_a: μ > 368$$"
      ],
      "metadata": {
        "id": "KgnPeVRraMFP"
      }
    },
    {
      "cell_type": "code",
      "source": [
        "more_cereal = np.random.normal(372.5, 15, 25)\n",
        "#info\n",
        "pop = 368\n",
        "#t-test\n",
        "cereal2 = DescrStatsW(more_cereal)\n",
        "ttest_score, p_value, df = cereal2.ttest_mean(pop, 'larger')\n",
        "print(\"p-vaule\",p_value)"
      ],
      "metadata": {
        "colab": {
          "base_uri": "https://localhost:8080/"
        },
        "outputId": "5cb05853-e6b4-4729-f254-409f9531a819",
        "id": "hVRrjMutaMFU"
      },
      "execution_count": 20,
      "outputs": [
        {
          "output_type": "stream",
          "name": "stdout",
          "text": [
            "p-vaule 0.010551905254353965\n"
          ]
        }
      ]
    },
    {
      "cell_type": "markdown",
      "metadata": {
        "id": "qixzeP-rhiCX"
      },
      "source": [
        "Bài 9: You’re an analyst for Ford.  You want to find out if the average miles per gallon of Escorts is less than 32 mpg.   Similar models have a standard deviation of 3.8 mpg.  You take a sample of 60 Escorts & compute a sample mean of 30.7 mpg.  What is the value of the observed level of significance (p-Value)?"
      ]
    },
    {
      "cell_type": "markdown",
      "source": [
        "Gia thuye null: \"So dam tren mot gallon cua Escorts la 32 mpg\"\n",
        "\n",
        "Gia thuyet thay the: \"So dam tren mot gallon cua Escorts be hon 32 mpg\""
      ],
      "metadata": {
        "id": "8QXx2lg_aCCz"
      }
    },
    {
      "cell_type": "markdown",
      "source": [
        "\n",
        "$$H_0: μ = 32$$\n",
        "\n",
        "$$H_a: μ < 32$$"
      ],
      "metadata": {
        "id": "npkl4sBdag2p"
      }
    },
    {
      "cell_type": "code",
      "source": [
        "ford1 = np.random.normal(30.7, 3.8, 60)\n",
        "#info\n",
        "pop = 32\n",
        "#z-test\n",
        "ttest_score, p_value = ztest(ford1 ,value = pop, alternative = 'smaller')\n",
        "print(\"p-value\",p_value)"
      ],
      "metadata": {
        "colab": {
          "base_uri": "https://localhost:8080/"
        },
        "outputId": "0cfcc85b-4c92-4e84-a884-381b817c3d98",
        "id": "fC5b2Z1Rag2u"
      },
      "execution_count": 21,
      "outputs": [
        {
          "output_type": "stream",
          "name": "stdout",
          "text": [
            "p-value 0.004911972490578834\n"
          ]
        }
      ]
    },
    {
      "cell_type": "markdown",
      "metadata": {
        "id": "zmuVqcemhiCY"
      },
      "source": [
        "Bài 10: Does an average box of cereal contain 368 grams of cereal?  A random sample of 36 boxes had a mean of 372.5 and a standard deviation of 12 grams. Test at the .05 level of significance."
      ]
    },
    {
      "cell_type": "markdown",
      "source": [
        "gia thuyet null: \"Mot hop ngu coc chua Tb 368g\"\n",
        "\n",
        "Gia thuyet thay the: \"Mot hop ngu coc Tb khong chua 368g\""
      ],
      "metadata": {
        "id": "fD58l3I3asda"
      }
    },
    {
      "cell_type": "markdown",
      "source": [
        "\n",
        "$$H_0: μ = 368$$\n",
        "\n",
        "$$H_a: μ \\ne 368$$\n"
      ],
      "metadata": {
        "id": "qzK9TkX_bDo0"
      }
    },
    {
      "cell_type": "code",
      "source": [
        "average_box = np.random.normal(372.5, 12, 36)\n",
        "#info\n",
        "a= 0.05\n",
        "pop = 368\n",
        "#Kiểm định z\n",
        "ttest_score, p_value = ztest(average_box ,value = pop, alternative = 'two-sided')\n",
        "if (p_value <  a):\n",
        "  print(\"Co bang chung de bac bo gia thuyet H0\")\n",
        "else:\n",
        "  print(\"Khong co bang chung de bac bo gia thuyet H0\")"
      ],
      "metadata": {
        "colab": {
          "base_uri": "https://localhost:8080/"
        },
        "id": "L8wScvr6ph7d",
        "outputId": "17ef2d83-b02e-47f9-83d6-297cc0b8c929"
      },
      "execution_count": 38,
      "outputs": [
        {
          "output_type": "stream",
          "name": "stdout",
          "text": [
            "Co bang chung de bac bo gia thuyet H0\n"
          ]
        }
      ]
    },
    {
      "cell_type": "markdown",
      "metadata": {
        "id": "jvEaU52LhiCY"
      },
      "source": [
        "Bài 11: You work for the FTC.  A manufacturer of detergent claims that the mean weight of detergent is 3.25 lb.  You take a random sample of 64 containers.  You calculate the sample average to be 3.238 lb. with a standard deviation of .117 lb.  At the .01 level of significance, is the manufacturer correct?"
      ]
    },
    {
      "cell_type": "markdown",
      "source": [
        "Gia thuyet Null : trong luong Tb cua binh nuoc tay la 3.25 lb\n",
        "\n",
        "Gia thuyet thay the : trong luong Tb cua binh nuoc tay khong bang 3.25 lb"
      ],
      "metadata": {
        "id": "0W1SWwOgbIr8"
      }
    },
    {
      "cell_type": "markdown",
      "source": [
        "\n",
        "$$H_0: μ = 3.25$$\n",
        "\n",
        "$$H_a: μ \\ne 3.25$$\n"
      ],
      "metadata": {
        "id": "zk7RsmHOdJz1"
      }
    },
    {
      "cell_type": "code",
      "execution_count": 37,
      "metadata": {
        "id": "fU_EHfAehiCY",
        "colab": {
          "base_uri": "https://localhost:8080/"
        },
        "outputId": "61deb184-6b65-4763-d81b-5dcc232530fc"
      },
      "outputs": [
        {
          "output_type": "stream",
          "name": "stdout",
          "text": [
            "Khong co bang chung de bac bo gia thuyet H0\n"
          ]
        }
      ],
      "source": [
        "FTC = np.random.normal(3.238, 0.117, 64)\n",
        "##info\n",
        "a= 0.01\n",
        "pop = 3.25\n",
        "#z-test\n",
        "z_score, p= ztest(FTC ,value = pop, alternative = 'two-sided')\n",
        "if (p <  a):\n",
        "  print(\"Co bang chung de bac bo gia thuyet H0\")\n",
        "else:\n",
        "  print(\"Khong co bang chung de bac bo gia thuyet H0\")"
      ]
    },
    {
      "cell_type": "markdown",
      "metadata": {
        "id": "Jmhx74OZhiCZ"
      },
      "source": [
        "Bài 12: Is the average capacity of batteries less than 140 ampere-hours?  A random sample of 20 batteries had a mean of 138.47 and a standard deviation of 2.66.  Assume a normal distribution. Test at the .05 level of significance."
      ]
    },
    {
      "cell_type": "markdown",
      "source": [
        "Gia thuyet null: \"Nang luong Tb cua pin la 140 ampere-hours\"\n",
        "\n",
        "Gia thuyet thay the: \"Nang luong Tb cua pin be hon 140 ampere-hours\""
      ],
      "metadata": {
        "id": "yErbDmQvih0b"
      }
    },
    {
      "cell_type": "markdown",
      "source": [
        "\n",
        "$$H_0: μ = 140$$\n",
        "\n",
        "$$H_a: μ < 140$$\n"
      ],
      "metadata": {
        "id": "a42w26sPd6K7"
      }
    },
    {
      "cell_type": "code",
      "source": [
        "batteries = np.random.normal(138.47, 2.66, 20)\n",
        "#info\n",
        "pop = 140\n",
        "a = 0.05\n",
        "#t-test\n",
        "battery = DescrStatsW(batteries)\n",
        "ttest_score, p_value, df = battery.ttest_mean(popmean, 'smaller')\n",
        "if (p_value <  a):\n",
        "  print(\"Co bang chung de bac bo gia thuyet H0\")\n",
        "else:\n",
        "  print(\"Khong co bang chung de bac bo gia thuyet H0\")"
      ],
      "metadata": {
        "id": "bSmabGeJd6LA",
        "outputId": "240169e2-2f8c-42e6-9c38-3572a9b073ec",
        "colab": {
          "base_uri": "https://localhost:8080/"
        }
      },
      "execution_count": 36,
      "outputs": [
        {
          "output_type": "stream",
          "name": "stdout",
          "text": [
            "Co bang chung de bac bo gia thuyet H0\n"
          ]
        }
      ]
    },
    {
      "cell_type": "markdown",
      "metadata": {
        "id": "HXj81GdshiCZ"
      },
      "source": [
        "Bài 13: You’re a marketing analyst for Wal-Mart.  Wal-Mart had teddy bears on sale last week.  The weekly sales of bears sold in 10 stores was: 8  11  0   4   7   8   10   5   8   3. At the .05 level of significance, is there evidence that the average bear sales per store is more than 5?"
      ]
    },
    {
      "cell_type": "markdown",
      "source": [
        "\n",
        "Gia thuyet Null: \"Doanh so ban Tb cua cua hang la 5\"\n",
        "\n",
        "Gia thuyet thay the: \"Doanh so ban hang Tb cua cua hang lon hon 5\""
      ],
      "metadata": {
        "id": "THNYv-nZcQyC"
      }
    },
    {
      "cell_type": "markdown",
      "source": [
        "\n",
        "$$H_0: μ = 5$$\n",
        "\n",
        "$$H_a: μ > 5$$\n"
      ],
      "metadata": {
        "id": "72G4Ac9oe3ge"
      }
    },
    {
      "cell_type": "code",
      "execution_count": 35,
      "metadata": {
        "id": "8o6wLPphe3ge",
        "outputId": "684fbe14-270b-4967-85a5-3b9b49a3f5a9",
        "colab": {
          "base_uri": "https://localhost:8080/"
        }
      },
      "outputs": [
        {
          "output_type": "stream",
          "name": "stdout",
          "text": [
            "Chưa có bằng chứng để bác bỏ giả thuyết H0\n"
          ]
        }
      ],
      "source": [
        "bear = [8, 11, 0, 4, 7, 8, 10, 5, 8, 3]\n",
        "#info\n",
        "a = 0.05\n",
        "pop = 5\n",
        "# t_test\n",
        "sell = DescrStatsW(bear)\n",
        "ttest_score, p_value, df = sell.ttest_mean(pop, 'larger')\n",
        "if (p_value <  a):\n",
        "  print(\"Co bang chung de bac bo gia thuyet H0\")\n",
        "else:\n",
        "  print(\"Khong co bang chung de bac bo gia thuyet H0\")"
      ]
    }
  ],
  "metadata": {
    "kernelspec": {
      "display_name": "Python 3",
      "language": "python",
      "name": "python3"
    },
    "language_info": {
      "codemirror_mode": {
        "name": "ipython",
        "version": 3
      },
      "file_extension": ".py",
      "mimetype": "text/x-python",
      "name": "python",
      "nbconvert_exporter": "python",
      "pygments_lexer": "ipython3",
      "version": "3.7.3"
    },
    "colab": {
      "name": "z-test_and_t-test.ipynb",
      "provenance": [],
      "include_colab_link": true
    }
  },
  "nbformat": 4,
  "nbformat_minor": 0
}