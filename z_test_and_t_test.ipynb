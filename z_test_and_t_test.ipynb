{
  "cells": [
    {
      "cell_type": "markdown",
      "metadata": {
        "id": "view-in-github",
        "colab_type": "text"
      },
      "source": [
        "<a href=\"https://colab.research.google.com/github/Tranminhtuan48/pythonbasics/blob/main/z_test_and_t_test.ipynb\" target=\"_parent\"><img src=\"https://colab.research.google.com/assets/colab-badge.svg\" alt=\"Open In Colab\"/></a>"
      ]
    },
    {
      "cell_type": "markdown",
      "metadata": {
        "id": "QL4T3DMIhiCO"
      },
      "source": [
        "XÂY DỰNG CHƯƠNG TRÌNH KIỂM ĐỊNH Z (HOẶC T) CHO CÁC BÀI TẬP SAU\n",
        "\n",
        "Gợi ý:\n",
        "\n",
        "- Số liệu được sinh ngẫu nhiên theo phân phối chuẩn\n",
        "- Sử dụng gói phần mềm statsmodels để tiến hành kiểm định\n",
        "- Đối với các bài tập kiểm định giả thuyết thì sinh viên cần phát biểu các giả thuyết (bằng tiếng Việt) $H_{0}$ và $H_{a}$ trước khi lập trình kiểm định"
      ]
    },
    {
      "cell_type": "code",
      "source": [
        "#import library\n",
        "from scipy import stats\n",
        "import numpy as np\n",
        "import math\n",
        "from statsmodels.stats.weightstats import ztest\n",
        "import scipy.stats as st"
      ],
      "metadata": {
        "id": "1NCd24nhhxlS",
        "outputId": "55e94773-3500-44f0-9bd7-839b5f743eb7",
        "colab": {
          "base_uri": "https://localhost:8080/"
        }
      },
      "execution_count": null,
      "outputs": [
        {
          "output_type": "stream",
          "name": "stderr",
          "text": [
            "/usr/local/lib/python3.7/dist-packages/statsmodels/tools/_testing.py:19: FutureWarning: pandas.util.testing is deprecated. Use the functions in the public API at pandas.testing instead.\n",
            "  import pandas.util.testing as tm\n"
          ]
        }
      ]
    },
    {
      "cell_type": "markdown",
      "metadata": {
        "id": "sBVAF_l7hiCR"
      },
      "source": [
        "Bài 1: You’re a Q/C inspector for Gallo. The sample standard deviation for 2-liter bottles is .05 liters.  A random sample of 100 bottles showed sample mean = 1.99 liters.  What is the 90%  confidence interval estimate of the true mean amount in 2-liter bottles? "
      ]
    },
    {
      "cell_type": "code",
      "execution_count": null,
      "metadata": {
        "id": "dY4wOiFqhiCS",
        "colab": {
          "base_uri": "https://localhost:8080/"
        },
        "outputId": "675d9bbb-57c4-4575-e50d-d1fcfc820df1"
      },
      "outputs": [
        {
          "output_type": "execute_result",
          "data": {
            "text/plain": [
              "(1.6321995477099427, 2.3678004522900573)"
            ]
          },
          "metadata": {},
          "execution_count": 7
        }
      ],
      "source": [
        "TB_mau = 2\n",
        "DL_C = 0.05\n",
        "DL = DL_C / (math.sqrt(DL_C))\n",
        "stats.norm.interval(alpha= 0.90, loc = TB_mau, scale = DL)"
      ]
    },
    {
      "cell_type": "markdown",
      "metadata": {
        "id": "A3nr3gmahiCT"
      },
      "source": [
        "Bài 2: You’re a time study analyst in manufacturing.  You’ve recorded the following task times (min.): 3.6, 4.2, 4.0, 3.5, 3.8, 3.1. What is the 90% confidence interval estimate of the population mean task time? "
      ]
    },
    {
      "cell_type": "code",
      "source": [
        "task_time = [3.6, 4.2, 4.0, 3.5, 3.8, 3.1]\n",
        "st.t.interval(0.9, len(task_time ) - 1, np.mean(task_time ), np.std(task_time )/math.sqrt(len(task_time )))"
      ],
      "metadata": {
        "colab": {
          "base_uri": "https://localhost:8080/"
        },
        "id": "u2lHfvyYdNnF",
        "outputId": "f4e4aab8-811e-4203-81f8-1df3f9063b2b"
      },
      "execution_count": null,
      "outputs": [
        {
          "output_type": "execute_result",
          "data": {
            "text/plain": [
              "(3.4072202592396357, 3.9927797407603656)"
            ]
          },
          "metadata": {},
          "execution_count": 8
        }
      ]
    },
    {
      "cell_type": "markdown",
      "metadata": {
        "id": "7m_gBwHbhiCT"
      },
      "source": [
        "Bài 3: Does an average box of cereal contain 368 grams of cereal?  A random sample of 25 boxes had $\\overline{\\rm x}$ = 372.5.  The company has specified $\\sigma$ to be 25 grams.  Test at the .05 level of significance.\n",
        "\n",
        "\n"
      ]
    },
    {
      "cell_type": "markdown",
      "source": [
        "H_0: $$H_0: μ = 368$$\n",
        "H_A:$$H_a: μ \\ne 368$$\n"
      ],
      "metadata": {
        "id": "GldxshMqM8lj"
      }
    },
    {
      "cell_type": "code",
      "source": [
        "cereal = np.random.normal(372.5, 25, 25)\n",
        "#info\n",
        "a = 0.05\n",
        "population = 368\n",
        "#z-test\n",
        "z_score, p= ztest(cereal, value = population, alternative='two-sided')\n",
        "if(p < a ):\n",
        "  print(\"Có bằng chứng để bác bỏ giả thuyết H0\")\n",
        "else:\n",
        "  print(\"Chưa có bằng chứng để bác bỏ giả thuyết H0\")"
      ],
      "metadata": {
        "id": "AUQTT3IePjJo",
        "colab": {
          "base_uri": "https://localhost:8080/"
        },
        "outputId": "e6d45f03-9706-4054-fb69-2558a7100c52"
      },
      "execution_count": null,
      "outputs": [
        {
          "output_type": "stream",
          "name": "stdout",
          "text": [
            "Chưa có bằng chứng để bác bỏ giả thuyết H0\n"
          ]
        }
      ]
    },
    {
      "cell_type": "markdown",
      "metadata": {
        "id": "XtYFuKGyhiCU"
      },
      "source": [
        "Bài 4: You’re a Q/C inspector.  You want to find out if a new machine is making electrical cords to customer specification: average breaking strength of 70 lb. with $\\sigma$ = 3.5 lb.  You take a sample of 36 cords & compute a sample mean of 69.7 lb.  At the .05 level of significance, is there evidence that the machine is not meeting the average breaking strength?"
      ]
    },
    {
      "cell_type": "markdown",
      "source": [
        "Xây dựng kiểm định:$$H_0: μ = 70$$\n",
        "Giả thuyết thay thế:$$H_a: μ \\ne 70$$"
      ],
      "metadata": {
        "id": "9RHCGcVwSuo8"
      }
    },
    {
      "cell_type": "code",
      "execution_count": null,
      "metadata": {
        "id": "xffcTMzfhiCV",
        "colab": {
          "base_uri": "https://localhost:8080/"
        },
        "outputId": "01a4b0a4-2100-4f99-9f56-c5e05acb0941"
      },
      "outputs": [
        {
          "output_type": "stream",
          "name": "stdout",
          "text": [
            "Chưa có bằng chứng để bác bỏ giả thuyết H0\n"
          ]
        }
      ],
      "source": [
        "machine = np.random.normal(69.7, 3.5, 36)\n",
        "# info\n",
        "population = 70\n",
        "a = 0.05\n",
        "# z-test\n",
        "z_score, p= ztest(machine, value = population, alternative='two-sided')\n",
        "if(p <  a):\n",
        "  print(\"Có bằng chứng để bác bỏ giả thuyết H0\")\n",
        "else:\n",
        "  print(\"Chưa có bằng chứng để bác bỏ giả thuyết H0\")"
      ]
    },
    {
      "cell_type": "markdown",
      "metadata": {
        "id": "UjqZZsBOhiCV"
      },
      "source": [
        "Bài 5: Does an average box of cereal contain more than 368 grams of cereal?  A random sample of 25 boxes showed $\\overline{\\rm x}$ =  372.5.  The company has specified $\\sigma$ to be 25 grams.  Test at the .05 level of significance."
      ]
    },
    {
      "cell_type": "markdown",
      "source": [
        "Phát biểu giả thuyết gốc: \"Trung bình hộp ngữ cốc chứa 368 grams ngũ cốc\"\n",
        "\n",
        "Phát biểu giả thuyết thay thế: \"Trung bình hộp ngũ cốc chứa nhiều hơn 368 grams ngũ cốc\""
      ],
      "metadata": {
        "id": "pynqAanhgxgm"
      }
    },
    {
      "cell_type": "markdown",
      "source": [
        "Xây dựng kiểm định:\n",
        "$$H_0: μ = 368$$\n",
        "Giả thuyết thay thế:\n",
        "$$H_a: μ > 368$$"
      ],
      "metadata": {
        "id": "KZr0OaxeUHaK"
      }
    },
    {
      "cell_type": "code",
      "execution_count": null,
      "metadata": {
        "id": "DgZsie4ehiCV",
        "colab": {
          "base_uri": "https://localhost:8080/"
        },
        "outputId": "f5651741-3576-4d49-c547-284dedb89579"
      },
      "outputs": [
        {
          "output_type": "stream",
          "name": "stdout",
          "text": [
            "Chưa có bằng chứng để bác bỏ giả thuyết H0\n"
          ]
        }
      ],
      "source": [
        "box_cereal = np.random.normal(372.5, 25, 25)\n",
        "# info\n",
        "population = 368\n",
        "a = 0.05\n",
        "# t test:\n",
        "z_score, p= ztest(box_cereal, value = population, alternative='larger')\n",
        "if(p <  a):\n",
        "  print(\"Có bằng chứng để bác bỏ giả thuyết H0\")\n",
        "else:\n",
        "  print(\"Chưa có bằng chứng để bác bỏ giả thuyết H0\")"
      ]
    },
    {
      "cell_type": "markdown",
      "metadata": {
        "id": "ZDUc62QHhiCW"
      },
      "source": [
        "Bài 6: You’re an analyst for Ford.  You want to find out if the average miles per gallon of Escorts is at least 32 mpg. Similar models have a standard deviation of 3.8 mpg. You take a sample of 60 Escorts & compute a sample mean of 30.7 mpg. At the .01 level of significance, is there evidence that the miles per gallon is less than 32?"
      ]
    },
    {
      "cell_type": "markdown",
      "source": [
        "Xây dựng kiểm định:\n",
        "$$H_0: μ = 32$$\n",
        "Giả thuyết thay thế:\n",
        "$$H_a: μ < 32$$"
      ],
      "metadata": {
        "id": "Ty4NrR7bYRG0"
      }
    },
    {
      "cell_type": "code",
      "source": [
        "ford = np.random.normal(30.7, 3.8, 60)\n",
        "# info\n",
        "pop = 32\n",
        "a = 0.01\n",
        "# t_test:\n",
        "\n",
        "z_score, p= ztest(ford, value = pop, alternative='smaller')\n",
        "if(p <  a):\n",
        "  print(\"Có bằng chứng để bác bỏ giả thuyết H0\")\n",
        "else:\n",
        "  print(\"Chưa có bằng chứng để bác bỏ giả thuyết H0\")"
      ],
      "metadata": {
        "colab": {
          "base_uri": "https://localhost:8080/"
        },
        "id": "vTAGpbQwZNkU",
        "outputId": "da64dec7-205f-43cf-a0b6-a377a994a0c1"
      },
      "execution_count": null,
      "outputs": [
        {
          "output_type": "stream",
          "name": "stdout",
          "text": [
            "Có bằng chứng để bác bỏ giả thuyết H0\n"
          ]
        }
      ]
    },
    {
      "cell_type": "markdown",
      "metadata": {
        "id": "KxJRJrQrhiCW"
      },
      "source": [
        "Bài 7: Does an average box of cereal contain 368 grams of cereal?  A random sample of 25 boxes showed $\\overline{\\rm x}$ = 372.5.  The company has specified $\\sigma$ to be 15 grams.  Find the p-Value."
      ]
    },
    {
      "cell_type": "markdown",
      "source": [
        "Xây dựng kiểm định:\n",
        "$$H_0: μ = 368$$\n",
        "Giả thuyết thay thế:\n",
        "$$H_a: μ \\ne 368$$"
      ],
      "metadata": {
        "id": "t9VdpLf2Zg1j"
      }
    },
    {
      "cell_type": "code",
      "source": [
        "average_cereal = np.random.normal(372.5, 15, 25)\n",
        "#info\n",
        "pop = 368\n",
        "# t-test:\n",
        "z_core, p_value= ztest(average_cereal, value = pop, alternative='two-sided')\n",
        "print(f\"p-value: {p_value}\")"
      ],
      "metadata": {
        "colab": {
          "base_uri": "https://localhost:8080/"
        },
        "id": "-qFS3HshZu_j",
        "outputId": "83176a7c-acfa-4cb1-e92b-35b9647c33ad"
      },
      "execution_count": null,
      "outputs": [
        {
          "output_type": "stream",
          "name": "stdout",
          "text": [
            "p-value: 0.1392008756174254\n"
          ]
        }
      ]
    },
    {
      "cell_type": "markdown",
      "metadata": {
        "id": "KKuzgjWVhiCX"
      },
      "source": [
        "Bài 8: Does an average box of cereal contain more than 368 grams of cereal?  A random sample of 25 boxes showed $\\overline{\\rm x}$ = 372.5.  The company has specified $\\sigma$ to be 15 grams.  Find the p-Value."
      ]
    },
    {
      "cell_type": "markdown",
      "source": [
        "Xây dựng kiểm định:\n",
        "$$H_0: μ = 368$$\n",
        "Giả thuyết thay thế:\n",
        "$$H_a: μ > 368$$"
      ],
      "metadata": {
        "id": "KgnPeVRraMFP"
      }
    },
    {
      "cell_type": "code",
      "source": [
        "average_cereal1 = np.random.normal(372.5, 15, 25)\n",
        "#info\n",
        "pop = 368\n",
        "# t_test:\n",
        "ztest_Score, p_value= ztest(average_cereal1, value = pop, alternative='larger')\n",
        "print(f\"p-value: {p_value}\")"
      ],
      "metadata": {
        "colab": {
          "base_uri": "https://localhost:8080/"
        },
        "outputId": "b369ebc4-1952-4fd9-d7c8-f51824e8e2b1",
        "id": "hVRrjMutaMFU"
      },
      "execution_count": null,
      "outputs": [
        {
          "output_type": "stream",
          "name": "stdout",
          "text": [
            "p-value: 0.0072866853208106\n"
          ]
        }
      ]
    },
    {
      "cell_type": "markdown",
      "metadata": {
        "id": "qixzeP-rhiCX"
      },
      "source": [
        "Bài 9: You’re an analyst for Ford.  You want to find out if the average miles per gallon of Escorts is less than 32 mpg.   Similar models have a standard deviation of 3.8 mpg.  You take a sample of 60 Escorts & compute a sample mean of 30.7 mpg.  What is the value of the observed level of significance (p-Value)?"
      ]
    },
    {
      "cell_type": "markdown",
      "source": [
        "Xây dựng kiểm định:\n",
        "$$H_0: μ = 32$$\n",
        "Giả thuyết thay thế:\n",
        "$$H_a: μ < 32$$"
      ],
      "metadata": {
        "id": "npkl4sBdag2p"
      }
    },
    {
      "cell_type": "code",
      "source": [
        "ford1 = np.random.normal(30.7, 3.8, 60)\n",
        "#info\n",
        "pop = 32\n",
        "# t_test:\n",
        "ztest_Score, p_value= ztest(ford1, value = pop, alternative='smaller')\n",
        "print(f\"p-value: {p_value}\")"
      ],
      "metadata": {
        "colab": {
          "base_uri": "https://localhost:8080/"
        },
        "outputId": "22268e21-757b-413b-a1eb-ad7dce4ff04c",
        "id": "fC5b2Z1Rag2u"
      },
      "execution_count": null,
      "outputs": [
        {
          "output_type": "stream",
          "name": "stdout",
          "text": [
            "p-value: 0.01720887214964121\n"
          ]
        }
      ]
    },
    {
      "cell_type": "markdown",
      "metadata": {
        "id": "zmuVqcemhiCY"
      },
      "source": [
        "Bài 10: Does an average box of cereal contain 368 grams of cereal?  A random sample of 36 boxes had a mean of 372.5 and a standard deviation of 12 grams. Test at the .05 level of significance."
      ]
    },
    {
      "cell_type": "markdown",
      "source": [
        "Xây dựng kiểm định:\n",
        "$$H_0: μ = 368$$\n",
        "Giả thuyết thay thế:\n",
        "$$H_a: μ \\ne 368$$\n"
      ],
      "metadata": {
        "id": "qzK9TkX_bDo0"
      }
    },
    {
      "cell_type": "code",
      "source": [
        "averag_box = np.random.normal(372.5, 12, 36)\n",
        "#info\n",
        "a= 0.05\n",
        "pop = 368\n",
        "#z-test\n",
        "z_score, p = ztest(averag_box ,value = pop, alternative = 'two-sided')\n",
        "if (p <  a):\n",
        "  print(\"Có bằng chứng để bác bỏ giả thuyết H0\")\n",
        "else:\n",
        "  print(\"Chưa có bằng chứng để bác bỏ giả thuyết H0\")"
      ],
      "metadata": {
        "colab": {
          "base_uri": "https://localhost:8080/"
        },
        "id": "L8wScvr6ph7d",
        "outputId": "a3edb1c0-a1fb-4ca8-dc34-0ca9343e5638"
      },
      "execution_count": null,
      "outputs": [
        {
          "output_type": "stream",
          "name": "stdout",
          "text": [
            "Chưa có bằng chứng để bác bỏ giả thuyết H0\n"
          ]
        }
      ]
    },
    {
      "cell_type": "markdown",
      "metadata": {
        "id": "jvEaU52LhiCY"
      },
      "source": [
        "Bài 11: You work for the FTC.  A manufacturer of detergent claims that the mean weight of detergent is 3.25 lb.  You take a random sample of 64 containers.  You calculate the sample average to be 3.238 lb. with a standard deviation of .117 lb.  At the .01 level of significance, is the manufacturer correct?"
      ]
    },
    {
      "cell_type": "markdown",
      "source": [
        "Xây dựng kiểm định:\n",
        "$$H_0: μ = 3.25$$\n",
        "Giả thuyết thay thế:\n",
        "$$H_a: μ \\ne 3.25$$\n"
      ],
      "metadata": {
        "id": "zk7RsmHOdJz1"
      }
    },
    {
      "cell_type": "code",
      "execution_count": null,
      "metadata": {
        "id": "fU_EHfAehiCY",
        "colab": {
          "base_uri": "https://localhost:8080/"
        },
        "outputId": "200001d3-a548-4c59-e09f-ee3258576f63"
      },
      "outputs": [
        {
          "output_type": "stream",
          "name": "stdout",
          "text": [
            "Chưa có bằng chứng để bác bỏ giả thuyết H0\n"
          ]
        }
      ],
      "source": [
        "FTC = np.random.normal(3.238, 0.117, 64)\n",
        "##info\n",
        "a= 0.01\n",
        "pop = 3.25\n",
        "#z-test\n",
        "z_score, p= ztest(FTC ,value = pop, alternative = 'two-sided')\n",
        "if (p <  a):\n",
        "  print(\"Có bằng chứng để bác bỏ giả thuyết H0\")\n",
        "else:\n",
        "  print(\"Chưa có bằng chứng để bác bỏ giả thuyết H0\")"
      ]
    },
    {
      "cell_type": "markdown",
      "metadata": {
        "id": "Jmhx74OZhiCZ"
      },
      "source": [
        "Bài 12: Is the average capacity of batteries less than 140 ampere-hours?  A random sample of 20 batteries had a mean of 138.47 and a standard deviation of 2.66.  Assume a normal distribution. Test at the .05 level of significance."
      ]
    },
    {
      "cell_type": "markdown",
      "source": [
        "Phát biểu giả thuyết gốc: \"Dung lượng trung bình của pin là 140 ampere-hours\"\n",
        "\n",
        "Phát biểu giả thuyết thay thế: \"Dung lượng trung bình của pin bé hơn 140 ampere-hours\""
      ],
      "metadata": {
        "id": "yErbDmQvih0b"
      }
    },
    {
      "cell_type": "markdown",
      "source": [
        "Xây dựng kiểm định:\n",
        "$$H_0: μ = 140$$\n",
        "Giả thuyết thay thế:\n",
        "$$H_a: μ < 140$$\n"
      ],
      "metadata": {
        "id": "a42w26sPd6K7"
      }
    },
    {
      "cell_type": "code",
      "source": [
        "batteries = np.random.normal(138.47, 2.66, 20)\n",
        "#info\n",
        "pop = 140\n",
        "a = 0.05\n",
        "#t-test\n",
        "battery = ztest(batteries)\n",
        "z_score, p= battery.ztest(popmean, 'smaller')\n",
        "if (p<  a):\n",
        "  print(\"Có bằng chứng để bác bỏ giả thuyết H0\")\n",
        "else:\n",
        "  print(\"Chưa có bằng chứng để bác bỏ giả thuyết H0\")"
      ],
      "metadata": {
        "id": "bSmabGeJd6LA"
      },
      "execution_count": null,
      "outputs": []
    },
    {
      "cell_type": "markdown",
      "metadata": {
        "id": "HXj81GdshiCZ"
      },
      "source": [
        "Bài 13: You’re a marketing analyst for Wal-Mart.  Wal-Mart had teddy bears on sale last week.  The weekly sales of bears sold in 10 stores was: 8  11  0   4   7   8   10   5   8   3. At the .05 level of significance, is there evidence that the average bear sales per store is more than 5?"
      ]
    },
    {
      "cell_type": "markdown",
      "source": [
        "Xây dựng kiểm định:\n",
        "$$H_0: μ = 5$$\n",
        "Giả thuyết thay thế:\n",
        "$$H_a: μ > 5$$\n"
      ],
      "metadata": {
        "id": "72G4Ac9oe3ge"
      }
    },
    {
      "cell_type": "code",
      "execution_count": null,
      "metadata": {
        "colab": {
          "base_uri": "https://localhost:8080/"
        },
        "outputId": "bf7f7d15-3491-42e0-c138-73fbbb34f0f4",
        "id": "8o6wLPphe3ge"
      },
      "outputs": [
        {
          "output_type": "stream",
          "name": "stdout",
          "text": [
            "P Value = 0.8488386600165195\n",
            "Chưa có bằng chứng để bác bỏ giả thuyết H0\n"
          ]
        }
      ],
      "source": [
        "bear = [8, 11, 0, 4, 7, 8, 10, 5, 8, 3]\n",
        "#info\n",
        "a = 0.05\n",
        "pop = 5\n",
        "# t_test\n",
        "analyst = ztest(bear)\n",
        "z_score, p, df = analyst.zyest(popmean, 'larger')\n",
        "if (p < ):\n",
        "  print(\"Có bằng chứng để bác bỏ giả thuyết H0\")\n",
        "else:\n",
        "  print(\"Chưa có bằng chứng để bác bỏ giả thuyết H0\")"
      ]
    }
  ],
  "metadata": {
    "kernelspec": {
      "display_name": "Python 3",
      "language": "python",
      "name": "python3"
    },
    "language_info": {
      "codemirror_mode": {
        "name": "ipython",
        "version": 3
      },
      "file_extension": ".py",
      "mimetype": "text/x-python",
      "name": "python",
      "nbconvert_exporter": "python",
      "pygments_lexer": "ipython3",
      "version": "3.7.3"
    },
    "colab": {
      "name": "z-test_and_t-test.ipynb",
      "provenance": [],
      "include_colab_link": true
    }
  },
  "nbformat": 4,
  "nbformat_minor": 0
}