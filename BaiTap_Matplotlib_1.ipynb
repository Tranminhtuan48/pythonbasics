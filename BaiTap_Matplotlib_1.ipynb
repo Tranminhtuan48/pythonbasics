{
  "nbformat": 4,
  "nbformat_minor": 0,
  "metadata": {
    "colab": {
      "name": "BaiTap_Matplotlib_1.ipynb",
      "provenance": [],
      "include_colab_link": true
    },
    "kernelspec": {
      "name": "python3",
      "display_name": "Python 3"
    },
    "language_info": {
      "name": "python"
    }
  },
  "cells": [
    {
      "cell_type": "markdown",
      "metadata": {
        "id": "view-in-github",
        "colab_type": "text"
      },
      "source": [
        "<a href=\"https://colab.research.google.com/github/Tranminhtuan48/pythonbasics/blob/main/BaiTap_Matplotlib_1.ipynb\" target=\"_parent\"><img src=\"https://colab.research.google.com/assets/colab-badge.svg\" alt=\"Open In Colab\"/></a>"
      ]
    },
    {
      "cell_type": "code",
      "source": [
        "import numpy as np\n",
        "import matplotlib.pyplot as plt"
      ],
      "metadata": {
        "id": "-gGLm4mHo6Mi"
      },
      "execution_count": 1,
      "outputs": []
    },
    {
      "cell_type": "markdown",
      "source": [
        "Đề bài: Xét hàm số y(x) = x^3 + 3x + 7 với x ∈ [−6, 5]. Hãy:"
      ],
      "metadata": {
        "id": "XT6G1ICJpGYQ"
      }
    },
    {
      "cell_type": "markdown",
      "source": [
        "* Xác định đạo hàm bậc nhất và bậc hai của hàm số trên\n",
        "\n",
        "> * y(x)' = 3x^2 + 3\n",
        "> * y(x)'' = 6x\n",
        "*1.1 Tạo ra 1 vector x có 1500 phần tử với giá trị khởi đầu là -6 và kết thúc là 5 bằng hàm linspace()\n",
        "*1.2 Xây dựng vector y, y1 và y2 tương ứng hàm số y(x), y(x)\n",
        "′\n",
        ", y(x)\n",
        "′′ với giá trị các phần tử tương ứng được sinh ra từ việc sử dụng vector x ở trên làm tham số đầu vào;\n"
      ],
      "metadata": {
        "id": "cHzVzhROpPZI"
      }
    },
    {
      "cell_type": "code",
      "source": [
        "#1.1\n",
        "x = np.linspace(-6, 5, num = 1500)"
      ],
      "metadata": {
        "id": "-Ik0175sp1KQ"
      },
      "execution_count": 2,
      "outputs": []
    },
    {
      "cell_type": "code",
      "source": [
        "#1.2\n",
        "y = x**3 + 3*x + 7\n",
        "y1 = 3*(x**2) + 3\n",
        "y2 = 6*x"
      ],
      "metadata": {
        "id": "a-OsdPrzqGy2"
      },
      "execution_count": 3,
      "outputs": []
    },
    {
      "cell_type": "markdown",
      "source": [
        "* Hãy tạo đối tượng fig (là đối tượng của lớp Figure) và đối tượng ax (là đối tượng của\n",
        "Axes) từ hàm subplot() để phục vụ việc vẽ hình đồ thị của các hàm số trên;\n",
        "* Sử dụng đối tượng ax để vẽ đồ thị cho hàm số y(x) tương ứng với tham số đầu vào là x và\n",
        "y và đặt tên cho đồ thị này là y(x);\n",
        "* Sử dụng đối tượng ax để vẽ đồ thị cho hàm số y(x) tương ứng với tham số đầu vào là x và y1 và đặt tên cho đồ thị này là y'(x);\n",
        "* Sử dụng đối tượng ax để vẽ đồ thị cho hàm số y′′(x) tương ứng với tham số đầu vào là x và y2 và đặt tên cho đồ thị này là y′′(x);\n",
        "* Thiết lập tên cho các trục tọa độ: tung độ là y và hoành độ là x;\n",
        "* Hiển thị các tên của từng đồ thị lên hình vẽ (gợi ý: hàm legend())."
      ],
      "metadata": {
        "id": "_6OG6xDFqclx"
      }
    },
    {
      "cell_type": "code",
      "source": [
        "fig, ax = plt.subplots()\n",
        "# đồ thị y(x)\n",
        "ax.plot(x,y,\n",
        "        color = \"green\",\n",
        "        label = \"y(x)\");\n",
        "ax.legend();\n",
        "\n",
        "# đồ thị y'(x)\n",
        "ax.plot(x, y1,\n",
        "        color = \"red\",\n",
        "        label = \"y'(x)\")\n",
        "ax.legend();\n",
        "\n",
        "# đồ thị y''(x)\n",
        "ax.plot(x, y2,\n",
        "        color = \"blue\",\n",
        "        label = \"y''(x)\")\n",
        "ax.set(title = \"Đồ thị hàm số\",\n",
        "       xlabel = \"x\",\n",
        "       ylabel = \"y\")\n",
        "ax.legend();"
      ],
      "metadata": {
        "colab": {
          "base_uri": "https://localhost:8080/",
          "height": 295
        },
        "id": "x8PmAUw-qgHn",
        "outputId": "23ddb3da-0249-4cab-83af-2299d2afa611"
      },
      "execution_count": 4,
      "outputs": [
        {
          "output_type": "display_data",
          "data": {
            "text/plain": [
              "<Figure size 432x288 with 1 Axes>"
            ],
            "image/png": "[encoded data removed]"
          },
          "metadata": {
            "needs_background": "light"
          }
        }
      ]
    }
  ]
}