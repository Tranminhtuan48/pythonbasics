{
  "nbformat": 4,
  "nbformat_minor": 0,
  "metadata": {
    "colab": {
      "name": "Bài Tập t53&t54.ipynb",
      "provenance": [],
      "collapsed_sections": [],
      "authorship_tag": "ABX9TyMMH1iyvE911clhvopwsqKs",
      "include_colab_link": true
    },
    "kernelspec": {
      "name": "python3",
      "display_name": "Python 3"
    },
    "language_info": {
      "name": "python"
    }
  },
  "cells": [
    {
      "cell_type": "markdown",
      "metadata": {
        "id": "view-in-github",
        "colab_type": "text"
      },
      "source": [
        "<a href=\"https://colab.research.google.com/github/Tranminhtuan48/pythonbasics/blob/main/B%C3%A0i_T%E1%BA%ADp_t53%26t54.ipynb\" target=\"_parent\"><img src=\"https://colab.research.google.com/assets/colab-badge.svg\" alt=\"Open In Colab\"/></a>"
      ]
    },
    {
      "cell_type": "code",
      "metadata": {
        "colab": {
          "base_uri": "https://localhost:8080/"
        },
        "id": "1qPSUz-PW_rn",
        "outputId": "3d0e83f1-7945-49c5-ee16-b860c0303012"
      },
      "source": [
        "x= float(input(\"lãi suất hàng tháng: \"))\n",
        "y= float(input(\"số năm vay: \"))\n",
        "z= float(input(\"số tiền vay: \"))\n",
        "t= (x*z)/(1-(1/(1+x)**(y*12)))\n",
        "print(\"số tiền phải trả hàng tháng là:\", round(t))\n"
      ],
      "execution_count": 9,
      "outputs": [
        {
          "output_type": "stream",
          "name": "stdout",
          "text": [
            "lãi suất hàng tháng: 0.15\n",
            "số năm vay: 2\n",
            "số tiền vay: 200\n",
            "số tiền phải trả hàng tháng là: 31\n"
          ]
        }
      ]
    },
    {
      "cell_type": "code",
      "metadata": {
        "colab": {
          "base_uri": "https://localhost:8080/"
        },
        "id": "38HePPQ9d238",
        "outputId": "374b04a1-d59c-4a79-e168-d74c4579f352"
      },
      "source": [
        "a= float(input(\"toạ độ x điểm a: \"))\n",
        "b= float(input(\"toạ độ y diểm a: \"))\n",
        "c= float(input(\"toạ độ x điểm b: \"))\n",
        "d= float(input(\"toạ độ y điểm b: \"))\n",
        "import math\n",
        "e= math.sqrt((a-c)**2+(b-d)**2)\n",
        "print(\"khoảng cách giữa hai điểm là:\", e)"
      ],
      "execution_count": 11,
      "outputs": [
        {
          "output_type": "stream",
          "name": "stdout",
          "text": [
            "toạ độ x điểm a: 2\n",
            "toạ độ y diểm a: 5\n",
            "toạ độ x điểm b: 3\n",
            "toạ độ y điểm b: 4\n",
            "khoảng cách giữa hai điểm là: 1.4142135623730951\n"
          ]
        }
      ]
    }
  ]
}