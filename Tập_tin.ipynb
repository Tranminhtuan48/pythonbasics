{
  "nbformat": 4,
  "nbformat_minor": 0,
  "metadata": {
    "colab": {
      "name": "Tập tin.ipynb",
      "provenance": [],
      "authorship_tag": "ABX9TyNVZ2FEu8jXVIyq03ZjD9ey",
      "include_colab_link": true
    },
    "kernelspec": {
      "name": "python3",
      "display_name": "Python 3"
    },
    "language_info": {
      "name": "python"
    }
  },
  "cells": [
    {
      "cell_type": "markdown",
      "metadata": {
        "id": "view-in-github",
        "colab_type": "text"
      },
      "source": [
        "<a href=\"https://colab.research.google.com/github/Tranminhtuan48/pythonbasics/blob/main/T%E1%BA%ADp_tin.ipynb\" target=\"_parent\"><img src=\"https://colab.research.google.com/assets/colab-badge.svg\" alt=\"Open In Colab\"/></a>"
      ]
    },
    {
      "cell_type": "markdown",
      "metadata": {
        "id": "R0eim4hnMM-Q"
      },
      "source": [
        "Bài 1: Viết chương trình thực hiện các yêu cầu sau:\n",
        "\n",
        "Nhập một chuỗi kí tự từ bàn phím\n",
        "Nhập tên tập tin từ bàn phím\n",
        "Lưu chuỗi ký tự ở trên vào tập tin."
      ]
    },
    {
      "cell_type": "code",
      "metadata": {
        "colab": {
          "base_uri": "https://localhost:8080/"
        },
        "id": "XkH5WiYrIG_R",
        "outputId": "3e01ab68-c2e0-48da-a056-da12a7773d3d"
      },
      "source": [
        "chuoi = input(\"Chuỗi: \")\n",
        "filename = input(\"Tên file: \")\n",
        "f = open(filename, 'w', encoding = 'utf-8')\n",
        "f.write(chuoi)\n",
        "f.close()"
      ],
      "execution_count": null,
      "outputs": [
        {
          "name": "stdout",
          "output_type": "stream",
          "text": [
            "Chuỗi: sdfghj\n",
            "Tên file: flie1\n"
          ]
        }
      ]
    },
    {
      "cell_type": "markdown",
      "metadata": {
        "id": "2sKsAJZjMWfe"
      },
      "source": [
        "Bài 2: Viết chương trình thực hiện các yêu cầu sau:\n",
        "\n",
        "Nhập tên tập tin từ bàn phím\n",
        "Đọc nội dung tập tin và in ra màn hình"
      ]
    },
    {
      "cell_type": "code",
      "metadata": {
        "id": "R0ZDN_haMZEn"
      },
      "source": [
        "filename = input(\"Tên file: \")\n",
        "f = open(filename, 'r', encoding = 'utf-8')\n",
        "doc = f.read()\n",
        "print(doc)\n",
        "f.close()"
      ],
      "execution_count": null,
      "outputs": []
    },
    {
      "cell_type": "code",
      "metadata": {
        "id": "f97BTXGvMbAg"
      },
      "source": [
        "Bài 3: Viết chương trình thực hiện các yêu cầu sau:\n",
        "\n",
        "Nhập tên tập tin từ bàn phím\n",
        "Nhập một chuỗi kí tự vào từ bàn phím\n",
        "Ghi chuỗi kí tự này vào cuối tập tin ở trên"
      ],
      "execution_count": null,
      "outputs": []
    },
    {
      "cell_type": "code",
      "metadata": {
        "id": "xzdxBGHuMdpt"
      },
      "source": [
        "filename = input(\"Tên file: \")\n",
        "chuoi = input(\"Chuỗi: \")\n",
        "f = open(filename, 'a')\n",
        "f.write(chuoi)\n",
        "f.close()"
      ],
      "execution_count": null,
      "outputs": []
    },
    {
      "cell_type": "markdown",
      "metadata": {
        "id": "V3bkxXbOMfzl"
      },
      "source": [
        "Bài 4: Viết chương trình thực hiện các yêu cầu sau:\n",
        "\n",
        "Đọc tập tin ở bài 3 và ghi kết quả ra màn hình"
      ]
    },
    {
      "cell_type": "code",
      "metadata": {
        "id": "X6S6va9bMiIY"
      },
      "source": [
        "f = open(filename, 'r')\n",
        "doc = f.read()\n",
        "print(doc)\n",
        "f.close()"
      ],
      "execution_count": null,
      "outputs": []
    },
    {
      "cell_type": "markdown",
      "metadata": {
        "id": "JVBVpylwMk69"
      },
      "source": [
        "Bài 5: Viết chương trình thực các yêu cầu sau:\n",
        "\n",
        "Sinh ngẫu nhiên 1 danh sách gồm 1000 số nguyên trong khoảng từ [-1000, 1000]\n",
        "Nhập tên tập tin từ bàn phím\n",
        "Ghi danh sách trên vào tập tin theo quy tắc:\n",
        "o 10 số trên một hàng\n",
        "\n",
        "o Các số phân tách nhau bởi dấu phẩy (,)\n",
        "\n",
        "Đọc nội dung tập tin ở trên và in ra màn hình theo quy tắc:\n",
        "o 10 số trên một hàng\n",
        "\n",
        "o Các số phan tách nhau bởi dấu tab.\n",
        "\n"
      ]
    },
    {
      "cell_type": "code",
      "metadata": {
        "id": "trcwgdK8MnOT"
      },
      "source": [
        "import random\n",
        "ds5 = []\n",
        "check = 0\n",
        "for i in range(1000):\n",
        "    ds5.append(random.randint(-1000, 1000))\n",
        "filename = input(\"Tên file: \")\n",
        "print(len(ds5))\n",
        "for i in ds5:\n",
        "    if check < 9:\n",
        "        f = open(filename, 'a') # a: Mở file chế độ ghi tiếp.\n",
        "        chuoikytu = str(i)+','\n",
        "        f.write(chuoikytu)\n",
        "        f.close()\n",
        "        check +=1\n",
        "    else:\n",
        "        f = open(filename, 'a')\n",
        "        f.write(str(i)+\"\\n\")\n",
        "        f.close()\n",
        "        check = 0\n",
        "f = open(filename, 'r') # r: Chế độ chỉ được phép đọc.\n",
        "a = f.readlines()\n",
        "for i in a:\n",
        "    print(i.replace(\",\", \"    \"))\n",
        "f.close()"
      ],
      "execution_count": null,
      "outputs": []
    },
    {
      "cell_type": "code",
      "metadata": {
        "id": "0DC4kYqlMqzs"
      },
      "source": [
        ""
      ],
      "execution_count": null,
      "outputs": []
    }
  ]
}