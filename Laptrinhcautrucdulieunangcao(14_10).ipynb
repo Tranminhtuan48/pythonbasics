{
  "nbformat": 4,
  "nbformat_minor": 0,
  "metadata": {
    "colab": {
      "name": "Laptrinhcautrucdulieunangcao(14/10).ipynb",
      "provenance": [],
      "authorship_tag": "ABX9TyPhQUHKsfkcTMFXdxhYXJ6q",
      "include_colab_link": true
    },
    "kernelspec": {
      "name": "python3",
      "display_name": "Python 3"
    },
    "language_info": {
      "name": "python"
    }
  },
  "cells": [
    {
      "cell_type": "markdown",
      "metadata": {
        "id": "view-in-github",
        "colab_type": "text"
      },
      "source": [
        "<a href=\"https://colab.research.google.com/github/Tranminhtuan48/pythonbasics/blob/main/Laptrinhcautrucdulieunangcao(14_10).ipynb\" target=\"_parent\"><img src=\"https://colab.research.google.com/assets/colab-badge.svg\" alt=\"Open In Colab\"/></a>"
      ]
    },
    {
      "cell_type": "markdown",
      "metadata": {
        "id": "HzMz2JridOkS"
      },
      "source": [
        "Bài 1: Viết chương trình thực hiện các yêu cầu sau:\n",
        "\n",
        "Nhập vào 1 số nguyên dương N từ bàn phím\n",
        "Hãy xây dựng 1 dictionary với các phần tử chỉ mục và giá trị có dạng (i: log(i)) với I đi từ 0 tới N\n",
        "Hiển thị dictionary trên ra màn hình"
      ]
    },
    {
      "cell_type": "code",
      "metadata": {
        "id": "bcLNnJm9cmnl"
      },
      "source": [
        "import math\n",
        "n = int(input(\"nhập n: \"))\n",
        "abc = {}\n",
        "for i in range(1, n+1):\n",
        "  abc[i] = math.log(i)\n",
        "print(abc)"
      ],
      "execution_count": null,
      "outputs": []
    },
    {
      "cell_type": "markdown",
      "metadata": {
        "id": "vrVwT82WdRBC"
      },
      "source": [
        "Bài 2: Viết chương trình thực hiện các yêu cầu sau:\n",
        "\n",
        "Nhập vào từ bàn phím một chuỗi các giá trị (có thể là số nguyên, số thực hay các ký tự) cách nhau bởi dấu phẩy (“,”).\n",
        "Chuyển chuỗi được nhập từ bàn phím thành một danh sách (list)\n",
        "Hiển thị danh sách đó ra màn hình."
      ]
    },
    {
      "cell_type": "code",
      "metadata": {
        "id": "lax_mH2oc4W-"
      },
      "source": [
        "ka = str(input(\"Nhập chuỗi: \"))\n",
        "list2 = []\n",
        "pi = \"\"\n",
        "for i in range(len(ka)):\n",
        "  if ka[i] != \",\":\n",
        "    pi = pi + ka[i]\n",
        "  else: \n",
        "    list2.append(pi)\n",
        "    pi = \"\"\n",
        "else:\n",
        "  list2.append(pi)\n",
        "print(list2)"
      ],
      "execution_count": null,
      "outputs": []
    },
    {
      "cell_type": "markdown",
      "metadata": {
        "id": "ZiYb_N-6dQ5F"
      },
      "source": [
        "Bài 3: Viết chương trình thực hiện các yêu cầu sau:\n",
        "\n",
        "Nhập vào từ bàn phím một chuỗi các giá trị (có thể là số nguyên, số thực hay các ký tự) cách nhau bởi dấu phẩy (“,”).\n",
        "Chuyển chuỗi được nhập từ bàn phím thành một tuple\n",
        "Hiển thị tuple đó ra màn hình."
      ]
    },
    {
      "cell_type": "code",
      "metadata": {
        "id": "x_qc23hYc_jn"
      },
      "source": [
        "ka = str(input(\"Nhập chuỗi: \"))\n",
        "list2 = []\n",
        "tuple3 = ()\n",
        "pi = \"\"\n",
        "for i in range(len(ka)):\n",
        "  if ka[i] != \",\":\n",
        "    pi = pi + ka[i]\n",
        "  else: \n",
        "    list2.append(pi)\n",
        "    pi = \"\"\n",
        "else:\n",
        "  list2.append(pi)\n",
        "tuple3 = tuple(list2)\n",
        "print(tuple3)"
      ],
      "execution_count": null,
      "outputs": []
    },
    {
      "cell_type": "markdown",
      "metadata": {
        "id": "HPtvy8HbdX30"
      },
      "source": [
        "Bài 4: Viết chương trình thực hiện các yêu cầu sau:\n",
        "\n",
        "Nhập vào 1 chuỗi các kí tự từ bàn phím, các từ cách nhau bởi ít nhất một khoảng trắng\n",
        "Chuyển chuỗi vừa nhập thành 1 danh sách với điều kiện phân tách là dấu khoảng trắng (space)\n",
        "Hiển thị danh sách thu được ra màn hình\n"
      ]
    },
    {
      "cell_type": "code",
      "metadata": {
        "id": "pYgb8Pr3dB7d"
      },
      "source": [
        "ka = str(input(\"Nhập chuỗi: \"))\n",
        "list2 = []\n",
        "pi = \"\"\n",
        "for i in range(len(ka)):\n",
        "  if ka[i] != \" \":\n",
        "    pi = pi + ka[i]\n",
        "  else: \n",
        "    list2.append(pi)\n",
        "    pi = \"\"\n",
        "else:\n",
        "  list2.append(pi)\n",
        "print(list2)"
      ],
      "execution_count": null,
      "outputs": []
    },
    {
      "cell_type": "markdown",
      "metadata": {
        "id": "YBsKS3dydbEz"
      },
      "source": [
        "Bài 5: Viết chương trình thực hiện các yêu cầu sau:\n",
        "\n",
        "Nhập vào 1 danh sách các số nguyên từ bàn phím (Quá trình nhập dừng khi người dùng nhập vào 1 kí tự từ a đến z)\n",
        "Hiển thị danh sách đó ra màn hình\n",
        "Yêu cầu người dùng nhập vào một số nguyên N từ bàn phím\n",
        "Tìm kiếm vị trí xuất hiện đầu tiên của N trong danh sách và hiển thị ra màn hình (nếu không có thì thông báo không tìm thấy ra màn hình).\n",
        "Tìm kiếm tất cả các vị trí xuất hiện của N trong danh sách và hiển thị ra màn hình. (Nếu không tìm thấy thì thông báo không tìm được ra màn hình)"
      ]
    },
    {
      "cell_type": "code",
      "metadata": {
        "id": "iWva0bLJdEMI"
      },
      "source": [
        "import string\n",
        "list5 = []\n",
        "vi_tri = 0\n",
        "tìm = 0\n",
        "while True:\n",
        "  n = str(input(\"Nhập số nguyên: \"))\n",
        "  if n in string.ascii_letters:\n",
        "    break\n",
        "  list5.append(int(n))\n",
        "print(list5)\n",
        "N = int(input(\"Nhập số nguyên N: \"))\n",
        "for i in list5:\n",
        "  vi_tri += 1\n",
        "  if N == i:\n",
        "    print(\"Số\", N, \"xuất hiện lần đầu tiên ở vị trí\", vi_tri)\n",
        "    vi_tri = 0\n",
        "    break\n",
        "else:\n",
        "  print(\"Không tìm thấy\")\n",
        "for i in list5:\n",
        "  vi_tri += 1\n",
        "  if N == i:\n",
        "    print(\"Số\", N, \"xuất hiện ở vị trí\", vi_tri)\n",
        "    tìm += 1\n",
        "if tìm == 0:\n",
        "  print(\"Không tìm thấy\")"
      ],
      "execution_count": null,
      "outputs": []
    }
  ]
}