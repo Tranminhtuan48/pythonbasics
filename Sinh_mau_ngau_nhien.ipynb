{
  "cells": [
    {
      "cell_type": "markdown",
      "metadata": {
        "id": "view-in-github",
        "colab_type": "text"
      },
      "source": [
        "<a href=\"https://colab.research.google.com/github/Tranminhtuan48/pythonbasics/blob/main/Sinh_mau_ngau_nhien.ipynb\" target=\"_parent\"><img src=\"https://colab.research.google.com/assets/colab-badge.svg\" alt=\"Open In Colab\"/></a>"
      ]
    },
    {
      "cell_type": "code",
      "source": [
        "import numpy as np\n",
        "import scipy.stats as st"
      ],
      "metadata": {
        "id": "IALy4wI2fwbc"
      },
      "execution_count": 9,
      "outputs": []
    },
    {
      "cell_type": "markdown",
      "metadata": {
        "id": "7Ltz17_Cfo_d"
      },
      "source": [
        "Sử dụng thư viện Numpy\n",
        "\n",
        "1. Sinh mẫu ngẫu nhiên bằng hàm arange trong khoảng [-15, 27] với khoảng cách là 0.7 và in kết quả ra màn hình"
      ]
    },
    {
      "cell_type": "code",
      "execution_count": 3,
      "metadata": {
        "id": "AnjFNcBhfo_h",
        "outputId": "fb6a87cf-da60-420d-ca16-4503e338b8b8",
        "colab": {
          "base_uri": "https://localhost:8080/"
        }
      },
      "outputs": [
        {
          "output_type": "execute_result",
          "data": {
            "text/plain": [
              "array([-15. , -14.3, -13.6, -12.9, -12.2, -11.5, -10.8, -10.1,  -9.4,\n",
              "        -8.7,  -8. ,  -7.3,  -6.6,  -5.9,  -5.2,  -4.5,  -3.8,  -3.1,\n",
              "        -2.4,  -1.7,  -1. ,  -0.3,   0.4,   1.1,   1.8,   2.5,   3.2,\n",
              "         3.9,   4.6,   5.3,   6. ,   6.7,   7.4,   8.1,   8.8,   9.5,\n",
              "        10.2,  10.9,  11.6,  12.3,  13. ,  13.7,  14.4,  15.1,  15.8,\n",
              "        16.5,  17.2,  17.9,  18.6,  19.3,  20. ,  20.7,  21.4,  22.1,\n",
              "        22.8,  23.5,  24.2,  24.9,  25.6,  26.3,  27. ])"
            ]
          },
          "metadata": {},
          "execution_count": 3
        }
      ],
      "source": [
        "np.arange(-15, 27, 0.7)"
      ]
    },
    {
      "cell_type": "markdown",
      "metadata": {
        "id": "xF683utwfo_i"
      },
      "source": [
        "2. Sinh mẫu ngẫu nhiên theo phân phối chuẩn với mean = 2.7 std = 1.2 và size = 40\n",
        "In kết quả ra màn hình"
      ]
    },
    {
      "cell_type": "code",
      "execution_count": 4,
      "metadata": {
        "id": "7MvPaAItfo_j",
        "outputId": "4dd26583-ec69-4772-e79c-9fe9be06b936",
        "colab": {
          "base_uri": "https://localhost:8080/"
        }
      },
      "outputs": [
        {
          "output_type": "execute_result",
          "data": {
            "text/plain": [
              "array([ 1.7514109 ,  3.19240673,  3.14242325,  1.75079634,  3.41835875,\n",
              "        5.11610903,  1.9765251 ,  3.07114714,  1.55374957,  2.94321838,\n",
              "       -0.15083611,  2.60387028,  2.80134225,  2.00928957,  2.4662784 ,\n",
              "        3.41395123,  2.12263255,  4.04106727,  2.77813635,  2.57037975,\n",
              "        1.29839991,  1.75485259,  3.53071457,  3.597103  ,  2.02466225,\n",
              "        2.09014535,  2.94087467,  3.16873175,  3.82452972,  2.58507665,\n",
              "        1.78252704,  3.5198251 ,  4.95399472,  1.65200801,  4.00235832,\n",
              "        1.87264748,  2.57195847,  2.69975913,  4.03187543,  1.25231174])"
            ]
          },
          "metadata": {},
          "execution_count": 4
        }
      ],
      "source": [
        "np.random.normal(2.7, 1.2, 40)"
      ]
    },
    {
      "cell_type": "markdown",
      "metadata": {
        "id": "0qZg84OMfo_j"
      },
      "source": [
        "3. Sinh mẫu ngẫu nhiên từ vector ['Viet Nam', 'Britain', 'France', 'Russia', 'Singapore'] \n",
        "với kích thước là 17 theo phân phối chuẩn"
      ]
    },
    {
      "cell_type": "code",
      "execution_count": 5,
      "metadata": {
        "id": "EfzFT6Uffo_j",
        "outputId": "9ba9777a-5f40-4ed8-cd3c-3ae421839171",
        "colab": {
          "base_uri": "https://localhost:8080/"
        }
      },
      "outputs": [
        {
          "output_type": "execute_result",
          "data": {
            "text/plain": [
              "array(['Viet Nam', 'Viet Nam', 'Viet Nam', 'Viet Nam', 'Britain',\n",
              "       'Britain', 'Russia', 'Singapore', 'Russia', 'Britain', 'Britain',\n",
              "       'France', 'France', 'Singapore', 'Viet Nam', 'Russia', 'Singapore'],\n",
              "      dtype='<U9')"
            ]
          },
          "metadata": {},
          "execution_count": 5
        }
      ],
      "source": [
        "np.random.choice(['Viet Nam', 'Britain', 'France', 'Russia', 'Singapore'], 17)"
      ]
    },
    {
      "cell_type": "markdown",
      "metadata": {
        "id": "fY-COqpbfo_k"
      },
      "source": [
        "4. Sinh mẫu ngẫu nhiên ở câu 3 nhưng không theo phân phối chuẩn mà theo 1 vector đặc tả giá trị xác suất do bạn chọn"
      ]
    },
    {
      "cell_type": "code",
      "execution_count": 8,
      "metadata": {
        "id": "8s8nUFdpfo_l",
        "outputId": "7bd0f1e7-e18b-4a9a-abb8-ed28a6e451a1",
        "colab": {
          "base_uri": "https://localhost:8080/"
        }
      },
      "outputs": [
        {
          "output_type": "execute_result",
          "data": {
            "text/plain": [
              "array(['France', 'Singapore', 'France', 'Britain', 'Singapore', 'Britain',\n",
              "       'Britain', 'Russia', 'France', 'Russia', 'Russia', 'Viet Nam',\n",
              "       'Singapore', 'Viet Nam', 'Britain', 'Britain', 'Britain'],\n",
              "      dtype='<U9')"
            ]
          },
          "metadata": {},
          "execution_count": 8
        }
      ],
      "source": [
        "np.random.choice(['Viet Nam', 'Britain', 'France', 'Russia', 'Singapore'], 17, p = [0.1, 0.2, 0.3, 0.2, 0.2])"
      ]
    },
    {
      "cell_type": "markdown",
      "metadata": {
        "id": "O1_VUH_6fo_l"
      },
      "source": [
        "Sử dụng thư việc scipy.stats để sinh mẫu ngẫu nhiên\n",
        "\n",
        "1. Sinh mẫu ngẫu nhiên theo phân phối chuẩn với mean = 12.7, std = 2.6 và size = 30. In kết quả ra màn hình"
      ]
    },
    {
      "cell_type": "code",
      "execution_count": 10,
      "metadata": {
        "id": "Hnuh2dysfo_m",
        "outputId": "298cd47c-2aa4-4131-b89d-51bcfcc28bda",
        "colab": {
          "base_uri": "https://localhost:8080/"
        }
      },
      "outputs": [
        {
          "output_type": "execute_result",
          "data": {
            "text/plain": [
              "array([12.96020511, 15.13164806, 14.04983385, 10.91792069, 11.13384511,\n",
              "        5.61373666, 15.44031114, 14.47476765, 10.99671438, 15.13444479,\n",
              "       11.98325636, 14.2603666 , 11.20266242, 15.89978015,  9.5371045 ,\n",
              "       13.78883782, 15.97825428, 13.16995946,  7.98220152, 16.74804742,\n",
              "       12.53774076, 15.11964639,  7.87488832, 11.41684999, 13.84584931,\n",
              "       12.76849365, 13.4180661 , 15.78143744,  5.08438585, 13.89671809])"
            ]
          },
          "metadata": {},
          "execution_count": 10
        }
      ],
      "source": [
        "st.norm.rvs(loc = 12.7, scale = 2.6, size = 30)"
      ]
    },
    {
      "cell_type": "markdown",
      "metadata": {
        "id": "P8B6Oixffo_n"
      },
      "source": [
        "2. Hãy sinh một mẫu ngẫu nhiên theo phân phối Poisson"
      ]
    },
    {
      "cell_type": "code",
      "execution_count": 13,
      "metadata": {
        "id": "udES0iudfo_o",
        "outputId": "48aacfa1-0399-4d43-8116-ed698e1b46fb",
        "colab": {
          "base_uri": "https://localhost:8080/"
        }
      },
      "outputs": [
        {
          "output_type": "execute_result",
          "data": {
            "text/plain": [
              "array([ -3,  -3,  -7,  -1,  -9,  -3, -11, -11,  -4,  -7,  -7,  -8,  -2,\n",
              "        -5,  -3,  -2,   3,  -6,  -9,  -6,  -4,  -8,  -7,  -6,  -5,  -2,\n",
              "        -7,  -5,  -1,  -8,  -6,  -3,  -3,  -3,  -3,  -5,  -4, -10,  -8,\n",
              "       -12, -10,  -5,   2,  -3,  -1,  -8,  -5,  -7,  -1,  -4])"
            ]
          },
          "metadata": {},
          "execution_count": 13
        }
      ],
      "source": [
        "st.poisson.rvs(loc=-15, mu=10, size=50)"
      ]
    }
  ],
  "metadata": {
    "kernelspec": {
      "display_name": "Python 3",
      "language": "python",
      "name": "python3"
    },
    "language_info": {
      "codemirror_mode": {
        "name": "ipython",
        "version": 3
      },
      "file_extension": ".py",
      "mimetype": "text/x-python",
      "name": "python",
      "nbconvert_exporter": "python",
      "pygments_lexer": "ipython3",
      "version": "3.7.3"
    },
    "colab": {
      "name": "Sinh_mau_ngau_nhien.ipynb",
      "provenance": [],
      "include_colab_link": true
    }
  },
  "nbformat": 4,
  "nbformat_minor": 0
}